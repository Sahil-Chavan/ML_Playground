{
 "cells": [
  {
   "cell_type": "code",
   "execution_count": 1,
   "metadata": {},
   "outputs": [],
   "source": [
    "import numpy as np"
   ]
  },
  {
   "cell_type": "code",
   "execution_count": 2,
   "metadata": {},
   "outputs": [],
   "source": [
    "import pandas as pd"
   ]
  },
  {
   "cell_type": "code",
   "execution_count": 20,
   "metadata": {},
   "outputs": [],
   "source": [
    "index = [1,2,3,4,5]"
   ]
  },
  {
   "cell_type": "code",
   "execution_count": null,
   "metadata": {},
   "outputs": [],
   "source": [
    "from numpy.random import randn"
   ]
  },
  {
   "cell_type": "code",
   "execution_count": 9,
   "metadata": {},
   "outputs": [],
   "source": [
    "data = ['sahil','sapana','sanjay','aayush']"
   ]
  },
  {
   "cell_type": "code",
   "execution_count": 10,
   "metadata": {},
   "outputs": [],
   "source": [
    "ser = pd.Series(data,index)"
   ]
  },
  {
   "cell_type": "code",
   "execution_count": 11,
   "metadata": {},
   "outputs": [
    {
     "name": "stdout",
     "output_type": "stream",
     "text": [
      "1     sahil\n",
      "2    sapana\n",
      "3    sanjay\n",
      "4    aayush\n",
      "dtype: object\n"
     ]
    }
   ],
   "source": [
    "print(ser)"
   ]
  },
  {
   "cell_type": "code",
   "execution_count": 13,
   "metadata": {},
   "outputs": [],
   "source": [
    "tmp1 = np.random.randn(5,4)"
   ]
  },
  {
   "cell_type": "code",
   "execution_count": 14,
   "metadata": {},
   "outputs": [
    {
     "name": "stdout",
     "output_type": "stream",
     "text": [
      "[[-1.26704728 -0.92273658 -0.58784452  1.49441949]\n",
      " [ 0.48410748 -0.15242503 -0.21744093  0.2273898 ]\n",
      " [-1.09502012  0.18001151  0.92192424  0.28624366]\n",
      " [-0.78031275  0.59435963 -0.44247417  1.37846204]\n",
      " [-0.20546748  0.18964497 -0.01424964 -1.84196562]]\n"
     ]
    }
   ],
   "source": [
    "print(tmp1)"
   ]
  },
  {
   "cell_type": "code",
   "execution_count": 15,
   "metadata": {},
   "outputs": [],
   "source": [
    "np.random.seed(101)"
   ]
  },
  {
   "cell_type": "code",
   "execution_count": 21,
   "metadata": {},
   "outputs": [],
   "source": [
    "tmp2 = np.random.randn(5,5)"
   ]
  },
  {
   "cell_type": "code",
   "execution_count": 22,
   "metadata": {},
   "outputs": [
    {
     "name": "stdout",
     "output_type": "stream",
     "text": [
      "[[ 3.02665449e-01  1.69372293e+00 -1.70608593e+00 -1.15911942e+00\n",
      "  -1.34840721e-01]\n",
      " [ 3.90527843e-01  1.66904636e-01  1.84501859e-01  8.07705914e-01\n",
      "   7.29596753e-02]\n",
      " [ 6.38787013e-01  3.29646299e-01 -4.97104023e-01 -7.54069701e-01\n",
      "  -9.43406403e-01]\n",
      " [ 4.84751647e-01 -1.16773316e-01  1.90175480e+00  2.38126959e-01\n",
      "   1.99665229e+00]\n",
      " [-9.93263500e-01  1.96799505e-01 -1.13664459e+00  3.66479606e-04\n",
      "   1.02598415e+00]]\n"
     ]
    }
   ],
   "source": [
    "print(tmp2)"
   ]
  },
  {
   "cell_type": "code",
   "execution_count": 23,
   "metadata": {},
   "outputs": [],
   "source": [
    "df1 = pd.DataFrame(tmp2,index,index)"
   ]
  },
  {
   "cell_type": "code",
   "execution_count": 24,
   "metadata": {},
   "outputs": [
    {
     "name": "stdout",
     "output_type": "stream",
     "text": [
      "          1         2         3         4         5\n",
      "1  0.302665  1.693723 -1.706086 -1.159119 -0.134841\n",
      "2  0.390528  0.166905  0.184502  0.807706  0.072960\n",
      "3  0.638787  0.329646 -0.497104 -0.754070 -0.943406\n",
      "4  0.484752 -0.116773  1.901755  0.238127  1.996652\n",
      "5 -0.993263  0.196800 -1.136645  0.000366  1.025984\n"
     ]
    }
   ],
   "source": [
    "print(df1)"
   ]
  },
  {
   "cell_type": "code",
   "execution_count": null,
   "metadata": {},
   "outputs": [],
   "source": []
  }
 ],
 "metadata": {
  "kernelspec": {
   "display_name": "Python 3",
   "language": "python",
   "name": "python3"
  },
  "language_info": {
   "codemirror_mode": {
    "name": "ipython",
    "version": 3
   },
   "file_extension": ".py",
   "mimetype": "text/x-python",
   "name": "python",
   "nbconvert_exporter": "python",
   "pygments_lexer": "ipython3",
   "version": "3.8.2"
  }
 },
 "nbformat": 4,
 "nbformat_minor": 4
}
