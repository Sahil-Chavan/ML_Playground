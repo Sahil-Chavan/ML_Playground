{
 "cells": [
  {
   "cell_type": "code",
   "execution_count": 1,
   "metadata": {},
   "outputs": [],
   "source": [
    "import pandas as pd\n",
    "import numpy as np"
   ]
  },
  {
   "cell_type": "code",
   "execution_count": 2,
   "metadata": {},
   "outputs": [],
   "source": [
    "data = pd.read_csv('demo.csv')"
   ]
  },
  {
   "cell_type": "code",
   "execution_count": 3,
   "metadata": {},
   "outputs": [
    {
     "output_type": "execute_result",
     "data": {
      "text/plain": "       Year Industry_aggregation_NZSIOC Industry_code_NZSIOC  \\\n0      2018                     Level 1                99999   \n1      2018                     Level 1                99999   \n2      2018                     Level 1                99999   \n3      2018                     Level 1                99999   \n4      2018                     Level 1                99999   \n...     ...                         ...                  ...   \n27805  2013                     Level 3                 ZZ11   \n27806  2013                     Level 3                 ZZ11   \n27807  2013                     Level 3                 ZZ11   \n27808  2013                     Level 3                 ZZ11   \n27809  2013                     Level 3                 ZZ11   \n\n             Industry_name_NZSIOC               Units Variable_code  \\\n0                  All industries  Dollars (millions)           H01   \n1                  All industries  Dollars (millions)           H04   \n2                  All industries  Dollars (millions)           H05   \n3                  All industries  Dollars (millions)           H07   \n4                  All industries  Dollars (millions)           H08   \n...                           ...                 ...           ...   \n27805  Food product manufacturing          Percentage           H37   \n27806  Food product manufacturing          Percentage           H38   \n27807  Food product manufacturing          Percentage           H39   \n27808  Food product manufacturing          Percentage           H40   \n27809  Food product manufacturing          Percentage           H41   \n\n                                         Variable_name      Variable_category  \\\n0                                         Total income  Financial performance   \n1      Sales, government funding, grants and subsidies  Financial performance   \n2                    Interest, dividends and donations  Financial performance   \n3                                 Non-operating income  Financial performance   \n4                                    Total expenditure  Financial performance   \n...                                                ...                    ...   \n27805                                      Quick ratio       Financial ratios   \n27806              Margin on sales of goods for resale       Financial ratios   \n27807                                 Return on equity       Financial ratios   \n27808                           Return on total assets       Financial ratios   \n27809                            Liabilities structure       Financial ratios   \n\n        Value                             Industry_code_ANZSIC06  \n0      691859  ANZSIC06 divisions A-S (excluding classes K633...  \n1      605766  ANZSIC06 divisions A-S (excluding classes K633...  \n2       63509  ANZSIC06 divisions A-S (excluding classes K633...  \n3       22583  ANZSIC06 divisions A-S (excluding classes K633...  \n4      597623  ANZSIC06 divisions A-S (excluding classes K633...  \n...       ...                                                ...  \n27805      52  ANZSIC06 groups C111, C112, C113, C114, C115, ...  \n27806      40  ANZSIC06 groups C111, C112, C113, C114, C115, ...  \n27807      12  ANZSIC06 groups C111, C112, C113, C114, C115, ...  \n27808       5  ANZSIC06 groups C111, C112, C113, C114, C115, ...  \n27809      46  ANZSIC06 groups C111, C112, C113, C114, C115, ...  \n\n[27810 rows x 10 columns]",
      "text/html": "<div>\n<style scoped>\n    .dataframe tbody tr th:only-of-type {\n        vertical-align: middle;\n    }\n\n    .dataframe tbody tr th {\n        vertical-align: top;\n    }\n\n    .dataframe thead th {\n        text-align: right;\n    }\n</style>\n<table border=\"1\" class=\"dataframe\">\n  <thead>\n    <tr style=\"text-align: right;\">\n      <th></th>\n      <th>Year</th>\n      <th>Industry_aggregation_NZSIOC</th>\n      <th>Industry_code_NZSIOC</th>\n      <th>Industry_name_NZSIOC</th>\n      <th>Units</th>\n      <th>Variable_code</th>\n      <th>Variable_name</th>\n      <th>Variable_category</th>\n      <th>Value</th>\n      <th>Industry_code_ANZSIC06</th>\n    </tr>\n  </thead>\n  <tbody>\n    <tr>\n      <th>0</th>\n      <td>2018</td>\n      <td>Level 1</td>\n      <td>99999</td>\n      <td>All industries</td>\n      <td>Dollars (millions)</td>\n      <td>H01</td>\n      <td>Total income</td>\n      <td>Financial performance</td>\n      <td>691859</td>\n      <td>ANZSIC06 divisions A-S (excluding classes K633...</td>\n    </tr>\n    <tr>\n      <th>1</th>\n      <td>2018</td>\n      <td>Level 1</td>\n      <td>99999</td>\n      <td>All industries</td>\n      <td>Dollars (millions)</td>\n      <td>H04</td>\n      <td>Sales, government funding, grants and subsidies</td>\n      <td>Financial performance</td>\n      <td>605766</td>\n      <td>ANZSIC06 divisions A-S (excluding classes K633...</td>\n    </tr>\n    <tr>\n      <th>2</th>\n      <td>2018</td>\n      <td>Level 1</td>\n      <td>99999</td>\n      <td>All industries</td>\n      <td>Dollars (millions)</td>\n      <td>H05</td>\n      <td>Interest, dividends and donations</td>\n      <td>Financial performance</td>\n      <td>63509</td>\n      <td>ANZSIC06 divisions A-S (excluding classes K633...</td>\n    </tr>\n    <tr>\n      <th>3</th>\n      <td>2018</td>\n      <td>Level 1</td>\n      <td>99999</td>\n      <td>All industries</td>\n      <td>Dollars (millions)</td>\n      <td>H07</td>\n      <td>Non-operating income</td>\n      <td>Financial performance</td>\n      <td>22583</td>\n      <td>ANZSIC06 divisions A-S (excluding classes K633...</td>\n    </tr>\n    <tr>\n      <th>4</th>\n      <td>2018</td>\n      <td>Level 1</td>\n      <td>99999</td>\n      <td>All industries</td>\n      <td>Dollars (millions)</td>\n      <td>H08</td>\n      <td>Total expenditure</td>\n      <td>Financial performance</td>\n      <td>597623</td>\n      <td>ANZSIC06 divisions A-S (excluding classes K633...</td>\n    </tr>\n    <tr>\n      <th>...</th>\n      <td>...</td>\n      <td>...</td>\n      <td>...</td>\n      <td>...</td>\n      <td>...</td>\n      <td>...</td>\n      <td>...</td>\n      <td>...</td>\n      <td>...</td>\n      <td>...</td>\n    </tr>\n    <tr>\n      <th>27805</th>\n      <td>2013</td>\n      <td>Level 3</td>\n      <td>ZZ11</td>\n      <td>Food product manufacturing</td>\n      <td>Percentage</td>\n      <td>H37</td>\n      <td>Quick ratio</td>\n      <td>Financial ratios</td>\n      <td>52</td>\n      <td>ANZSIC06 groups C111, C112, C113, C114, C115, ...</td>\n    </tr>\n    <tr>\n      <th>27806</th>\n      <td>2013</td>\n      <td>Level 3</td>\n      <td>ZZ11</td>\n      <td>Food product manufacturing</td>\n      <td>Percentage</td>\n      <td>H38</td>\n      <td>Margin on sales of goods for resale</td>\n      <td>Financial ratios</td>\n      <td>40</td>\n      <td>ANZSIC06 groups C111, C112, C113, C114, C115, ...</td>\n    </tr>\n    <tr>\n      <th>27807</th>\n      <td>2013</td>\n      <td>Level 3</td>\n      <td>ZZ11</td>\n      <td>Food product manufacturing</td>\n      <td>Percentage</td>\n      <td>H39</td>\n      <td>Return on equity</td>\n      <td>Financial ratios</td>\n      <td>12</td>\n      <td>ANZSIC06 groups C111, C112, C113, C114, C115, ...</td>\n    </tr>\n    <tr>\n      <th>27808</th>\n      <td>2013</td>\n      <td>Level 3</td>\n      <td>ZZ11</td>\n      <td>Food product manufacturing</td>\n      <td>Percentage</td>\n      <td>H40</td>\n      <td>Return on total assets</td>\n      <td>Financial ratios</td>\n      <td>5</td>\n      <td>ANZSIC06 groups C111, C112, C113, C114, C115, ...</td>\n    </tr>\n    <tr>\n      <th>27809</th>\n      <td>2013</td>\n      <td>Level 3</td>\n      <td>ZZ11</td>\n      <td>Food product manufacturing</td>\n      <td>Percentage</td>\n      <td>H41</td>\n      <td>Liabilities structure</td>\n      <td>Financial ratios</td>\n      <td>46</td>\n      <td>ANZSIC06 groups C111, C112, C113, C114, C115, ...</td>\n    </tr>\n  </tbody>\n</table>\n<p>27810 rows × 10 columns</p>\n</div>"
     },
     "metadata": {},
     "execution_count": 3
    }
   ],
   "source": [
    "data"
   ]
  },
  {
   "cell_type": "code",
   "execution_count": null,
   "metadata": {},
   "outputs": [],
   "source": []
  }
 ],
 "metadata": {
  "language_info": {
   "codemirror_mode": {
    "name": "ipython",
    "version": 3
   },
   "file_extension": ".py",
   "mimetype": "text/x-python",
   "name": "python",
   "nbconvert_exporter": "python",
   "pygments_lexer": "ipython3",
   "version": "3.8.2-final"
  },
  "orig_nbformat": 2,
  "kernelspec": {
   "name": "python38264bitplaygroundconda181cc4e8a1f74f20aba28f8bf4ca7131",
   "display_name": "Python 3.8.2 64-bit ('playground': conda)"
  }
 },
 "nbformat": 4,
 "nbformat_minor": 2
}