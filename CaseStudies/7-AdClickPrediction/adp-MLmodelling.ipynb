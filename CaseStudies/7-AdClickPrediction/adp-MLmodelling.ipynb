{
 "metadata": {
  "language_info": {
   "codemirror_mode": {
    "name": "ipython",
    "version": 3
   },
   "file_extension": ".py",
   "mimetype": "text/x-python",
   "name": "python",
   "nbconvert_exporter": "python",
   "pygments_lexer": "ipython3",
   "version": "3.7.9-final"
  },
  "orig_nbformat": 2,
  "kernelspec": {
   "name": "python3",
   "display_name": "Python 3.7.9 64-bit ('ml1': conda)",
   "metadata": {
    "interpreter": {
     "hash": "24b04341fb2b46c4dd66e0f21e934c64052be02fe2d7f9a5c55981f8226ca5cf"
    }
   }
  }
 },
 "nbformat": 4,
 "nbformat_minor": 2,
 "cells": [
  {
   "source": [
    ">>>>>>>> <p style=\"font-size:40px;\"> Ad Click Prediction : Modelling</p>"
   ],
   "cell_type": "markdown",
   "metadata": {}
  },
  {
   "cell_type": "code",
   "execution_count": 2,
   "metadata": {},
   "outputs": [
    {
     "output_type": "stream",
     "name": "stdout",
     "text": [
      "C:\\Users\\magic\\anaconda3\\envs\\ml1\\python.exe\n"
     ]
    }
   ],
   "source": [
    "# Loading Libraries...\n",
    "import sys\n",
    "print(sys.executable)\n",
    "\n",
    "import pandas as pd\n",
    "import numpy as np"
   ]
  },
  {
   "source": [
    "### A Quick recap of the problem...\n",
    "\n",
    "Given a (Uid, Qid, Adid) under certain Ad setting (such as pos, depth etc.) we want to predict the Ad CTR.\n",
    "\n",
    "Recall, CTR(Ad) = #clicks/#impressions\n"
   ],
   "cell_type": "markdown",
   "metadata": {}
  },
  {
   "source": [
    "### Quick reminder, there are total of 7 files involved in this problem listed as follows:\n",
    "\n",
    " 1. training file\n",
    "\n",
    " 2. testing file + solution file\n",
    "\n",
    " 3. user file: corr. to every user we maintain their gender & age info.\n",
    "\n",
    " 4. Ad title file: corr. to every ad we maintain their titles(hashed). We have used count of words in title.\n",
    " \n",
    " 5. Ad description file: corr. to every ad we maintain its desc(hashed).We have used count of words in Ad desc.\n",
    "\n",
    " 6. user query file: corr. to every qid we have the query(issued). We have used count of words used in a query.\n",
    "\n",
    " 7. keyword file: We have used count of words in keyword."
   ],
   "cell_type": "markdown",
   "metadata": {}
  },
  {
   "source": [
    "### Source/Useful Links:  \n",
    "\n",
    "Source : https://www.kaggle.com/c/kddcup2012-track2 <br>\n",
    "\n",
    "pdf : https://jyunyu.csie.org/docs/pubs/kddcup2012paper.pdf \n",
    "\n",
    "\n"
   ],
   "cell_type": "markdown",
   "metadata": {}
  },
  {
   "source": [
    "## Part 1 - Data Preparation...\n",
    "\n",
    "### Goal of Part 1: Make training & testing data ready for building model."
   ],
   "cell_type": "markdown",
   "metadata": {}
  },
  {
   "cell_type": "code",
   "execution_count": 3,
   "metadata": {},
   "outputs": [
    {
     "output_type": "execute_result",
     "data": {
      "text/plain": [
       "   clicks  impressions                 AdURL      AdId  AdvId  Depth  Pos  \\\n",
       "0       0            1   4298118681424644510   7686695    385      3    3   \n",
       "1       0            1   4860571499428580850  21560664  37484      2    2   \n",
       "2       0            1   9704320783495875564  21748480  36759      3    3   \n",
       "3       0            1  13677630321509009335   3517124  23778      3    1   \n",
       "4       0            1   3284760244799604489  20758093  34535      1    1   \n",
       "\n",
       "       QId  KeyId  TitleId  DescId     UId  \n",
       "0     1601   5521     7709     576  490234  \n",
       "1  2255103    317    48989   44771  490234  \n",
       "2  4532751  60721   685038   29681  490234  \n",
       "3     1601   2155     1207    1422  490234  \n",
       "4  4532751  77819   266618  222223  490234  "
      ],
      "text/html": "<div>\n<style scoped>\n    .dataframe tbody tr th:only-of-type {\n        vertical-align: middle;\n    }\n\n    .dataframe tbody tr th {\n        vertical-align: top;\n    }\n\n    .dataframe thead th {\n        text-align: right;\n    }\n</style>\n<table border=\"1\" class=\"dataframe\">\n  <thead>\n    <tr style=\"text-align: right;\">\n      <th></th>\n      <th>clicks</th>\n      <th>impressions</th>\n      <th>AdURL</th>\n      <th>AdId</th>\n      <th>AdvId</th>\n      <th>Depth</th>\n      <th>Pos</th>\n      <th>QId</th>\n      <th>KeyId</th>\n      <th>TitleId</th>\n      <th>DescId</th>\n      <th>UId</th>\n    </tr>\n  </thead>\n  <tbody>\n    <tr>\n      <th>0</th>\n      <td>0</td>\n      <td>1</td>\n      <td>4298118681424644510</td>\n      <td>7686695</td>\n      <td>385</td>\n      <td>3</td>\n      <td>3</td>\n      <td>1601</td>\n      <td>5521</td>\n      <td>7709</td>\n      <td>576</td>\n      <td>490234</td>\n    </tr>\n    <tr>\n      <th>1</th>\n      <td>0</td>\n      <td>1</td>\n      <td>4860571499428580850</td>\n      <td>21560664</td>\n      <td>37484</td>\n      <td>2</td>\n      <td>2</td>\n      <td>2255103</td>\n      <td>317</td>\n      <td>48989</td>\n      <td>44771</td>\n      <td>490234</td>\n    </tr>\n    <tr>\n      <th>2</th>\n      <td>0</td>\n      <td>1</td>\n      <td>9704320783495875564</td>\n      <td>21748480</td>\n      <td>36759</td>\n      <td>3</td>\n      <td>3</td>\n      <td>4532751</td>\n      <td>60721</td>\n      <td>685038</td>\n      <td>29681</td>\n      <td>490234</td>\n    </tr>\n    <tr>\n      <th>3</th>\n      <td>0</td>\n      <td>1</td>\n      <td>13677630321509009335</td>\n      <td>3517124</td>\n      <td>23778</td>\n      <td>3</td>\n      <td>1</td>\n      <td>1601</td>\n      <td>2155</td>\n      <td>1207</td>\n      <td>1422</td>\n      <td>490234</td>\n    </tr>\n    <tr>\n      <th>4</th>\n      <td>0</td>\n      <td>1</td>\n      <td>3284760244799604489</td>\n      <td>20758093</td>\n      <td>34535</td>\n      <td>1</td>\n      <td>1</td>\n      <td>4532751</td>\n      <td>77819</td>\n      <td>266618</td>\n      <td>222223</td>\n      <td>490234</td>\n    </tr>\n  </tbody>\n</table>\n</div>"
     },
     "metadata": {},
     "execution_count": 3
    }
   ],
   "source": [
    "column  = ['clicks', 'impressions', 'AdURL', 'AdId', 'AdvId', 'Depth', 'Pos', 'QId', 'KeyId', 'TitleId', 'DescId', 'UId']\n",
    "df   = pd.read_csv('data/track2/training.txt', sep='\\t', header=None, names=column,nrows = 5000000)\n",
    "df.head()"
   ]
  },
  {
   "cell_type": "code",
   "execution_count": 8,
   "metadata": {},
   "outputs": [
    {
     "output_type": "execute_result",
     "data": {
      "text/plain": [
       "1       4408921\n",
       "2        406576\n",
       "3         97565\n",
       "4         36958\n",
       "5         17979\n",
       "         ...   \n",
       "127           1\n",
       "131           1\n",
       "146           1\n",
       "147           1\n",
       "1019          1\n",
       "Name: impressions, Length: 150, dtype: int64"
      ]
     },
     "metadata": {},
     "execution_count": 8
    }
   ],
   "source": [
    "df.impressions.value_counts()"
   ]
  },
  {
   "cell_type": "code",
   "execution_count": null,
   "metadata": {},
   "outputs": [],
   "source": [
    "# we observe that some categories come with only a few or even no instances.\n",
    "\n",
    "# Computing the click-through rate directly for those categories would result in inaccurate estimations \n",
    "\n",
    "# because of the insuﬃcient statistics. Thus, we apply smoothing methods during click-through rate estima-tion. \n",
    "\n",
    "# We mainly use a simple additive smoothing  pseudo-CTR = click + α × β #impression + β\n",
    "\n",
    "# and we name it pseudo click-through rate (pseudo-CTR). In our experiments, we set α as 0.05 and β as 75. "
   ]
  },
  {
   "cell_type": "code",
   "execution_count": 9,
   "metadata": {},
   "outputs": [
    {
     "output_type": "execute_result",
     "data": {
      "text/plain": [
       "   clicks  impressions                 AdURL      AdId  AdvId  Depth  Pos  \\\n",
       "0       0            1   4298118681424644510   7686695    385      3    3   \n",
       "1       0            1   4860571499428580850  21560664  37484      2    2   \n",
       "2       0            1   9704320783495875564  21748480  36759      3    3   \n",
       "3       0            1  13677630321509009335   3517124  23778      3    1   \n",
       "4       0            1   3284760244799604489  20758093  34535      1    1   \n",
       "\n",
       "       QId  KeyId  TitleId  DescId     UId  CTR  RPosition      pCTR  \n",
       "0     1601   5521     7709     576  490234  0.0   2.000000  0.049342  \n",
       "1  2255103    317    48989   44771  490234  0.0   1.000000  0.049342  \n",
       "2  4532751  60721   685038   29681  490234  0.0   2.000000  0.049342  \n",
       "3     1601   2155     1207    1422  490234  0.0   2.666667  0.049342  \n",
       "4  4532751  77819   266618  222223  490234  0.0   0.000000  0.049342  "
      ],
      "text/html": "<div>\n<style scoped>\n    .dataframe tbody tr th:only-of-type {\n        vertical-align: middle;\n    }\n\n    .dataframe tbody tr th {\n        vertical-align: top;\n    }\n\n    .dataframe thead th {\n        text-align: right;\n    }\n</style>\n<table border=\"1\" class=\"dataframe\">\n  <thead>\n    <tr style=\"text-align: right;\">\n      <th></th>\n      <th>clicks</th>\n      <th>impressions</th>\n      <th>AdURL</th>\n      <th>AdId</th>\n      <th>AdvId</th>\n      <th>Depth</th>\n      <th>Pos</th>\n      <th>QId</th>\n      <th>KeyId</th>\n      <th>TitleId</th>\n      <th>DescId</th>\n      <th>UId</th>\n      <th>CTR</th>\n      <th>RPosition</th>\n      <th>pCTR</th>\n    </tr>\n  </thead>\n  <tbody>\n    <tr>\n      <th>0</th>\n      <td>0</td>\n      <td>1</td>\n      <td>4298118681424644510</td>\n      <td>7686695</td>\n      <td>385</td>\n      <td>3</td>\n      <td>3</td>\n      <td>1601</td>\n      <td>5521</td>\n      <td>7709</td>\n      <td>576</td>\n      <td>490234</td>\n      <td>0.0</td>\n      <td>2.000000</td>\n      <td>0.049342</td>\n    </tr>\n    <tr>\n      <th>1</th>\n      <td>0</td>\n      <td>1</td>\n      <td>4860571499428580850</td>\n      <td>21560664</td>\n      <td>37484</td>\n      <td>2</td>\n      <td>2</td>\n      <td>2255103</td>\n      <td>317</td>\n      <td>48989</td>\n      <td>44771</td>\n      <td>490234</td>\n      <td>0.0</td>\n      <td>1.000000</td>\n      <td>0.049342</td>\n    </tr>\n    <tr>\n      <th>2</th>\n      <td>0</td>\n      <td>1</td>\n      <td>9704320783495875564</td>\n      <td>21748480</td>\n      <td>36759</td>\n      <td>3</td>\n      <td>3</td>\n      <td>4532751</td>\n      <td>60721</td>\n      <td>685038</td>\n      <td>29681</td>\n      <td>490234</td>\n      <td>0.0</td>\n      <td>2.000000</td>\n      <td>0.049342</td>\n    </tr>\n    <tr>\n      <th>3</th>\n      <td>0</td>\n      <td>1</td>\n      <td>13677630321509009335</td>\n      <td>3517124</td>\n      <td>23778</td>\n      <td>3</td>\n      <td>1</td>\n      <td>1601</td>\n      <td>2155</td>\n      <td>1207</td>\n      <td>1422</td>\n      <td>490234</td>\n      <td>0.0</td>\n      <td>2.666667</td>\n      <td>0.049342</td>\n    </tr>\n    <tr>\n      <th>4</th>\n      <td>0</td>\n      <td>1</td>\n      <td>3284760244799604489</td>\n      <td>20758093</td>\n      <td>34535</td>\n      <td>1</td>\n      <td>1</td>\n      <td>4532751</td>\n      <td>77819</td>\n      <td>266618</td>\n      <td>222223</td>\n      <td>490234</td>\n      <td>0.0</td>\n      <td>0.000000</td>\n      <td>0.049342</td>\n    </tr>\n  </tbody>\n</table>\n</div>"
     },
     "metadata": {},
     "execution_count": 9
    }
   ],
   "source": [
    "\n",
    "# Add target variable CTR as #clicks / #impression\n",
    "\n",
    "df['CTR'] = df['clicks'] * 1.0 / df['impressions']\n",
    "\n",
    "#adding relative position as a new feature\n",
    "df['RPosition'] = df['Depth'] - df['Pos'] * 1.0 / df['Depth']\n",
    "\n",
    "# Add predicted CTR as #clicks + ab / #impressions + b\n",
    "df['pCTR'] = (1.0 * df['clicks'] + 0.05 * 75) / (df['impressions'] + 75)\n",
    "\n",
    "df.head()"
   ]
  },
  {
   "cell_type": "code",
   "execution_count": 11,
   "metadata": {},
   "outputs": [
    {
     "output_type": "execute_result",
     "data": {
      "text/plain": [
       "(5000000, 15)"
      ]
     },
     "metadata": {},
     "execution_count": 11
    }
   ],
   "source": [
    "df.shape"
   ]
  },
  {
   "source": [
    "The test set contains 20,297,594 instances, we are limiting ourselves to 1,000,000"
   ],
   "cell_type": "markdown",
   "metadata": {}
  },
  {
   "cell_type": "code",
   "execution_count": 12,
   "metadata": {},
   "outputs": [
    {
     "output_type": "error",
     "ename": "FileNotFoundError",
     "evalue": "[Errno 2] No such file or directory: 'data/test/test.txt'",
     "traceback": [
      "\u001b[1;31m---------------------------------------------------------------------------\u001b[0m",
      "\u001b[1;31mFileNotFoundError\u001b[0m                         Traceback (most recent call last)",
      "\u001b[1;32m<ipython-input-12-d6af0b989367>\u001b[0m in \u001b[0;36m<module>\u001b[1;34m\u001b[0m\n\u001b[0;32m      2\u001b[0m \u001b[1;33m\u001b[0m\u001b[0m\n\u001b[0;32m      3\u001b[0m \u001b[0mcolumn\u001b[0m  \u001b[1;33m=\u001b[0m \u001b[1;33m[\u001b[0m\u001b[1;34m'AdURL'\u001b[0m\u001b[1;33m,\u001b[0m \u001b[1;34m'AdId'\u001b[0m\u001b[1;33m,\u001b[0m \u001b[1;34m'AdvId'\u001b[0m\u001b[1;33m,\u001b[0m \u001b[1;34m'Depth'\u001b[0m\u001b[1;33m,\u001b[0m \u001b[1;34m'Pos'\u001b[0m\u001b[1;33m,\u001b[0m \u001b[1;34m'QId'\u001b[0m\u001b[1;33m,\u001b[0m \u001b[1;34m'KeyId'\u001b[0m\u001b[1;33m,\u001b[0m \u001b[1;34m'TitleId'\u001b[0m\u001b[1;33m,\u001b[0m \u001b[1;34m'DescId'\u001b[0m\u001b[1;33m,\u001b[0m \u001b[1;34m'UId'\u001b[0m\u001b[1;33m]\u001b[0m\u001b[1;33m\u001b[0m\u001b[1;33m\u001b[0m\u001b[0m\n\u001b[1;32m----> 4\u001b[1;33m \u001b[0mtest\u001b[0m \u001b[1;33m=\u001b[0m \u001b[0mpd\u001b[0m\u001b[1;33m.\u001b[0m\u001b[0mread_csv\u001b[0m\u001b[1;33m(\u001b[0m\u001b[1;34m'data/test/test.txt'\u001b[0m\u001b[1;33m,\u001b[0m \u001b[0msep\u001b[0m\u001b[1;33m=\u001b[0m\u001b[1;34m'\\t'\u001b[0m\u001b[1;33m,\u001b[0m \u001b[0mheader\u001b[0m\u001b[1;33m=\u001b[0m\u001b[1;32mNone\u001b[0m\u001b[1;33m,\u001b[0m \u001b[0mnames\u001b[0m\u001b[1;33m=\u001b[0m\u001b[0mcolumn\u001b[0m\u001b[1;33m,\u001b[0m \u001b[0mnrows\u001b[0m \u001b[1;33m=\u001b[0m \u001b[1;36m1000000\u001b[0m\u001b[1;33m)\u001b[0m\u001b[1;33m\u001b[0m\u001b[1;33m\u001b[0m\u001b[0m\n\u001b[0m\u001b[0;32m      5\u001b[0m \u001b[1;33m\u001b[0m\u001b[0m\n\u001b[0;32m      6\u001b[0m \u001b[0mtest\u001b[0m\u001b[1;33m.\u001b[0m\u001b[0mhead\u001b[0m\u001b[1;33m(\u001b[0m\u001b[1;33m)\u001b[0m\u001b[1;33m\u001b[0m\u001b[1;33m\u001b[0m\u001b[0m\n",
      "\u001b[1;32m~\\anaconda3\\envs\\ml1\\lib\\site-packages\\pandas\\io\\parsers.py\u001b[0m in \u001b[0;36mread_csv\u001b[1;34m(filepath_or_buffer, sep, delimiter, header, names, index_col, usecols, squeeze, prefix, mangle_dupe_cols, dtype, engine, converters, true_values, false_values, skipinitialspace, skiprows, skipfooter, nrows, na_values, keep_default_na, na_filter, verbose, skip_blank_lines, parse_dates, infer_datetime_format, keep_date_col, date_parser, dayfirst, cache_dates, iterator, chunksize, compression, thousands, decimal, lineterminator, quotechar, quoting, doublequote, escapechar, comment, encoding, dialect, error_bad_lines, warn_bad_lines, delim_whitespace, low_memory, memory_map, float_precision)\u001b[0m\n\u001b[0;32m    684\u001b[0m     )\n\u001b[0;32m    685\u001b[0m \u001b[1;33m\u001b[0m\u001b[0m\n\u001b[1;32m--> 686\u001b[1;33m     \u001b[1;32mreturn\u001b[0m \u001b[0m_read\u001b[0m\u001b[1;33m(\u001b[0m\u001b[0mfilepath_or_buffer\u001b[0m\u001b[1;33m,\u001b[0m \u001b[0mkwds\u001b[0m\u001b[1;33m)\u001b[0m\u001b[1;33m\u001b[0m\u001b[1;33m\u001b[0m\u001b[0m\n\u001b[0m\u001b[0;32m    687\u001b[0m \u001b[1;33m\u001b[0m\u001b[0m\n\u001b[0;32m    688\u001b[0m \u001b[1;33m\u001b[0m\u001b[0m\n",
      "\u001b[1;32m~\\anaconda3\\envs\\ml1\\lib\\site-packages\\pandas\\io\\parsers.py\u001b[0m in \u001b[0;36m_read\u001b[1;34m(filepath_or_buffer, kwds)\u001b[0m\n\u001b[0;32m    450\u001b[0m \u001b[1;33m\u001b[0m\u001b[0m\n\u001b[0;32m    451\u001b[0m     \u001b[1;31m# Create the parser.\u001b[0m\u001b[1;33m\u001b[0m\u001b[1;33m\u001b[0m\u001b[1;33m\u001b[0m\u001b[0m\n\u001b[1;32m--> 452\u001b[1;33m     \u001b[0mparser\u001b[0m \u001b[1;33m=\u001b[0m \u001b[0mTextFileReader\u001b[0m\u001b[1;33m(\u001b[0m\u001b[0mfp_or_buf\u001b[0m\u001b[1;33m,\u001b[0m \u001b[1;33m**\u001b[0m\u001b[0mkwds\u001b[0m\u001b[1;33m)\u001b[0m\u001b[1;33m\u001b[0m\u001b[1;33m\u001b[0m\u001b[0m\n\u001b[0m\u001b[0;32m    453\u001b[0m \u001b[1;33m\u001b[0m\u001b[0m\n\u001b[0;32m    454\u001b[0m     \u001b[1;32mif\u001b[0m \u001b[0mchunksize\u001b[0m \u001b[1;32mor\u001b[0m \u001b[0miterator\u001b[0m\u001b[1;33m:\u001b[0m\u001b[1;33m\u001b[0m\u001b[1;33m\u001b[0m\u001b[0m\n",
      "\u001b[1;32m~\\anaconda3\\envs\\ml1\\lib\\site-packages\\pandas\\io\\parsers.py\u001b[0m in \u001b[0;36m__init__\u001b[1;34m(self, f, engine, **kwds)\u001b[0m\n\u001b[0;32m    934\u001b[0m             \u001b[0mself\u001b[0m\u001b[1;33m.\u001b[0m\u001b[0moptions\u001b[0m\u001b[1;33m[\u001b[0m\u001b[1;34m\"has_index_names\"\u001b[0m\u001b[1;33m]\u001b[0m \u001b[1;33m=\u001b[0m \u001b[0mkwds\u001b[0m\u001b[1;33m[\u001b[0m\u001b[1;34m\"has_index_names\"\u001b[0m\u001b[1;33m]\u001b[0m\u001b[1;33m\u001b[0m\u001b[1;33m\u001b[0m\u001b[0m\n\u001b[0;32m    935\u001b[0m \u001b[1;33m\u001b[0m\u001b[0m\n\u001b[1;32m--> 936\u001b[1;33m         \u001b[0mself\u001b[0m\u001b[1;33m.\u001b[0m\u001b[0m_make_engine\u001b[0m\u001b[1;33m(\u001b[0m\u001b[0mself\u001b[0m\u001b[1;33m.\u001b[0m\u001b[0mengine\u001b[0m\u001b[1;33m)\u001b[0m\u001b[1;33m\u001b[0m\u001b[1;33m\u001b[0m\u001b[0m\n\u001b[0m\u001b[0;32m    937\u001b[0m \u001b[1;33m\u001b[0m\u001b[0m\n\u001b[0;32m    938\u001b[0m     \u001b[1;32mdef\u001b[0m \u001b[0mclose\u001b[0m\u001b[1;33m(\u001b[0m\u001b[0mself\u001b[0m\u001b[1;33m)\u001b[0m\u001b[1;33m:\u001b[0m\u001b[1;33m\u001b[0m\u001b[1;33m\u001b[0m\u001b[0m\n",
      "\u001b[1;32m~\\anaconda3\\envs\\ml1\\lib\\site-packages\\pandas\\io\\parsers.py\u001b[0m in \u001b[0;36m_make_engine\u001b[1;34m(self, engine)\u001b[0m\n\u001b[0;32m   1166\u001b[0m     \u001b[1;32mdef\u001b[0m \u001b[0m_make_engine\u001b[0m\u001b[1;33m(\u001b[0m\u001b[0mself\u001b[0m\u001b[1;33m,\u001b[0m \u001b[0mengine\u001b[0m\u001b[1;33m=\u001b[0m\u001b[1;34m\"c\"\u001b[0m\u001b[1;33m)\u001b[0m\u001b[1;33m:\u001b[0m\u001b[1;33m\u001b[0m\u001b[1;33m\u001b[0m\u001b[0m\n\u001b[0;32m   1167\u001b[0m         \u001b[1;32mif\u001b[0m \u001b[0mengine\u001b[0m \u001b[1;33m==\u001b[0m \u001b[1;34m\"c\"\u001b[0m\u001b[1;33m:\u001b[0m\u001b[1;33m\u001b[0m\u001b[1;33m\u001b[0m\u001b[0m\n\u001b[1;32m-> 1168\u001b[1;33m             \u001b[0mself\u001b[0m\u001b[1;33m.\u001b[0m\u001b[0m_engine\u001b[0m \u001b[1;33m=\u001b[0m \u001b[0mCParserWrapper\u001b[0m\u001b[1;33m(\u001b[0m\u001b[0mself\u001b[0m\u001b[1;33m.\u001b[0m\u001b[0mf\u001b[0m\u001b[1;33m,\u001b[0m \u001b[1;33m**\u001b[0m\u001b[0mself\u001b[0m\u001b[1;33m.\u001b[0m\u001b[0moptions\u001b[0m\u001b[1;33m)\u001b[0m\u001b[1;33m\u001b[0m\u001b[1;33m\u001b[0m\u001b[0m\n\u001b[0m\u001b[0;32m   1169\u001b[0m         \u001b[1;32melse\u001b[0m\u001b[1;33m:\u001b[0m\u001b[1;33m\u001b[0m\u001b[1;33m\u001b[0m\u001b[0m\n\u001b[0;32m   1170\u001b[0m             \u001b[1;32mif\u001b[0m \u001b[0mengine\u001b[0m \u001b[1;33m==\u001b[0m \u001b[1;34m\"python\"\u001b[0m\u001b[1;33m:\u001b[0m\u001b[1;33m\u001b[0m\u001b[1;33m\u001b[0m\u001b[0m\n",
      "\u001b[1;32m~\\anaconda3\\envs\\ml1\\lib\\site-packages\\pandas\\io\\parsers.py\u001b[0m in \u001b[0;36m__init__\u001b[1;34m(self, src, **kwds)\u001b[0m\n\u001b[0;32m   1996\u001b[0m         \u001b[0mkwds\u001b[0m\u001b[1;33m[\u001b[0m\u001b[1;34m\"usecols\"\u001b[0m\u001b[1;33m]\u001b[0m \u001b[1;33m=\u001b[0m \u001b[0mself\u001b[0m\u001b[1;33m.\u001b[0m\u001b[0musecols\u001b[0m\u001b[1;33m\u001b[0m\u001b[1;33m\u001b[0m\u001b[0m\n\u001b[0;32m   1997\u001b[0m \u001b[1;33m\u001b[0m\u001b[0m\n\u001b[1;32m-> 1998\u001b[1;33m         \u001b[0mself\u001b[0m\u001b[1;33m.\u001b[0m\u001b[0m_reader\u001b[0m \u001b[1;33m=\u001b[0m \u001b[0mparsers\u001b[0m\u001b[1;33m.\u001b[0m\u001b[0mTextReader\u001b[0m\u001b[1;33m(\u001b[0m\u001b[0msrc\u001b[0m\u001b[1;33m,\u001b[0m \u001b[1;33m**\u001b[0m\u001b[0mkwds\u001b[0m\u001b[1;33m)\u001b[0m\u001b[1;33m\u001b[0m\u001b[1;33m\u001b[0m\u001b[0m\n\u001b[0m\u001b[0;32m   1999\u001b[0m         \u001b[0mself\u001b[0m\u001b[1;33m.\u001b[0m\u001b[0munnamed_cols\u001b[0m \u001b[1;33m=\u001b[0m \u001b[0mself\u001b[0m\u001b[1;33m.\u001b[0m\u001b[0m_reader\u001b[0m\u001b[1;33m.\u001b[0m\u001b[0munnamed_cols\u001b[0m\u001b[1;33m\u001b[0m\u001b[1;33m\u001b[0m\u001b[0m\n\u001b[0;32m   2000\u001b[0m \u001b[1;33m\u001b[0m\u001b[0m\n",
      "\u001b[1;32mpandas\\_libs\\parsers.pyx\u001b[0m in \u001b[0;36mpandas._libs.parsers.TextReader.__cinit__\u001b[1;34m()\u001b[0m\n",
      "\u001b[1;32mpandas\\_libs\\parsers.pyx\u001b[0m in \u001b[0;36mpandas._libs.parsers.TextReader._setup_parser_source\u001b[1;34m()\u001b[0m\n",
      "\u001b[1;31mFileNotFoundError\u001b[0m: [Errno 2] No such file or directory: 'data/test/test.txt'"
     ]
    }
   ],
   "source": [
    "\n",
    "# 1.1.2 Loading test data...\n",
    "\n",
    "column  = ['AdURL', 'AdId', 'AdvId', 'Depth', 'Pos', 'QId', 'KeyId', 'TitleId', 'DescId', 'UId']\n",
    "test = pd.read_csv('data/test/test.txt', sep='\\t', header=None, names=column, nrows = 1000000)\n",
    "\n",
    "test.head()"
   ]
  },
  {
   "cell_type": "code",
   "execution_count": null,
   "metadata": {},
   "outputs": [],
   "source": []
  }
 ]
}