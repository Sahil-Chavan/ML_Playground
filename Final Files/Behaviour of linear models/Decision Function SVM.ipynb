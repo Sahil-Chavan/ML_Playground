{
 "metadata": {
  "language_info": {
   "codemirror_mode": {
    "name": "ipython",
    "version": 3
   },
   "file_extension": ".py",
   "mimetype": "text/x-python",
   "name": "python",
   "nbconvert_exporter": "python",
   "pygments_lexer": "ipython3",
   "version": "3.7.9-final"
  },
  "orig_nbformat": 2,
  "kernelspec": {
   "name": "python3",
   "display_name": "Python 3",
   "language": "python"
  }
 },
 "nbformat": 4,
 "nbformat_minor": 2,
 "cells": [
  {
   "source": [
    "<h1><font color='blue'>Finding the Probability P(Y==1|X)</font></h1>"
   ],
   "cell_type": "markdown",
   "metadata": {}
  },
  {
   "cell_type": "code",
   "execution_count": 59,
   "metadata": {},
   "outputs": [
    {
     "output_type": "stream",
     "name": "stdout",
     "text": [
      "C:\\Users\\magic\\anaconda3\\envs\\ml1\\python.exe\n"
     ]
    }
   ],
   "source": [
    "import sys\n",
    "print(sys.executable)\n",
    "\n",
    "from math import exp\n",
    "import numpy as np\n",
    "import pandas as pd\n",
    "import matplotlib.pyplot as plt\n",
    "%matplotlib inline\n",
    "import seaborn as sns\n",
    "\n",
    "from tqdm import tqdm\n",
    "from sklearn.datasets import make_classification\n",
    "\n",
    "from sklearn.svm import SVC\n",
    "# from sklearn.linear_model import LogisticRegression\n",
    "# from sklearn.model_selection import GridSearchCV"
   ]
  },
  {
   "source": [
    "<h2><font color='Geen'> Task 1: Implementing Decision Function of SVM RBF Kernel</font></h2>"
   ],
   "cell_type": "markdown",
   "metadata": {}
  },
  {
   "cell_type": "code",
   "execution_count": 5,
   "metadata": {},
   "outputs": [],
   "source": [
    "X, Y = make_classification(n_samples=5000, n_features=5, n_redundant=2,\n",
    "                           n_classes=2, weights=[0.7], class_sep=0.7, random_state=15)"
   ]
  },
  {
   "cell_type": "code",
   "execution_count": 7,
   "metadata": {},
   "outputs": [],
   "source": [
    "svc = SVC(gamma=0.001,C=100,kernel='rbf').fit(X,Y)"
   ]
  },
  {
   "cell_type": "code",
   "execution_count": 14,
   "metadata": {},
   "outputs": [
    {
     "output_type": "execute_result",
     "data": {
      "text/plain": [
       "5000"
      ]
     },
     "metadata": {},
     "execution_count": 14
    }
   ],
   "source": [
    "svc.decision_function(X)"
   ]
  },
  {
   "cell_type": "code",
   "execution_count": 116,
   "metadata": {},
   "outputs": [],
   "source": [
    "def dis_fn(X):\n",
    "    gamma = 0.001\n",
    "    g = -1*gamma\n",
    "    vec = svc.support_vectors_\n",
    "    coef = svc.dual_coef_\n",
    "    # Y = list(svc.predict(X)[::-1]) # reverse\n",
    "    result = []\n",
    "    for q in tqdm(X):\n",
    "        pt_sum = []\n",
    "        for v in range(len(svc.support_vectors_)):\n",
    "            norm = (np.linalg.norm(vec[v]-q)**2)\n",
    "            kernel = coef[0][v]*exp(g*norm)\n",
    "            pt_sum.append(kernel)\n",
    "        result.append(sum(pt_sum)+svc.intercept_[0])\n",
    "    # list comphrehension\n",
    "    res = [sum([(coef[0][v]*exp(g*(np.linalg.norm(vec[v]-q)**2))) for v in range(len(svc.support_vectors_))])+svc.intercept_[0] for q in X]\n",
    "    return result,res\n"
   ]
  },
  {
   "cell_type": "code",
   "execution_count": 117,
   "metadata": {},
   "outputs": [
    {
     "output_type": "stream",
     "name": "stderr",
     "text": [
      "100%|██████████| 5000/5000 [00:30<00:00, 165.86it/s]\n"
     ]
    }
   ],
   "source": [
    "res,_ = dis_fn(X)"
   ]
  },
  {
   "cell_type": "code",
   "execution_count": 126,
   "metadata": {},
   "outputs": [
    {
     "output_type": "execute_result",
     "data": {
      "text/plain": [
       "[-3.923483789714974,\n",
       " 2.4488237492535254,\n",
       " -3.2620508442473786,\n",
       " 1.563765790696484,\n",
       " -2.743964668277935,\n",
       " 2.4244769730037965,\n",
       " -1.3199795780550354,\n",
       " 0.2925832541720914,\n",
       " -3.6810057283927713,\n",
       " -2.9499560810538363]"
      ]
     },
     "metadata": {},
     "execution_count": 126
    }
   ],
   "source": [
    "res[:10]"
   ]
  },
  {
   "cell_type": "code",
   "execution_count": 127,
   "metadata": {},
   "outputs": [
    {
     "output_type": "execute_result",
     "data": {
      "text/plain": [
       "array([-3.92348379,  2.44882375, -3.26205084,  1.56376579, -2.74396467,\n",
       "        2.42447697, -1.31997958,  0.29258325, -3.68100573, -2.94995608])"
      ]
     },
     "metadata": {},
     "execution_count": 127
    }
   ],
   "source": [
    "svc.decision_function(X[:10])"
   ]
  },
  {
   "source": [
    "## I have achived same results"
   ],
   "cell_type": "markdown",
   "metadata": {}
  },
  {
   "source": [
    "<h2><font color='Geen'> Task2: Implementing Platt Scaling to find P(Y==1|X)</font></h2>"
   ],
   "cell_type": "markdown",
   "metadata": {}
  },
  {
   "cell_type": "code",
   "execution_count": null,
   "metadata": {},
   "outputs": [],
   "source": []
  }
 ]
}