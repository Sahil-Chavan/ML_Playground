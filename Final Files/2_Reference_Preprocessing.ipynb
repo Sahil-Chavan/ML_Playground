{
 "cells": [
  {
   "cell_type": "markdown",
   "metadata": {},
   "source": [
    "# DonorsChoose"
   ]
  },
  {
   "cell_type": "markdown",
   "metadata": {},
   "source": [
    "<p>\n",
    "DonorsChoose.org receives hundreds of thousands of project proposals each year for classroom projects in need of funding. Right now, a large number of volunteers is needed to manually screen each submission before it's approved to be posted on the DonorsChoose.org website.\n",
    "</p>\n",
    "<p>\n",
    "    Next year, DonorsChoose.org expects to receive close to 500,000 project proposals. As a result, there are three main problems they need to solve:\n",
    "<ul>\n",
    "<li>\n",
    "    How to scale current manual processes and resources to screen 500,000 projects so that they can be posted as quickly and as efficiently as possible</li>\n",
    "    <li>How to increase the consistency of project vetting across different volunteers to improve the experience for teachers</li>\n",
    "    <li>How to focus volunteer time on the applications that need the most assistance</li>\n",
    "    </ul>\n",
    "</p>    \n",
    "<p>\n",
    "The goal of the competition is to predict whether or not a DonorsChoose.org project proposal submitted by a teacher will be approved, using the text of project descriptions as well as additional metadata about the project, teacher, and school. DonorsChoose.org can then use this information to identify projects most likely to need further review before approval.\n",
    "</p>"
   ]
  },
  {
   "cell_type": "markdown",
   "metadata": {},
   "source": [
    "## About the DonorsChoose Data Set\n",
    "\n",
    "The `train.csv` data set provided by DonorsChoose contains the following features:\n",
    "\n",
    "Feature | Description \n",
    "----------|---------------\n",
    "**`project_id`** | A unique identifier for the proposed project. **Example:** `p036502`   \n",
    "**`project_title`**    | Title of the project. **Examples:**<br><ul><li><code>Art Will Make You Happy!</code></li><li><code>First Grade Fun</code></li></ul> \n",
    "**`project_grade_category`** | Grade level of students for which the project is targeted. One of the following enumerated values: <br/><ul><li><code>Grades PreK-2</code></li><li><code>Grades 3-5</code></li><li><code>Grades 6-8</code></li><li><code>Grades 9-12</code></li></ul>  \n",
    " **`project_subject_categories`** | One or more (comma-separated) subject categories for the project from the following enumerated list of values:  <br/><ul><li><code>Applied Learning</code></li><li><code>Care &amp; Hunger</code></li><li><code>Health &amp; Sports</code></li><li><code>History &amp; Civics</code></li><li><code>Literacy &amp; Language</code></li><li><code>Math &amp; Science</code></li><li><code>Music &amp; The Arts</code></li><li><code>Special Needs</code></li><li><code>Warmth</code></li></ul><br/> **Examples:** <br/><ul><li><code>Music &amp; The Arts</code></li><li><code>Literacy &amp; Language, Math &amp; Science</code></li>  \n",
    "  **`school_state`** | State where school is located ([Two-letter U.S. postal code](https://en.wikipedia.org/wiki/List_of_U.S._state_abbreviations#Postal_codes)). **Example:** `WY`\n",
    "**`project_subject_subcategories`** | One or more (comma-separated) subject subcategories for the project. **Examples:** <br/><ul><li><code>Literacy</code></li><li><code>Literature &amp; Writing, Social Sciences</code></li></ul> \n",
    "**`project_resource_summary`** | An explanation of the resources needed for the project. **Example:** <br/><ul><li><code>My students need hands on literacy materials to manage sensory needs!</code</li></ul> \n",
    "**`project_essay_1`**    | First application essay<sup>*</sup>  \n",
    "**`project_essay_2`**    | Second application essay<sup>*</sup> \n",
    "**`project_essay_3`**    | Third application essay<sup>*</sup> \n",
    "**`project_essay_4`**    | Fourth application essay<sup>*</sup> \n",
    "**`project_submitted_datetime`** | Datetime when project application was submitted. **Example:** `2016-04-28 12:43:56.245`   \n",
    "**`teacher_id`** | A unique identifier for the teacher of the proposed project. **Example:** `bdf8baa8fedef6bfeec7ae4ff1c15c56`  \n",
    "**`teacher_prefix`** | Teacher's title. One of the following enumerated values: <br/><ul><li><code>nan</code></li><li><code>Dr.</code></li><li><code>Mr.</code></li><li><code>Mrs.</code></li><li><code>Ms.</code></li><li><code>Teacher.</code></li></ul>  \n",
    "**`teacher_number_of_previously_posted_projects`** | Number of project applications previously submitted by the same teacher. **Example:** `2` \n",
    "\n",
    "<sup>*</sup> See the section <b>Notes on the Essay Data</b> for more details about these features.\n",
    "\n",
    "Additionally, the `resources.csv` data set provides more data about the resources required for each project. Each line in this file represents a resource required by a project:\n",
    "\n",
    "Feature | Description \n",
    "----------|---------------\n",
    "**`id`** | A `project_id` value from the `train.csv` file.  **Example:** `p036502`   \n",
    "**`description`** | Desciption of the resource. **Example:** `Tenor Saxophone Reeds, Box of 25`   \n",
    "**`quantity`** | Quantity of the resource required. **Example:** `3`   \n",
    "**`price`** | Price of the resource required. **Example:** `9.95`   \n",
    "\n",
    "**Note:** Many projects require multiple resources. The `id` value corresponds to a `project_id` in train.csv, so you use it as a key to retrieve all resources needed for a project:\n",
    "\n",
    "The data set contains the following label (the value you will attempt to predict):\n",
    "\n",
    "Label | Description\n",
    "----------|---------------\n",
    "`project_is_approved` | A binary flag indicating whether DonorsChoose approved the project. A value of `0` indicates the project was not approved, and a value of `1` indicates the project was approved."
   ]
  },
  {
   "cell_type": "markdown",
   "metadata": {},
   "source": [
    "### Notes on the Essay Data\n",
    "\n",
    "<ul>\n",
    "Prior to May 17, 2016, the prompts for the essays were as follows:\n",
    "<li>__project_essay_1:__ \"Introduce us to your classroom\"</li>\n",
    "<li>__project_essay_2:__ \"Tell us more about your students\"</li>\n",
    "<li>__project_essay_3:__ \"Describe how your students will use the materials you're requesting\"</li>\n",
    "<li>__project_essay_3:__ \"Close by sharing why your project will make a difference\"</li>\n",
    "</ul>\n",
    "\n",
    "\n",
    "<ul>\n",
    "Starting on May 17, 2016, the number of essays was reduced from 4 to 2, and the prompts for the first 2 essays were changed to the following:<br>\n",
    "<li>__project_essay_1:__ \"Describe your students: What makes your students special? Specific details about their background, your neighborhood, and your school are all helpful.\"</li>\n",
    "<li>__project_essay_2:__ \"About your project: How will these materials make a difference in your students' learning and improve their school lives?\"</li>\n",
    "<br>For all projects with project_submitted_datetime of 2016-05-17 and later, the values of project_essay_3 and project_essay_4 will be NaN.\n",
    "</ul>\n"
   ]
  },
  {
   "cell_type": "code",
   "execution_count": 1,
   "metadata": {},
   "outputs": [],
   "source": [
    "%matplotlib inline\n",
    "import warnings\n",
    "warnings.filterwarnings(\"ignore\")\n",
    "\n",
    "import pandas as pd\n",
    "import numpy as np\n",
    "from sklearn.feature_extraction.text import TfidfVectorizer\n",
    "from sklearn.feature_extraction.text import CountVectorizer\n",
    "\n",
    "\n",
    "import re\n",
    "# Tutorial about Python regular expressions: https://pymotw.com/2/re/\n",
    "\n",
    "from nltk.corpus import stopwords\n",
    "import pickle\n",
    "\n",
    "from tqdm import tqdm\n",
    "import os"
   ]
  },
  {
   "cell_type": "markdown",
   "metadata": {},
   "source": [
    "## 1. Reading Data"
   ]
  },
  {
   "cell_type": "code",
   "execution_count": 2,
   "metadata": {},
   "outputs": [],
   "source": [
    "project_data = pd.read_csv('train_data.csv')\n",
    "resource_data = pd.read_csv('resources.csv')"
   ]
  },
  {
   "cell_type": "code",
   "execution_count": 3,
   "metadata": {
    "tags": []
   },
   "outputs": [
    {
     "output_type": "stream",
     "name": "stdout",
     "text": "Number of data points in train data (109248, 17)\n--------------------------------------------------\nThe attributes of data : ['Unnamed: 0' 'id' 'teacher_id' 'teacher_prefix' 'school_state'\n 'project_submitted_datetime' 'project_grade_category'\n 'project_subject_categories' 'project_subject_subcategories'\n 'project_title' 'project_essay_1' 'project_essay_2' 'project_essay_3'\n 'project_essay_4' 'project_resource_summary'\n 'teacher_number_of_previously_posted_projects' 'project_is_approved']\n"
    }
   ],
   "source": [
    "print(\"Number of data points in train data\", project_data.shape)\n",
    "print('-'*50)\n",
    "print(\"The attributes of data :\", project_data.columns.values)"
   ]
  },
  {
   "cell_type": "code",
   "execution_count": 4,
   "metadata": {
    "tags": []
   },
   "outputs": [
    {
     "output_type": "stream",
     "name": "stdout",
     "text": "Number of data points in train data (1541272, 4)\n['id' 'description' 'quantity' 'price']\n"
    },
    {
     "output_type": "execute_result",
     "data": {
      "text/plain": "        id                                        description  quantity  \\\n0  p233245  LC652 - Lakeshore Double-Space Mobile Drying Rack         1   \n1  p069063        Bouncy Bands for Desks (Blue support pipes)         3   \n\n    price  \n0  149.00  \n1   14.95  ",
      "text/html": "<div>\n<style scoped>\n    .dataframe tbody tr th:only-of-type {\n        vertical-align: middle;\n    }\n\n    .dataframe tbody tr th {\n        vertical-align: top;\n    }\n\n    .dataframe thead th {\n        text-align: right;\n    }\n</style>\n<table border=\"1\" class=\"dataframe\">\n  <thead>\n    <tr style=\"text-align: right;\">\n      <th></th>\n      <th>id</th>\n      <th>description</th>\n      <th>quantity</th>\n      <th>price</th>\n    </tr>\n  </thead>\n  <tbody>\n    <tr>\n      <th>0</th>\n      <td>p233245</td>\n      <td>LC652 - Lakeshore Double-Space Mobile Drying Rack</td>\n      <td>1</td>\n      <td>149.00</td>\n    </tr>\n    <tr>\n      <th>1</th>\n      <td>p069063</td>\n      <td>Bouncy Bands for Desks (Blue support pipes)</td>\n      <td>3</td>\n      <td>14.95</td>\n    </tr>\n  </tbody>\n</table>\n</div>"
     },
     "metadata": {},
     "execution_count": 4
    }
   ],
   "source": [
    "print(\"Number of data points in train data\", resource_data.shape)\n",
    "print(resource_data.columns.values)\n",
    "resource_data.head(2)"
   ]
  },
  {
   "cell_type": "markdown",
   "metadata": {},
   "source": [
    "# 2. Preprocessing Categorical Features: project_grade_category"
   ]
  },
  {
   "cell_type": "code",
   "execution_count": 45,
   "metadata": {},
   "outputs": [
    {
     "output_type": "execute_result",
     "data": {
      "text/plain": "grades_prek_2    44225\ngrades_3_5       37137\ngrades_6_8       16923\ngrades_9_12      10963\nName: project_grade_category, dtype: int64"
     },
     "metadata": {},
     "execution_count": 45
    }
   ],
   "source": [
    "project_data['project_grade_category'].value_counts()"
   ]
  },
  {
   "cell_type": "markdown",
   "metadata": {},
   "source": [
    "we need to remove the spaces, replace the '-' with '_' and convert all the letters to small"
   ]
  },
  {
   "cell_type": "code",
   "execution_count": 6,
   "metadata": {},
   "outputs": [
    {
     "output_type": "execute_result",
     "data": {
      "text/plain": "grades_prek_2    44225\ngrades_3_5       37137\ngrades_6_8       16923\ngrades_9_12      10963\nName: project_grade_category, dtype: int64"
     },
     "metadata": {},
     "execution_count": 6
    }
   ],
   "source": [
    "# https://stackoverflow.com/questions/36383821/pandas-dataframe-apply-function-to-column-strings-based-on-other-column-value\n",
    "project_data['project_grade_category'] = project_data['project_grade_category'].str.replace(' ','_')\n",
    "project_data['project_grade_category'] = project_data['project_grade_category'].str.replace('-','_')\n",
    "project_data['project_grade_category'] = project_data['project_grade_category'].str.lower()\n",
    "project_data['project_grade_category'].value_counts()"
   ]
  },
  {
   "cell_type": "markdown",
   "metadata": {},
   "source": [
    "# 3. Preprocessing Categorical Features: project_subject_categories"
   ]
  },
  {
   "cell_type": "code",
   "execution_count": 7,
   "metadata": {
    "scrolled": true
   },
   "outputs": [
    {
     "output_type": "execute_result",
     "data": {
      "text/plain": "Literacy & Language                           23655\nMath & Science                                17072\nLiteracy & Language, Math & Science           14636\nHealth & Sports                               10177\nMusic & The Arts                               5180\nSpecial Needs                                  4226\nLiteracy & Language, Special Needs             3961\nApplied Learning                               3771\nMath & Science, Literacy & Language            2289\nApplied Learning, Literacy & Language          2191\nHistory & Civics                               1851\nMath & Science, Special Needs                  1840\nLiteracy & Language, Music & The Arts          1757\nMath & Science, Music & The Arts               1642\nApplied Learning, Special Needs                1467\nHistory & Civics, Literacy & Language          1421\nHealth & Sports, Special Needs                 1391\nWarmth, Care & Hunger                          1309\nMath & Science, Applied Learning               1220\nApplied Learning, Math & Science               1052\nLiteracy & Language, History & Civics           809\nHealth & Sports, Literacy & Language            803\nApplied Learning, Music & The Arts              758\nMath & Science, History & Civics                652\nLiteracy & Language, Applied Learning           636\nApplied Learning, Health & Sports               608\nMath & Science, Health & Sports                 414\nHistory & Civics, Math & Science                322\nHistory & Civics, Music & The Arts              312\nSpecial Needs, Music & The Arts                 302\nHealth & Sports, Math & Science                 271\nHistory & Civics, Special Needs                 252\nHealth & Sports, Applied Learning               192\nApplied Learning, History & Civics              178\nHealth & Sports, Music & The Arts               155\nMusic & The Arts, Special Needs                 138\nLiteracy & Language, Health & Sports             72\nHealth & Sports, History & Civics                43\nHistory & Civics, Applied Learning               42\nSpecial Needs, Health & Sports                   42\nHealth & Sports, Warmth, Care & Hunger           23\nSpecial Needs, Warmth, Care & Hunger             23\nMusic & The Arts, Health & Sports                19\nMusic & The Arts, History & Civics               18\nHistory & Civics, Health & Sports                13\nMath & Science, Warmth, Care & Hunger            11\nMusic & The Arts, Applied Learning               10\nApplied Learning, Warmth, Care & Hunger          10\nLiteracy & Language, Warmth, Care & Hunger        9\nMusic & The Arts, Warmth, Care & Hunger           2\nHistory & Civics, Warmth, Care & Hunger           1\nName: project_subject_categories, dtype: int64"
     },
     "metadata": {},
     "execution_count": 7
    }
   ],
   "source": [
    "project_data['project_subject_categories'].value_counts()"
   ]
  },
  {
   "cell_type": "markdown",
   "metadata": {},
   "source": [
    ">remove spaces, 'the' <br>\n",
    "replace '&' with '\\_', and ',' with '_'"
   ]
  },
  {
   "cell_type": "code",
   "execution_count": 8,
   "metadata": {
    "scrolled": true
   },
   "outputs": [
    {
     "output_type": "execute_result",
     "data": {
      "text/plain": "literacy_language                       23655\nmath_science                            17072\nliteracy_language_math_science          14636\nhealth_sports                           10177\nmusic_arts                               5180\nspecialneeds                             4226\nliteracy_language_specialneeds           3961\nappliedlearning                          3771\nmath_science_literacy_language           2289\nappliedlearning_literacy_language        2191\nhistory_civics                           1851\nmath_science_specialneeds                1840\nliteracy_language_music_arts             1757\nmath_science_music_arts                  1642\nappliedlearning_specialneeds             1467\nhistory_civics_literacy_language         1421\nhealth_sports_specialneeds               1391\nwarmth_care_hunger                       1309\nmath_science_appliedlearning             1220\nappliedlearning_math_science             1052\nliteracy_language_history_civics          809\nhealth_sports_literacy_language           803\nappliedlearning_music_arts                758\nmath_science_history_civics               652\nliteracy_language_appliedlearning         636\nappliedlearning_health_sports             608\nmath_science_health_sports                414\nhistory_civics_math_science               322\nhistory_civics_music_arts                 312\nspecialneeds_music_arts                   302\nhealth_sports_math_science                271\nhistory_civics_specialneeds               252\nhealth_sports_appliedlearning             192\nappliedlearning_history_civics            178\nhealth_sports_music_arts                  155\nmusic_arts_specialneeds                   138\nliteracy_language_health_sports            72\nhealth_sports_history_civics               43\nspecialneeds_health_sports                 42\nhistory_civics_appliedlearning             42\nhealth_sports_warmth_care_hunger           23\nspecialneeds_warmth_care_hunger            23\nmusic_arts_health_sports                   19\nmusic_arts_history_civics                  18\nhistory_civics_health_sports               13\nmath_science_warmth_care_hunger            11\nmusic_arts_appliedlearning                 10\nappliedlearning_warmth_care_hunger         10\nliteracy_language_warmth_care_hunger        9\nmusic_arts_warmth_care_hunger               2\nhistory_civics_warmth_care_hunger           1\nName: project_subject_categories, dtype: int64"
     },
     "metadata": {},
     "execution_count": 8
    }
   ],
   "source": [
    "project_data['project_subject_categories'] = project_data['project_subject_categories'].str.replace(' The ','')\n",
    "project_data['project_subject_categories'] = project_data['project_subject_categories'].str.replace(' ','')\n",
    "project_data['project_subject_categories'] = project_data['project_subject_categories'].str.replace('&','_')\n",
    "project_data['project_subject_categories'] = project_data['project_subject_categories'].str.replace(',','_')\n",
    "project_data['project_subject_categories'] = project_data['project_subject_categories'].str.lower()\n",
    "project_data['project_subject_categories'].value_counts()"
   ]
  },
  {
   "cell_type": "markdown",
   "metadata": {},
   "source": [
    "# 4. Preprocessing Categorical Features: teacher_prefix"
   ]
  },
  {
   "cell_type": "code",
   "execution_count": 9,
   "metadata": {},
   "outputs": [
    {
     "output_type": "execute_result",
     "data": {
      "text/plain": "Mrs.       57269\nMs.        38955\nMr.        10648\nTeacher     2360\nDr.           13\nName: teacher_prefix, dtype: int64"
     },
     "metadata": {},
     "execution_count": 9
    }
   ],
   "source": [
    "project_data['teacher_prefix'].value_counts()"
   ]
  },
  {
   "cell_type": "code",
   "execution_count": 10,
   "metadata": {
    "tags": []
   },
   "outputs": [
    {
     "output_type": "stream",
     "name": "stdout",
     "text": "True\nnumber of nan values 3\n"
    }
   ],
   "source": [
    "# check if we have any nan values are there\n",
    "print(project_data['teacher_prefix'].isnull().values.any())\n",
    "print(\"number of nan values\",project_data['teacher_prefix'].isnull().values.sum())"
   ]
  },
  {
   "cell_type": "markdown",
   "metadata": {},
   "source": [
    ">numebr of missing values are very less in number, we can replace it with Mrs. as most of the projects are submitted by Mrs."
   ]
  },
  {
   "cell_type": "code",
   "execution_count": 11,
   "metadata": {},
   "outputs": [],
   "source": [
    "project_data['teacher_prefix']=project_data['teacher_prefix'].fillna('Mrs.')"
   ]
  },
  {
   "cell_type": "code",
   "execution_count": 12,
   "metadata": {},
   "outputs": [
    {
     "output_type": "execute_result",
     "data": {
      "text/plain": "Mrs.       57272\nMs.        38955\nMr.        10648\nTeacher     2360\nDr.           13\nName: teacher_prefix, dtype: int64"
     },
     "metadata": {},
     "execution_count": 12
    }
   ],
   "source": [
    "project_data['teacher_prefix'].value_counts()"
   ]
  },
  {
   "cell_type": "markdown",
   "metadata": {},
   "source": [
    ">Remove '.' <br>\n",
    ">convert all the chars to small"
   ]
  },
  {
   "cell_type": "code",
   "execution_count": 13,
   "metadata": {},
   "outputs": [
    {
     "output_type": "execute_result",
     "data": {
      "text/plain": "mrs        57272\nms         38955\nmr         10648\nteacher     2360\ndr            13\nName: teacher_prefix, dtype: int64"
     },
     "metadata": {},
     "execution_count": 13
    }
   ],
   "source": [
    "project_data['teacher_prefix'] = project_data['teacher_prefix'].str.replace('.','')\n",
    "project_data['teacher_prefix'] = project_data['teacher_prefix'].str.lower()\n",
    "project_data['teacher_prefix'].value_counts()"
   ]
  },
  {
   "cell_type": "markdown",
   "metadata": {},
   "source": [
    "# 5. Preprocessing Categorical Features: project_subject_subcategories"
   ]
  },
  {
   "cell_type": "code",
   "execution_count": 14,
   "metadata": {
    "scrolled": true
   },
   "outputs": [
    {
     "output_type": "execute_result",
     "data": {
      "text/plain": "Literacy                                      9486\nLiteracy, Mathematics                         8325\nLiterature & Writing, Mathematics             5923\nLiteracy, Literature & Writing                5571\nMathematics                                   5379\n                                              ... \nFinancial Literacy, Foreign Languages            1\nCommunity Service, Financial Literacy            1\nHistory & Geography, Warmth, Care & Hunger       1\nGym & Fitness, Parent Involvement                1\nEconomics, Music                                 1\nName: project_subject_subcategories, Length: 401, dtype: int64"
     },
     "metadata": {},
     "execution_count": 14
    }
   ],
   "source": [
    "project_data['project_subject_subcategories'].value_counts()"
   ]
  },
  {
   "cell_type": "markdown",
   "metadata": {},
   "source": [
    "> same process we did in project_subject_categories"
   ]
  },
  {
   "cell_type": "code",
   "execution_count": 15,
   "metadata": {
    "scrolled": true
   },
   "outputs": [
    {
     "output_type": "execute_result",
     "data": {
      "text/plain": "literacy                              9486\nliteracy_mathematics                  8325\nliterature_writing_mathematics        5923\nliteracy_literature_writing           5571\nmathematics                           5379\n                                      ... \nother_warmth_care_hunger                 1\ncommunityservice_music                   1\ncommunityservice_financialliteracy       1\nesl_economics                            1\ncivics_government_foreignlanguages       1\nName: project_subject_subcategories, Length: 401, dtype: int64"
     },
     "metadata": {},
     "execution_count": 15
    }
   ],
   "source": [
    "project_data['project_subject_subcategories'] = project_data['project_subject_subcategories'].str.replace(' The ','')\n",
    "project_data['project_subject_subcategories'] = project_data['project_subject_subcategories'].str.replace(' ','')\n",
    "project_data['project_subject_subcategories'] = project_data['project_subject_subcategories'].str.replace('&','_')\n",
    "project_data['project_subject_subcategories'] = project_data['project_subject_subcategories'].str.replace(',','_')\n",
    "project_data['project_subject_subcategories'] = project_data['project_subject_subcategories'].str.lower()\n",
    "project_data['project_subject_subcategories'].value_counts()"
   ]
  },
  {
   "cell_type": "markdown",
   "metadata": {},
   "source": [
    "# 6. Preprocessing Categorical Features: school_state"
   ]
  },
  {
   "cell_type": "code",
   "execution_count": 16,
   "metadata": {
    "scrolled": true
   },
   "outputs": [
    {
     "output_type": "execute_result",
     "data": {
      "text/plain": "CA    15388\nTX     7396\nNY     7318\nFL     6185\nNC     5091\nIL     4350\nGA     3963\nSC     3936\nMI     3161\nPA     3109\nIN     2620\nMO     2576\nOH     2467\nLA     2394\nMA     2389\nWA     2334\nOK     2276\nNJ     2237\nAZ     2147\nVA     2045\nWI     1827\nAL     1762\nUT     1731\nTN     1688\nCT     1663\nMD     1514\nNV     1367\nMS     1323\nKY     1304\nOR     1242\nMN     1208\nCO     1111\nAR     1049\nID      693\nIA      666\nKS      634\nNM      557\nDC      516\nHI      507\nME      505\nWV      503\nNH      348\nAK      345\nDE      343\nNE      309\nSD      300\nRI      285\nMT      245\nND      143\nWY       98\nVT       80\nName: school_state, dtype: int64"
     },
     "metadata": {},
     "execution_count": 16
    }
   ],
   "source": [
    "project_data['school_state'].value_counts()"
   ]
  },
  {
   "cell_type": "markdown",
   "metadata": {},
   "source": [
    ">convert all of them into small letters"
   ]
  },
  {
   "cell_type": "code",
   "execution_count": 17,
   "metadata": {
    "scrolled": true
   },
   "outputs": [
    {
     "output_type": "execute_result",
     "data": {
      "text/plain": "ca    15388\ntx     7396\nny     7318\nfl     6185\nnc     5091\nil     4350\nga     3963\nsc     3936\nmi     3161\npa     3109\nin     2620\nmo     2576\noh     2467\nla     2394\nma     2389\nwa     2334\nok     2276\nnj     2237\naz     2147\nva     2045\nwi     1827\nal     1762\nut     1731\ntn     1688\nct     1663\nmd     1514\nnv     1367\nms     1323\nky     1304\nor     1242\nmn     1208\nco     1111\nar     1049\nid      693\nia      666\nks      634\nnm      557\ndc      516\nhi      507\nme      505\nwv      503\nnh      348\nak      345\nde      343\nne      309\nsd      300\nri      285\nmt      245\nnd      143\nwy       98\nvt       80\nName: school_state, dtype: int64"
     },
     "metadata": {},
     "execution_count": 17
    }
   ],
   "source": [
    "project_data['school_state'] = project_data['school_state'].str.lower()\n",
    "project_data['school_state'].value_counts()"
   ]
  },
  {
   "cell_type": "markdown",
   "metadata": {},
   "source": [
    "# 7. Preprocessing Categorical Features: project_title"
   ]
  },
  {
   "cell_type": "code",
   "execution_count": 18,
   "metadata": {},
   "outputs": [],
   "source": [
    "# https://stackoverflow.com/a/47091490/4084039\n",
    "import re\n",
    "\n",
    "def decontracted(phrase):\n",
    "    # specific\n",
    "    phrase = re.sub(r\"won't\", \"will not\", phrase)\n",
    "    phrase = re.sub(r\"can\\'t\", \"can not\", phrase)\n",
    "\n",
    "    # general\n",
    "    phrase = re.sub(r\"n\\'t\", \" not\", phrase)\n",
    "    phrase = re.sub(r\"\\'re\", \" are\", phrase)\n",
    "    phrase = re.sub(r\"\\'s\", \" is\", phrase)\n",
    "    phrase = re.sub(r\"\\'d\", \" would\", phrase)\n",
    "    phrase = re.sub(r\"\\'ll\", \" will\", phrase)\n",
    "    phrase = re.sub(r\"\\'t\", \" not\", phrase)\n",
    "    phrase = re.sub(r\"\\'ve\", \" have\", phrase)\n",
    "    phrase = re.sub(r\"\\'m\", \" am\", phrase)\n",
    "    return phrase"
   ]
  },
  {
   "cell_type": "code",
   "execution_count": 19,
   "metadata": {},
   "outputs": [],
   "source": [
    "# https://gist.github.com/sebleier/554280\n",
    "# we are removing the words from the stop words list: 'no', 'nor', 'not'\n",
    "stopwords= ['i', 'me', 'my', 'myself', 'we', 'our', 'ours', 'ourselves', 'you', \"you're\", \"you've\",\\\n",
    "            \"you'll\", \"you'd\", 'your', 'yours', 'yourself', 'yourselves', 'he', 'him', 'his', 'himself', \\\n",
    "            'she', \"she's\", 'her', 'hers', 'herself', 'it', \"it's\", 'its', 'itself', 'they', 'them', 'their',\\\n",
    "            'theirs', 'themselves', 'what', 'which', 'who', 'whom', 'this', 'that', \"that'll\", 'these', 'those', \\\n",
    "            'am', 'is', 'are', 'was', 'were', 'be', 'been', 'being', 'have', 'has', 'had', 'having', 'do', 'does', \\\n",
    "            'did', 'doing', 'a', 'an', 'the', 'and', 'but', 'if', 'or', 'because', 'as', 'until', 'while', 'of', \\\n",
    "            'at', 'by', 'for', 'with', 'about', 'against', 'between', 'into', 'through', 'during', 'before', 'after',\\\n",
    "            'above', 'below', 'to', 'from', 'up', 'down', 'in', 'out', 'on', 'off', 'over', 'under', 'again', 'further',\\\n",
    "            'then', 'once', 'here', 'there', 'when', 'where', 'why', 'how', 'all', 'any', 'both', 'each', 'few', 'more',\\\n",
    "            'most', 'other', 'some', 'such', 'only', 'own', 'same', 'so', 'than', 'too', 'very', \\\n",
    "            's', 't', 'can', 'will', 'just', 'don', \"don't\", 'should', \"should've\", 'now', 'd', 'll', 'm', 'o', 're', \\\n",
    "            've', 'y', 'ain', 'aren', \"aren't\", 'couldn', \"couldn't\", 'didn', \"didn't\", 'doesn', \"doesn't\", 'hadn',\\\n",
    "            \"hadn't\", 'hasn', \"hasn't\", 'haven', \"haven't\", 'isn', \"isn't\", 'ma', 'mightn', \"mightn't\", 'mustn',\\\n",
    "            \"mustn't\", 'needn', \"needn't\", 'shan', \"shan't\", 'shouldn', \"shouldn't\", 'wasn', \"wasn't\", 'weren', \"weren't\", \\\n",
    "            'won', \"won't\", 'wouldn', \"wouldn't\"]"
   ]
  },
  {
   "cell_type": "code",
   "execution_count": 20,
   "metadata": {},
   "outputs": [
    {
     "output_type": "execute_result",
     "data": {
      "text/plain": "0     Educational Support for English Learners at Home\n1                Wanted: Projector for Hungry Learners\n2    Soccer Equipment for AWESOME Middle School Stu...\n3                               Techie Kindergarteners\n4                               Interactive Math Tools\nName: project_title, dtype: object"
     },
     "metadata": {},
     "execution_count": 20
    }
   ],
   "source": [
    "project_data['project_title'].head(5)"
   ]
  },
  {
   "cell_type": "code",
   "execution_count": 21,
   "metadata": {
    "tags": []
   },
   "outputs": [
    {
     "output_type": "stream",
     "name": "stdout",
     "text": "printing some random reviews\n9 Just For the Love of Reading--\\r\\nPure Pleasure\n34 \\\"Have A Ball!!!\\\"\n147 Who needs a Chromebook?\\r\\nWE DO!!\n"
    }
   ],
   "source": [
    "print(\"printing some random reviews\")\n",
    "print(9, project_data['project_title'].values[9])\n",
    "print(34, project_data['project_title'].values[34])\n",
    "print(147, project_data['project_title'].values[147])"
   ]
  },
  {
   "cell_type": "code",
   "execution_count": 22,
   "metadata": {},
   "outputs": [],
   "source": [
    "# Combining all the above stundents \n",
    "from tqdm import tqdm\n",
    "def preprocess_text(text_data):\n",
    "    preprocessed_text = []\n",
    "    # tqdm is for printing the status bar\n",
    "    for sentance in tqdm(text_data):\n",
    "        sent = decontracted(sentance)\n",
    "        sent = sent.replace('\\\\r', ' ')\n",
    "        sent = sent.replace('\\\\n', ' ')\n",
    "        sent = sent.replace('\\\\\"', ' ')\n",
    "        sent = re.sub('[^A-Za-z0-9]+', ' ', sent)\n",
    "        # https://gist.github.com/sebleier/554280\n",
    "        sent = ' '.join(e for e in sent.split() if e.lower() not in stopwords)\n",
    "        preprocessed_text.append(sent.lower().strip())\n",
    "    return preprocessed_text"
   ]
  },
  {
   "cell_type": "code",
   "execution_count": 23,
   "metadata": {
    "tags": []
   },
   "outputs": [
    {
     "output_type": "stream",
     "name": "stderr",
     "text": "100%|██████████| 109248/109248 [00:11<00:00, 9401.65it/s]\n"
    }
   ],
   "source": [
    "preprocessed_titles = preprocess_text(project_data['project_title'].values)"
   ]
  },
  {
   "cell_type": "code",
   "execution_count": 24,
   "metadata": {
    "tags": []
   },
   "outputs": [
    {
     "output_type": "stream",
     "name": "stdout",
     "text": "printing some random reviews\n9 love reading pure pleasure\n34 ball\n147 needs chromebook\n"
    }
   ],
   "source": [
    "print(\"printing some random reviews\")\n",
    "print(9, preprocessed_titles[9])\n",
    "print(34, preprocessed_titles[34])\n",
    "print(147, preprocessed_titles[147])"
   ]
  },
  {
   "cell_type": "markdown",
   "metadata": {},
   "source": [
    "# 8. Preprocessing Categorical Features: essay"
   ]
  },
  {
   "cell_type": "code",
   "execution_count": 25,
   "metadata": {},
   "outputs": [],
   "source": [
    "# merge two column text dataframe: \n",
    "project_data[\"essay\"] = project_data[\"project_essay_1\"].map(str) +\\\n",
    "                        project_data[\"project_essay_2\"].map(str) + \\\n",
    "                        project_data[\"project_essay_3\"].map(str) + \\\n",
    "                        project_data[\"project_essay_4\"].map(str)"
   ]
  },
  {
   "cell_type": "code",
   "execution_count": 26,
   "metadata": {
    "scrolled": true,
    "tags": []
   },
   "outputs": [
    {
     "output_type": "stream",
     "name": "stdout",
     "text": "printing some random essay\n9 Over 95% of my students are on free or reduced lunch.  I have a few who are homeless, but despite that, they come to school with an eagerness to learn.  My students are inquisitive eager learners who  embrace the challenge of not having great books and other resources  every day.  Many of them are not afforded the opportunity to engage with these big colorful pages of a book on a regular basis at home and they don't travel to the public library.  \\r\\nIt is my duty as a teacher to do all I can to provide each student an opportunity to succeed in every aspect of life. \\r\\nReading is Fundamental! My students will read these books over and over again while boosting their comprehension skills. These books will be used for read alouds, partner reading and for Independent reading. \\r\\nThey will engage in reading to build their \\\"Love for Reading\\\" by reading for pure enjoyment. They will be introduced to some new authors as well as some old favorites. I want my students to be ready for the 21st Century and know the pleasure of holding a good hard back book in hand. There's nothing like a good book to read!  \\r\\nMy students will soar in Reading, and more because of your consideration and generous funding contribution. This will help build stamina and prepare for 3rd grade. Thank you so much for reading our proposal!nannan\n--------------------------------------------------\n34 My students mainly come from extremely low-income families, and the majority of them come from homes where both parents work full time. Most of my students are at school from 7:30 am to 6:00 pm (2:30 to 6:00 pm in the after-school program), and they all receive free and reduced meals for breakfast and lunch. \\r\\n\\r\\n\\r\\nI want my students to feel  as comfortable in my classroom as they do at home. Many of my students take on multiple roles both at home as well as in school. They are sometimes the caretakers of younger siblings, cooks, babysitters, academics, friends, and most of all, they are developing who they are going to become as adults.  I consider it an essential part of my job to model helping others gain knowledge in a positive manner. As a result, I have a community of students who love helping each other in and outside of the classroom. They consistently look for opportunities to support each other's learning in a kind and helpful way.I am excited to be experimenting with alternative seating in my classroom this school year. Studies have shown that giving students the option of where they sit in a classroom increases focus as well as motivation.  \\r\\n\\r\\nBy allowing students choice in the classroom, they are able to explore and create in a welcoming environment. Alternative classroom seating has been experimented with more frequently in recent years. I believe (along with many others), that every child learns differently. This does not only apply to how multiplication is memorized, or a paper is written, but applies to the space in which they are asked to work. I have had students in the past ask \\\"Can I work in the library? Can I work on the carpet?\\\" My answer was always, \\\"As long as you're learning, you can work wherever you want!\\\" \\r\\n\\r\\nWith the yoga balls and the lap-desks, I will be able to increase the options for seating in my classroom and expand its imaginable space.nannan\n--------------------------------------------------\n147 My students are eager to learn and make their mark on the world.\\r\\n\\r\\nThey come from a Title 1 school and need extra love.\\r\\n\\r\\nMy fourth grade students are in a high poverty area and still come to school every day to get their education. I am trying to make it fun and educational for them so they can get the most out of their schooling. I created a caring environment for the students to bloom! They deserve the best.\\r\\nThank you!\\r\\nI am requesting 1 Chromebook to access online interventions, differentiate instruction, and get extra practice. The Chromebook will be used to supplement ELA and math instruction. Students will play ELA and math games that are engaging and fun, as well as participate in assignments online. This in turn will help my students improve their skills. Having a Chromebook in the classroom would not only allow students to use the programs at their own pace, but would ensure more students are getting adequate time to use the programs. The online programs have been especially beneficial to my students with special needs. They are able to work at their level as well as be challenged with some different materials. This is making these students more confident in their abilities.\\r\\n\\r\\nThe Chromebook would allow my students to have daily access to computers and increase their computing skills.\\r\\nThis will change their lives for the better as they become more successful in school. Having access to technology in the classroom would help bridge the achievement gap.nannan\n"
    }
   ],
   "source": [
    "print(\"printing some random essay\")\n",
    "print(9, project_data['essay'].values[9])\n",
    "print('-'*50)\n",
    "print(34, project_data['essay'].values[34])\n",
    "print('-'*50)\n",
    "print(147, project_data['essay'].values[147])"
   ]
  },
  {
   "cell_type": "code",
   "execution_count": 27,
   "metadata": {
    "tags": []
   },
   "outputs": [
    {
     "output_type": "stream",
     "name": "stderr",
     "text": "100%|██████████| 109248/109248 [04:22<00:00, 415.43it/s]\n"
    }
   ],
   "source": [
    "preprocessed_essays = preprocess_text(project_data['essay'].values)"
   ]
  },
  {
   "cell_type": "code",
   "execution_count": 28,
   "metadata": {
    "scrolled": true,
    "tags": []
   },
   "outputs": [
    {
     "output_type": "stream",
     "name": "stdout",
     "text": "printing some random essay\n9 95 students free reduced lunch homeless despite come school eagerness learn students inquisitive eager learners embrace challenge not great books resources every day many not afforded opportunity engage big colorful pages book regular basis home not travel public library duty teacher provide student opportunity succeed every aspect life reading fundamental students read books boosting comprehension skills books used read alouds partner reading independent reading engage reading build love reading reading pure enjoyment introduced new authors well old favorites want students ready 21st century know pleasure holding good hard back book hand nothing like good book read students soar reading consideration generous funding contribution help build stamina prepare 3rd grade thank much reading proposal nannan\n--------------------------------------------------\n34 students mainly come extremely low income families majority come homes parents work full time students school 7 30 6 00 pm 2 30 6 00 pm school program receive free reduced meals breakfast lunch want students feel comfortable classroom home many students take multiple roles home well school sometimes caretakers younger siblings cooks babysitters academics friends developing going become adults consider essential part job model helping others gain knowledge positive manner result community students love helping outside classroom consistently look opportunities support learning kind helpful way excited experimenting alternative seating classroom school year studies shown giving students option sit classroom increases focus well motivation allowing students choice classroom able explore create welcoming environment alternative classroom seating experimented frequently recent years believe along many others every child learns differently not apply multiplication memorized paper written applies space asked work students past ask work library work carpet answer always long learning work wherever want yoga balls lap desks able increase options seating classroom expand imaginable space nannan\n--------------------------------------------------\n147 students eager learn make mark world come title 1 school need extra love fourth grade students high poverty area still come school every day get education trying make fun educational get schooling created caring environment students bloom deserve best thank requesting 1 chromebook access online interventions differentiate instruction get extra practice chromebook used supplement ela math instruction students play ela math games engaging fun well participate assignments online turn help students improve skills chromebook classroom would not allow students use programs pace would ensure students getting adequate time use programs online programs especially beneficial students special needs able work level well challenged different materials making students confident abilities chromebook would allow students daily access computers increase computing skills change lives better become successful school access technology classroom would help bridge achievement gap nannan\n"
    }
   ],
   "source": [
    "print(\"printing some random essay\")\n",
    "print(9, preprocessed_essays[9])\n",
    "print('-'*50)\n",
    "print(34, preprocessed_essays[34])\n",
    "print('-'*50)\n",
    "print(147, preprocessed_essays[147])"
   ]
  },
  {
   "cell_type": "markdown",
   "metadata": {},
   "source": [
    "# 8. Preprocessing Numerical Values: price"
   ]
  },
  {
   "cell_type": "code",
   "execution_count": 29,
   "metadata": {},
   "outputs": [
    {
     "output_type": "execute_result",
     "data": {
      "text/plain": "        id   price  quantity\n0  p000001  459.56         7\n1  p000002  515.89        21",
      "text/html": "<div>\n<style scoped>\n    .dataframe tbody tr th:only-of-type {\n        vertical-align: middle;\n    }\n\n    .dataframe tbody tr th {\n        vertical-align: top;\n    }\n\n    .dataframe thead th {\n        text-align: right;\n    }\n</style>\n<table border=\"1\" class=\"dataframe\">\n  <thead>\n    <tr style=\"text-align: right;\">\n      <th></th>\n      <th>id</th>\n      <th>price</th>\n      <th>quantity</th>\n    </tr>\n  </thead>\n  <tbody>\n    <tr>\n      <th>0</th>\n      <td>p000001</td>\n      <td>459.56</td>\n      <td>7</td>\n    </tr>\n    <tr>\n      <th>1</th>\n      <td>p000002</td>\n      <td>515.89</td>\n      <td>21</td>\n    </tr>\n  </tbody>\n</table>\n</div>"
     },
     "metadata": {},
     "execution_count": 29
    }
   ],
   "source": [
    "# https://stackoverflow.com/questions/22407798/how-to-reset-a-dataframes-indexes-for-all-groups-in-one-step\n",
    "price_data = resource_data.groupby('id').agg({'price':'sum', 'quantity':'sum'}).reset_index()\n",
    "price_data.head(2)"
   ]
  },
  {
   "cell_type": "code",
   "execution_count": 30,
   "metadata": {},
   "outputs": [],
   "source": [
    "# join two dataframes in python: \n",
    "project_data = pd.merge(project_data, price_data, on='id', how='left')"
   ]
  },
  {
   "cell_type": "code",
   "execution_count": 31,
   "metadata": {},
   "outputs": [
    {
     "output_type": "execute_result",
     "data": {
      "text/plain": "0    154.60\n1    299.00\n2    516.85\n3    232.90\n4     67.98\nName: price, dtype: float64"
     },
     "metadata": {},
     "execution_count": 31
    }
   ],
   "source": [
    "project_data['price'].head()"
   ]
  },
  {
   "cell_type": "markdown",
   "metadata": {},
   "source": [
    "## 8.1 applying StandardScaler"
   ]
  },
  {
   "cell_type": "code",
   "execution_count": 32,
   "metadata": {},
   "outputs": [],
   "source": [
    "from sklearn.preprocessing import StandardScaler\n",
    "scaler = StandardScaler()\n",
    "scaler.fit(project_data['price'].values.reshape(-1, 1))\n",
    "project_data['std_price']=scaler.transform(project_data['price'].values.reshape(-1, 1) )"
   ]
  },
  {
   "cell_type": "code",
   "execution_count": 33,
   "metadata": {
    "scrolled": true
   },
   "outputs": [
    {
     "output_type": "execute_result",
     "data": {
      "text/plain": "0   -0.390533\n1    0.002396\n2    0.595191\n3   -0.177469\n4   -0.626236\nName: std_price, dtype: float64"
     },
     "metadata": {},
     "execution_count": 33
    }
   ],
   "source": [
    "project_data['std_price'].head()"
   ]
  },
  {
   "cell_type": "markdown",
   "metadata": {},
   "source": [
    "## 8.2 applying MinMaxScaler"
   ]
  },
  {
   "cell_type": "code",
   "execution_count": 34,
   "metadata": {},
   "outputs": [],
   "source": [
    "from sklearn.preprocessing import MinMaxScaler\n",
    "\n",
    "scaler = MinMaxScaler()\n",
    "scaler.fit(project_data['price'].values.reshape(-1, 1))\n",
    "project_data['nrm_price']=scaler.transform(project_data['price'].values.reshape(-1, 1))"
   ]
  },
  {
   "cell_type": "code",
   "execution_count": 35,
   "metadata": {},
   "outputs": [
    {
     "output_type": "execute_result",
     "data": {
      "text/plain": "0    0.015397\n1    0.029839\n2    0.051628\n3    0.023228\n4    0.006733\nName: nrm_price, dtype: float64"
     },
     "metadata": {},
     "execution_count": 35
    }
   ],
   "source": [
    "project_data['nrm_price'].head()"
   ]
  },
  {
   "source": [
    "## 8.3 Submission year"
   ],
   "cell_type": "markdown",
   "metadata": {}
  },
  {
   "cell_type": "code",
   "execution_count": 36,
   "metadata": {},
   "outputs": [],
   "source": [
    "project_data['submission_y'] = pd.to_datetime(project_data['project_submitted_datetime']).dt.year\n",
    "scaler = MinMaxScaler()\n",
    "project_data['submission_y'] = scaler.fit_transform(project_data['submission_y'].to_numpy().reshape(-1,1))\n",
    "# project_data['nrm_price']=scaler.transform(project_data['price'].values.reshape(-1, 1))\n",
    "# project_data['submission_y'].to_numpy().reshape(-1,1).shape\n",
    "# project_data['submission_y'].value_counts()"
   ]
  },
  {
   "source": [
    "## 8.4 Word count on project title"
   ],
   "cell_type": "markdown",
   "metadata": {}
  },
  {
   "cell_type": "code",
   "execution_count": 37,
   "metadata": {},
   "outputs": [],
   "source": [
    "project_data['title_len'] = project_data['project_title'].apply(lambda x : len(x.split()))\n",
    "project_data['essay_len'] = project_data['essay'].apply(lambda x : len(x.split()))"
   ]
  },
  {
   "cell_type": "code",
   "execution_count": 38,
   "metadata": {},
   "outputs": [],
   "source": [
    "final_data = project_data[['teacher_prefix','school_state','submission_y','project_grade_category','project_subject_categories','project_subject_subcategories','project_title','title_len','teacher_number_of_previously_posted_projects','essay','essay_len','nrm_price','std_price','quantity','project_is_approved']].copy()"
   ]
  },
  {
   "cell_type": "code",
   "execution_count": 39,
   "metadata": {},
   "outputs": [
    {
     "output_type": "execute_result",
     "data": {
      "text/plain": "  teacher_prefix school_state  submission_y project_grade_category  \\\n0            mrs           in           0.0          grades_prek_2   \n1             mr           fl           0.0             grades_6_8   \n2             ms           az           0.0             grades_6_8   \n\n     project_subject_categories project_subject_subcategories  \\\n0             literacy_language                  esl_literacy   \n1  history_civics_health_sports  civics_government_teamsports   \n2                 health_sports    health_wellness_teamsports   \n\n                                       project_title  title_len  \\\n0   Educational Support for English Learners at Home          7   \n1              Wanted: Projector for Hungry Learners          5   \n2  Soccer Equipment for AWESOME Middle School Stu...          7   \n\n   teacher_number_of_previously_posted_projects  \\\n0                                             0   \n1                                             7   \n2                                             1   \n\n                                               essay  essay_len  nrm_price  \\\n0  My students are English learners that are work...        272   0.015397   \n1  Our students arrive to our school eager to lea...        221   0.029839   \n2  \\r\\n\\\"True champions aren't always the ones th...        361   0.051628   \n\n   std_price  quantity  project_is_approved  \n0  -0.390533        23                    0  \n1   0.002396         1                    1  \n2   0.595191        22                    0  ",
      "text/html": "<div>\n<style scoped>\n    .dataframe tbody tr th:only-of-type {\n        vertical-align: middle;\n    }\n\n    .dataframe tbody tr th {\n        vertical-align: top;\n    }\n\n    .dataframe thead th {\n        text-align: right;\n    }\n</style>\n<table border=\"1\" class=\"dataframe\">\n  <thead>\n    <tr style=\"text-align: right;\">\n      <th></th>\n      <th>teacher_prefix</th>\n      <th>school_state</th>\n      <th>submission_y</th>\n      <th>project_grade_category</th>\n      <th>project_subject_categories</th>\n      <th>project_subject_subcategories</th>\n      <th>project_title</th>\n      <th>title_len</th>\n      <th>teacher_number_of_previously_posted_projects</th>\n      <th>essay</th>\n      <th>essay_len</th>\n      <th>nrm_price</th>\n      <th>std_price</th>\n      <th>quantity</th>\n      <th>project_is_approved</th>\n    </tr>\n  </thead>\n  <tbody>\n    <tr>\n      <th>0</th>\n      <td>mrs</td>\n      <td>in</td>\n      <td>0.0</td>\n      <td>grades_prek_2</td>\n      <td>literacy_language</td>\n      <td>esl_literacy</td>\n      <td>Educational Support for English Learners at Home</td>\n      <td>7</td>\n      <td>0</td>\n      <td>My students are English learners that are work...</td>\n      <td>272</td>\n      <td>0.015397</td>\n      <td>-0.390533</td>\n      <td>23</td>\n      <td>0</td>\n    </tr>\n    <tr>\n      <th>1</th>\n      <td>mr</td>\n      <td>fl</td>\n      <td>0.0</td>\n      <td>grades_6_8</td>\n      <td>history_civics_health_sports</td>\n      <td>civics_government_teamsports</td>\n      <td>Wanted: Projector for Hungry Learners</td>\n      <td>5</td>\n      <td>7</td>\n      <td>Our students arrive to our school eager to lea...</td>\n      <td>221</td>\n      <td>0.029839</td>\n      <td>0.002396</td>\n      <td>1</td>\n      <td>1</td>\n    </tr>\n    <tr>\n      <th>2</th>\n      <td>ms</td>\n      <td>az</td>\n      <td>0.0</td>\n      <td>grades_6_8</td>\n      <td>health_sports</td>\n      <td>health_wellness_teamsports</td>\n      <td>Soccer Equipment for AWESOME Middle School Stu...</td>\n      <td>7</td>\n      <td>1</td>\n      <td>\\r\\n\\\"True champions aren't always the ones th...</td>\n      <td>361</td>\n      <td>0.051628</td>\n      <td>0.595191</td>\n      <td>22</td>\n      <td>0</td>\n    </tr>\n  </tbody>\n</table>\n</div>"
     },
     "metadata": {},
     "execution_count": 39
    }
   ],
   "source": [
    "final_data.head(3)"
   ]
  },
  {
   "cell_type": "code",
   "execution_count": 40,
   "metadata": {
    "tags": []
   },
   "outputs": [
    {
     "output_type": "stream",
     "name": "stdout",
     "text": "<class 'pandas.core.frame.DataFrame'>\nInt64Index: 109248 entries, 0 to 109247\nData columns (total 15 columns):\n #   Column                                        Non-Null Count   Dtype  \n---  ------                                        --------------   -----  \n 0   teacher_prefix                                109248 non-null  object \n 1   school_state                                  109248 non-null  object \n 2   submission_y                                  109248 non-null  float64\n 3   project_grade_category                        109248 non-null  object \n 4   project_subject_categories                    109248 non-null  object \n 5   project_subject_subcategories                 109248 non-null  object \n 6   project_title                                 109248 non-null  object \n 7   title_len                                     109248 non-null  int64  \n 8   teacher_number_of_previously_posted_projects  109248 non-null  int64  \n 9   essay                                         109248 non-null  object \n 10  essay_len                                     109248 non-null  int64  \n 11  nrm_price                                     109248 non-null  float64\n 12  std_price                                     109248 non-null  float64\n 13  quantity                                      109248 non-null  int64  \n 14  project_is_approved                           109248 non-null  int64  \ndtypes: float64(3), int64(5), object(7)\nmemory usage: 13.3+ MB\n"
    }
   ],
   "source": [
    "final_data.info()"
   ]
  },
  {
   "cell_type": "code",
   "execution_count": 42,
   "metadata": {},
   "outputs": [],
   "source": [
    "final_data.to_csv('final_data.csv',index=False)"
   ]
  },
  {
   "cell_type": "code",
   "execution_count": 43,
   "metadata": {},
   "outputs": [
    {
     "output_type": "execute_result",
     "data": {
      "text/plain": "(109248, 15)"
     },
     "metadata": {},
     "execution_count": 43
    }
   ],
   "source": [
    "final_data.shape"
   ]
  },
  {
   "cell_type": "code",
   "execution_count": 47,
   "metadata": {},
   "outputs": [
    {
     "output_type": "execute_result",
     "data": {
      "text/plain": "Unnamed: 0                                                                                 140945\nid                                                                                        p258326\nteacher_id                                                       897464ce9ddc600bced1151f324dd63a\nteacher_prefix                                                                                 mr\nschool_state                                                                                   fl\nproject_submitted_datetime                                                    2016-10-25 09:22:10\nproject_grade_category                                                                 grades_6_8\nproject_subject_categories                                           history_civics_health_sports\nproject_subject_subcategories                                        civics_government_teamsports\nproject_title                                               Wanted: Projector for Hungry Learners\nproject_essay_1                                 Our students arrive to our school eager to lea...\nproject_essay_2                                 The projector we need for our school is very c...\nproject_essay_3                                                                               NaN\nproject_essay_4                                                                               NaN\nproject_resource_summary                        My students need a projector to help with view...\nteacher_number_of_previously_posted_projects                                                    7\nproject_is_approved                                                                             1\nessay                                           Our students arrive to our school eager to lea...\nprice                                                                                         299\nquantity                                                                                        1\nstd_price                                                                              0.00239637\nnrm_price                                                                                0.029839\nsubmission_y                                                                                    0\ntitle_len                                                                                       5\nessay_len                                                                                     221\nName: 1, dtype: object"
     },
     "metadata": {},
     "execution_count": 47
    }
   ],
   "source": [
    "project_data.iloc[1]"
   ]
  },
  {
   "cell_type": "code",
   "execution_count": null,
   "metadata": {},
   "outputs": [],
   "source": []
  }
 ],
 "metadata": {
  "kernelspec": {
   "display_name": "Python 3.7.7 64-bit ('ml1': conda)",
   "language": "python",
   "name": "python37764bitml1condab1e7a9cc0a4b4da2aa1261f0c90e368a"
  },
  "language_info": {
   "codemirror_mode": {
    "name": "ipython",
    "version": 3
   },
   "file_extension": ".py",
   "mimetype": "text/x-python",
   "name": "python",
   "nbconvert_exporter": "python",
   "pygments_lexer": "ipython3",
   "version": "3.7.7-final"
  }
 },
 "nbformat": 4,
 "nbformat_minor": 2
}