{
 "cells": [
  {
   "cell_type": "code",
   "execution_count": 4,
   "metadata": {},
   "outputs": [],
   "source": [
    "import numpy as np\n",
    "import pandas as pd\n",
    "import matplotlib.pyplot as plt\n",
    "%matplotlib inline\n",
    "import seaborn as sns\n",
    "\n",
    "import tensorflow as tf"
   ]
  },
  {
   "source": [
    "\n",
    "## Open Source Deep Learning Frameworks\n",
    "\n",
    "Deep learnings is made accessible by a number of open source projects. Some of the most popular technologies include, but are not limited to, Deeplearning4j (DL4j), Theano, Torch, TensorFlow, and Caffe. The deciding factors on which one to use are the tech stack they target, and if they are low-level, academic, or application focused. Here’s an overview of each:\n",
    "\n",
    "DL4J:\n",
    "\n",
    "   * JVM-based\n",
    "   * Distrubted\n",
    "   * Integrates with Hadoop and Spark\n",
    "   \n",
    "   \n",
    "Theano:\n",
    "\n",
    "   * Very popular in Academia\n",
    "   * Fairly low level\n",
    "   * Interfaced with via Python and Numpy\n",
    "\n",
    "\n",
    "Torch:\n",
    "\n",
    "   * Lua based\n",
    "   * In house versions used by Facebook and Twitter\n",
    "   * Contains pretrained models\n",
    "\n",
    "\n",
    "TensorFlow:\n",
    "\n",
    "   * Google written successor to Theano\n",
    "   * Interfaced with via Python and Numpy\n",
    "   * Highly parallel\n",
    "   * Can be somewhat slow for certain problem sets\n",
    "\n",
    "\n",
    "\n",
    "Caffe:\n",
    "\n",
    "   * Not general purpose. Focuses on machine-vision problems\n",
    "   * Implemented in C++ and is very fast\n",
    "   * Not easily extensible\n",
    "   * Has a Python interface"
   ],
   "cell_type": "markdown",
   "metadata": {}
  },
  {
   "source": [
    "## Brief installation of Tensorflow"
   ],
   "cell_type": "markdown",
   "metadata": {}
  },
  {
   "source": [
    ">TensorFlow is tested and supported on the following 64-bit systems:\n",
    "\n",
    ">1.Ubuntu 16.04 or later\n",
    "\n",
    ">2.Windows 7 or later\n",
    "\n",
    ">3.macOS 10.12.6 (Sierra) or later (no GPU support)\n",
    "\n",
    ">4.Raspbian 9.0 or later"
   ],
   "cell_type": "markdown",
   "metadata": {}
  },
  {
   "source": [
    "> **pip install tensorflow==2.0.0**\n",
    "\n",
    "> To run from Anaconda Prompt\n",
    "\n",
    "> **!pip install tensorflow==2.0.0**\n",
    "\n",
    "> To run from Jupyter Notebook"
   ],
   "cell_type": "markdown",
   "metadata": {}
  },
  {
   "source": [
    "`Both Tensorflow 2.0 and Keras have been released for four years (Keras was released in March 2015, and Tensorflow was released in November of the same year). The rapid development of deep learning in the past days, we also know some problems of Tensorflow1.x and Keras:`\n",
    "\n",
    "* Using Tensorflow means programming static graphs, which is difficult and inconvenient for programs that are familiar with imperative programming\n",
    "\n",
    "* Tensorflow api is powerful and flexible, but it is more complex, confusing and difficult to use.\n",
    "\n",
    "* Keras api is productive and easy to use, but lacks flexibility for research\n"
   ],
   "cell_type": "markdown",
   "metadata": {}
  },
  {
   "source": [
    "#### Official docs link for [DETAILED INSTALLATION STEPS](https://www.tensorflow.org/install) for Tensorflow 2"
   ],
   "cell_type": "markdown",
   "metadata": {}
  },
  {
   "cell_type": "code",
   "execution_count": 5,
   "metadata": {},
   "outputs": [
    {
     "output_type": "stream",
     "name": "stdout",
     "text": [
      "Tensorflow Version: 2.4.1\nKeras Version: 2.4.0\n"
     ]
    }
   ],
   "source": [
    "print(f\"Tensorflow Version: {tf.__version__}\")\n",
    "print(f\"Keras Version: {tf.keras.__version__}\")"
   ]
  },
  {
   "source": [
    "`Tensorflow2.0 is a combination design of Tensorflow1.x and Keras. Considering user feedback and framework development over the past four years, it largely solves the above problems and will become the future machine learning platform.`\n",
    "\n",
    "> Tensorflow 2.0 is built on the following core ideas:\n",
    "\n",
    "\n",
    "* The coding is more pythonic, so that users can get the results immediately like they are programming in numpy\n",
    "* Retaining the characteristics of static graphs (for performance, distributed, and production deployment), this makes TensorFlow fast, scalable, and ready for production.\n",
    "* Using Keras as a high-level API for deep learning, making Tensorflow easy to use and efficient\n",
    "* Make the entire framework both high-level features (easy to use, efficient, and not flexible) and low-level features (powerful and scalable, not easy to use, but very flexible)"
   ],
   "cell_type": "markdown",
   "metadata": {}
  },
  {
   "source": [
    ">Eager execution is by default in TensorFlow 2.0 and, it needs no special setup.\n",
    "\n",
    ">The following below code can be used to find out whether a CPU or GPU is in use"
   ],
   "cell_type": "markdown",
   "metadata": {}
  },
  {
   "cell_type": "code",
   "execution_count": 6,
   "metadata": {},
   "outputs": [
    {
     "output_type": "execute_result",
     "data": {
      "text/plain": [
       "([], [PhysicalDevice(name='/physical_device:CPU:0', device_type='CPU')])"
      ]
     },
     "metadata": {},
     "execution_count": 6
    }
   ],
   "source": [
    "tf.config.list_physical_devices('GPU'),tf.config.list_physical_devices('CPU')"
   ]
  },
  {
   "source": [
    "CheckList = [\"GPU\", \"CPU\"]\n",
    "for device in CheckList:\n",
    "    out_ = tf.config.list_physical_devices(device)    \n",
    "    if len(out_) > 0:\n",
    "        print(f\"{device} is available\")        \n",
    "        print(\"details\\n\",out_)\n",
    "    else:\n",
    "        print(f\"{device} not available\")"
   ],
   "cell_type": "code",
   "metadata": {},
   "execution_count": 7,
   "outputs": [
    {
     "output_type": "stream",
     "name": "stdout",
     "text": [
      "GPU not available\nCPU is available\ndetails\n [PhysicalDevice(name='/physical_device:CPU:0', device_type='CPU')]\n"
     ]
    }
   ]
  },
  {
   "source": [
    "# Keras, a High-Level API for TensorFlow 2"
   ],
   "cell_type": "markdown",
   "metadata": {}
  },
  {
   "source": [
    "## The Keras Sequential model\n",
    "\n",
    "`To build a Keras Sequential model, you add layers to it in the same order that you want the computations to be undertaken by the network.`\n",
    "\n",
    "`After you have built your model, you compile it; this optimizes the computations that are to be undertaken, and is where you allocate the optimizer and the loss function you want your model to use.`\n",
    "\n",
    "`The next stage is to fit the model to the data. This is commonly known as training the model, and is where all the computations take place. It is possible to present the data to the model either in batches, or all at once.`\n",
    "\n",
    "`Next, you evaluate your model to establish its accuracy, loss, and other metrics. Finally, having trained your model, you can use it to make predictions on new data. So, the workflow is: build, compile, fit, evaluate, make predictions.`\n",
    "\n",
    "`There are two ways to create a Sequential model. Let's take a look at each of them.`"
   ],
   "cell_type": "markdown",
   "metadata": {}
  },
  {
   "source": [
    "### Using Sequential model\n",
    "\n",
    "`Firstly, you can pass a list of layer instances to the constructor, as in the following example.For now, we will just explain enough to allow you to understand what is happening here.`\n",
    "\n",
    "`Acquire the data. MNIST is a dataset of hand-drawn numerals, each on a 28 x 28 pixel grid. Every individual data point is an unsigned 8-bit integer (uint8), as are the labels:`"
   ],
   "cell_type": "markdown",
   "metadata": {}
  },
  {
   "source": [
    "### Working on mnist dataset - \n",
    "\n",
    "* This dataset contains handwritten digits. \n",
    "* It has 10 classes i.e. 0 to 9\n",
    "* Each data point is 2D array of 28x28 size.\n",
    "* Also known as hello world dataset for ANN\n",
    "\n",
    "[image source](https://en.wikipedia.org/wiki/MNIST_database#/media/File:MnistExamples.png)\n",
    "\n",
    "![](https://upload.wikimedia.org/wikipedia/commons/2/27/MnistExamples.png)"
   ],
   "cell_type": "markdown",
   "metadata": {}
  },
  {
   "source": [
    "#### Loading the datset"
   ],
   "cell_type": "markdown",
   "metadata": {}
  },
  {
   "cell_type": "code",
   "execution_count": 43,
   "metadata": {},
   "outputs": [],
   "source": [
    "# Keras has already contains mnist dataset \n",
    "# Loading mnist data using Keras\n",
    "\n",
    "mnist_data = tf.keras.datasets.mnist\n",
    "(train_xf,train_yf), (test_x, test_y) = mnist_data.load_data()"
   ]
  },
  {
   "source": [
    "#### Definning the variables"
   ],
   "cell_type": "markdown",
   "metadata": {}
  },
  {
   "cell_type": "code",
   "execution_count": 9,
   "metadata": {},
   "outputs": [
    {
     "output_type": "stream",
     "name": "stdout",
     "text": [
      "data type of X_train_full: uint8,\nshape of X_train_full: (60000, 28, 28)\n"
     ]
    }
   ],
   "source": [
    "print(f\"data type of X_train_full: {train_x.dtype},\\nshape of X_train_full: {train_x.shape}\")"
   ]
  },
  {
   "cell_type": "code",
   "execution_count": 10,
   "metadata": {},
   "outputs": [
    {
     "output_type": "execute_result",
     "data": {
      "text/plain": [
       "((60000, 28, 28), (60000,))"
      ]
     },
     "metadata": {},
     "execution_count": 10
    }
   ],
   "source": [
    "train_x.shape,train_y.shape"
   ]
  },
  {
   "cell_type": "code",
   "execution_count": 11,
   "metadata": {},
   "outputs": [
    {
     "output_type": "execute_result",
     "data": {
      "text/plain": [
       "<AxesSubplot:>"
      ]
     },
     "metadata": {},
     "execution_count": 11
    },
    {
     "output_type": "display_data",
     "data": {
      "text/plain": "<Figure size 360x360 with 2 Axes>",
      "image/svg+xml": "<?xml version=\"1.0\" encoding=\"utf-8\" standalone=\"no\"?>\r\n<!DOCTYPE svg PUBLIC \"-//W3C//DTD SVG 1.1//EN\"\r\n  \"http://www.w3.org/Graphics/SVG/1.1/DTD/svg11.dtd\">\r\n<!-- Created with matplotlib (https://matplotlib.org/) -->\r\n<svg height=\"302.878125pt\" version=\"1.1\" viewBox=\"0 0 307.905625 302.878125\" width=\"307.905625pt\" xmlns=\"http://www.w3.org/2000/svg\" xmlns:xlink=\"http://www.w3.org/1999/xlink\">\r\n <metadata>\r\n  <rdf:RDF xmlns:cc=\"http://creativecommons.org/ns#\" xmlns:dc=\"http://purl.org/dc/elements/1.1/\" xmlns:rdf=\"http://www.w3.org/1999/02/22-rdf-syntax-ns#\">\r\n   <cc:Work>\r\n    <dc:type rdf:resource=\"http://purl.org/dc/dcmitype/StillImage\"/>\r\n    <dc:date>2021-03-15T17:33:04.383204</dc:date>\r\n    <dc:format>image/svg+xml</dc:format>\r\n    <dc:creator>\r\n     <cc:Agent>\r\n      <dc:title>Matplotlib v3.3.1, https://matplotlib.org/</dc:title>\r\n     </cc:Agent>\r\n    </dc:creator>\r\n   </cc:Work>\r\n  </rdf:RDF>\r\n </metadata>\r\n <defs>\r\n  <style type=\"text/css\">*{stroke-linecap:butt;stroke-linejoin:round;}</style>\r\n </defs>\r\n <g id=\"figure_1\">\r\n  <g id=\"patch_1\">\r\n   <path d=\"M 0 302.878125 \r\nL 307.905625 302.878125 \r\nL 307.905625 0 \r\nL 0 0 \r\nz\r\n\" style=\"fill:none;\"/>\r\n  </g>\r\n  <g id=\"axes_1\">\r\n   <g id=\"patch_2\">\r\n    <path d=\"M 23.878125 279 \r\nL 247.078125 279 \r\nL 247.078125 7.2 \r\nL 23.878125 7.2 \r\nz\r\n\" style=\"fill:#ffffff;\"/>\r\n   </g>\r\n   <g id=\"QuadMesh_1\">\r\n    <path clip-path=\"url(#p0c72fe43dd)\" d=\"M 23.878125 7.2 \r\nL 31.849554 7.2 \r\nL 31.849554 16.907143 \r\nL 23.878125 16.907143 \r\nL 23.878125 7.2 \r\n\" style=\"fill:#ffffff;\"/>\r\n    <path clip-path=\"url(#p0c72fe43dd)\" d=\"M 31.849554 7.2 \r\nL 39.820982 7.2 \r\nL 39.820982 16.907143 \r\nL 31.849554 16.907143 \r\nL 31.849554 7.2 \r\n\" style=\"fill:#ffffff;\"/>\r\n    <path clip-path=\"url(#p0c72fe43dd)\" d=\"M 39.820982 7.2 \r\nL 47.792411 7.2 \r\nL 47.792411 16.907143 \r\nL 39.820982 16.907143 \r\nL 39.820982 7.2 \r\n\" style=\"fill:#ffffff;\"/>\r\n    <path clip-path=\"url(#p0c72fe43dd)\" d=\"M 47.792411 7.2 \r\nL 55.763839 7.2 \r\nL 55.763839 16.907143 \r\nL 47.792411 16.907143 \r\nL 47.792411 7.2 \r\n\" style=\"fill:#ffffff;\"/>\r\n    <path clip-path=\"url(#p0c72fe43dd)\" d=\"M 55.763839 7.2 \r\nL 63.735268 7.2 \r\nL 63.735268 16.907143 \r\nL 55.763839 16.907143 \r\nL 55.763839 7.2 \r\n\" style=\"fill:#ffffff;\"/>\r\n    <path clip-path=\"url(#p0c72fe43dd)\" d=\"M 63.735268 7.2 \r\nL 71.706696 7.2 \r\nL 71.706696 16.907143 \r\nL 63.735268 16.907143 \r\nL 63.735268 7.2 \r\n\" style=\"fill:#ffffff;\"/>\r\n    <path clip-path=\"url(#p0c72fe43dd)\" d=\"M 71.706696 7.2 \r\nL 79.678125 7.2 \r\nL 79.678125 16.907143 \r\nL 71.706696 16.907143 \r\nL 71.706696 7.2 \r\n\" style=\"fill:#ffffff;\"/>\r\n    <path clip-path=\"url(#p0c72fe43dd)\" d=\"M 79.678125 7.2 \r\nL 87.649554 7.2 \r\nL 87.649554 16.907143 \r\nL 79.678125 16.907143 \r\nL 79.678125 7.2 \r\n\" style=\"fill:#ffffff;\"/>\r\n    <path clip-path=\"url(#p0c72fe43dd)\" d=\"M 87.649554 7.2 \r\nL 95.620982 7.2 \r\nL 95.620982 16.907143 \r\nL 87.649554 16.907143 \r\nL 87.649554 7.2 \r\n\" style=\"fill:#ffffff;\"/>\r\n    <path clip-path=\"url(#p0c72fe43dd)\" d=\"M 95.620982 7.2 \r\nL 103.592411 7.2 \r\nL 103.592411 16.907143 \r\nL 95.620982 16.907143 \r\nL 95.620982 7.2 \r\n\" style=\"fill:#ffffff;\"/>\r\n    <path clip-path=\"url(#p0c72fe43dd)\" d=\"M 103.592411 7.2 \r\nL 111.563839 7.2 \r\nL 111.563839 16.907143 \r\nL 103.592411 16.907143 \r\nL 103.592411 7.2 \r\n\" style=\"fill:#ffffff;\"/>\r\n    <path clip-path=\"url(#p0c72fe43dd)\" d=\"M 111.563839 7.2 \r\nL 119.535268 7.2 \r\nL 119.535268 16.907143 \r\nL 111.563839 16.907143 \r\nL 111.563839 7.2 \r\n\" style=\"fill:#ffffff;\"/>\r\n    <path clip-path=\"url(#p0c72fe43dd)\" d=\"M 119.535268 7.2 \r\nL 127.506696 7.2 \r\nL 127.506696 16.907143 \r\nL 119.535268 16.907143 \r\nL 119.535268 7.2 \r\n\" style=\"fill:#ffffff;\"/>\r\n    <path clip-path=\"url(#p0c72fe43dd)\" d=\"M 127.506696 7.2 \r\nL 135.478125 7.2 \r\nL 135.478125 16.907143 \r\nL 127.506696 16.907143 \r\nL 127.506696 7.2 \r\n\" style=\"fill:#ffffff;\"/>\r\n    <path clip-path=\"url(#p0c72fe43dd)\" d=\"M 135.478125 7.2 \r\nL 143.449554 7.2 \r\nL 143.449554 16.907143 \r\nL 135.478125 16.907143 \r\nL 135.478125 7.2 \r\n\" style=\"fill:#ffffff;\"/>\r\n    <path clip-path=\"url(#p0c72fe43dd)\" d=\"M 143.449554 7.2 \r\nL 151.420982 7.2 \r\nL 151.420982 16.907143 \r\nL 143.449554 16.907143 \r\nL 143.449554 7.2 \r\n\" style=\"fill:#ffffff;\"/>\r\n    <path clip-path=\"url(#p0c72fe43dd)\" d=\"M 151.420982 7.2 \r\nL 159.392411 7.2 \r\nL 159.392411 16.907143 \r\nL 151.420982 16.907143 \r\nL 151.420982 7.2 \r\n\" style=\"fill:#ffffff;\"/>\r\n    <path clip-path=\"url(#p0c72fe43dd)\" d=\"M 159.392411 7.2 \r\nL 167.363839 7.2 \r\nL 167.363839 16.907143 \r\nL 159.392411 16.907143 \r\nL 159.392411 7.2 \r\n\" style=\"fill:#ffffff;\"/>\r\n    <path clip-path=\"url(#p0c72fe43dd)\" d=\"M 167.363839 7.2 \r\nL 175.335268 7.2 \r\nL 175.335268 16.907143 \r\nL 167.363839 16.907143 \r\nL 167.363839 7.2 \r\n\" style=\"fill:#ffffff;\"/>\r\n    <path clip-path=\"url(#p0c72fe43dd)\" d=\"M 175.335268 7.2 \r\nL 183.306696 7.2 \r\nL 183.306696 16.907143 \r\nL 175.335268 16.907143 \r\nL 175.335268 7.2 \r\n\" style=\"fill:#ffffff;\"/>\r\n    <path clip-path=\"url(#p0c72fe43dd)\" d=\"M 183.306696 7.2 \r\nL 191.278125 7.2 \r\nL 191.278125 16.907143 \r\nL 183.306696 16.907143 \r\nL 183.306696 7.2 \r\n\" style=\"fill:#ffffff;\"/>\r\n    <path clip-path=\"url(#p0c72fe43dd)\" d=\"M 191.278125 7.2 \r\nL 199.249554 7.2 \r\nL 199.249554 16.907143 \r\nL 191.278125 16.907143 \r\nL 191.278125 7.2 \r\n\" style=\"fill:#ffffff;\"/>\r\n    <path clip-path=\"url(#p0c72fe43dd)\" d=\"M 199.249554 7.2 \r\nL 207.220982 7.2 \r\nL 207.220982 16.907143 \r\nL 199.249554 16.907143 \r\nL 199.249554 7.2 \r\n\" style=\"fill:#ffffff;\"/>\r\n    <path clip-path=\"url(#p0c72fe43dd)\" d=\"M 207.220982 7.2 \r\nL 215.192411 7.2 \r\nL 215.192411 16.907143 \r\nL 207.220982 16.907143 \r\nL 207.220982 7.2 \r\n\" style=\"fill:#ffffff;\"/>\r\n    <path clip-path=\"url(#p0c72fe43dd)\" d=\"M 215.192411 7.2 \r\nL 223.163839 7.2 \r\nL 223.163839 16.907143 \r\nL 215.192411 16.907143 \r\nL 215.192411 7.2 \r\n\" style=\"fill:#ffffff;\"/>\r\n    <path clip-path=\"url(#p0c72fe43dd)\" d=\"M 223.163839 7.2 \r\nL 231.135268 7.2 \r\nL 231.135268 16.907143 \r\nL 223.163839 16.907143 \r\nL 223.163839 7.2 \r\n\" style=\"fill:#ffffff;\"/>\r\n    <path clip-path=\"url(#p0c72fe43dd)\" d=\"M 231.135268 7.2 \r\nL 239.106696 7.2 \r\nL 239.106696 16.907143 \r\nL 231.135268 16.907143 \r\nL 231.135268 7.2 \r\n\" style=\"fill:#ffffff;\"/>\r\n    <path clip-path=\"url(#p0c72fe43dd)\" d=\"M 239.106696 7.2 \r\nL 247.078125 7.2 \r\nL 247.078125 16.907143 \r\nL 239.106696 16.907143 \r\nL 239.106696 7.2 \r\n\" style=\"fill:#ffffff;\"/>\r\n    <path clip-path=\"url(#p0c72fe43dd)\" d=\"M 23.878125 16.907143 \r\nL 31.849554 16.907143 \r\nL 31.849554 26.614286 \r\nL 23.878125 26.614286 \r\nL 23.878125 16.907143 \r\n\" style=\"fill:#ffffff;\"/>\r\n    <path clip-path=\"url(#p0c72fe43dd)\" d=\"M 31.849554 16.907143 \r\nL 39.820982 16.907143 \r\nL 39.820982 26.614286 \r\nL 31.849554 26.614286 \r\nL 31.849554 16.907143 \r\n\" style=\"fill:#ffffff;\"/>\r\n    <path clip-path=\"url(#p0c72fe43dd)\" d=\"M 39.820982 16.907143 \r\nL 47.792411 16.907143 \r\nL 47.792411 26.614286 \r\nL 39.820982 26.614286 \r\nL 39.820982 16.907143 \r\n\" style=\"fill:#ffffff;\"/>\r\n    <path clip-path=\"url(#p0c72fe43dd)\" d=\"M 47.792411 16.907143 \r\nL 55.763839 16.907143 \r\nL 55.763839 26.614286 \r\nL 47.792411 26.614286 \r\nL 47.792411 16.907143 \r\n\" style=\"fill:#ffffff;\"/>\r\n    <path clip-path=\"url(#p0c72fe43dd)\" d=\"M 55.763839 16.907143 \r\nL 63.735268 16.907143 \r\nL 63.735268 26.614286 \r\nL 55.763839 26.614286 \r\nL 55.763839 16.907143 \r\n\" style=\"fill:#ffffff;\"/>\r\n    <path clip-path=\"url(#p0c72fe43dd)\" d=\"M 63.735268 16.907143 \r\nL 71.706696 16.907143 \r\nL 71.706696 26.614286 \r\nL 63.735268 26.614286 \r\nL 63.735268 16.907143 \r\n\" style=\"fill:#ffffff;\"/>\r\n    <path clip-path=\"url(#p0c72fe43dd)\" d=\"M 71.706696 16.907143 \r\nL 79.678125 16.907143 \r\nL 79.678125 26.614286 \r\nL 71.706696 26.614286 \r\nL 71.706696 16.907143 \r\n\" style=\"fill:#ffffff;\"/>\r\n    <path clip-path=\"url(#p0c72fe43dd)\" d=\"M 79.678125 16.907143 \r\nL 87.649554 16.907143 \r\nL 87.649554 26.614286 \r\nL 79.678125 26.614286 \r\nL 79.678125 16.907143 \r\n\" style=\"fill:#ffffff;\"/>\r\n    <path clip-path=\"url(#p0c72fe43dd)\" d=\"M 87.649554 16.907143 \r\nL 95.620982 16.907143 \r\nL 95.620982 26.614286 \r\nL 87.649554 26.614286 \r\nL 87.649554 16.907143 \r\n\" style=\"fill:#ffffff;\"/>\r\n    <path clip-path=\"url(#p0c72fe43dd)\" d=\"M 95.620982 16.907143 \r\nL 103.592411 16.907143 \r\nL 103.592411 26.614286 \r\nL 95.620982 26.614286 \r\nL 95.620982 16.907143 \r\n\" style=\"fill:#ffffff;\"/>\r\n    <path clip-path=\"url(#p0c72fe43dd)\" d=\"M 103.592411 16.907143 \r\nL 111.563839 16.907143 \r\nL 111.563839 26.614286 \r\nL 103.592411 26.614286 \r\nL 103.592411 16.907143 \r\n\" style=\"fill:#ffffff;\"/>\r\n    <path clip-path=\"url(#p0c72fe43dd)\" d=\"M 111.563839 16.907143 \r\nL 119.535268 16.907143 \r\nL 119.535268 26.614286 \r\nL 111.563839 26.614286 \r\nL 111.563839 16.907143 \r\n\" style=\"fill:#ffffff;\"/>\r\n    <path clip-path=\"url(#p0c72fe43dd)\" d=\"M 119.535268 16.907143 \r\nL 127.506696 16.907143 \r\nL 127.506696 26.614286 \r\nL 119.535268 26.614286 \r\nL 119.535268 16.907143 \r\n\" style=\"fill:#ffffff;\"/>\r\n    <path clip-path=\"url(#p0c72fe43dd)\" d=\"M 127.506696 16.907143 \r\nL 135.478125 16.907143 \r\nL 135.478125 26.614286 \r\nL 127.506696 26.614286 \r\nL 127.506696 16.907143 \r\n\" style=\"fill:#ffffff;\"/>\r\n    <path clip-path=\"url(#p0c72fe43dd)\" d=\"M 135.478125 16.907143 \r\nL 143.449554 16.907143 \r\nL 143.449554 26.614286 \r\nL 135.478125 26.614286 \r\nL 135.478125 16.907143 \r\n\" style=\"fill:#ffffff;\"/>\r\n    <path clip-path=\"url(#p0c72fe43dd)\" d=\"M 143.449554 16.907143 \r\nL 151.420982 16.907143 \r\nL 151.420982 26.614286 \r\nL 143.449554 26.614286 \r\nL 143.449554 16.907143 \r\n\" style=\"fill:#ffffff;\"/>\r\n    <path clip-path=\"url(#p0c72fe43dd)\" d=\"M 151.420982 16.907143 \r\nL 159.392411 16.907143 \r\nL 159.392411 26.614286 \r\nL 151.420982 26.614286 \r\nL 151.420982 16.907143 \r\n\" style=\"fill:#ffffff;\"/>\r\n    <path clip-path=\"url(#p0c72fe43dd)\" d=\"M 159.392411 16.907143 \r\nL 167.363839 16.907143 \r\nL 167.363839 26.614286 \r\nL 159.392411 26.614286 \r\nL 159.392411 16.907143 \r\n\" style=\"fill:#ffffff;\"/>\r\n    <path clip-path=\"url(#p0c72fe43dd)\" d=\"M 167.363839 16.907143 \r\nL 175.335268 16.907143 \r\nL 175.335268 26.614286 \r\nL 167.363839 26.614286 \r\nL 167.363839 16.907143 \r\n\" style=\"fill:#ffffff;\"/>\r\n    <path clip-path=\"url(#p0c72fe43dd)\" d=\"M 175.335268 16.907143 \r\nL 183.306696 16.907143 \r\nL 183.306696 26.614286 \r\nL 175.335268 26.614286 \r\nL 175.335268 16.907143 \r\n\" style=\"fill:#ffffff;\"/>\r\n    <path clip-path=\"url(#p0c72fe43dd)\" d=\"M 183.306696 16.907143 \r\nL 191.278125 16.907143 \r\nL 191.278125 26.614286 \r\nL 183.306696 26.614286 \r\nL 183.306696 16.907143 \r\n\" style=\"fill:#ffffff;\"/>\r\n    <path clip-path=\"url(#p0c72fe43dd)\" d=\"M 191.278125 16.907143 \r\nL 199.249554 16.907143 \r\nL 199.249554 26.614286 \r\nL 191.278125 26.614286 \r\nL 191.278125 16.907143 \r\n\" style=\"fill:#ffffff;\"/>\r\n    <path clip-path=\"url(#p0c72fe43dd)\" d=\"M 199.249554 16.907143 \r\nL 207.220982 16.907143 \r\nL 207.220982 26.614286 \r\nL 199.249554 26.614286 \r\nL 199.249554 16.907143 \r\n\" style=\"fill:#ffffff;\"/>\r\n    <path clip-path=\"url(#p0c72fe43dd)\" d=\"M 207.220982 16.907143 \r\nL 215.192411 16.907143 \r\nL 215.192411 26.614286 \r\nL 207.220982 26.614286 \r\nL 207.220982 16.907143 \r\n\" style=\"fill:#ffffff;\"/>\r\n    <path clip-path=\"url(#p0c72fe43dd)\" d=\"M 215.192411 16.907143 \r\nL 223.163839 16.907143 \r\nL 223.163839 26.614286 \r\nL 215.192411 26.614286 \r\nL 215.192411 16.907143 \r\n\" style=\"fill:#ffffff;\"/>\r\n    <path clip-path=\"url(#p0c72fe43dd)\" d=\"M 223.163839 16.907143 \r\nL 231.135268 16.907143 \r\nL 231.135268 26.614286 \r\nL 223.163839 26.614286 \r\nL 223.163839 16.907143 \r\n\" style=\"fill:#ffffff;\"/>\r\n    <path clip-path=\"url(#p0c72fe43dd)\" d=\"M 231.135268 16.907143 \r\nL 239.106696 16.907143 \r\nL 239.106696 26.614286 \r\nL 231.135268 26.614286 \r\nL 231.135268 16.907143 \r\n\" style=\"fill:#ffffff;\"/>\r\n    <path clip-path=\"url(#p0c72fe43dd)\" d=\"M 239.106696 16.907143 \r\nL 247.078125 16.907143 \r\nL 247.078125 26.614286 \r\nL 239.106696 26.614286 \r\nL 239.106696 16.907143 \r\n\" style=\"fill:#ffffff;\"/>\r\n    <path clip-path=\"url(#p0c72fe43dd)\" d=\"M 23.878125 26.614286 \r\nL 31.849554 26.614286 \r\nL 31.849554 36.321429 \r\nL 23.878125 36.321429 \r\nL 23.878125 26.614286 \r\n\" style=\"fill:#ffffff;\"/>\r\n    <path clip-path=\"url(#p0c72fe43dd)\" d=\"M 31.849554 26.614286 \r\nL 39.820982 26.614286 \r\nL 39.820982 36.321429 \r\nL 31.849554 36.321429 \r\nL 31.849554 26.614286 \r\n\" style=\"fill:#ffffff;\"/>\r\n    <path clip-path=\"url(#p0c72fe43dd)\" d=\"M 39.820982 26.614286 \r\nL 47.792411 26.614286 \r\nL 47.792411 36.321429 \r\nL 39.820982 36.321429 \r\nL 39.820982 26.614286 \r\n\" style=\"fill:#ffffff;\"/>\r\n    <path clip-path=\"url(#p0c72fe43dd)\" d=\"M 47.792411 26.614286 \r\nL 55.763839 26.614286 \r\nL 55.763839 36.321429 \r\nL 47.792411 36.321429 \r\nL 47.792411 26.614286 \r\n\" style=\"fill:#ffffff;\"/>\r\n    <path clip-path=\"url(#p0c72fe43dd)\" d=\"M 55.763839 26.614286 \r\nL 63.735268 26.614286 \r\nL 63.735268 36.321429 \r\nL 55.763839 36.321429 \r\nL 55.763839 26.614286 \r\n\" style=\"fill:#ffffff;\"/>\r\n    <path clip-path=\"url(#p0c72fe43dd)\" d=\"M 63.735268 26.614286 \r\nL 71.706696 26.614286 \r\nL 71.706696 36.321429 \r\nL 63.735268 36.321429 \r\nL 63.735268 26.614286 \r\n\" style=\"fill:#ffffff;\"/>\r\n    <path clip-path=\"url(#p0c72fe43dd)\" d=\"M 71.706696 26.614286 \r\nL 79.678125 26.614286 \r\nL 79.678125 36.321429 \r\nL 71.706696 36.321429 \r\nL 71.706696 26.614286 \r\n\" style=\"fill:#ffffff;\"/>\r\n    <path clip-path=\"url(#p0c72fe43dd)\" d=\"M 79.678125 26.614286 \r\nL 87.649554 26.614286 \r\nL 87.649554 36.321429 \r\nL 79.678125 36.321429 \r\nL 79.678125 26.614286 \r\n\" style=\"fill:#ffffff;\"/>\r\n    <path clip-path=\"url(#p0c72fe43dd)\" d=\"M 87.649554 26.614286 \r\nL 95.620982 26.614286 \r\nL 95.620982 36.321429 \r\nL 87.649554 36.321429 \r\nL 87.649554 26.614286 \r\n\" style=\"fill:#ffffff;\"/>\r\n    <path clip-path=\"url(#p0c72fe43dd)\" d=\"M 95.620982 26.614286 \r\nL 103.592411 26.614286 \r\nL 103.592411 36.321429 \r\nL 95.620982 36.321429 \r\nL 95.620982 26.614286 \r\n\" style=\"fill:#ffffff;\"/>\r\n    <path clip-path=\"url(#p0c72fe43dd)\" d=\"M 103.592411 26.614286 \r\nL 111.563839 26.614286 \r\nL 111.563839 36.321429 \r\nL 103.592411 36.321429 \r\nL 103.592411 26.614286 \r\n\" style=\"fill:#ffffff;\"/>\r\n    <path clip-path=\"url(#p0c72fe43dd)\" d=\"M 111.563839 26.614286 \r\nL 119.535268 26.614286 \r\nL 119.535268 36.321429 \r\nL 111.563839 36.321429 \r\nL 111.563839 26.614286 \r\n\" style=\"fill:#ffffff;\"/>\r\n    <path clip-path=\"url(#p0c72fe43dd)\" d=\"M 119.535268 26.614286 \r\nL 127.506696 26.614286 \r\nL 127.506696 36.321429 \r\nL 119.535268 36.321429 \r\nL 119.535268 26.614286 \r\n\" style=\"fill:#ffffff;\"/>\r\n    <path clip-path=\"url(#p0c72fe43dd)\" d=\"M 127.506696 26.614286 \r\nL 135.478125 26.614286 \r\nL 135.478125 36.321429 \r\nL 127.506696 36.321429 \r\nL 127.506696 26.614286 \r\n\" style=\"fill:#ffffff;\"/>\r\n    <path clip-path=\"url(#p0c72fe43dd)\" d=\"M 135.478125 26.614286 \r\nL 143.449554 26.614286 \r\nL 143.449554 36.321429 \r\nL 135.478125 36.321429 \r\nL 135.478125 26.614286 \r\n\" style=\"fill:#ffffff;\"/>\r\n    <path clip-path=\"url(#p0c72fe43dd)\" d=\"M 143.449554 26.614286 \r\nL 151.420982 26.614286 \r\nL 151.420982 36.321429 \r\nL 143.449554 36.321429 \r\nL 143.449554 26.614286 \r\n\" style=\"fill:#ffffff;\"/>\r\n    <path clip-path=\"url(#p0c72fe43dd)\" d=\"M 151.420982 26.614286 \r\nL 159.392411 26.614286 \r\nL 159.392411 36.321429 \r\nL 151.420982 36.321429 \r\nL 151.420982 26.614286 \r\n\" style=\"fill:#ffffff;\"/>\r\n    <path clip-path=\"url(#p0c72fe43dd)\" d=\"M 159.392411 26.614286 \r\nL 167.363839 26.614286 \r\nL 167.363839 36.321429 \r\nL 159.392411 36.321429 \r\nL 159.392411 26.614286 \r\n\" style=\"fill:#ffffff;\"/>\r\n    <path clip-path=\"url(#p0c72fe43dd)\" d=\"M 167.363839 26.614286 \r\nL 175.335268 26.614286 \r\nL 175.335268 36.321429 \r\nL 167.363839 36.321429 \r\nL 167.363839 26.614286 \r\n\" style=\"fill:#ffffff;\"/>\r\n    <path clip-path=\"url(#p0c72fe43dd)\" d=\"M 175.335268 26.614286 \r\nL 183.306696 26.614286 \r\nL 183.306696 36.321429 \r\nL 175.335268 36.321429 \r\nL 175.335268 26.614286 \r\n\" style=\"fill:#ffffff;\"/>\r\n    <path clip-path=\"url(#p0c72fe43dd)\" d=\"M 183.306696 26.614286 \r\nL 191.278125 26.614286 \r\nL 191.278125 36.321429 \r\nL 183.306696 36.321429 \r\nL 183.306696 26.614286 \r\n\" style=\"fill:#ffffff;\"/>\r\n    <path clip-path=\"url(#p0c72fe43dd)\" d=\"M 191.278125 26.614286 \r\nL 199.249554 26.614286 \r\nL 199.249554 36.321429 \r\nL 191.278125 36.321429 \r\nL 191.278125 26.614286 \r\n\" style=\"fill:#ffffff;\"/>\r\n    <path clip-path=\"url(#p0c72fe43dd)\" d=\"M 199.249554 26.614286 \r\nL 207.220982 26.614286 \r\nL 207.220982 36.321429 \r\nL 199.249554 36.321429 \r\nL 199.249554 26.614286 \r\n\" style=\"fill:#ffffff;\"/>\r\n    <path clip-path=\"url(#p0c72fe43dd)\" d=\"M 207.220982 26.614286 \r\nL 215.192411 26.614286 \r\nL 215.192411 36.321429 \r\nL 207.220982 36.321429 \r\nL 207.220982 26.614286 \r\n\" style=\"fill:#ffffff;\"/>\r\n    <path clip-path=\"url(#p0c72fe43dd)\" d=\"M 215.192411 26.614286 \r\nL 223.163839 26.614286 \r\nL 223.163839 36.321429 \r\nL 215.192411 36.321429 \r\nL 215.192411 26.614286 \r\n\" style=\"fill:#ffffff;\"/>\r\n    <path clip-path=\"url(#p0c72fe43dd)\" d=\"M 223.163839 26.614286 \r\nL 231.135268 26.614286 \r\nL 231.135268 36.321429 \r\nL 223.163839 36.321429 \r\nL 223.163839 26.614286 \r\n\" style=\"fill:#ffffff;\"/>\r\n    <path clip-path=\"url(#p0c72fe43dd)\" d=\"M 231.135268 26.614286 \r\nL 239.106696 26.614286 \r\nL 239.106696 36.321429 \r\nL 231.135268 36.321429 \r\nL 231.135268 26.614286 \r\n\" style=\"fill:#ffffff;\"/>\r\n    <path clip-path=\"url(#p0c72fe43dd)\" d=\"M 239.106696 26.614286 \r\nL 247.078125 26.614286 \r\nL 247.078125 36.321429 \r\nL 239.106696 36.321429 \r\nL 239.106696 26.614286 \r\n\" style=\"fill:#ffffff;\"/>\r\n    <path clip-path=\"url(#p0c72fe43dd)\" d=\"M 23.878125 36.321429 \r\nL 31.849554 36.321429 \r\nL 31.849554 46.028571 \r\nL 23.878125 46.028571 \r\nL 23.878125 36.321429 \r\n\" style=\"fill:#ffffff;\"/>\r\n    <path clip-path=\"url(#p0c72fe43dd)\" d=\"M 31.849554 36.321429 \r\nL 39.820982 36.321429 \r\nL 39.820982 46.028571 \r\nL 31.849554 46.028571 \r\nL 31.849554 36.321429 \r\n\" style=\"fill:#ffffff;\"/>\r\n    <path clip-path=\"url(#p0c72fe43dd)\" d=\"M 39.820982 36.321429 \r\nL 47.792411 36.321429 \r\nL 47.792411 46.028571 \r\nL 39.820982 46.028571 \r\nL 39.820982 36.321429 \r\n\" style=\"fill:#ffffff;\"/>\r\n    <path clip-path=\"url(#p0c72fe43dd)\" d=\"M 47.792411 36.321429 \r\nL 55.763839 36.321429 \r\nL 55.763839 46.028571 \r\nL 47.792411 46.028571 \r\nL 47.792411 36.321429 \r\n\" style=\"fill:#ffffff;\"/>\r\n    <path clip-path=\"url(#p0c72fe43dd)\" d=\"M 55.763839 36.321429 \r\nL 63.735268 36.321429 \r\nL 63.735268 46.028571 \r\nL 55.763839 46.028571 \r\nL 55.763839 36.321429 \r\n\" style=\"fill:#ffffff;\"/>\r\n    <path clip-path=\"url(#p0c72fe43dd)\" d=\"M 63.735268 36.321429 \r\nL 71.706696 36.321429 \r\nL 71.706696 46.028571 \r\nL 63.735268 46.028571 \r\nL 63.735268 36.321429 \r\n\" style=\"fill:#ffffff;\"/>\r\n    <path clip-path=\"url(#p0c72fe43dd)\" d=\"M 71.706696 36.321429 \r\nL 79.678125 36.321429 \r\nL 79.678125 46.028571 \r\nL 71.706696 46.028571 \r\nL 71.706696 36.321429 \r\n\" style=\"fill:#ffffff;\"/>\r\n    <path clip-path=\"url(#p0c72fe43dd)\" d=\"M 79.678125 36.321429 \r\nL 87.649554 36.321429 \r\nL 87.649554 46.028571 \r\nL 79.678125 46.028571 \r\nL 79.678125 36.321429 \r\n\" style=\"fill:#ffffff;\"/>\r\n    <path clip-path=\"url(#p0c72fe43dd)\" d=\"M 87.649554 36.321429 \r\nL 95.620982 36.321429 \r\nL 95.620982 46.028571 \r\nL 87.649554 46.028571 \r\nL 87.649554 36.321429 \r\n\" style=\"fill:#ffffff;\"/>\r\n    <path clip-path=\"url(#p0c72fe43dd)\" d=\"M 95.620982 36.321429 \r\nL 103.592411 36.321429 \r\nL 103.592411 46.028571 \r\nL 95.620982 46.028571 \r\nL 95.620982 36.321429 \r\n\" style=\"fill:#ffffff;\"/>\r\n    <path clip-path=\"url(#p0c72fe43dd)\" d=\"M 103.592411 36.321429 \r\nL 111.563839 36.321429 \r\nL 111.563839 46.028571 \r\nL 103.592411 46.028571 \r\nL 103.592411 36.321429 \r\n\" style=\"fill:#ffffff;\"/>\r\n    <path clip-path=\"url(#p0c72fe43dd)\" d=\"M 111.563839 36.321429 \r\nL 119.535268 36.321429 \r\nL 119.535268 46.028571 \r\nL 111.563839 46.028571 \r\nL 111.563839 36.321429 \r\n\" style=\"fill:#ffffff;\"/>\r\n    <path clip-path=\"url(#p0c72fe43dd)\" d=\"M 119.535268 36.321429 \r\nL 127.506696 36.321429 \r\nL 127.506696 46.028571 \r\nL 119.535268 46.028571 \r\nL 119.535268 36.321429 \r\n\" style=\"fill:#ffffff;\"/>\r\n    <path clip-path=\"url(#p0c72fe43dd)\" d=\"M 127.506696 36.321429 \r\nL 135.478125 36.321429 \r\nL 135.478125 46.028571 \r\nL 127.506696 46.028571 \r\nL 127.506696 36.321429 \r\n\" style=\"fill:#ffffff;\"/>\r\n    <path clip-path=\"url(#p0c72fe43dd)\" d=\"M 135.478125 36.321429 \r\nL 143.449554 36.321429 \r\nL 143.449554 46.028571 \r\nL 135.478125 46.028571 \r\nL 135.478125 36.321429 \r\n\" style=\"fill:#ffffff;\"/>\r\n    <path clip-path=\"url(#p0c72fe43dd)\" d=\"M 143.449554 36.321429 \r\nL 151.420982 36.321429 \r\nL 151.420982 46.028571 \r\nL 143.449554 46.028571 \r\nL 143.449554 36.321429 \r\n\" style=\"fill:#ffffff;\"/>\r\n    <path clip-path=\"url(#p0c72fe43dd)\" d=\"M 151.420982 36.321429 \r\nL 159.392411 36.321429 \r\nL 159.392411 46.028571 \r\nL 151.420982 46.028571 \r\nL 151.420982 36.321429 \r\n\" style=\"fill:#ffffff;\"/>\r\n    <path clip-path=\"url(#p0c72fe43dd)\" d=\"M 159.392411 36.321429 \r\nL 167.363839 36.321429 \r\nL 167.363839 46.028571 \r\nL 159.392411 46.028571 \r\nL 159.392411 36.321429 \r\n\" style=\"fill:#ffffff;\"/>\r\n    <path clip-path=\"url(#p0c72fe43dd)\" d=\"M 167.363839 36.321429 \r\nL 175.335268 36.321429 \r\nL 175.335268 46.028571 \r\nL 167.363839 46.028571 \r\nL 167.363839 36.321429 \r\n\" style=\"fill:#ffffff;\"/>\r\n    <path clip-path=\"url(#p0c72fe43dd)\" d=\"M 175.335268 36.321429 \r\nL 183.306696 36.321429 \r\nL 183.306696 46.028571 \r\nL 175.335268 46.028571 \r\nL 175.335268 36.321429 \r\n\" style=\"fill:#ffffff;\"/>\r\n    <path clip-path=\"url(#p0c72fe43dd)\" d=\"M 183.306696 36.321429 \r\nL 191.278125 36.321429 \r\nL 191.278125 46.028571 \r\nL 183.306696 46.028571 \r\nL 183.306696 36.321429 \r\n\" style=\"fill:#ffffff;\"/>\r\n    <path clip-path=\"url(#p0c72fe43dd)\" d=\"M 191.278125 36.321429 \r\nL 199.249554 36.321429 \r\nL 199.249554 46.028571 \r\nL 191.278125 46.028571 \r\nL 191.278125 36.321429 \r\n\" style=\"fill:#ffffff;\"/>\r\n    <path clip-path=\"url(#p0c72fe43dd)\" d=\"M 199.249554 36.321429 \r\nL 207.220982 36.321429 \r\nL 207.220982 46.028571 \r\nL 199.249554 46.028571 \r\nL 199.249554 36.321429 \r\n\" style=\"fill:#ffffff;\"/>\r\n    <path clip-path=\"url(#p0c72fe43dd)\" d=\"M 207.220982 36.321429 \r\nL 215.192411 36.321429 \r\nL 215.192411 46.028571 \r\nL 207.220982 46.028571 \r\nL 207.220982 36.321429 \r\n\" style=\"fill:#ffffff;\"/>\r\n    <path clip-path=\"url(#p0c72fe43dd)\" d=\"M 215.192411 36.321429 \r\nL 223.163839 36.321429 \r\nL 223.163839 46.028571 \r\nL 215.192411 46.028571 \r\nL 215.192411 36.321429 \r\n\" style=\"fill:#ffffff;\"/>\r\n    <path clip-path=\"url(#p0c72fe43dd)\" d=\"M 223.163839 36.321429 \r\nL 231.135268 36.321429 \r\nL 231.135268 46.028571 \r\nL 223.163839 46.028571 \r\nL 223.163839 36.321429 \r\n\" style=\"fill:#ffffff;\"/>\r\n    <path clip-path=\"url(#p0c72fe43dd)\" d=\"M 231.135268 36.321429 \r\nL 239.106696 36.321429 \r\nL 239.106696 46.028571 \r\nL 231.135268 46.028571 \r\nL 231.135268 36.321429 \r\n\" style=\"fill:#ffffff;\"/>\r\n    <path clip-path=\"url(#p0c72fe43dd)\" d=\"M 239.106696 36.321429 \r\nL 247.078125 36.321429 \r\nL 247.078125 46.028571 \r\nL 239.106696 46.028571 \r\nL 239.106696 36.321429 \r\n\" style=\"fill:#ffffff;\"/>\r\n    <path clip-path=\"url(#p0c72fe43dd)\" d=\"M 23.878125 46.028571 \r\nL 31.849554 46.028571 \r\nL 31.849554 55.735714 \r\nL 23.878125 55.735714 \r\nL 23.878125 46.028571 \r\n\" style=\"fill:#ffffff;\"/>\r\n    <path clip-path=\"url(#p0c72fe43dd)\" d=\"M 31.849554 46.028571 \r\nL 39.820982 46.028571 \r\nL 39.820982 55.735714 \r\nL 31.849554 55.735714 \r\nL 31.849554 46.028571 \r\n\" style=\"fill:#ffffff;\"/>\r\n    <path clip-path=\"url(#p0c72fe43dd)\" d=\"M 39.820982 46.028571 \r\nL 47.792411 46.028571 \r\nL 47.792411 55.735714 \r\nL 39.820982 55.735714 \r\nL 39.820982 46.028571 \r\n\" style=\"fill:#ffffff;\"/>\r\n    <path clip-path=\"url(#p0c72fe43dd)\" d=\"M 47.792411 46.028571 \r\nL 55.763839 46.028571 \r\nL 55.763839 55.735714 \r\nL 47.792411 55.735714 \r\nL 47.792411 46.028571 \r\n\" style=\"fill:#ffffff;\"/>\r\n    <path clip-path=\"url(#p0c72fe43dd)\" d=\"M 55.763839 46.028571 \r\nL 63.735268 46.028571 \r\nL 63.735268 55.735714 \r\nL 55.763839 55.735714 \r\nL 55.763839 46.028571 \r\n\" style=\"fill:#ffffff;\"/>\r\n    <path clip-path=\"url(#p0c72fe43dd)\" d=\"M 63.735268 46.028571 \r\nL 71.706696 46.028571 \r\nL 71.706696 55.735714 \r\nL 63.735268 55.735714 \r\nL 63.735268 46.028571 \r\n\" style=\"fill:#ffffff;\"/>\r\n    <path clip-path=\"url(#p0c72fe43dd)\" d=\"M 71.706696 46.028571 \r\nL 79.678125 46.028571 \r\nL 79.678125 55.735714 \r\nL 71.706696 55.735714 \r\nL 71.706696 46.028571 \r\n\" style=\"fill:#ffffff;\"/>\r\n    <path clip-path=\"url(#p0c72fe43dd)\" d=\"M 79.678125 46.028571 \r\nL 87.649554 46.028571 \r\nL 87.649554 55.735714 \r\nL 79.678125 55.735714 \r\nL 79.678125 46.028571 \r\n\" style=\"fill:#ffffff;\"/>\r\n    <path clip-path=\"url(#p0c72fe43dd)\" d=\"M 87.649554 46.028571 \r\nL 95.620982 46.028571 \r\nL 95.620982 55.735714 \r\nL 87.649554 55.735714 \r\nL 87.649554 46.028571 \r\n\" style=\"fill:#ffffff;\"/>\r\n    <path clip-path=\"url(#p0c72fe43dd)\" d=\"M 95.620982 46.028571 \r\nL 103.592411 46.028571 \r\nL 103.592411 55.735714 \r\nL 95.620982 55.735714 \r\nL 95.620982 46.028571 \r\n\" style=\"fill:#ffffff;\"/>\r\n    <path clip-path=\"url(#p0c72fe43dd)\" d=\"M 103.592411 46.028571 \r\nL 111.563839 46.028571 \r\nL 111.563839 55.735714 \r\nL 103.592411 55.735714 \r\nL 103.592411 46.028571 \r\n\" style=\"fill:#ffffff;\"/>\r\n    <path clip-path=\"url(#p0c72fe43dd)\" d=\"M 111.563839 46.028571 \r\nL 119.535268 46.028571 \r\nL 119.535268 55.735714 \r\nL 111.563839 55.735714 \r\nL 111.563839 46.028571 \r\n\" style=\"fill:#ffffff;\"/>\r\n    <path clip-path=\"url(#p0c72fe43dd)\" d=\"M 119.535268 46.028571 \r\nL 127.506696 46.028571 \r\nL 127.506696 55.735714 \r\nL 119.535268 55.735714 \r\nL 119.535268 46.028571 \r\n\" style=\"fill:#ffffff;\"/>\r\n    <path clip-path=\"url(#p0c72fe43dd)\" d=\"M 127.506696 46.028571 \r\nL 135.478125 46.028571 \r\nL 135.478125 55.735714 \r\nL 127.506696 55.735714 \r\nL 127.506696 46.028571 \r\n\" style=\"fill:#ffffff;\"/>\r\n    <path clip-path=\"url(#p0c72fe43dd)\" d=\"M 135.478125 46.028571 \r\nL 143.449554 46.028571 \r\nL 143.449554 55.735714 \r\nL 135.478125 55.735714 \r\nL 135.478125 46.028571 \r\n\" style=\"fill:#ffffff;\"/>\r\n    <path clip-path=\"url(#p0c72fe43dd)\" d=\"M 143.449554 46.028571 \r\nL 151.420982 46.028571 \r\nL 151.420982 55.735714 \r\nL 143.449554 55.735714 \r\nL 143.449554 46.028571 \r\n\" style=\"fill:#ffffff;\"/>\r\n    <path clip-path=\"url(#p0c72fe43dd)\" d=\"M 151.420982 46.028571 \r\nL 159.392411 46.028571 \r\nL 159.392411 55.735714 \r\nL 151.420982 55.735714 \r\nL 151.420982 46.028571 \r\n\" style=\"fill:#ffffff;\"/>\r\n    <path clip-path=\"url(#p0c72fe43dd)\" d=\"M 159.392411 46.028571 \r\nL 167.363839 46.028571 \r\nL 167.363839 55.735714 \r\nL 159.392411 55.735714 \r\nL 159.392411 46.028571 \r\n\" style=\"fill:#ffffff;\"/>\r\n    <path clip-path=\"url(#p0c72fe43dd)\" d=\"M 167.363839 46.028571 \r\nL 175.335268 46.028571 \r\nL 175.335268 55.735714 \r\nL 167.363839 55.735714 \r\nL 167.363839 46.028571 \r\n\" style=\"fill:#ffffff;\"/>\r\n    <path clip-path=\"url(#p0c72fe43dd)\" d=\"M 175.335268 46.028571 \r\nL 183.306696 46.028571 \r\nL 183.306696 55.735714 \r\nL 175.335268 55.735714 \r\nL 175.335268 46.028571 \r\n\" style=\"fill:#ffffff;\"/>\r\n    <path clip-path=\"url(#p0c72fe43dd)\" d=\"M 183.306696 46.028571 \r\nL 191.278125 46.028571 \r\nL 191.278125 55.735714 \r\nL 183.306696 55.735714 \r\nL 183.306696 46.028571 \r\n\" style=\"fill:#ffffff;\"/>\r\n    <path clip-path=\"url(#p0c72fe43dd)\" d=\"M 191.278125 46.028571 \r\nL 199.249554 46.028571 \r\nL 199.249554 55.735714 \r\nL 191.278125 55.735714 \r\nL 191.278125 46.028571 \r\n\" style=\"fill:#ffffff;\"/>\r\n    <path clip-path=\"url(#p0c72fe43dd)\" d=\"M 199.249554 46.028571 \r\nL 207.220982 46.028571 \r\nL 207.220982 55.735714 \r\nL 199.249554 55.735714 \r\nL 199.249554 46.028571 \r\n\" style=\"fill:#ffffff;\"/>\r\n    <path clip-path=\"url(#p0c72fe43dd)\" d=\"M 207.220982 46.028571 \r\nL 215.192411 46.028571 \r\nL 215.192411 55.735714 \r\nL 207.220982 55.735714 \r\nL 207.220982 46.028571 \r\n\" style=\"fill:#ffffff;\"/>\r\n    <path clip-path=\"url(#p0c72fe43dd)\" d=\"M 215.192411 46.028571 \r\nL 223.163839 46.028571 \r\nL 223.163839 55.735714 \r\nL 215.192411 55.735714 \r\nL 215.192411 46.028571 \r\n\" style=\"fill:#ffffff;\"/>\r\n    <path clip-path=\"url(#p0c72fe43dd)\" d=\"M 223.163839 46.028571 \r\nL 231.135268 46.028571 \r\nL 231.135268 55.735714 \r\nL 223.163839 55.735714 \r\nL 223.163839 46.028571 \r\n\" style=\"fill:#ffffff;\"/>\r\n    <path clip-path=\"url(#p0c72fe43dd)\" d=\"M 231.135268 46.028571 \r\nL 239.106696 46.028571 \r\nL 239.106696 55.735714 \r\nL 231.135268 55.735714 \r\nL 231.135268 46.028571 \r\n\" style=\"fill:#ffffff;\"/>\r\n    <path clip-path=\"url(#p0c72fe43dd)\" d=\"M 239.106696 46.028571 \r\nL 247.078125 46.028571 \r\nL 247.078125 55.735714 \r\nL 239.106696 55.735714 \r\nL 239.106696 46.028571 \r\n\" style=\"fill:#ffffff;\"/>\r\n    <path clip-path=\"url(#p0c72fe43dd)\" d=\"M 23.878125 55.735714 \r\nL 31.849554 55.735714 \r\nL 31.849554 65.442857 \r\nL 23.878125 65.442857 \r\nL 23.878125 55.735714 \r\n\" style=\"fill:#ffffff;\"/>\r\n    <path clip-path=\"url(#p0c72fe43dd)\" d=\"M 31.849554 55.735714 \r\nL 39.820982 55.735714 \r\nL 39.820982 65.442857 \r\nL 31.849554 65.442857 \r\nL 31.849554 55.735714 \r\n\" style=\"fill:#ffffff;\"/>\r\n    <path clip-path=\"url(#p0c72fe43dd)\" d=\"M 39.820982 55.735714 \r\nL 47.792411 55.735714 \r\nL 47.792411 65.442857 \r\nL 39.820982 65.442857 \r\nL 39.820982 55.735714 \r\n\" style=\"fill:#ffffff;\"/>\r\n    <path clip-path=\"url(#p0c72fe43dd)\" d=\"M 47.792411 55.735714 \r\nL 55.763839 55.735714 \r\nL 55.763839 65.442857 \r\nL 47.792411 65.442857 \r\nL 47.792411 55.735714 \r\n\" style=\"fill:#f3f3f3;\"/>\r\n    <path clip-path=\"url(#p0c72fe43dd)\" d=\"M 55.763839 55.735714 \r\nL 63.735268 55.735714 \r\nL 63.735268 65.442857 \r\nL 55.763839 65.442857 \r\nL 55.763839 55.735714 \r\n\" style=\"fill:#9c9c9c;\"/>\r\n    <path clip-path=\"url(#p0c72fe43dd)\" d=\"M 63.735268 55.735714 \r\nL 71.706696 55.735714 \r\nL 71.706696 65.442857 \r\nL 63.735268 65.442857 \r\nL 63.735268 55.735714 \r\n\" style=\"fill:#a4a4a4;\"/>\r\n    <path clip-path=\"url(#p0c72fe43dd)\" d=\"M 71.706696 55.735714 \r\nL 79.678125 55.735714 \r\nL 79.678125 65.442857 \r\nL 71.706696 65.442857 \r\nL 71.706696 55.735714 \r\n\" style=\"fill:#717171;\"/>\r\n    <path clip-path=\"url(#p0c72fe43dd)\" d=\"M 79.678125 55.735714 \r\nL 87.649554 55.735714 \r\nL 87.649554 65.442857 \r\nL 79.678125 65.442857 \r\nL 79.678125 55.735714 \r\n\" style=\"fill:#646464;\"/>\r\n    <path clip-path=\"url(#p0c72fe43dd)\" d=\"M 87.649554 55.735714 \r\nL 95.620982 55.735714 \r\nL 95.620982 65.442857 \r\nL 87.649554 65.442857 \r\nL 87.649554 55.735714 \r\n\" style=\"fill:#090909;\"/>\r\n    <path clip-path=\"url(#p0c72fe43dd)\" d=\"M 95.620982 55.735714 \r\nL 103.592411 55.735714 \r\nL 103.592411 65.442857 \r\nL 95.620982 65.442857 \r\nL 95.620982 55.735714 \r\n\" style=\"fill:#494949;\"/>\r\n    <path clip-path=\"url(#p0c72fe43dd)\" d=\"M 103.592411 55.735714 \r\nL 111.563839 55.735714 \r\nL 111.563839 65.442857 \r\nL 103.592411 65.442857 \r\nL 103.592411 55.735714 \r\n\" style=\"fill:#646464;\"/>\r\n    <path clip-path=\"url(#p0c72fe43dd)\" d=\"M 111.563839 55.735714 \r\nL 119.535268 55.735714 \r\nL 119.535268 65.442857 \r\nL 111.563839 65.442857 \r\nL 111.563839 55.735714 \r\n\" style=\"fill:#646464;\"/>\r\n    <path clip-path=\"url(#p0c72fe43dd)\" d=\"M 119.535268 55.735714 \r\nL 127.506696 55.735714 \r\nL 127.506696 65.442857 \r\nL 119.535268 65.442857 \r\nL 119.535268 55.735714 \r\n\" style=\"fill:#646464;\"/>\r\n    <path clip-path=\"url(#p0c72fe43dd)\" d=\"M 127.506696 55.735714 \r\nL 135.478125 55.735714 \r\nL 135.478125 65.442857 \r\nL 127.506696 65.442857 \r\nL 127.506696 55.735714 \r\n\" style=\"fill:#646464;\"/>\r\n    <path clip-path=\"url(#p0c72fe43dd)\" d=\"M 135.478125 55.735714 \r\nL 143.449554 55.735714 \r\nL 143.449554 65.442857 \r\nL 135.478125 65.442857 \r\nL 135.478125 55.735714 \r\n\" style=\"fill:#7c7c7c;\"/>\r\n    <path clip-path=\"url(#p0c72fe43dd)\" d=\"M 143.449554 55.735714 \r\nL 151.420982 55.735714 \r\nL 151.420982 65.442857 \r\nL 143.449554 65.442857 \r\nL 143.449554 55.735714 \r\n\" style=\"fill:#cbcbcb;\"/>\r\n    <path clip-path=\"url(#p0c72fe43dd)\" d=\"M 151.420982 55.735714 \r\nL 159.392411 55.735714 \r\nL 159.392411 65.442857 \r\nL 151.420982 65.442857 \r\nL 151.420982 55.735714 \r\n\" style=\"fill:#ffffff;\"/>\r\n    <path clip-path=\"url(#p0c72fe43dd)\" d=\"M 159.392411 55.735714 \r\nL 167.363839 55.735714 \r\nL 167.363839 65.442857 \r\nL 159.392411 65.442857 \r\nL 159.392411 55.735714 \r\n\" style=\"fill:#ffffff;\"/>\r\n    <path clip-path=\"url(#p0c72fe43dd)\" d=\"M 167.363839 55.735714 \r\nL 175.335268 55.735714 \r\nL 175.335268 65.442857 \r\nL 167.363839 65.442857 \r\nL 167.363839 55.735714 \r\n\" style=\"fill:#ffffff;\"/>\r\n    <path clip-path=\"url(#p0c72fe43dd)\" d=\"M 175.335268 55.735714 \r\nL 183.306696 55.735714 \r\nL 183.306696 65.442857 \r\nL 175.335268 65.442857 \r\nL 175.335268 55.735714 \r\n\" style=\"fill:#ffffff;\"/>\r\n    <path clip-path=\"url(#p0c72fe43dd)\" d=\"M 183.306696 55.735714 \r\nL 191.278125 55.735714 \r\nL 191.278125 65.442857 \r\nL 183.306696 65.442857 \r\nL 183.306696 55.735714 \r\n\" style=\"fill:#ffffff;\"/>\r\n    <path clip-path=\"url(#p0c72fe43dd)\" d=\"M 191.278125 55.735714 \r\nL 199.249554 55.735714 \r\nL 199.249554 65.442857 \r\nL 191.278125 65.442857 \r\nL 191.278125 55.735714 \r\n\" style=\"fill:#ffffff;\"/>\r\n    <path clip-path=\"url(#p0c72fe43dd)\" d=\"M 199.249554 55.735714 \r\nL 207.220982 55.735714 \r\nL 207.220982 65.442857 \r\nL 199.249554 65.442857 \r\nL 199.249554 55.735714 \r\n\" style=\"fill:#ffffff;\"/>\r\n    <path clip-path=\"url(#p0c72fe43dd)\" d=\"M 207.220982 55.735714 \r\nL 215.192411 55.735714 \r\nL 215.192411 65.442857 \r\nL 207.220982 65.442857 \r\nL 207.220982 55.735714 \r\n\" style=\"fill:#ffffff;\"/>\r\n    <path clip-path=\"url(#p0c72fe43dd)\" d=\"M 215.192411 55.735714 \r\nL 223.163839 55.735714 \r\nL 223.163839 65.442857 \r\nL 215.192411 65.442857 \r\nL 215.192411 55.735714 \r\n\" style=\"fill:#ffffff;\"/>\r\n    <path clip-path=\"url(#p0c72fe43dd)\" d=\"M 223.163839 55.735714 \r\nL 231.135268 55.735714 \r\nL 231.135268 65.442857 \r\nL 223.163839 65.442857 \r\nL 223.163839 55.735714 \r\n\" style=\"fill:#ffffff;\"/>\r\n    <path clip-path=\"url(#p0c72fe43dd)\" d=\"M 231.135268 55.735714 \r\nL 239.106696 55.735714 \r\nL 239.106696 65.442857 \r\nL 231.135268 65.442857 \r\nL 231.135268 55.735714 \r\n\" style=\"fill:#ffffff;\"/>\r\n    <path clip-path=\"url(#p0c72fe43dd)\" d=\"M 239.106696 55.735714 \r\nL 247.078125 55.735714 \r\nL 247.078125 65.442857 \r\nL 239.106696 65.442857 \r\nL 239.106696 55.735714 \r\n\" style=\"fill:#ffffff;\"/>\r\n    <path clip-path=\"url(#p0c72fe43dd)\" d=\"M 23.878125 65.442857 \r\nL 31.849554 65.442857 \r\nL 31.849554 75.15 \r\nL 23.878125 75.15 \r\nL 23.878125 65.442857 \r\n\" style=\"fill:#ffffff;\"/>\r\n    <path clip-path=\"url(#p0c72fe43dd)\" d=\"M 31.849554 65.442857 \r\nL 39.820982 65.442857 \r\nL 39.820982 75.15 \r\nL 31.849554 75.15 \r\nL 31.849554 65.442857 \r\n\" style=\"fill:#ffffff;\"/>\r\n    <path clip-path=\"url(#p0c72fe43dd)\" d=\"M 39.820982 65.442857 \r\nL 47.792411 65.442857 \r\nL 47.792411 75.15 \r\nL 39.820982 75.15 \r\nL 39.820982 65.442857 \r\n\" style=\"fill:#ffffff;\"/>\r\n    <path clip-path=\"url(#p0c72fe43dd)\" d=\"M 47.792411 65.442857 \r\nL 55.763839 65.442857 \r\nL 55.763839 75.15 \r\nL 47.792411 75.15 \r\nL 47.792411 65.442857 \r\n\" style=\"fill:#757575;\"/>\r\n    <path clip-path=\"url(#p0c72fe43dd)\" d=\"M 55.763839 65.442857 \r\nL 63.735268 65.442857 \r\nL 63.735268 75.15 \r\nL 55.763839 75.15 \r\nL 55.763839 65.442857 \r\n\" style=\"fill:#010101;\"/>\r\n    <path clip-path=\"url(#p0c72fe43dd)\" d=\"M 63.735268 65.442857 \r\nL 71.706696 65.442857 \r\nL 71.706696 75.15 \r\nL 63.735268 75.15 \r\nL 63.735268 65.442857 \r\n\" style=\"fill:#010101;\"/>\r\n    <path clip-path=\"url(#p0c72fe43dd)\" d=\"M 71.706696 65.442857 \r\nL 79.678125 65.442857 \r\nL 79.678125 75.15 \r\nL 71.706696 75.15 \r\nL 71.706696 65.442857 \r\n\" style=\"fill:#010101;\"/>\r\n    <path clip-path=\"url(#p0c72fe43dd)\" d=\"M 79.678125 65.442857 \r\nL 87.649554 65.442857 \r\nL 87.649554 75.15 \r\nL 79.678125 75.15 \r\nL 79.678125 65.442857 \r\n\" style=\"fill:#010101;\"/>\r\n    <path clip-path=\"url(#p0c72fe43dd)\" d=\"M 87.649554 65.442857 \r\nL 95.620982 65.442857 \r\nL 95.620982 75.15 \r\nL 87.649554 75.15 \r\nL 87.649554 65.442857 \r\n\" style=\"fill:#010101;\"/>\r\n    <path clip-path=\"url(#p0c72fe43dd)\" d=\"M 95.620982 65.442857 \r\nL 103.592411 65.442857 \r\nL 103.592411 75.15 \r\nL 95.620982 75.15 \r\nL 95.620982 65.442857 \r\n\" style=\"fill:#010101;\"/>\r\n    <path clip-path=\"url(#p0c72fe43dd)\" d=\"M 103.592411 65.442857 \r\nL 111.563839 65.442857 \r\nL 111.563839 75.15 \r\nL 103.592411 75.15 \r\nL 103.592411 65.442857 \r\n\" style=\"fill:#010101;\"/>\r\n    <path clip-path=\"url(#p0c72fe43dd)\" d=\"M 111.563839 65.442857 \r\nL 119.535268 65.442857 \r\nL 119.535268 75.15 \r\nL 111.563839 75.15 \r\nL 111.563839 65.442857 \r\n\" style=\"fill:#010101;\"/>\r\n    <path clip-path=\"url(#p0c72fe43dd)\" d=\"M 119.535268 65.442857 \r\nL 127.506696 65.442857 \r\nL 127.506696 75.15 \r\nL 119.535268 75.15 \r\nL 119.535268 65.442857 \r\n\" style=\"fill:#010101;\"/>\r\n    <path clip-path=\"url(#p0c72fe43dd)\" d=\"M 127.506696 65.442857 \r\nL 135.478125 65.442857 \r\nL 135.478125 75.15 \r\nL 127.506696 75.15 \r\nL 127.506696 65.442857 \r\n\" style=\"fill:#010101;\"/>\r\n    <path clip-path=\"url(#p0c72fe43dd)\" d=\"M 135.478125 65.442857 \r\nL 143.449554 65.442857 \r\nL 143.449554 75.15 \r\nL 135.478125 75.15 \r\nL 135.478125 65.442857 \r\n\" style=\"fill:#010101;\"/>\r\n    <path clip-path=\"url(#p0c72fe43dd)\" d=\"M 143.449554 65.442857 \r\nL 151.420982 65.442857 \r\nL 151.420982 75.15 \r\nL 143.449554 75.15 \r\nL 143.449554 65.442857 \r\n\" style=\"fill:#030303;\"/>\r\n    <path clip-path=\"url(#p0c72fe43dd)\" d=\"M 151.420982 65.442857 \r\nL 159.392411 65.442857 \r\nL 159.392411 75.15 \r\nL 151.420982 75.15 \r\nL 151.420982 65.442857 \r\n\" style=\"fill:#2d2d2d;\"/>\r\n    <path clip-path=\"url(#p0c72fe43dd)\" d=\"M 159.392411 65.442857 \r\nL 167.363839 65.442857 \r\nL 167.363839 75.15 \r\nL 159.392411 75.15 \r\nL 159.392411 65.442857 \r\n\" style=\"fill:#858585;\"/>\r\n    <path clip-path=\"url(#p0c72fe43dd)\" d=\"M 167.363839 65.442857 \r\nL 175.335268 65.442857 \r\nL 175.335268 75.15 \r\nL 167.363839 75.15 \r\nL 167.363839 65.442857 \r\n\" style=\"fill:#dedede;\"/>\r\n    <path clip-path=\"url(#p0c72fe43dd)\" d=\"M 175.335268 65.442857 \r\nL 183.306696 65.442857 \r\nL 183.306696 75.15 \r\nL 175.335268 75.15 \r\nL 175.335268 65.442857 \r\n\" style=\"fill:#ffffff;\"/>\r\n    <path clip-path=\"url(#p0c72fe43dd)\" d=\"M 183.306696 65.442857 \r\nL 191.278125 65.442857 \r\nL 191.278125 75.15 \r\nL 183.306696 75.15 \r\nL 183.306696 65.442857 \r\n\" style=\"fill:#ffffff;\"/>\r\n    <path clip-path=\"url(#p0c72fe43dd)\" d=\"M 191.278125 65.442857 \r\nL 199.249554 65.442857 \r\nL 199.249554 75.15 \r\nL 191.278125 75.15 \r\nL 191.278125 65.442857 \r\n\" style=\"fill:#ffffff;\"/>\r\n    <path clip-path=\"url(#p0c72fe43dd)\" d=\"M 199.249554 65.442857 \r\nL 207.220982 65.442857 \r\nL 207.220982 75.15 \r\nL 199.249554 75.15 \r\nL 199.249554 65.442857 \r\n\" style=\"fill:#ffffff;\"/>\r\n    <path clip-path=\"url(#p0c72fe43dd)\" d=\"M 207.220982 65.442857 \r\nL 215.192411 65.442857 \r\nL 215.192411 75.15 \r\nL 207.220982 75.15 \r\nL 207.220982 65.442857 \r\n\" style=\"fill:#ffffff;\"/>\r\n    <path clip-path=\"url(#p0c72fe43dd)\" d=\"M 215.192411 65.442857 \r\nL 223.163839 65.442857 \r\nL 223.163839 75.15 \r\nL 215.192411 75.15 \r\nL 215.192411 65.442857 \r\n\" style=\"fill:#ffffff;\"/>\r\n    <path clip-path=\"url(#p0c72fe43dd)\" d=\"M 223.163839 65.442857 \r\nL 231.135268 65.442857 \r\nL 231.135268 75.15 \r\nL 223.163839 75.15 \r\nL 223.163839 65.442857 \r\n\" style=\"fill:#ffffff;\"/>\r\n    <path clip-path=\"url(#p0c72fe43dd)\" d=\"M 231.135268 65.442857 \r\nL 239.106696 65.442857 \r\nL 239.106696 75.15 \r\nL 231.135268 75.15 \r\nL 231.135268 65.442857 \r\n\" style=\"fill:#ffffff;\"/>\r\n    <path clip-path=\"url(#p0c72fe43dd)\" d=\"M 239.106696 65.442857 \r\nL 247.078125 65.442857 \r\nL 247.078125 75.15 \r\nL 239.106696 75.15 \r\nL 239.106696 65.442857 \r\n\" style=\"fill:#ffffff;\"/>\r\n    <path clip-path=\"url(#p0c72fe43dd)\" d=\"M 23.878125 75.15 \r\nL 31.849554 75.15 \r\nL 31.849554 84.857143 \r\nL 23.878125 84.857143 \r\nL 23.878125 75.15 \r\n\" style=\"fill:#ffffff;\"/>\r\n    <path clip-path=\"url(#p0c72fe43dd)\" d=\"M 31.849554 75.15 \r\nL 39.820982 75.15 \r\nL 39.820982 84.857143 \r\nL 31.849554 84.857143 \r\nL 31.849554 75.15 \r\n\" style=\"fill:#ffffff;\"/>\r\n    <path clip-path=\"url(#p0c72fe43dd)\" d=\"M 39.820982 75.15 \r\nL 47.792411 75.15 \r\nL 47.792411 84.857143 \r\nL 39.820982 84.857143 \r\nL 39.820982 75.15 \r\n\" style=\"fill:#ffffff;\"/>\r\n    <path clip-path=\"url(#p0c72fe43dd)\" d=\"M 47.792411 75.15 \r\nL 55.763839 75.15 \r\nL 55.763839 84.857143 \r\nL 47.792411 84.857143 \r\nL 47.792411 75.15 \r\n\" style=\"fill:#232323;\"/>\r\n    <path clip-path=\"url(#p0c72fe43dd)\" d=\"M 55.763839 75.15 \r\nL 63.735268 75.15 \r\nL 63.735268 84.857143 \r\nL 55.763839 84.857143 \r\nL 55.763839 75.15 \r\n\" style=\"fill:#010101;\"/>\r\n    <path clip-path=\"url(#p0c72fe43dd)\" d=\"M 63.735268 75.15 \r\nL 71.706696 75.15 \r\nL 71.706696 84.857143 \r\nL 63.735268 84.857143 \r\nL 63.735268 75.15 \r\n\" style=\"fill:#010101;\"/>\r\n    <path clip-path=\"url(#p0c72fe43dd)\" d=\"M 71.706696 75.15 \r\nL 79.678125 75.15 \r\nL 79.678125 84.857143 \r\nL 71.706696 84.857143 \r\nL 71.706696 75.15 \r\n\" style=\"fill:#010101;\"/>\r\n    <path clip-path=\"url(#p0c72fe43dd)\" d=\"M 79.678125 75.15 \r\nL 87.649554 75.15 \r\nL 87.649554 84.857143 \r\nL 79.678125 84.857143 \r\nL 79.678125 75.15 \r\n\" style=\"fill:#141414;\"/>\r\n    <path clip-path=\"url(#p0c72fe43dd)\" d=\"M 87.649554 75.15 \r\nL 95.620982 75.15 \r\nL 95.620982 84.857143 \r\nL 87.649554 84.857143 \r\nL 87.649554 75.15 \r\n\" style=\"fill:#424242;\"/>\r\n    <path clip-path=\"url(#p0c72fe43dd)\" d=\"M 95.620982 75.15 \r\nL 103.592411 75.15 \r\nL 103.592411 84.857143 \r\nL 95.620982 84.857143 \r\nL 95.620982 75.15 \r\n\" style=\"fill:#424242;\"/>\r\n    <path clip-path=\"url(#p0c72fe43dd)\" d=\"M 103.592411 75.15 \r\nL 111.563839 75.15 \r\nL 111.563839 84.857143 \r\nL 103.592411 84.857143 \r\nL 103.592411 75.15 \r\n\" style=\"fill:#424242;\"/>\r\n    <path clip-path=\"url(#p0c72fe43dd)\" d=\"M 111.563839 75.15 \r\nL 119.535268 75.15 \r\nL 119.535268 84.857143 \r\nL 111.563839 84.857143 \r\nL 111.563839 75.15 \r\n\" style=\"fill:#424242;\"/>\r\n    <path clip-path=\"url(#p0c72fe43dd)\" d=\"M 119.535268 75.15 \r\nL 127.506696 75.15 \r\nL 127.506696 84.857143 \r\nL 119.535268 84.857143 \r\nL 119.535268 75.15 \r\n\" style=\"fill:#696969;\"/>\r\n    <path clip-path=\"url(#p0c72fe43dd)\" d=\"M 127.506696 75.15 \r\nL 135.478125 75.15 \r\nL 135.478125 84.857143 \r\nL 127.506696 84.857143 \r\nL 127.506696 75.15 \r\n\" style=\"fill:#424242;\"/>\r\n    <path clip-path=\"url(#p0c72fe43dd)\" d=\"M 135.478125 75.15 \r\nL 143.449554 75.15 \r\nL 143.449554 84.857143 \r\nL 135.478125 84.857143 \r\nL 135.478125 75.15 \r\n\" style=\"fill:#323232;\"/>\r\n    <path clip-path=\"url(#p0c72fe43dd)\" d=\"M 143.449554 75.15 \r\nL 151.420982 75.15 \r\nL 151.420982 84.857143 \r\nL 143.449554 84.857143 \r\nL 143.449554 75.15 \r\n\" style=\"fill:#010101;\"/>\r\n    <path clip-path=\"url(#p0c72fe43dd)\" d=\"M 151.420982 75.15 \r\nL 159.392411 75.15 \r\nL 159.392411 84.857143 \r\nL 151.420982 84.857143 \r\nL 151.420982 75.15 \r\n\" style=\"fill:#010101;\"/>\r\n    <path clip-path=\"url(#p0c72fe43dd)\" d=\"M 159.392411 75.15 \r\nL 167.363839 75.15 \r\nL 167.363839 84.857143 \r\nL 159.392411 84.857143 \r\nL 159.392411 75.15 \r\n\" style=\"fill:#010101;\"/>\r\n    <path clip-path=\"url(#p0c72fe43dd)\" d=\"M 167.363839 75.15 \r\nL 175.335268 75.15 \r\nL 175.335268 84.857143 \r\nL 167.363839 84.857143 \r\nL 167.363839 75.15 \r\n\" style=\"fill:#b4b4b4;\"/>\r\n    <path clip-path=\"url(#p0c72fe43dd)\" d=\"M 175.335268 75.15 \r\nL 183.306696 75.15 \r\nL 183.306696 84.857143 \r\nL 175.335268 84.857143 \r\nL 175.335268 75.15 \r\n\" style=\"fill:#ffffff;\"/>\r\n    <path clip-path=\"url(#p0c72fe43dd)\" d=\"M 183.306696 75.15 \r\nL 191.278125 75.15 \r\nL 191.278125 84.857143 \r\nL 183.306696 84.857143 \r\nL 183.306696 75.15 \r\n\" style=\"fill:#ffffff;\"/>\r\n    <path clip-path=\"url(#p0c72fe43dd)\" d=\"M 191.278125 75.15 \r\nL 199.249554 75.15 \r\nL 199.249554 84.857143 \r\nL 191.278125 84.857143 \r\nL 191.278125 75.15 \r\n\" style=\"fill:#ffffff;\"/>\r\n    <path clip-path=\"url(#p0c72fe43dd)\" d=\"M 199.249554 75.15 \r\nL 207.220982 75.15 \r\nL 207.220982 84.857143 \r\nL 199.249554 84.857143 \r\nL 199.249554 75.15 \r\n\" style=\"fill:#ffffff;\"/>\r\n    <path clip-path=\"url(#p0c72fe43dd)\" d=\"M 207.220982 75.15 \r\nL 215.192411 75.15 \r\nL 215.192411 84.857143 \r\nL 207.220982 84.857143 \r\nL 207.220982 75.15 \r\n\" style=\"fill:#ffffff;\"/>\r\n    <path clip-path=\"url(#p0c72fe43dd)\" d=\"M 215.192411 75.15 \r\nL 223.163839 75.15 \r\nL 223.163839 84.857143 \r\nL 215.192411 84.857143 \r\nL 215.192411 75.15 \r\n\" style=\"fill:#ffffff;\"/>\r\n    <path clip-path=\"url(#p0c72fe43dd)\" d=\"M 223.163839 75.15 \r\nL 231.135268 75.15 \r\nL 231.135268 84.857143 \r\nL 223.163839 84.857143 \r\nL 223.163839 75.15 \r\n\" style=\"fill:#ffffff;\"/>\r\n    <path clip-path=\"url(#p0c72fe43dd)\" d=\"M 231.135268 75.15 \r\nL 239.106696 75.15 \r\nL 239.106696 84.857143 \r\nL 231.135268 84.857143 \r\nL 231.135268 75.15 \r\n\" style=\"fill:#ffffff;\"/>\r\n    <path clip-path=\"url(#p0c72fe43dd)\" d=\"M 239.106696 75.15 \r\nL 247.078125 75.15 \r\nL 247.078125 84.857143 \r\nL 239.106696 84.857143 \r\nL 239.106696 75.15 \r\n\" style=\"fill:#ffffff;\"/>\r\n    <path clip-path=\"url(#p0c72fe43dd)\" d=\"M 23.878125 84.857143 \r\nL 31.849554 84.857143 \r\nL 31.849554 94.564286 \r\nL 23.878125 94.564286 \r\nL 23.878125 84.857143 \r\n\" style=\"fill:#ffffff;\"/>\r\n    <path clip-path=\"url(#p0c72fe43dd)\" d=\"M 31.849554 84.857143 \r\nL 39.820982 84.857143 \r\nL 39.820982 94.564286 \r\nL 31.849554 94.564286 \r\nL 31.849554 84.857143 \r\n\" style=\"fill:#ffffff;\"/>\r\n    <path clip-path=\"url(#p0c72fe43dd)\" d=\"M 39.820982 84.857143 \r\nL 47.792411 84.857143 \r\nL 47.792411 94.564286 \r\nL 39.820982 94.564286 \r\nL 39.820982 84.857143 \r\n\" style=\"fill:#ffffff;\"/>\r\n    <path clip-path=\"url(#p0c72fe43dd)\" d=\"M 47.792411 84.857143 \r\nL 55.763839 84.857143 \r\nL 55.763839 94.564286 \r\nL 47.792411 94.564286 \r\nL 47.792411 84.857143 \r\n\" style=\"fill:#dcdcdc;\"/>\r\n    <path clip-path=\"url(#p0c72fe43dd)\" d=\"M 55.763839 84.857143 \r\nL 63.735268 84.857143 \r\nL 63.735268 94.564286 \r\nL 55.763839 94.564286 \r\nL 55.763839 84.857143 \r\n\" style=\"fill:#b5b5b5;\"/>\r\n    <path clip-path=\"url(#p0c72fe43dd)\" d=\"M 63.735268 84.857143 \r\nL 71.706696 84.857143 \r\nL 71.706696 94.564286 \r\nL 63.735268 94.564286 \r\nL 63.735268 84.857143 \r\n\" style=\"fill:#dcdcdc;\"/>\r\n    <path clip-path=\"url(#p0c72fe43dd)\" d=\"M 71.706696 84.857143 \r\nL 79.678125 84.857143 \r\nL 79.678125 94.564286 \r\nL 71.706696 94.564286 \r\nL 71.706696 84.857143 \r\n\" style=\"fill:#dcdcdc;\"/>\r\n    <path clip-path=\"url(#p0c72fe43dd)\" d=\"M 79.678125 84.857143 \r\nL 87.649554 84.857143 \r\nL 87.649554 94.564286 \r\nL 79.678125 94.564286 \r\nL 79.678125 84.857143 \r\n\" style=\"fill:#e6e6e6;\"/>\r\n    <path clip-path=\"url(#p0c72fe43dd)\" d=\"M 87.649554 84.857143 \r\nL 95.620982 84.857143 \r\nL 95.620982 94.564286 \r\nL 87.649554 94.564286 \r\nL 87.649554 84.857143 \r\n\" style=\"fill:#ffffff;\"/>\r\n    <path clip-path=\"url(#p0c72fe43dd)\" d=\"M 95.620982 84.857143 \r\nL 103.592411 84.857143 \r\nL 103.592411 94.564286 \r\nL 95.620982 94.564286 \r\nL 95.620982 84.857143 \r\n\" style=\"fill:#ffffff;\"/>\r\n    <path clip-path=\"url(#p0c72fe43dd)\" d=\"M 103.592411 84.857143 \r\nL 111.563839 84.857143 \r\nL 111.563839 94.564286 \r\nL 103.592411 94.564286 \r\nL 103.592411 84.857143 \r\n\" style=\"fill:#ffffff;\"/>\r\n    <path clip-path=\"url(#p0c72fe43dd)\" d=\"M 111.563839 84.857143 \r\nL 119.535268 84.857143 \r\nL 119.535268 94.564286 \r\nL 111.563839 94.564286 \r\nL 111.563839 84.857143 \r\n\" style=\"fill:#ffffff;\"/>\r\n    <path clip-path=\"url(#p0c72fe43dd)\" d=\"M 119.535268 84.857143 \r\nL 127.506696 84.857143 \r\nL 127.506696 94.564286 \r\nL 119.535268 94.564286 \r\nL 119.535268 84.857143 \r\n\" style=\"fill:#ffffff;\"/>\r\n    <path clip-path=\"url(#p0c72fe43dd)\" d=\"M 127.506696 84.857143 \r\nL 135.478125 84.857143 \r\nL 135.478125 94.564286 \r\nL 127.506696 94.564286 \r\nL 127.506696 84.857143 \r\n\" style=\"fill:#ffffff;\"/>\r\n    <path clip-path=\"url(#p0c72fe43dd)\" d=\"M 135.478125 84.857143 \r\nL 143.449554 84.857143 \r\nL 143.449554 94.564286 \r\nL 135.478125 94.564286 \r\nL 135.478125 84.857143 \r\n\" style=\"fill:#f2f2f2;\"/>\r\n    <path clip-path=\"url(#p0c72fe43dd)\" d=\"M 143.449554 84.857143 \r\nL 151.420982 84.857143 \r\nL 151.420982 94.564286 \r\nL 143.449554 94.564286 \r\nL 143.449554 84.857143 \r\n\" style=\"fill:#1f1f1f;\"/>\r\n    <path clip-path=\"url(#p0c72fe43dd)\" d=\"M 151.420982 84.857143 \r\nL 159.392411 84.857143 \r\nL 159.392411 94.564286 \r\nL 151.420982 94.564286 \r\nL 151.420982 84.857143 \r\n\" style=\"fill:#010101;\"/>\r\n    <path clip-path=\"url(#p0c72fe43dd)\" d=\"M 159.392411 84.857143 \r\nL 167.363839 84.857143 \r\nL 167.363839 94.564286 \r\nL 159.392411 94.564286 \r\nL 159.392411 84.857143 \r\n\" style=\"fill:#010101;\"/>\r\n    <path clip-path=\"url(#p0c72fe43dd)\" d=\"M 167.363839 84.857143 \r\nL 175.335268 84.857143 \r\nL 175.335268 94.564286 \r\nL 167.363839 94.564286 \r\nL 167.363839 84.857143 \r\n\" style=\"fill:#666666;\"/>\r\n    <path clip-path=\"url(#p0c72fe43dd)\" d=\"M 175.335268 84.857143 \r\nL 183.306696 84.857143 \r\nL 183.306696 94.564286 \r\nL 175.335268 94.564286 \r\nL 175.335268 84.857143 \r\n\" style=\"fill:#ffffff;\"/>\r\n    <path clip-path=\"url(#p0c72fe43dd)\" d=\"M 183.306696 84.857143 \r\nL 191.278125 84.857143 \r\nL 191.278125 94.564286 \r\nL 183.306696 94.564286 \r\nL 183.306696 84.857143 \r\n\" style=\"fill:#ffffff;\"/>\r\n    <path clip-path=\"url(#p0c72fe43dd)\" d=\"M 191.278125 84.857143 \r\nL 199.249554 84.857143 \r\nL 199.249554 94.564286 \r\nL 191.278125 94.564286 \r\nL 191.278125 84.857143 \r\n\" style=\"fill:#ffffff;\"/>\r\n    <path clip-path=\"url(#p0c72fe43dd)\" d=\"M 199.249554 84.857143 \r\nL 207.220982 84.857143 \r\nL 207.220982 94.564286 \r\nL 199.249554 94.564286 \r\nL 199.249554 84.857143 \r\n\" style=\"fill:#ffffff;\"/>\r\n    <path clip-path=\"url(#p0c72fe43dd)\" d=\"M 207.220982 84.857143 \r\nL 215.192411 84.857143 \r\nL 215.192411 94.564286 \r\nL 207.220982 94.564286 \r\nL 207.220982 84.857143 \r\n\" style=\"fill:#ffffff;\"/>\r\n    <path clip-path=\"url(#p0c72fe43dd)\" d=\"M 215.192411 84.857143 \r\nL 223.163839 84.857143 \r\nL 223.163839 94.564286 \r\nL 215.192411 94.564286 \r\nL 215.192411 84.857143 \r\n\" style=\"fill:#ffffff;\"/>\r\n    <path clip-path=\"url(#p0c72fe43dd)\" d=\"M 223.163839 84.857143 \r\nL 231.135268 84.857143 \r\nL 231.135268 94.564286 \r\nL 223.163839 94.564286 \r\nL 223.163839 84.857143 \r\n\" style=\"fill:#ffffff;\"/>\r\n    <path clip-path=\"url(#p0c72fe43dd)\" d=\"M 231.135268 84.857143 \r\nL 239.106696 84.857143 \r\nL 239.106696 94.564286 \r\nL 231.135268 94.564286 \r\nL 231.135268 84.857143 \r\n\" style=\"fill:#ffffff;\"/>\r\n    <path clip-path=\"url(#p0c72fe43dd)\" d=\"M 239.106696 84.857143 \r\nL 247.078125 84.857143 \r\nL 247.078125 94.564286 \r\nL 239.106696 94.564286 \r\nL 239.106696 84.857143 \r\n\" style=\"fill:#ffffff;\"/>\r\n    <path clip-path=\"url(#p0c72fe43dd)\" d=\"M 23.878125 94.564286 \r\nL 31.849554 94.564286 \r\nL 31.849554 104.271429 \r\nL 23.878125 104.271429 \r\nL 23.878125 94.564286 \r\n\" style=\"fill:#ffffff;\"/>\r\n    <path clip-path=\"url(#p0c72fe43dd)\" d=\"M 31.849554 94.564286 \r\nL 39.820982 94.564286 \r\nL 39.820982 104.271429 \r\nL 31.849554 104.271429 \r\nL 31.849554 94.564286 \r\n\" style=\"fill:#ffffff;\"/>\r\n    <path clip-path=\"url(#p0c72fe43dd)\" d=\"M 39.820982 94.564286 \r\nL 47.792411 94.564286 \r\nL 47.792411 104.271429 \r\nL 39.820982 104.271429 \r\nL 39.820982 94.564286 \r\n\" style=\"fill:#ffffff;\"/>\r\n    <path clip-path=\"url(#p0c72fe43dd)\" d=\"M 47.792411 94.564286 \r\nL 55.763839 94.564286 \r\nL 55.763839 104.271429 \r\nL 47.792411 104.271429 \r\nL 47.792411 94.564286 \r\n\" style=\"fill:#ffffff;\"/>\r\n    <path clip-path=\"url(#p0c72fe43dd)\" d=\"M 55.763839 94.564286 \r\nL 63.735268 94.564286 \r\nL 63.735268 104.271429 \r\nL 55.763839 104.271429 \r\nL 55.763839 94.564286 \r\n\" style=\"fill:#ffffff;\"/>\r\n    <path clip-path=\"url(#p0c72fe43dd)\" d=\"M 63.735268 94.564286 \r\nL 71.706696 94.564286 \r\nL 71.706696 104.271429 \r\nL 63.735268 104.271429 \r\nL 63.735268 94.564286 \r\n\" style=\"fill:#ffffff;\"/>\r\n    <path clip-path=\"url(#p0c72fe43dd)\" d=\"M 71.706696 94.564286 \r\nL 79.678125 94.564286 \r\nL 79.678125 104.271429 \r\nL 71.706696 104.271429 \r\nL 71.706696 94.564286 \r\n\" style=\"fill:#ffffff;\"/>\r\n    <path clip-path=\"url(#p0c72fe43dd)\" d=\"M 79.678125 94.564286 \r\nL 87.649554 94.564286 \r\nL 87.649554 104.271429 \r\nL 79.678125 104.271429 \r\nL 79.678125 94.564286 \r\n\" style=\"fill:#ffffff;\"/>\r\n    <path clip-path=\"url(#p0c72fe43dd)\" d=\"M 87.649554 94.564286 \r\nL 95.620982 94.564286 \r\nL 95.620982 104.271429 \r\nL 87.649554 104.271429 \r\nL 87.649554 94.564286 \r\n\" style=\"fill:#ffffff;\"/>\r\n    <path clip-path=\"url(#p0c72fe43dd)\" d=\"M 95.620982 94.564286 \r\nL 103.592411 94.564286 \r\nL 103.592411 104.271429 \r\nL 95.620982 104.271429 \r\nL 95.620982 94.564286 \r\n\" style=\"fill:#ffffff;\"/>\r\n    <path clip-path=\"url(#p0c72fe43dd)\" d=\"M 103.592411 94.564286 \r\nL 111.563839 94.564286 \r\nL 111.563839 104.271429 \r\nL 103.592411 104.271429 \r\nL 103.592411 94.564286 \r\n\" style=\"fill:#ffffff;\"/>\r\n    <path clip-path=\"url(#p0c72fe43dd)\" d=\"M 111.563839 94.564286 \r\nL 119.535268 94.564286 \r\nL 119.535268 104.271429 \r\nL 111.563839 104.271429 \r\nL 111.563839 94.564286 \r\n\" style=\"fill:#ffffff;\"/>\r\n    <path clip-path=\"url(#p0c72fe43dd)\" d=\"M 119.535268 94.564286 \r\nL 127.506696 94.564286 \r\nL 127.506696 104.271429 \r\nL 119.535268 104.271429 \r\nL 119.535268 94.564286 \r\n\" style=\"fill:#ffffff;\"/>\r\n    <path clip-path=\"url(#p0c72fe43dd)\" d=\"M 127.506696 94.564286 \r\nL 135.478125 94.564286 \r\nL 135.478125 104.271429 \r\nL 127.506696 104.271429 \r\nL 127.506696 94.564286 \r\n\" style=\"fill:#ffffff;\"/>\r\n    <path clip-path=\"url(#p0c72fe43dd)\" d=\"M 135.478125 94.564286 \r\nL 143.449554 94.564286 \r\nL 143.449554 104.271429 \r\nL 135.478125 104.271429 \r\nL 135.478125 94.564286 \r\n\" style=\"fill:#a5a5a5;\"/>\r\n    <path clip-path=\"url(#p0c72fe43dd)\" d=\"M 143.449554 94.564286 \r\nL 151.420982 94.564286 \r\nL 151.420982 104.271429 \r\nL 143.449554 104.271429 \r\nL 143.449554 94.564286 \r\n\" style=\"fill:#010101;\"/>\r\n    <path clip-path=\"url(#p0c72fe43dd)\" d=\"M 151.420982 94.564286 \r\nL 159.392411 94.564286 \r\nL 159.392411 104.271429 \r\nL 151.420982 104.271429 \r\nL 151.420982 94.564286 \r\n\" style=\"fill:#010101;\"/>\r\n    <path clip-path=\"url(#p0c72fe43dd)\" d=\"M 159.392411 94.564286 \r\nL 167.363839 94.564286 \r\nL 167.363839 104.271429 \r\nL 159.392411 104.271429 \r\nL 159.392411 94.564286 \r\n\" style=\"fill:#080808;\"/>\r\n    <path clip-path=\"url(#p0c72fe43dd)\" d=\"M 167.363839 94.564286 \r\nL 175.335268 94.564286 \r\nL 175.335268 104.271429 \r\nL 167.363839 104.271429 \r\nL 167.363839 94.564286 \r\n\" style=\"fill:#cacaca;\"/>\r\n    <path clip-path=\"url(#p0c72fe43dd)\" d=\"M 175.335268 94.564286 \r\nL 183.306696 94.564286 \r\nL 183.306696 104.271429 \r\nL 175.335268 104.271429 \r\nL 175.335268 94.564286 \r\n\" style=\"fill:#ffffff;\"/>\r\n    <path clip-path=\"url(#p0c72fe43dd)\" d=\"M 183.306696 94.564286 \r\nL 191.278125 94.564286 \r\nL 191.278125 104.271429 \r\nL 183.306696 104.271429 \r\nL 183.306696 94.564286 \r\n\" style=\"fill:#ffffff;\"/>\r\n    <path clip-path=\"url(#p0c72fe43dd)\" d=\"M 191.278125 94.564286 \r\nL 199.249554 94.564286 \r\nL 199.249554 104.271429 \r\nL 191.278125 104.271429 \r\nL 191.278125 94.564286 \r\n\" style=\"fill:#ffffff;\"/>\r\n    <path clip-path=\"url(#p0c72fe43dd)\" d=\"M 199.249554 94.564286 \r\nL 207.220982 94.564286 \r\nL 207.220982 104.271429 \r\nL 199.249554 104.271429 \r\nL 199.249554 94.564286 \r\n\" style=\"fill:#ffffff;\"/>\r\n    <path clip-path=\"url(#p0c72fe43dd)\" d=\"M 207.220982 94.564286 \r\nL 215.192411 94.564286 \r\nL 215.192411 104.271429 \r\nL 207.220982 104.271429 \r\nL 207.220982 94.564286 \r\n\" style=\"fill:#ffffff;\"/>\r\n    <path clip-path=\"url(#p0c72fe43dd)\" d=\"M 215.192411 94.564286 \r\nL 223.163839 94.564286 \r\nL 223.163839 104.271429 \r\nL 215.192411 104.271429 \r\nL 215.192411 94.564286 \r\n\" style=\"fill:#ffffff;\"/>\r\n    <path clip-path=\"url(#p0c72fe43dd)\" d=\"M 223.163839 94.564286 \r\nL 231.135268 94.564286 \r\nL 231.135268 104.271429 \r\nL 223.163839 104.271429 \r\nL 223.163839 94.564286 \r\n\" style=\"fill:#ffffff;\"/>\r\n    <path clip-path=\"url(#p0c72fe43dd)\" d=\"M 231.135268 94.564286 \r\nL 239.106696 94.564286 \r\nL 239.106696 104.271429 \r\nL 231.135268 104.271429 \r\nL 231.135268 94.564286 \r\n\" style=\"fill:#ffffff;\"/>\r\n    <path clip-path=\"url(#p0c72fe43dd)\" d=\"M 239.106696 94.564286 \r\nL 247.078125 94.564286 \r\nL 247.078125 104.271429 \r\nL 239.106696 104.271429 \r\nL 239.106696 94.564286 \r\n\" style=\"fill:#ffffff;\"/>\r\n    <path clip-path=\"url(#p0c72fe43dd)\" d=\"M 23.878125 104.271429 \r\nL 31.849554 104.271429 \r\nL 31.849554 113.978571 \r\nL 23.878125 113.978571 \r\nL 23.878125 104.271429 \r\n\" style=\"fill:#ffffff;\"/>\r\n    <path clip-path=\"url(#p0c72fe43dd)\" d=\"M 31.849554 104.271429 \r\nL 39.820982 104.271429 \r\nL 39.820982 113.978571 \r\nL 31.849554 113.978571 \r\nL 31.849554 104.271429 \r\n\" style=\"fill:#ffffff;\"/>\r\n    <path clip-path=\"url(#p0c72fe43dd)\" d=\"M 39.820982 104.271429 \r\nL 47.792411 104.271429 \r\nL 47.792411 113.978571 \r\nL 39.820982 113.978571 \r\nL 39.820982 104.271429 \r\n\" style=\"fill:#ffffff;\"/>\r\n    <path clip-path=\"url(#p0c72fe43dd)\" d=\"M 47.792411 104.271429 \r\nL 55.763839 104.271429 \r\nL 55.763839 113.978571 \r\nL 47.792411 113.978571 \r\nL 47.792411 104.271429 \r\n\" style=\"fill:#ffffff;\"/>\r\n    <path clip-path=\"url(#p0c72fe43dd)\" d=\"M 55.763839 104.271429 \r\nL 63.735268 104.271429 \r\nL 63.735268 113.978571 \r\nL 55.763839 113.978571 \r\nL 55.763839 104.271429 \r\n\" style=\"fill:#ffffff;\"/>\r\n    <path clip-path=\"url(#p0c72fe43dd)\" d=\"M 63.735268 104.271429 \r\nL 71.706696 104.271429 \r\nL 71.706696 113.978571 \r\nL 63.735268 113.978571 \r\nL 63.735268 104.271429 \r\n\" style=\"fill:#ffffff;\"/>\r\n    <path clip-path=\"url(#p0c72fe43dd)\" d=\"M 71.706696 104.271429 \r\nL 79.678125 104.271429 \r\nL 79.678125 113.978571 \r\nL 71.706696 113.978571 \r\nL 71.706696 104.271429 \r\n\" style=\"fill:#ffffff;\"/>\r\n    <path clip-path=\"url(#p0c72fe43dd)\" d=\"M 79.678125 104.271429 \r\nL 87.649554 104.271429 \r\nL 87.649554 113.978571 \r\nL 79.678125 113.978571 \r\nL 79.678125 104.271429 \r\n\" style=\"fill:#ffffff;\"/>\r\n    <path clip-path=\"url(#p0c72fe43dd)\" d=\"M 87.649554 104.271429 \r\nL 95.620982 104.271429 \r\nL 95.620982 113.978571 \r\nL 87.649554 113.978571 \r\nL 87.649554 104.271429 \r\n\" style=\"fill:#ffffff;\"/>\r\n    <path clip-path=\"url(#p0c72fe43dd)\" d=\"M 95.620982 104.271429 \r\nL 103.592411 104.271429 \r\nL 103.592411 113.978571 \r\nL 95.620982 113.978571 \r\nL 95.620982 104.271429 \r\n\" style=\"fill:#ffffff;\"/>\r\n    <path clip-path=\"url(#p0c72fe43dd)\" d=\"M 103.592411 104.271429 \r\nL 111.563839 104.271429 \r\nL 111.563839 113.978571 \r\nL 103.592411 113.978571 \r\nL 103.592411 104.271429 \r\n\" style=\"fill:#ffffff;\"/>\r\n    <path clip-path=\"url(#p0c72fe43dd)\" d=\"M 111.563839 104.271429 \r\nL 119.535268 104.271429 \r\nL 119.535268 113.978571 \r\nL 111.563839 113.978571 \r\nL 111.563839 104.271429 \r\n\" style=\"fill:#ffffff;\"/>\r\n    <path clip-path=\"url(#p0c72fe43dd)\" d=\"M 119.535268 104.271429 \r\nL 127.506696 104.271429 \r\nL 127.506696 113.978571 \r\nL 119.535268 113.978571 \r\nL 119.535268 104.271429 \r\n\" style=\"fill:#f9f9f9;\"/>\r\n    <path clip-path=\"url(#p0c72fe43dd)\" d=\"M 127.506696 104.271429 \r\nL 135.478125 104.271429 \r\nL 135.478125 113.978571 \r\nL 127.506696 113.978571 \r\nL 127.506696 104.271429 \r\n\" style=\"fill:#676767;\"/>\r\n    <path clip-path=\"url(#p0c72fe43dd)\" d=\"M 135.478125 104.271429 \r\nL 143.449554 104.271429 \r\nL 143.449554 113.978571 \r\nL 135.478125 113.978571 \r\nL 135.478125 104.271429 \r\n\" style=\"fill:#090909;\"/>\r\n    <path clip-path=\"url(#p0c72fe43dd)\" d=\"M 143.449554 104.271429 \r\nL 151.420982 104.271429 \r\nL 151.420982 113.978571 \r\nL 143.449554 113.978571 \r\nL 143.449554 104.271429 \r\n\" style=\"fill:#010101;\"/>\r\n    <path clip-path=\"url(#p0c72fe43dd)\" d=\"M 151.420982 104.271429 \r\nL 159.392411 104.271429 \r\nL 159.392411 113.978571 \r\nL 151.420982 113.978571 \r\nL 151.420982 104.271429 \r\n\" style=\"fill:#010101;\"/>\r\n    <path clip-path=\"url(#p0c72fe43dd)\" d=\"M 159.392411 104.271429 \r\nL 167.363839 104.271429 \r\nL 167.363839 113.978571 \r\nL 159.392411 113.978571 \r\nL 159.392411 104.271429 \r\n\" style=\"fill:#cecece;\"/>\r\n    <path clip-path=\"url(#p0c72fe43dd)\" d=\"M 167.363839 104.271429 \r\nL 175.335268 104.271429 \r\nL 175.335268 113.978571 \r\nL 167.363839 113.978571 \r\nL 167.363839 104.271429 \r\n\" style=\"fill:#ffffff;\"/>\r\n    <path clip-path=\"url(#p0c72fe43dd)\" d=\"M 175.335268 104.271429 \r\nL 183.306696 104.271429 \r\nL 183.306696 113.978571 \r\nL 175.335268 113.978571 \r\nL 175.335268 104.271429 \r\n\" style=\"fill:#ffffff;\"/>\r\n    <path clip-path=\"url(#p0c72fe43dd)\" d=\"M 183.306696 104.271429 \r\nL 191.278125 104.271429 \r\nL 191.278125 113.978571 \r\nL 183.306696 113.978571 \r\nL 183.306696 104.271429 \r\n\" style=\"fill:#ffffff;\"/>\r\n    <path clip-path=\"url(#p0c72fe43dd)\" d=\"M 191.278125 104.271429 \r\nL 199.249554 104.271429 \r\nL 199.249554 113.978571 \r\nL 191.278125 113.978571 \r\nL 191.278125 104.271429 \r\n\" style=\"fill:#ffffff;\"/>\r\n    <path clip-path=\"url(#p0c72fe43dd)\" d=\"M 199.249554 104.271429 \r\nL 207.220982 104.271429 \r\nL 207.220982 113.978571 \r\nL 199.249554 113.978571 \r\nL 199.249554 104.271429 \r\n\" style=\"fill:#ffffff;\"/>\r\n    <path clip-path=\"url(#p0c72fe43dd)\" d=\"M 207.220982 104.271429 \r\nL 215.192411 104.271429 \r\nL 215.192411 113.978571 \r\nL 207.220982 113.978571 \r\nL 207.220982 104.271429 \r\n\" style=\"fill:#ffffff;\"/>\r\n    <path clip-path=\"url(#p0c72fe43dd)\" d=\"M 215.192411 104.271429 \r\nL 223.163839 104.271429 \r\nL 223.163839 113.978571 \r\nL 215.192411 113.978571 \r\nL 215.192411 104.271429 \r\n\" style=\"fill:#ffffff;\"/>\r\n    <path clip-path=\"url(#p0c72fe43dd)\" d=\"M 223.163839 104.271429 \r\nL 231.135268 104.271429 \r\nL 231.135268 113.978571 \r\nL 223.163839 113.978571 \r\nL 223.163839 104.271429 \r\n\" style=\"fill:#ffffff;\"/>\r\n    <path clip-path=\"url(#p0c72fe43dd)\" d=\"M 231.135268 104.271429 \r\nL 239.106696 104.271429 \r\nL 239.106696 113.978571 \r\nL 231.135268 113.978571 \r\nL 231.135268 104.271429 \r\n\" style=\"fill:#ffffff;\"/>\r\n    <path clip-path=\"url(#p0c72fe43dd)\" d=\"M 239.106696 104.271429 \r\nL 247.078125 104.271429 \r\nL 247.078125 113.978571 \r\nL 239.106696 113.978571 \r\nL 239.106696 104.271429 \r\n\" style=\"fill:#ffffff;\"/>\r\n    <path clip-path=\"url(#p0c72fe43dd)\" d=\"M 23.878125 113.978571 \r\nL 31.849554 113.978571 \r\nL 31.849554 123.685714 \r\nL 23.878125 123.685714 \r\nL 23.878125 113.978571 \r\n\" style=\"fill:#ffffff;\"/>\r\n    <path clip-path=\"url(#p0c72fe43dd)\" d=\"M 31.849554 113.978571 \r\nL 39.820982 113.978571 \r\nL 39.820982 123.685714 \r\nL 31.849554 123.685714 \r\nL 31.849554 113.978571 \r\n\" style=\"fill:#ffffff;\"/>\r\n    <path clip-path=\"url(#p0c72fe43dd)\" d=\"M 39.820982 113.978571 \r\nL 47.792411 113.978571 \r\nL 47.792411 123.685714 \r\nL 39.820982 123.685714 \r\nL 39.820982 113.978571 \r\n\" style=\"fill:#ffffff;\"/>\r\n    <path clip-path=\"url(#p0c72fe43dd)\" d=\"M 47.792411 113.978571 \r\nL 55.763839 113.978571 \r\nL 55.763839 123.685714 \r\nL 47.792411 123.685714 \r\nL 47.792411 113.978571 \r\n\" style=\"fill:#ffffff;\"/>\r\n    <path clip-path=\"url(#p0c72fe43dd)\" d=\"M 55.763839 113.978571 \r\nL 63.735268 113.978571 \r\nL 63.735268 123.685714 \r\nL 55.763839 123.685714 \r\nL 55.763839 113.978571 \r\n\" style=\"fill:#ffffff;\"/>\r\n    <path clip-path=\"url(#p0c72fe43dd)\" d=\"M 63.735268 113.978571 \r\nL 71.706696 113.978571 \r\nL 71.706696 123.685714 \r\nL 63.735268 123.685714 \r\nL 63.735268 113.978571 \r\n\" style=\"fill:#ffffff;\"/>\r\n    <path clip-path=\"url(#p0c72fe43dd)\" d=\"M 71.706696 113.978571 \r\nL 79.678125 113.978571 \r\nL 79.678125 123.685714 \r\nL 71.706696 123.685714 \r\nL 71.706696 113.978571 \r\n\" style=\"fill:#ffffff;\"/>\r\n    <path clip-path=\"url(#p0c72fe43dd)\" d=\"M 79.678125 113.978571 \r\nL 87.649554 113.978571 \r\nL 87.649554 123.685714 \r\nL 79.678125 123.685714 \r\nL 79.678125 113.978571 \r\n\" style=\"fill:#ffffff;\"/>\r\n    <path clip-path=\"url(#p0c72fe43dd)\" d=\"M 87.649554 113.978571 \r\nL 95.620982 113.978571 \r\nL 95.620982 123.685714 \r\nL 87.649554 123.685714 \r\nL 87.649554 113.978571 \r\n\" style=\"fill:#ffffff;\"/>\r\n    <path clip-path=\"url(#p0c72fe43dd)\" d=\"M 95.620982 113.978571 \r\nL 103.592411 113.978571 \r\nL 103.592411 123.685714 \r\nL 95.620982 123.685714 \r\nL 95.620982 113.978571 \r\n\" style=\"fill:#ffffff;\"/>\r\n    <path clip-path=\"url(#p0c72fe43dd)\" d=\"M 103.592411 113.978571 \r\nL 111.563839 113.978571 \r\nL 111.563839 123.685714 \r\nL 103.592411 123.685714 \r\nL 103.592411 113.978571 \r\n\" style=\"fill:#ffffff;\"/>\r\n    <path clip-path=\"url(#p0c72fe43dd)\" d=\"M 111.563839 113.978571 \r\nL 119.535268 113.978571 \r\nL 119.535268 123.685714 \r\nL 111.563839 123.685714 \r\nL 111.563839 113.978571 \r\n\" style=\"fill:#bdbdbd;\"/>\r\n    <path clip-path=\"url(#p0c72fe43dd)\" d=\"M 119.535268 113.978571 \r\nL 127.506696 113.978571 \r\nL 127.506696 123.685714 \r\nL 119.535268 123.685714 \r\nL 119.535268 113.978571 \r\n\" style=\"fill:#616161;\"/>\r\n    <path clip-path=\"url(#p0c72fe43dd)\" d=\"M 127.506696 113.978571 \r\nL 135.478125 113.978571 \r\nL 135.478125 123.685714 \r\nL 127.506696 123.685714 \r\nL 127.506696 113.978571 \r\n\" style=\"fill:#010101;\"/>\r\n    <path clip-path=\"url(#p0c72fe43dd)\" d=\"M 135.478125 113.978571 \r\nL 143.449554 113.978571 \r\nL 143.449554 123.685714 \r\nL 135.478125 123.685714 \r\nL 135.478125 113.978571 \r\n\" style=\"fill:#010101;\"/>\r\n    <path clip-path=\"url(#p0c72fe43dd)\" d=\"M 143.449554 113.978571 \r\nL 151.420982 113.978571 \r\nL 151.420982 123.685714 \r\nL 143.449554 123.685714 \r\nL 143.449554 113.978571 \r\n\" style=\"fill:#060606;\"/>\r\n    <path clip-path=\"url(#p0c72fe43dd)\" d=\"M 151.420982 113.978571 \r\nL 159.392411 113.978571 \r\nL 159.392411 123.685714 \r\nL 151.420982 123.685714 \r\nL 151.420982 113.978571 \r\n\" style=\"fill:#989898;\"/>\r\n    <path clip-path=\"url(#p0c72fe43dd)\" d=\"M 159.392411 113.978571 \r\nL 167.363839 113.978571 \r\nL 167.363839 123.685714 \r\nL 159.392411 123.685714 \r\nL 159.392411 113.978571 \r\n\" style=\"fill:#f7f7f7;\"/>\r\n    <path clip-path=\"url(#p0c72fe43dd)\" d=\"M 167.363839 113.978571 \r\nL 175.335268 113.978571 \r\nL 175.335268 123.685714 \r\nL 167.363839 123.685714 \r\nL 167.363839 113.978571 \r\n\" style=\"fill:#ffffff;\"/>\r\n    <path clip-path=\"url(#p0c72fe43dd)\" d=\"M 175.335268 113.978571 \r\nL 183.306696 113.978571 \r\nL 183.306696 123.685714 \r\nL 175.335268 123.685714 \r\nL 175.335268 113.978571 \r\n\" style=\"fill:#ffffff;\"/>\r\n    <path clip-path=\"url(#p0c72fe43dd)\" d=\"M 183.306696 113.978571 \r\nL 191.278125 113.978571 \r\nL 191.278125 123.685714 \r\nL 183.306696 123.685714 \r\nL 183.306696 113.978571 \r\n\" style=\"fill:#ffffff;\"/>\r\n    <path clip-path=\"url(#p0c72fe43dd)\" d=\"M 191.278125 113.978571 \r\nL 199.249554 113.978571 \r\nL 199.249554 123.685714 \r\nL 191.278125 123.685714 \r\nL 191.278125 113.978571 \r\n\" style=\"fill:#ffffff;\"/>\r\n    <path clip-path=\"url(#p0c72fe43dd)\" d=\"M 199.249554 113.978571 \r\nL 207.220982 113.978571 \r\nL 207.220982 123.685714 \r\nL 199.249554 123.685714 \r\nL 199.249554 113.978571 \r\n\" style=\"fill:#ffffff;\"/>\r\n    <path clip-path=\"url(#p0c72fe43dd)\" d=\"M 207.220982 113.978571 \r\nL 215.192411 113.978571 \r\nL 215.192411 123.685714 \r\nL 207.220982 123.685714 \r\nL 207.220982 113.978571 \r\n\" style=\"fill:#ffffff;\"/>\r\n    <path clip-path=\"url(#p0c72fe43dd)\" d=\"M 215.192411 113.978571 \r\nL 223.163839 113.978571 \r\nL 223.163839 123.685714 \r\nL 215.192411 123.685714 \r\nL 215.192411 113.978571 \r\n\" style=\"fill:#ffffff;\"/>\r\n    <path clip-path=\"url(#p0c72fe43dd)\" d=\"M 223.163839 113.978571 \r\nL 231.135268 113.978571 \r\nL 231.135268 123.685714 \r\nL 223.163839 123.685714 \r\nL 223.163839 113.978571 \r\n\" style=\"fill:#ffffff;\"/>\r\n    <path clip-path=\"url(#p0c72fe43dd)\" d=\"M 231.135268 113.978571 \r\nL 239.106696 113.978571 \r\nL 239.106696 123.685714 \r\nL 231.135268 123.685714 \r\nL 231.135268 113.978571 \r\n\" style=\"fill:#ffffff;\"/>\r\n    <path clip-path=\"url(#p0c72fe43dd)\" d=\"M 239.106696 113.978571 \r\nL 247.078125 113.978571 \r\nL 247.078125 123.685714 \r\nL 239.106696 123.685714 \r\nL 239.106696 113.978571 \r\n\" style=\"fill:#ffffff;\"/>\r\n    <path clip-path=\"url(#p0c72fe43dd)\" d=\"M 23.878125 123.685714 \r\nL 31.849554 123.685714 \r\nL 31.849554 133.392857 \r\nL 23.878125 133.392857 \r\nL 23.878125 123.685714 \r\n\" style=\"fill:#ffffff;\"/>\r\n    <path clip-path=\"url(#p0c72fe43dd)\" d=\"M 31.849554 123.685714 \r\nL 39.820982 123.685714 \r\nL 39.820982 133.392857 \r\nL 31.849554 133.392857 \r\nL 31.849554 123.685714 \r\n\" style=\"fill:#ffffff;\"/>\r\n    <path clip-path=\"url(#p0c72fe43dd)\" d=\"M 39.820982 123.685714 \r\nL 47.792411 123.685714 \r\nL 47.792411 133.392857 \r\nL 39.820982 133.392857 \r\nL 39.820982 123.685714 \r\n\" style=\"fill:#ffffff;\"/>\r\n    <path clip-path=\"url(#p0c72fe43dd)\" d=\"M 47.792411 123.685714 \r\nL 55.763839 123.685714 \r\nL 55.763839 133.392857 \r\nL 47.792411 133.392857 \r\nL 47.792411 123.685714 \r\n\" style=\"fill:#ffffff;\"/>\r\n    <path clip-path=\"url(#p0c72fe43dd)\" d=\"M 55.763839 123.685714 \r\nL 63.735268 123.685714 \r\nL 63.735268 133.392857 \r\nL 55.763839 133.392857 \r\nL 55.763839 123.685714 \r\n\" style=\"fill:#ffffff;\"/>\r\n    <path clip-path=\"url(#p0c72fe43dd)\" d=\"M 63.735268 123.685714 \r\nL 71.706696 123.685714 \r\nL 71.706696 133.392857 \r\nL 63.735268 133.392857 \r\nL 63.735268 123.685714 \r\n\" style=\"fill:#ffffff;\"/>\r\n    <path clip-path=\"url(#p0c72fe43dd)\" d=\"M 71.706696 123.685714 \r\nL 79.678125 123.685714 \r\nL 79.678125 133.392857 \r\nL 71.706696 133.392857 \r\nL 71.706696 123.685714 \r\n\" style=\"fill:#ffffff;\"/>\r\n    <path clip-path=\"url(#p0c72fe43dd)\" d=\"M 79.678125 123.685714 \r\nL 87.649554 123.685714 \r\nL 87.649554 133.392857 \r\nL 79.678125 133.392857 \r\nL 79.678125 123.685714 \r\n\" style=\"fill:#ffffff;\"/>\r\n    <path clip-path=\"url(#p0c72fe43dd)\" d=\"M 87.649554 123.685714 \r\nL 95.620982 123.685714 \r\nL 95.620982 133.392857 \r\nL 87.649554 133.392857 \r\nL 87.649554 123.685714 \r\n\" style=\"fill:#ffffff;\"/>\r\n    <path clip-path=\"url(#p0c72fe43dd)\" d=\"M 95.620982 123.685714 \r\nL 103.592411 123.685714 \r\nL 103.592411 133.392857 \r\nL 95.620982 133.392857 \r\nL 95.620982 123.685714 \r\n\" style=\"fill:#ffffff;\"/>\r\n    <path clip-path=\"url(#p0c72fe43dd)\" d=\"M 103.592411 123.685714 \r\nL 111.563839 123.685714 \r\nL 111.563839 133.392857 \r\nL 103.592411 133.392857 \r\nL 103.592411 123.685714 \r\n\" style=\"fill:#c9c9c9;\"/>\r\n    <path clip-path=\"url(#p0c72fe43dd)\" d=\"M 111.563839 123.685714 \r\nL 119.535268 123.685714 \r\nL 119.535268 133.392857 \r\nL 111.563839 133.392857 \r\nL 111.563839 123.685714 \r\n\" style=\"fill:#040404;\"/>\r\n    <path clip-path=\"url(#p0c72fe43dd)\" d=\"M 119.535268 123.685714 \r\nL 127.506696 123.685714 \r\nL 127.506696 133.392857 \r\nL 119.535268 133.392857 \r\nL 119.535268 123.685714 \r\n\" style=\"fill:#010101;\"/>\r\n    <path clip-path=\"url(#p0c72fe43dd)\" d=\"M 127.506696 123.685714 \r\nL 135.478125 123.685714 \r\nL 135.478125 133.392857 \r\nL 127.506696 133.392857 \r\nL 127.506696 123.685714 \r\n\" style=\"fill:#010101;\"/>\r\n    <path clip-path=\"url(#p0c72fe43dd)\" d=\"M 135.478125 123.685714 \r\nL 143.449554 123.685714 \r\nL 143.449554 133.392857 \r\nL 135.478125 133.392857 \r\nL 135.478125 123.685714 \r\n\" style=\"fill:#010101;\"/>\r\n    <path clip-path=\"url(#p0c72fe43dd)\" d=\"M 143.449554 123.685714 \r\nL 151.420982 123.685714 \r\nL 151.420982 133.392857 \r\nL 143.449554 133.392857 \r\nL 143.449554 123.685714 \r\n\" style=\"fill:#070707;\"/>\r\n    <path clip-path=\"url(#p0c72fe43dd)\" d=\"M 151.420982 123.685714 \r\nL 159.392411 123.685714 \r\nL 159.392411 133.392857 \r\nL 151.420982 133.392857 \r\nL 151.420982 123.685714 \r\n\" style=\"fill:#b5b5b5;\"/>\r\n    <path clip-path=\"url(#p0c72fe43dd)\" d=\"M 159.392411 123.685714 \r\nL 167.363839 123.685714 \r\nL 167.363839 133.392857 \r\nL 159.392411 133.392857 \r\nL 159.392411 123.685714 \r\n\" style=\"fill:#fafafa;\"/>\r\n    <path clip-path=\"url(#p0c72fe43dd)\" d=\"M 167.363839 123.685714 \r\nL 175.335268 123.685714 \r\nL 175.335268 133.392857 \r\nL 167.363839 133.392857 \r\nL 167.363839 123.685714 \r\n\" style=\"fill:#ffffff;\"/>\r\n    <path clip-path=\"url(#p0c72fe43dd)\" d=\"M 175.335268 123.685714 \r\nL 183.306696 123.685714 \r\nL 183.306696 133.392857 \r\nL 175.335268 133.392857 \r\nL 175.335268 123.685714 \r\n\" style=\"fill:#ffffff;\"/>\r\n    <path clip-path=\"url(#p0c72fe43dd)\" d=\"M 183.306696 123.685714 \r\nL 191.278125 123.685714 \r\nL 191.278125 133.392857 \r\nL 183.306696 133.392857 \r\nL 183.306696 123.685714 \r\n\" style=\"fill:#ffffff;\"/>\r\n    <path clip-path=\"url(#p0c72fe43dd)\" d=\"M 191.278125 123.685714 \r\nL 199.249554 123.685714 \r\nL 199.249554 133.392857 \r\nL 191.278125 133.392857 \r\nL 191.278125 123.685714 \r\n\" style=\"fill:#ffffff;\"/>\r\n    <path clip-path=\"url(#p0c72fe43dd)\" d=\"M 199.249554 123.685714 \r\nL 207.220982 123.685714 \r\nL 207.220982 133.392857 \r\nL 199.249554 133.392857 \r\nL 199.249554 123.685714 \r\n\" style=\"fill:#ffffff;\"/>\r\n    <path clip-path=\"url(#p0c72fe43dd)\" d=\"M 207.220982 123.685714 \r\nL 215.192411 123.685714 \r\nL 215.192411 133.392857 \r\nL 207.220982 133.392857 \r\nL 207.220982 123.685714 \r\n\" style=\"fill:#ffffff;\"/>\r\n    <path clip-path=\"url(#p0c72fe43dd)\" d=\"M 215.192411 123.685714 \r\nL 223.163839 123.685714 \r\nL 223.163839 133.392857 \r\nL 215.192411 133.392857 \r\nL 215.192411 123.685714 \r\n\" style=\"fill:#ffffff;\"/>\r\n    <path clip-path=\"url(#p0c72fe43dd)\" d=\"M 223.163839 123.685714 \r\nL 231.135268 123.685714 \r\nL 231.135268 133.392857 \r\nL 223.163839 133.392857 \r\nL 223.163839 123.685714 \r\n\" style=\"fill:#ffffff;\"/>\r\n    <path clip-path=\"url(#p0c72fe43dd)\" d=\"M 231.135268 123.685714 \r\nL 239.106696 123.685714 \r\nL 239.106696 133.392857 \r\nL 231.135268 133.392857 \r\nL 231.135268 123.685714 \r\n\" style=\"fill:#ffffff;\"/>\r\n    <path clip-path=\"url(#p0c72fe43dd)\" d=\"M 239.106696 123.685714 \r\nL 247.078125 123.685714 \r\nL 247.078125 133.392857 \r\nL 239.106696 133.392857 \r\nL 239.106696 123.685714 \r\n\" style=\"fill:#ffffff;\"/>\r\n    <path clip-path=\"url(#p0c72fe43dd)\" d=\"M 23.878125 133.392857 \r\nL 31.849554 133.392857 \r\nL 31.849554 143.1 \r\nL 23.878125 143.1 \r\nL 23.878125 133.392857 \r\n\" style=\"fill:#ffffff;\"/>\r\n    <path clip-path=\"url(#p0c72fe43dd)\" d=\"M 31.849554 133.392857 \r\nL 39.820982 133.392857 \r\nL 39.820982 143.1 \r\nL 31.849554 143.1 \r\nL 31.849554 133.392857 \r\n\" style=\"fill:#ffffff;\"/>\r\n    <path clip-path=\"url(#p0c72fe43dd)\" d=\"M 39.820982 133.392857 \r\nL 47.792411 133.392857 \r\nL 47.792411 143.1 \r\nL 39.820982 143.1 \r\nL 39.820982 133.392857 \r\n\" style=\"fill:#ffffff;\"/>\r\n    <path clip-path=\"url(#p0c72fe43dd)\" d=\"M 47.792411 133.392857 \r\nL 55.763839 133.392857 \r\nL 55.763839 143.1 \r\nL 47.792411 143.1 \r\nL 47.792411 133.392857 \r\n\" style=\"fill:#ffffff;\"/>\r\n    <path clip-path=\"url(#p0c72fe43dd)\" d=\"M 55.763839 133.392857 \r\nL 63.735268 133.392857 \r\nL 63.735268 143.1 \r\nL 55.763839 143.1 \r\nL 55.763839 133.392857 \r\n\" style=\"fill:#ffffff;\"/>\r\n    <path clip-path=\"url(#p0c72fe43dd)\" d=\"M 63.735268 133.392857 \r\nL 71.706696 133.392857 \r\nL 71.706696 143.1 \r\nL 63.735268 143.1 \r\nL 63.735268 133.392857 \r\n\" style=\"fill:#ffffff;\"/>\r\n    <path clip-path=\"url(#p0c72fe43dd)\" d=\"M 71.706696 133.392857 \r\nL 79.678125 133.392857 \r\nL 79.678125 143.1 \r\nL 71.706696 143.1 \r\nL 71.706696 133.392857 \r\n\" style=\"fill:#ffffff;\"/>\r\n    <path clip-path=\"url(#p0c72fe43dd)\" d=\"M 79.678125 133.392857 \r\nL 87.649554 133.392857 \r\nL 87.649554 143.1 \r\nL 79.678125 143.1 \r\nL 79.678125 133.392857 \r\n\" style=\"fill:#ffffff;\"/>\r\n    <path clip-path=\"url(#p0c72fe43dd)\" d=\"M 87.649554 133.392857 \r\nL 95.620982 133.392857 \r\nL 95.620982 143.1 \r\nL 87.649554 143.1 \r\nL 87.649554 133.392857 \r\n\" style=\"fill:#ffffff;\"/>\r\n    <path clip-path=\"url(#p0c72fe43dd)\" d=\"M 95.620982 133.392857 \r\nL 103.592411 133.392857 \r\nL 103.592411 143.1 \r\nL 95.620982 143.1 \r\nL 95.620982 133.392857 \r\n\" style=\"fill:#ffffff;\"/>\r\n    <path clip-path=\"url(#p0c72fe43dd)\" d=\"M 103.592411 133.392857 \r\nL 111.563839 133.392857 \r\nL 111.563839 143.1 \r\nL 103.592411 143.1 \r\nL 103.592411 133.392857 \r\n\" style=\"fill:#737373;\"/>\r\n    <path clip-path=\"url(#p0c72fe43dd)\" d=\"M 111.563839 133.392857 \r\nL 119.535268 133.392857 \r\nL 119.535268 143.1 \r\nL 111.563839 143.1 \r\nL 111.563839 133.392857 \r\n\" style=\"fill:#010101;\"/>\r\n    <path clip-path=\"url(#p0c72fe43dd)\" d=\"M 119.535268 133.392857 \r\nL 127.506696 133.392857 \r\nL 127.506696 143.1 \r\nL 119.535268 143.1 \r\nL 119.535268 133.392857 \r\n\" style=\"fill:#010101;\"/>\r\n    <path clip-path=\"url(#p0c72fe43dd)\" d=\"M 127.506696 133.392857 \r\nL 135.478125 133.392857 \r\nL 135.478125 143.1 \r\nL 127.506696 143.1 \r\nL 127.506696 133.392857 \r\n\" style=\"fill:#010101;\"/>\r\n    <path clip-path=\"url(#p0c72fe43dd)\" d=\"M 135.478125 133.392857 \r\nL 143.449554 133.392857 \r\nL 143.449554 143.1 \r\nL 135.478125 143.1 \r\nL 135.478125 133.392857 \r\n\" style=\"fill:#010101;\"/>\r\n    <path clip-path=\"url(#p0c72fe43dd)\" d=\"M 143.449554 133.392857 \r\nL 151.420982 133.392857 \r\nL 151.420982 143.1 \r\nL 143.449554 143.1 \r\nL 143.449554 133.392857 \r\n\" style=\"fill:#010101;\"/>\r\n    <path clip-path=\"url(#p0c72fe43dd)\" d=\"M 151.420982 133.392857 \r\nL 159.392411 133.392857 \r\nL 159.392411 143.1 \r\nL 151.420982 143.1 \r\nL 151.420982 133.392857 \r\n\" style=\"fill:#010101;\"/>\r\n    <path clip-path=\"url(#p0c72fe43dd)\" d=\"M 159.392411 133.392857 \r\nL 167.363839 133.392857 \r\nL 167.363839 143.1 \r\nL 159.392411 143.1 \r\nL 159.392411 133.392857 \r\n\" style=\"fill:#353535;\"/>\r\n    <path clip-path=\"url(#p0c72fe43dd)\" d=\"M 167.363839 133.392857 \r\nL 175.335268 133.392857 \r\nL 175.335268 143.1 \r\nL 167.363839 143.1 \r\nL 167.363839 133.392857 \r\n\" style=\"fill:#828282;\"/>\r\n    <path clip-path=\"url(#p0c72fe43dd)\" d=\"M 175.335268 133.392857 \r\nL 183.306696 133.392857 \r\nL 183.306696 143.1 \r\nL 175.335268 143.1 \r\nL 175.335268 133.392857 \r\n\" style=\"fill:#d2d2d2;\"/>\r\n    <path clip-path=\"url(#p0c72fe43dd)\" d=\"M 183.306696 133.392857 \r\nL 191.278125 133.392857 \r\nL 191.278125 143.1 \r\nL 183.306696 143.1 \r\nL 183.306696 133.392857 \r\n\" style=\"fill:#ffffff;\"/>\r\n    <path clip-path=\"url(#p0c72fe43dd)\" d=\"M 191.278125 133.392857 \r\nL 199.249554 133.392857 \r\nL 199.249554 143.1 \r\nL 191.278125 143.1 \r\nL 191.278125 133.392857 \r\n\" style=\"fill:#ffffff;\"/>\r\n    <path clip-path=\"url(#p0c72fe43dd)\" d=\"M 199.249554 133.392857 \r\nL 207.220982 133.392857 \r\nL 207.220982 143.1 \r\nL 199.249554 143.1 \r\nL 199.249554 133.392857 \r\n\" style=\"fill:#ffffff;\"/>\r\n    <path clip-path=\"url(#p0c72fe43dd)\" d=\"M 207.220982 133.392857 \r\nL 215.192411 133.392857 \r\nL 215.192411 143.1 \r\nL 207.220982 143.1 \r\nL 207.220982 133.392857 \r\n\" style=\"fill:#ffffff;\"/>\r\n    <path clip-path=\"url(#p0c72fe43dd)\" d=\"M 215.192411 133.392857 \r\nL 223.163839 133.392857 \r\nL 223.163839 143.1 \r\nL 215.192411 143.1 \r\nL 215.192411 133.392857 \r\n\" style=\"fill:#ffffff;\"/>\r\n    <path clip-path=\"url(#p0c72fe43dd)\" d=\"M 223.163839 133.392857 \r\nL 231.135268 133.392857 \r\nL 231.135268 143.1 \r\nL 223.163839 143.1 \r\nL 223.163839 133.392857 \r\n\" style=\"fill:#ffffff;\"/>\r\n    <path clip-path=\"url(#p0c72fe43dd)\" d=\"M 231.135268 133.392857 \r\nL 239.106696 133.392857 \r\nL 239.106696 143.1 \r\nL 231.135268 143.1 \r\nL 231.135268 133.392857 \r\n\" style=\"fill:#ffffff;\"/>\r\n    <path clip-path=\"url(#p0c72fe43dd)\" d=\"M 239.106696 133.392857 \r\nL 247.078125 133.392857 \r\nL 247.078125 143.1 \r\nL 239.106696 143.1 \r\nL 239.106696 133.392857 \r\n\" style=\"fill:#ffffff;\"/>\r\n    <path clip-path=\"url(#p0c72fe43dd)\" d=\"M 23.878125 143.1 \r\nL 31.849554 143.1 \r\nL 31.849554 152.807143 \r\nL 23.878125 152.807143 \r\nL 23.878125 143.1 \r\n\" style=\"fill:#ffffff;\"/>\r\n    <path clip-path=\"url(#p0c72fe43dd)\" d=\"M 31.849554 143.1 \r\nL 39.820982 143.1 \r\nL 39.820982 152.807143 \r\nL 31.849554 152.807143 \r\nL 31.849554 143.1 \r\n\" style=\"fill:#ffffff;\"/>\r\n    <path clip-path=\"url(#p0c72fe43dd)\" d=\"M 39.820982 143.1 \r\nL 47.792411 143.1 \r\nL 47.792411 152.807143 \r\nL 39.820982 152.807143 \r\nL 39.820982 143.1 \r\n\" style=\"fill:#ffffff;\"/>\r\n    <path clip-path=\"url(#p0c72fe43dd)\" d=\"M 47.792411 143.1 \r\nL 55.763839 143.1 \r\nL 55.763839 152.807143 \r\nL 47.792411 152.807143 \r\nL 47.792411 143.1 \r\n\" style=\"fill:#ffffff;\"/>\r\n    <path clip-path=\"url(#p0c72fe43dd)\" d=\"M 55.763839 143.1 \r\nL 63.735268 143.1 \r\nL 63.735268 152.807143 \r\nL 55.763839 152.807143 \r\nL 55.763839 143.1 \r\n\" style=\"fill:#ffffff;\"/>\r\n    <path clip-path=\"url(#p0c72fe43dd)\" d=\"M 63.735268 143.1 \r\nL 71.706696 143.1 \r\nL 71.706696 152.807143 \r\nL 63.735268 152.807143 \r\nL 63.735268 143.1 \r\n\" style=\"fill:#ffffff;\"/>\r\n    <path clip-path=\"url(#p0c72fe43dd)\" d=\"M 71.706696 143.1 \r\nL 79.678125 143.1 \r\nL 79.678125 152.807143 \r\nL 71.706696 152.807143 \r\nL 71.706696 143.1 \r\n\" style=\"fill:#ffffff;\"/>\r\n    <path clip-path=\"url(#p0c72fe43dd)\" d=\"M 79.678125 143.1 \r\nL 87.649554 143.1 \r\nL 87.649554 152.807143 \r\nL 79.678125 152.807143 \r\nL 79.678125 143.1 \r\n\" style=\"fill:#ffffff;\"/>\r\n    <path clip-path=\"url(#p0c72fe43dd)\" d=\"M 87.649554 143.1 \r\nL 95.620982 143.1 \r\nL 95.620982 152.807143 \r\nL 87.649554 152.807143 \r\nL 87.649554 143.1 \r\n\" style=\"fill:#ffffff;\"/>\r\n    <path clip-path=\"url(#p0c72fe43dd)\" d=\"M 95.620982 143.1 \r\nL 103.592411 143.1 \r\nL 103.592411 152.807143 \r\nL 95.620982 152.807143 \r\nL 95.620982 143.1 \r\n\" style=\"fill:#ffffff;\"/>\r\n    <path clip-path=\"url(#p0c72fe43dd)\" d=\"M 103.592411 143.1 \r\nL 111.563839 143.1 \r\nL 111.563839 152.807143 \r\nL 103.592411 152.807143 \r\nL 103.592411 143.1 \r\n\" style=\"fill:#c5c5c5;\"/>\r\n    <path clip-path=\"url(#p0c72fe43dd)\" d=\"M 111.563839 143.1 \r\nL 119.535268 143.1 \r\nL 119.535268 152.807143 \r\nL 111.563839 152.807143 \r\nL 111.563839 143.1 \r\n\" style=\"fill:#4a4a4a;\"/>\r\n    <path clip-path=\"url(#p0c72fe43dd)\" d=\"M 119.535268 143.1 \r\nL 127.506696 143.1 \r\nL 127.506696 152.807143 \r\nL 119.535268 152.807143 \r\nL 119.535268 143.1 \r\n\" style=\"fill:#151515;\"/>\r\n    <path clip-path=\"url(#p0c72fe43dd)\" d=\"M 127.506696 143.1 \r\nL 135.478125 143.1 \r\nL 135.478125 152.807143 \r\nL 127.506696 152.807143 \r\nL 127.506696 143.1 \r\n\" style=\"fill:#010101;\"/>\r\n    <path clip-path=\"url(#p0c72fe43dd)\" d=\"M 135.478125 143.1 \r\nL 143.449554 143.1 \r\nL 143.449554 152.807143 \r\nL 135.478125 152.807143 \r\nL 135.478125 143.1 \r\n\" style=\"fill:#010101;\"/>\r\n    <path clip-path=\"url(#p0c72fe43dd)\" d=\"M 143.449554 143.1 \r\nL 151.420982 143.1 \r\nL 151.420982 152.807143 \r\nL 143.449554 152.807143 \r\nL 143.449554 143.1 \r\n\" style=\"fill:#010101;\"/>\r\n    <path clip-path=\"url(#p0c72fe43dd)\" d=\"M 151.420982 143.1 \r\nL 159.392411 143.1 \r\nL 159.392411 152.807143 \r\nL 151.420982 152.807143 \r\nL 151.420982 143.1 \r\n\" style=\"fill:#010101;\"/>\r\n    <path clip-path=\"url(#p0c72fe43dd)\" d=\"M 159.392411 143.1 \r\nL 167.363839 143.1 \r\nL 167.363839 152.807143 \r\nL 159.392411 152.807143 \r\nL 159.392411 143.1 \r\n\" style=\"fill:#010101;\"/>\r\n    <path clip-path=\"url(#p0c72fe43dd)\" d=\"M 167.363839 143.1 \r\nL 175.335268 143.1 \r\nL 175.335268 152.807143 \r\nL 167.363839 152.807143 \r\nL 167.363839 143.1 \r\n\" style=\"fill:#010101;\"/>\r\n    <path clip-path=\"url(#p0c72fe43dd)\" d=\"M 175.335268 143.1 \r\nL 183.306696 143.1 \r\nL 183.306696 152.807143 \r\nL 175.335268 152.807143 \r\nL 175.335268 143.1 \r\n\" style=\"fill:#030303;\"/>\r\n    <path clip-path=\"url(#p0c72fe43dd)\" d=\"M 183.306696 143.1 \r\nL 191.278125 143.1 \r\nL 191.278125 152.807143 \r\nL 183.306696 152.807143 \r\nL 183.306696 143.1 \r\n\" style=\"fill:#737373;\"/>\r\n    <path clip-path=\"url(#p0c72fe43dd)\" d=\"M 191.278125 143.1 \r\nL 199.249554 143.1 \r\nL 199.249554 152.807143 \r\nL 191.278125 152.807143 \r\nL 191.278125 143.1 \r\n\" style=\"fill:#e9e9e9;\"/>\r\n    <path clip-path=\"url(#p0c72fe43dd)\" d=\"M 199.249554 143.1 \r\nL 207.220982 143.1 \r\nL 207.220982 152.807143 \r\nL 199.249554 152.807143 \r\nL 199.249554 143.1 \r\n\" style=\"fill:#ffffff;\"/>\r\n    <path clip-path=\"url(#p0c72fe43dd)\" d=\"M 207.220982 143.1 \r\nL 215.192411 143.1 \r\nL 215.192411 152.807143 \r\nL 207.220982 152.807143 \r\nL 207.220982 143.1 \r\n\" style=\"fill:#ffffff;\"/>\r\n    <path clip-path=\"url(#p0c72fe43dd)\" d=\"M 215.192411 143.1 \r\nL 223.163839 143.1 \r\nL 223.163839 152.807143 \r\nL 215.192411 152.807143 \r\nL 215.192411 143.1 \r\n\" style=\"fill:#ffffff;\"/>\r\n    <path clip-path=\"url(#p0c72fe43dd)\" d=\"M 223.163839 143.1 \r\nL 231.135268 143.1 \r\nL 231.135268 152.807143 \r\nL 223.163839 152.807143 \r\nL 223.163839 143.1 \r\n\" style=\"fill:#ffffff;\"/>\r\n    <path clip-path=\"url(#p0c72fe43dd)\" d=\"M 231.135268 143.1 \r\nL 239.106696 143.1 \r\nL 239.106696 152.807143 \r\nL 231.135268 152.807143 \r\nL 231.135268 143.1 \r\n\" style=\"fill:#ffffff;\"/>\r\n    <path clip-path=\"url(#p0c72fe43dd)\" d=\"M 239.106696 143.1 \r\nL 247.078125 143.1 \r\nL 247.078125 152.807143 \r\nL 239.106696 152.807143 \r\nL 239.106696 143.1 \r\n\" style=\"fill:#ffffff;\"/>\r\n    <path clip-path=\"url(#p0c72fe43dd)\" d=\"M 23.878125 152.807143 \r\nL 31.849554 152.807143 \r\nL 31.849554 162.514286 \r\nL 23.878125 162.514286 \r\nL 23.878125 152.807143 \r\n\" style=\"fill:#ffffff;\"/>\r\n    <path clip-path=\"url(#p0c72fe43dd)\" d=\"M 31.849554 152.807143 \r\nL 39.820982 152.807143 \r\nL 39.820982 162.514286 \r\nL 31.849554 162.514286 \r\nL 31.849554 152.807143 \r\n\" style=\"fill:#ffffff;\"/>\r\n    <path clip-path=\"url(#p0c72fe43dd)\" d=\"M 39.820982 152.807143 \r\nL 47.792411 152.807143 \r\nL 47.792411 162.514286 \r\nL 39.820982 162.514286 \r\nL 39.820982 152.807143 \r\n\" style=\"fill:#ffffff;\"/>\r\n    <path clip-path=\"url(#p0c72fe43dd)\" d=\"M 47.792411 152.807143 \r\nL 55.763839 152.807143 \r\nL 55.763839 162.514286 \r\nL 47.792411 162.514286 \r\nL 47.792411 152.807143 \r\n\" style=\"fill:#ffffff;\"/>\r\n    <path clip-path=\"url(#p0c72fe43dd)\" d=\"M 55.763839 152.807143 \r\nL 63.735268 152.807143 \r\nL 63.735268 162.514286 \r\nL 55.763839 162.514286 \r\nL 55.763839 152.807143 \r\n\" style=\"fill:#ffffff;\"/>\r\n    <path clip-path=\"url(#p0c72fe43dd)\" d=\"M 63.735268 152.807143 \r\nL 71.706696 152.807143 \r\nL 71.706696 162.514286 \r\nL 63.735268 162.514286 \r\nL 63.735268 152.807143 \r\n\" style=\"fill:#ffffff;\"/>\r\n    <path clip-path=\"url(#p0c72fe43dd)\" d=\"M 71.706696 152.807143 \r\nL 79.678125 152.807143 \r\nL 79.678125 162.514286 \r\nL 71.706696 162.514286 \r\nL 71.706696 152.807143 \r\n\" style=\"fill:#ffffff;\"/>\r\n    <path clip-path=\"url(#p0c72fe43dd)\" d=\"M 79.678125 152.807143 \r\nL 87.649554 152.807143 \r\nL 87.649554 162.514286 \r\nL 79.678125 162.514286 \r\nL 79.678125 152.807143 \r\n\" style=\"fill:#ffffff;\"/>\r\n    <path clip-path=\"url(#p0c72fe43dd)\" d=\"M 87.649554 152.807143 \r\nL 95.620982 152.807143 \r\nL 95.620982 162.514286 \r\nL 87.649554 162.514286 \r\nL 87.649554 152.807143 \r\n\" style=\"fill:#ffffff;\"/>\r\n    <path clip-path=\"url(#p0c72fe43dd)\" d=\"M 95.620982 152.807143 \r\nL 103.592411 152.807143 \r\nL 103.592411 162.514286 \r\nL 95.620982 162.514286 \r\nL 95.620982 152.807143 \r\n\" style=\"fill:#ffffff;\"/>\r\n    <path clip-path=\"url(#p0c72fe43dd)\" d=\"M 103.592411 152.807143 \r\nL 111.563839 152.807143 \r\nL 111.563839 162.514286 \r\nL 103.592411 162.514286 \r\nL 103.592411 152.807143 \r\n\" style=\"fill:#ffffff;\"/>\r\n    <path clip-path=\"url(#p0c72fe43dd)\" d=\"M 111.563839 152.807143 \r\nL 119.535268 152.807143 \r\nL 119.535268 162.514286 \r\nL 111.563839 162.514286 \r\nL 111.563839 152.807143 \r\n\" style=\"fill:#ffffff;\"/>\r\n    <path clip-path=\"url(#p0c72fe43dd)\" d=\"M 119.535268 152.807143 \r\nL 127.506696 152.807143 \r\nL 127.506696 162.514286 \r\nL 119.535268 162.514286 \r\nL 119.535268 152.807143 \r\n\" style=\"fill:#e1e1e1;\"/>\r\n    <path clip-path=\"url(#p0c72fe43dd)\" d=\"M 127.506696 152.807143 \r\nL 135.478125 152.807143 \r\nL 135.478125 162.514286 \r\nL 127.506696 162.514286 \r\nL 127.506696 152.807143 \r\n\" style=\"fill:#cdcdcd;\"/>\r\n    <path clip-path=\"url(#p0c72fe43dd)\" d=\"M 135.478125 152.807143 \r\nL 143.449554 152.807143 \r\nL 143.449554 162.514286 \r\nL 135.478125 162.514286 \r\nL 135.478125 152.807143 \r\n\" style=\"fill:#b6b6b6;\"/>\r\n    <path clip-path=\"url(#p0c72fe43dd)\" d=\"M 143.449554 152.807143 \r\nL 151.420982 152.807143 \r\nL 151.420982 162.514286 \r\nL 143.449554 162.514286 \r\nL 143.449554 152.807143 \r\n\" style=\"fill:#646464;\"/>\r\n    <path clip-path=\"url(#p0c72fe43dd)\" d=\"M 151.420982 152.807143 \r\nL 159.392411 152.807143 \r\nL 159.392411 162.514286 \r\nL 151.420982 162.514286 \r\nL 151.420982 152.807143 \r\n\" style=\"fill:#020202;\"/>\r\n    <path clip-path=\"url(#p0c72fe43dd)\" d=\"M 159.392411 152.807143 \r\nL 167.363839 152.807143 \r\nL 167.363839 162.514286 \r\nL 159.392411 162.514286 \r\nL 159.392411 152.807143 \r\n\" style=\"fill:#010101;\"/>\r\n    <path clip-path=\"url(#p0c72fe43dd)\" d=\"M 167.363839 152.807143 \r\nL 175.335268 152.807143 \r\nL 175.335268 162.514286 \r\nL 167.363839 162.514286 \r\nL 167.363839 152.807143 \r\n\" style=\"fill:#010101;\"/>\r\n    <path clip-path=\"url(#p0c72fe43dd)\" d=\"M 175.335268 152.807143 \r\nL 183.306696 152.807143 \r\nL 183.306696 162.514286 \r\nL 175.335268 162.514286 \r\nL 175.335268 152.807143 \r\n\" style=\"fill:#010101;\"/>\r\n    <path clip-path=\"url(#p0c72fe43dd)\" d=\"M 183.306696 152.807143 \r\nL 191.278125 152.807143 \r\nL 191.278125 162.514286 \r\nL 183.306696 162.514286 \r\nL 183.306696 152.807143 \r\n\" style=\"fill:#010101;\"/>\r\n    <path clip-path=\"url(#p0c72fe43dd)\" d=\"M 191.278125 152.807143 \r\nL 199.249554 152.807143 \r\nL 199.249554 162.514286 \r\nL 191.278125 162.514286 \r\nL 191.278125 152.807143 \r\n\" style=\"fill:#404040;\"/>\r\n    <path clip-path=\"url(#p0c72fe43dd)\" d=\"M 199.249554 152.807143 \r\nL 207.220982 152.807143 \r\nL 207.220982 162.514286 \r\nL 199.249554 162.514286 \r\nL 199.249554 152.807143 \r\n\" style=\"fill:#fdfdfd;\"/>\r\n    <path clip-path=\"url(#p0c72fe43dd)\" d=\"M 207.220982 152.807143 \r\nL 215.192411 152.807143 \r\nL 215.192411 162.514286 \r\nL 207.220982 162.514286 \r\nL 207.220982 152.807143 \r\n\" style=\"fill:#ffffff;\"/>\r\n    <path clip-path=\"url(#p0c72fe43dd)\" d=\"M 215.192411 152.807143 \r\nL 223.163839 152.807143 \r\nL 223.163839 162.514286 \r\nL 215.192411 162.514286 \r\nL 215.192411 152.807143 \r\n\" style=\"fill:#ffffff;\"/>\r\n    <path clip-path=\"url(#p0c72fe43dd)\" d=\"M 223.163839 152.807143 \r\nL 231.135268 152.807143 \r\nL 231.135268 162.514286 \r\nL 223.163839 162.514286 \r\nL 223.163839 152.807143 \r\n\" style=\"fill:#ffffff;\"/>\r\n    <path clip-path=\"url(#p0c72fe43dd)\" d=\"M 231.135268 152.807143 \r\nL 239.106696 152.807143 \r\nL 239.106696 162.514286 \r\nL 231.135268 162.514286 \r\nL 231.135268 152.807143 \r\n\" style=\"fill:#ffffff;\"/>\r\n    <path clip-path=\"url(#p0c72fe43dd)\" d=\"M 239.106696 152.807143 \r\nL 247.078125 152.807143 \r\nL 247.078125 162.514286 \r\nL 239.106696 162.514286 \r\nL 239.106696 152.807143 \r\n\" style=\"fill:#ffffff;\"/>\r\n    <path clip-path=\"url(#p0c72fe43dd)\" d=\"M 23.878125 162.514286 \r\nL 31.849554 162.514286 \r\nL 31.849554 172.221429 \r\nL 23.878125 172.221429 \r\nL 23.878125 162.514286 \r\n\" style=\"fill:#ffffff;\"/>\r\n    <path clip-path=\"url(#p0c72fe43dd)\" d=\"M 31.849554 162.514286 \r\nL 39.820982 162.514286 \r\nL 39.820982 172.221429 \r\nL 31.849554 172.221429 \r\nL 31.849554 162.514286 \r\n\" style=\"fill:#ffffff;\"/>\r\n    <path clip-path=\"url(#p0c72fe43dd)\" d=\"M 39.820982 162.514286 \r\nL 47.792411 162.514286 \r\nL 47.792411 172.221429 \r\nL 39.820982 172.221429 \r\nL 39.820982 162.514286 \r\n\" style=\"fill:#ffffff;\"/>\r\n    <path clip-path=\"url(#p0c72fe43dd)\" d=\"M 47.792411 162.514286 \r\nL 55.763839 162.514286 \r\nL 55.763839 172.221429 \r\nL 47.792411 172.221429 \r\nL 47.792411 162.514286 \r\n\" style=\"fill:#ffffff;\"/>\r\n    <path clip-path=\"url(#p0c72fe43dd)\" d=\"M 55.763839 162.514286 \r\nL 63.735268 162.514286 \r\nL 63.735268 172.221429 \r\nL 55.763839 172.221429 \r\nL 55.763839 162.514286 \r\n\" style=\"fill:#ffffff;\"/>\r\n    <path clip-path=\"url(#p0c72fe43dd)\" d=\"M 63.735268 162.514286 \r\nL 71.706696 162.514286 \r\nL 71.706696 172.221429 \r\nL 63.735268 172.221429 \r\nL 63.735268 162.514286 \r\n\" style=\"fill:#ffffff;\"/>\r\n    <path clip-path=\"url(#p0c72fe43dd)\" d=\"M 71.706696 162.514286 \r\nL 79.678125 162.514286 \r\nL 79.678125 172.221429 \r\nL 71.706696 172.221429 \r\nL 71.706696 162.514286 \r\n\" style=\"fill:#ffffff;\"/>\r\n    <path clip-path=\"url(#p0c72fe43dd)\" d=\"M 79.678125 162.514286 \r\nL 87.649554 162.514286 \r\nL 87.649554 172.221429 \r\nL 79.678125 172.221429 \r\nL 79.678125 162.514286 \r\n\" style=\"fill:#ffffff;\"/>\r\n    <path clip-path=\"url(#p0c72fe43dd)\" d=\"M 87.649554 162.514286 \r\nL 95.620982 162.514286 \r\nL 95.620982 172.221429 \r\nL 87.649554 172.221429 \r\nL 87.649554 162.514286 \r\n\" style=\"fill:#ffffff;\"/>\r\n    <path clip-path=\"url(#p0c72fe43dd)\" d=\"M 95.620982 162.514286 \r\nL 103.592411 162.514286 \r\nL 103.592411 172.221429 \r\nL 95.620982 172.221429 \r\nL 95.620982 162.514286 \r\n\" style=\"fill:#ffffff;\"/>\r\n    <path clip-path=\"url(#p0c72fe43dd)\" d=\"M 103.592411 162.514286 \r\nL 111.563839 162.514286 \r\nL 111.563839 172.221429 \r\nL 103.592411 172.221429 \r\nL 103.592411 162.514286 \r\n\" style=\"fill:#ffffff;\"/>\r\n    <path clip-path=\"url(#p0c72fe43dd)\" d=\"M 111.563839 162.514286 \r\nL 119.535268 162.514286 \r\nL 119.535268 172.221429 \r\nL 111.563839 172.221429 \r\nL 111.563839 162.514286 \r\n\" style=\"fill:#ffffff;\"/>\r\n    <path clip-path=\"url(#p0c72fe43dd)\" d=\"M 119.535268 162.514286 \r\nL 127.506696 162.514286 \r\nL 127.506696 172.221429 \r\nL 119.535268 172.221429 \r\nL 119.535268 162.514286 \r\n\" style=\"fill:#ffffff;\"/>\r\n    <path clip-path=\"url(#p0c72fe43dd)\" d=\"M 127.506696 162.514286 \r\nL 135.478125 162.514286 \r\nL 135.478125 172.221429 \r\nL 127.506696 172.221429 \r\nL 127.506696 162.514286 \r\n\" style=\"fill:#ffffff;\"/>\r\n    <path clip-path=\"url(#p0c72fe43dd)\" d=\"M 135.478125 162.514286 \r\nL 143.449554 162.514286 \r\nL 143.449554 172.221429 \r\nL 135.478125 172.221429 \r\nL 135.478125 162.514286 \r\n\" style=\"fill:#ffffff;\"/>\r\n    <path clip-path=\"url(#p0c72fe43dd)\" d=\"M 143.449554 162.514286 \r\nL 151.420982 162.514286 \r\nL 151.420982 172.221429 \r\nL 143.449554 172.221429 \r\nL 143.449554 162.514286 \r\n\" style=\"fill:#ffffff;\"/>\r\n    <path clip-path=\"url(#p0c72fe43dd)\" d=\"M 151.420982 162.514286 \r\nL 159.392411 162.514286 \r\nL 159.392411 172.221429 \r\nL 151.420982 172.221429 \r\nL 151.420982 162.514286 \r\n\" style=\"fill:#a4a4a4;\"/>\r\n    <path clip-path=\"url(#p0c72fe43dd)\" d=\"M 159.392411 162.514286 \r\nL 167.363839 162.514286 \r\nL 167.363839 172.221429 \r\nL 159.392411 172.221429 \r\nL 159.392411 162.514286 \r\n\" style=\"fill:#373737;\"/>\r\n    <path clip-path=\"url(#p0c72fe43dd)\" d=\"M 167.363839 162.514286 \r\nL 175.335268 162.514286 \r\nL 175.335268 172.221429 \r\nL 167.363839 172.221429 \r\nL 167.363839 162.514286 \r\n\" style=\"fill:#010101;\"/>\r\n    <path clip-path=\"url(#p0c72fe43dd)\" d=\"M 175.335268 162.514286 \r\nL 183.306696 162.514286 \r\nL 183.306696 172.221429 \r\nL 175.335268 172.221429 \r\nL 175.335268 162.514286 \r\n\" style=\"fill:#010101;\"/>\r\n    <path clip-path=\"url(#p0c72fe43dd)\" d=\"M 183.306696 162.514286 \r\nL 191.278125 162.514286 \r\nL 191.278125 172.221429 \r\nL 183.306696 172.221429 \r\nL 183.306696 162.514286 \r\n\" style=\"fill:#010101;\"/>\r\n    <path clip-path=\"url(#p0c72fe43dd)\" d=\"M 191.278125 162.514286 \r\nL 199.249554 162.514286 \r\nL 199.249554 172.221429 \r\nL 191.278125 172.221429 \r\nL 191.278125 162.514286 \r\n\" style=\"fill:#010101;\"/>\r\n    <path clip-path=\"url(#p0c72fe43dd)\" d=\"M 199.249554 162.514286 \r\nL 207.220982 162.514286 \r\nL 207.220982 172.221429 \r\nL 199.249554 172.221429 \r\nL 199.249554 162.514286 \r\n\" style=\"fill:#898989;\"/>\r\n    <path clip-path=\"url(#p0c72fe43dd)\" d=\"M 207.220982 162.514286 \r\nL 215.192411 162.514286 \r\nL 215.192411 172.221429 \r\nL 207.220982 172.221429 \r\nL 207.220982 162.514286 \r\n\" style=\"fill:#ffffff;\"/>\r\n    <path clip-path=\"url(#p0c72fe43dd)\" d=\"M 215.192411 162.514286 \r\nL 223.163839 162.514286 \r\nL 223.163839 172.221429 \r\nL 215.192411 172.221429 \r\nL 215.192411 162.514286 \r\n\" style=\"fill:#ffffff;\"/>\r\n    <path clip-path=\"url(#p0c72fe43dd)\" d=\"M 223.163839 162.514286 \r\nL 231.135268 162.514286 \r\nL 231.135268 172.221429 \r\nL 223.163839 172.221429 \r\nL 223.163839 162.514286 \r\n\" style=\"fill:#ffffff;\"/>\r\n    <path clip-path=\"url(#p0c72fe43dd)\" d=\"M 231.135268 162.514286 \r\nL 239.106696 162.514286 \r\nL 239.106696 172.221429 \r\nL 231.135268 172.221429 \r\nL 231.135268 162.514286 \r\n\" style=\"fill:#ffffff;\"/>\r\n    <path clip-path=\"url(#p0c72fe43dd)\" d=\"M 239.106696 162.514286 \r\nL 247.078125 162.514286 \r\nL 247.078125 172.221429 \r\nL 239.106696 172.221429 \r\nL 239.106696 162.514286 \r\n\" style=\"fill:#ffffff;\"/>\r\n    <path clip-path=\"url(#p0c72fe43dd)\" d=\"M 23.878125 172.221429 \r\nL 31.849554 172.221429 \r\nL 31.849554 181.928571 \r\nL 23.878125 181.928571 \r\nL 23.878125 172.221429 \r\n\" style=\"fill:#ffffff;\"/>\r\n    <path clip-path=\"url(#p0c72fe43dd)\" d=\"M 31.849554 172.221429 \r\nL 39.820982 172.221429 \r\nL 39.820982 181.928571 \r\nL 31.849554 181.928571 \r\nL 31.849554 172.221429 \r\n\" style=\"fill:#ffffff;\"/>\r\n    <path clip-path=\"url(#p0c72fe43dd)\" d=\"M 39.820982 172.221429 \r\nL 47.792411 172.221429 \r\nL 47.792411 181.928571 \r\nL 39.820982 181.928571 \r\nL 39.820982 172.221429 \r\n\" style=\"fill:#ffffff;\"/>\r\n    <path clip-path=\"url(#p0c72fe43dd)\" d=\"M 47.792411 172.221429 \r\nL 55.763839 172.221429 \r\nL 55.763839 181.928571 \r\nL 47.792411 181.928571 \r\nL 47.792411 172.221429 \r\n\" style=\"fill:#ffffff;\"/>\r\n    <path clip-path=\"url(#p0c72fe43dd)\" d=\"M 55.763839 172.221429 \r\nL 63.735268 172.221429 \r\nL 63.735268 181.928571 \r\nL 55.763839 181.928571 \r\nL 55.763839 172.221429 \r\n\" style=\"fill:#ffffff;\"/>\r\n    <path clip-path=\"url(#p0c72fe43dd)\" d=\"M 63.735268 172.221429 \r\nL 71.706696 172.221429 \r\nL 71.706696 181.928571 \r\nL 63.735268 181.928571 \r\nL 63.735268 172.221429 \r\n\" style=\"fill:#ffffff;\"/>\r\n    <path clip-path=\"url(#p0c72fe43dd)\" d=\"M 71.706696 172.221429 \r\nL 79.678125 172.221429 \r\nL 79.678125 181.928571 \r\nL 71.706696 181.928571 \r\nL 71.706696 172.221429 \r\n\" style=\"fill:#ffffff;\"/>\r\n    <path clip-path=\"url(#p0c72fe43dd)\" d=\"M 79.678125 172.221429 \r\nL 87.649554 172.221429 \r\nL 87.649554 181.928571 \r\nL 79.678125 181.928571 \r\nL 79.678125 172.221429 \r\n\" style=\"fill:#ffffff;\"/>\r\n    <path clip-path=\"url(#p0c72fe43dd)\" d=\"M 87.649554 172.221429 \r\nL 95.620982 172.221429 \r\nL 95.620982 181.928571 \r\nL 87.649554 181.928571 \r\nL 87.649554 172.221429 \r\n\" style=\"fill:#ffffff;\"/>\r\n    <path clip-path=\"url(#p0c72fe43dd)\" d=\"M 95.620982 172.221429 \r\nL 103.592411 172.221429 \r\nL 103.592411 181.928571 \r\nL 95.620982 181.928571 \r\nL 95.620982 172.221429 \r\n\" style=\"fill:#ffffff;\"/>\r\n    <path clip-path=\"url(#p0c72fe43dd)\" d=\"M 103.592411 172.221429 \r\nL 111.563839 172.221429 \r\nL 111.563839 181.928571 \r\nL 103.592411 181.928571 \r\nL 103.592411 172.221429 \r\n\" style=\"fill:#ffffff;\"/>\r\n    <path clip-path=\"url(#p0c72fe43dd)\" d=\"M 111.563839 172.221429 \r\nL 119.535268 172.221429 \r\nL 119.535268 181.928571 \r\nL 111.563839 181.928571 \r\nL 111.563839 172.221429 \r\n\" style=\"fill:#ffffff;\"/>\r\n    <path clip-path=\"url(#p0c72fe43dd)\" d=\"M 119.535268 172.221429 \r\nL 127.506696 172.221429 \r\nL 127.506696 181.928571 \r\nL 119.535268 181.928571 \r\nL 119.535268 172.221429 \r\n\" style=\"fill:#ffffff;\"/>\r\n    <path clip-path=\"url(#p0c72fe43dd)\" d=\"M 127.506696 172.221429 \r\nL 135.478125 172.221429 \r\nL 135.478125 181.928571 \r\nL 127.506696 181.928571 \r\nL 127.506696 172.221429 \r\n\" style=\"fill:#ffffff;\"/>\r\n    <path clip-path=\"url(#p0c72fe43dd)\" d=\"M 135.478125 172.221429 \r\nL 143.449554 172.221429 \r\nL 143.449554 181.928571 \r\nL 135.478125 181.928571 \r\nL 135.478125 172.221429 \r\n\" style=\"fill:#ffffff;\"/>\r\n    <path clip-path=\"url(#p0c72fe43dd)\" d=\"M 143.449554 172.221429 \r\nL 151.420982 172.221429 \r\nL 151.420982 181.928571 \r\nL 143.449554 181.928571 \r\nL 143.449554 172.221429 \r\n\" style=\"fill:#ffffff;\"/>\r\n    <path clip-path=\"url(#p0c72fe43dd)\" d=\"M 151.420982 172.221429 \r\nL 159.392411 172.221429 \r\nL 159.392411 181.928571 \r\nL 151.420982 181.928571 \r\nL 151.420982 172.221429 \r\n\" style=\"fill:#ffffff;\"/>\r\n    <path clip-path=\"url(#p0c72fe43dd)\" d=\"M 159.392411 172.221429 \r\nL 167.363839 172.221429 \r\nL 167.363839 181.928571 \r\nL 159.392411 181.928571 \r\nL 159.392411 172.221429 \r\n\" style=\"fill:#fbfbfb;\"/>\r\n    <path clip-path=\"url(#p0c72fe43dd)\" d=\"M 167.363839 172.221429 \r\nL 175.335268 172.221429 \r\nL 175.335268 181.928571 \r\nL 167.363839 181.928571 \r\nL 167.363839 172.221429 \r\n\" style=\"fill:#3f3f3f;\"/>\r\n    <path clip-path=\"url(#p0c72fe43dd)\" d=\"M 175.335268 172.221429 \r\nL 183.306696 172.221429 \r\nL 183.306696 181.928571 \r\nL 175.335268 181.928571 \r\nL 175.335268 172.221429 \r\n\" style=\"fill:#010101;\"/>\r\n    <path clip-path=\"url(#p0c72fe43dd)\" d=\"M 183.306696 172.221429 \r\nL 191.278125 172.221429 \r\nL 191.278125 181.928571 \r\nL 183.306696 181.928571 \r\nL 183.306696 172.221429 \r\n\" style=\"fill:#010101;\"/>\r\n    <path clip-path=\"url(#p0c72fe43dd)\" d=\"M 191.278125 172.221429 \r\nL 199.249554 172.221429 \r\nL 199.249554 181.928571 \r\nL 191.278125 181.928571 \r\nL 191.278125 172.221429 \r\n\" style=\"fill:#010101;\"/>\r\n    <path clip-path=\"url(#p0c72fe43dd)\" d=\"M 199.249554 172.221429 \r\nL 207.220982 172.221429 \r\nL 207.220982 181.928571 \r\nL 199.249554 181.928571 \r\nL 199.249554 172.221429 \r\n\" style=\"fill:#656565;\"/>\r\n    <path clip-path=\"url(#p0c72fe43dd)\" d=\"M 207.220982 172.221429 \r\nL 215.192411 172.221429 \r\nL 215.192411 181.928571 \r\nL 207.220982 181.928571 \r\nL 207.220982 172.221429 \r\n\" style=\"fill:#ffffff;\"/>\r\n    <path clip-path=\"url(#p0c72fe43dd)\" d=\"M 215.192411 172.221429 \r\nL 223.163839 172.221429 \r\nL 223.163839 181.928571 \r\nL 215.192411 181.928571 \r\nL 215.192411 172.221429 \r\n\" style=\"fill:#ffffff;\"/>\r\n    <path clip-path=\"url(#p0c72fe43dd)\" d=\"M 223.163839 172.221429 \r\nL 231.135268 172.221429 \r\nL 231.135268 181.928571 \r\nL 223.163839 181.928571 \r\nL 223.163839 172.221429 \r\n\" style=\"fill:#ffffff;\"/>\r\n    <path clip-path=\"url(#p0c72fe43dd)\" d=\"M 231.135268 172.221429 \r\nL 239.106696 172.221429 \r\nL 239.106696 181.928571 \r\nL 231.135268 181.928571 \r\nL 231.135268 172.221429 \r\n\" style=\"fill:#ffffff;\"/>\r\n    <path clip-path=\"url(#p0c72fe43dd)\" d=\"M 239.106696 172.221429 \r\nL 247.078125 172.221429 \r\nL 247.078125 181.928571 \r\nL 239.106696 181.928571 \r\nL 239.106696 172.221429 \r\n\" style=\"fill:#ffffff;\"/>\r\n    <path clip-path=\"url(#p0c72fe43dd)\" d=\"M 23.878125 181.928571 \r\nL 31.849554 181.928571 \r\nL 31.849554 191.635714 \r\nL 23.878125 191.635714 \r\nL 23.878125 181.928571 \r\n\" style=\"fill:#ffffff;\"/>\r\n    <path clip-path=\"url(#p0c72fe43dd)\" d=\"M 31.849554 181.928571 \r\nL 39.820982 181.928571 \r\nL 39.820982 191.635714 \r\nL 31.849554 191.635714 \r\nL 31.849554 181.928571 \r\n\" style=\"fill:#ffffff;\"/>\r\n    <path clip-path=\"url(#p0c72fe43dd)\" d=\"M 39.820982 181.928571 \r\nL 47.792411 181.928571 \r\nL 47.792411 191.635714 \r\nL 39.820982 191.635714 \r\nL 39.820982 181.928571 \r\n\" style=\"fill:#ffffff;\"/>\r\n    <path clip-path=\"url(#p0c72fe43dd)\" d=\"M 47.792411 181.928571 \r\nL 55.763839 181.928571 \r\nL 55.763839 191.635714 \r\nL 47.792411 191.635714 \r\nL 47.792411 181.928571 \r\n\" style=\"fill:#ffffff;\"/>\r\n    <path clip-path=\"url(#p0c72fe43dd)\" d=\"M 55.763839 181.928571 \r\nL 63.735268 181.928571 \r\nL 63.735268 191.635714 \r\nL 55.763839 191.635714 \r\nL 55.763839 181.928571 \r\n\" style=\"fill:#ffffff;\"/>\r\n    <path clip-path=\"url(#p0c72fe43dd)\" d=\"M 63.735268 181.928571 \r\nL 71.706696 181.928571 \r\nL 71.706696 191.635714 \r\nL 63.735268 191.635714 \r\nL 63.735268 181.928571 \r\n\" style=\"fill:#ffffff;\"/>\r\n    <path clip-path=\"url(#p0c72fe43dd)\" d=\"M 71.706696 181.928571 \r\nL 79.678125 181.928571 \r\nL 79.678125 191.635714 \r\nL 71.706696 191.635714 \r\nL 71.706696 181.928571 \r\n\" style=\"fill:#ffffff;\"/>\r\n    <path clip-path=\"url(#p0c72fe43dd)\" d=\"M 79.678125 181.928571 \r\nL 87.649554 181.928571 \r\nL 87.649554 191.635714 \r\nL 79.678125 191.635714 \r\nL 79.678125 181.928571 \r\n\" style=\"fill:#ffffff;\"/>\r\n    <path clip-path=\"url(#p0c72fe43dd)\" d=\"M 87.649554 181.928571 \r\nL 95.620982 181.928571 \r\nL 95.620982 191.635714 \r\nL 87.649554 191.635714 \r\nL 87.649554 181.928571 \r\n\" style=\"fill:#ffffff;\"/>\r\n    <path clip-path=\"url(#p0c72fe43dd)\" d=\"M 95.620982 181.928571 \r\nL 103.592411 181.928571 \r\nL 103.592411 191.635714 \r\nL 95.620982 191.635714 \r\nL 95.620982 181.928571 \r\n\" style=\"fill:#ffffff;\"/>\r\n    <path clip-path=\"url(#p0c72fe43dd)\" d=\"M 103.592411 181.928571 \r\nL 111.563839 181.928571 \r\nL 111.563839 191.635714 \r\nL 103.592411 191.635714 \r\nL 103.592411 181.928571 \r\n\" style=\"fill:#ffffff;\"/>\r\n    <path clip-path=\"url(#p0c72fe43dd)\" d=\"M 111.563839 181.928571 \r\nL 119.535268 181.928571 \r\nL 119.535268 191.635714 \r\nL 111.563839 191.635714 \r\nL 111.563839 181.928571 \r\n\" style=\"fill:#ffffff;\"/>\r\n    <path clip-path=\"url(#p0c72fe43dd)\" d=\"M 119.535268 181.928571 \r\nL 127.506696 181.928571 \r\nL 127.506696 191.635714 \r\nL 119.535268 191.635714 \r\nL 119.535268 181.928571 \r\n\" style=\"fill:#ffffff;\"/>\r\n    <path clip-path=\"url(#p0c72fe43dd)\" d=\"M 127.506696 181.928571 \r\nL 135.478125 181.928571 \r\nL 135.478125 191.635714 \r\nL 127.506696 191.635714 \r\nL 127.506696 181.928571 \r\n\" style=\"fill:#ffffff;\"/>\r\n    <path clip-path=\"url(#p0c72fe43dd)\" d=\"M 135.478125 181.928571 \r\nL 143.449554 181.928571 \r\nL 143.449554 191.635714 \r\nL 135.478125 191.635714 \r\nL 135.478125 181.928571 \r\n\" style=\"fill:#ffffff;\"/>\r\n    <path clip-path=\"url(#p0c72fe43dd)\" d=\"M 143.449554 181.928571 \r\nL 151.420982 181.928571 \r\nL 151.420982 191.635714 \r\nL 143.449554 191.635714 \r\nL 143.449554 181.928571 \r\n\" style=\"fill:#ffffff;\"/>\r\n    <path clip-path=\"url(#p0c72fe43dd)\" d=\"M 151.420982 181.928571 \r\nL 159.392411 181.928571 \r\nL 159.392411 191.635714 \r\nL 151.420982 191.635714 \r\nL 151.420982 181.928571 \r\n\" style=\"fill:#ffffff;\"/>\r\n    <path clip-path=\"url(#p0c72fe43dd)\" d=\"M 159.392411 181.928571 \r\nL 167.363839 181.928571 \r\nL 167.363839 191.635714 \r\nL 159.392411 191.635714 \r\nL 159.392411 181.928571 \r\n\" style=\"fill:#ffffff;\"/>\r\n    <path clip-path=\"url(#p0c72fe43dd)\" d=\"M 167.363839 181.928571 \r\nL 175.335268 181.928571 \r\nL 175.335268 191.635714 \r\nL 167.363839 191.635714 \r\nL 167.363839 181.928571 \r\n\" style=\"fill:#727272;\"/>\r\n    <path clip-path=\"url(#p0c72fe43dd)\" d=\"M 175.335268 181.928571 \r\nL 183.306696 181.928571 \r\nL 183.306696 191.635714 \r\nL 175.335268 191.635714 \r\nL 175.335268 181.928571 \r\n\" style=\"fill:#010101;\"/>\r\n    <path clip-path=\"url(#p0c72fe43dd)\" d=\"M 183.306696 181.928571 \r\nL 191.278125 181.928571 \r\nL 191.278125 191.635714 \r\nL 183.306696 191.635714 \r\nL 183.306696 181.928571 \r\n\" style=\"fill:#010101;\"/>\r\n    <path clip-path=\"url(#p0c72fe43dd)\" d=\"M 191.278125 181.928571 \r\nL 199.249554 181.928571 \r\nL 199.249554 191.635714 \r\nL 191.278125 191.635714 \r\nL 191.278125 181.928571 \r\n\" style=\"fill:#010101;\"/>\r\n    <path clip-path=\"url(#p0c72fe43dd)\" d=\"M 199.249554 181.928571 \r\nL 207.220982 181.928571 \r\nL 207.220982 191.635714 \r\nL 199.249554 191.635714 \r\nL 199.249554 181.928571 \r\n\" style=\"fill:#8b8b8b;\"/>\r\n    <path clip-path=\"url(#p0c72fe43dd)\" d=\"M 207.220982 181.928571 \r\nL 215.192411 181.928571 \r\nL 215.192411 191.635714 \r\nL 207.220982 191.635714 \r\nL 207.220982 181.928571 \r\n\" style=\"fill:#ffffff;\"/>\r\n    <path clip-path=\"url(#p0c72fe43dd)\" d=\"M 215.192411 181.928571 \r\nL 223.163839 181.928571 \r\nL 223.163839 191.635714 \r\nL 215.192411 191.635714 \r\nL 215.192411 181.928571 \r\n\" style=\"fill:#ffffff;\"/>\r\n    <path clip-path=\"url(#p0c72fe43dd)\" d=\"M 223.163839 181.928571 \r\nL 231.135268 181.928571 \r\nL 231.135268 191.635714 \r\nL 223.163839 191.635714 \r\nL 223.163839 181.928571 \r\n\" style=\"fill:#ffffff;\"/>\r\n    <path clip-path=\"url(#p0c72fe43dd)\" d=\"M 231.135268 181.928571 \r\nL 239.106696 181.928571 \r\nL 239.106696 191.635714 \r\nL 231.135268 191.635714 \r\nL 231.135268 181.928571 \r\n\" style=\"fill:#ffffff;\"/>\r\n    <path clip-path=\"url(#p0c72fe43dd)\" d=\"M 239.106696 181.928571 \r\nL 247.078125 181.928571 \r\nL 247.078125 191.635714 \r\nL 239.106696 191.635714 \r\nL 239.106696 181.928571 \r\n\" style=\"fill:#ffffff;\"/>\r\n    <path clip-path=\"url(#p0c72fe43dd)\" d=\"M 23.878125 191.635714 \r\nL 31.849554 191.635714 \r\nL 31.849554 201.342857 \r\nL 23.878125 201.342857 \r\nL 23.878125 191.635714 \r\n\" style=\"fill:#ffffff;\"/>\r\n    <path clip-path=\"url(#p0c72fe43dd)\" d=\"M 31.849554 191.635714 \r\nL 39.820982 191.635714 \r\nL 39.820982 201.342857 \r\nL 31.849554 201.342857 \r\nL 31.849554 191.635714 \r\n\" style=\"fill:#ffffff;\"/>\r\n    <path clip-path=\"url(#p0c72fe43dd)\" d=\"M 39.820982 191.635714 \r\nL 47.792411 191.635714 \r\nL 47.792411 201.342857 \r\nL 39.820982 201.342857 \r\nL 39.820982 191.635714 \r\n\" style=\"fill:#ffffff;\"/>\r\n    <path clip-path=\"url(#p0c72fe43dd)\" d=\"M 47.792411 191.635714 \r\nL 55.763839 191.635714 \r\nL 55.763839 201.342857 \r\nL 47.792411 201.342857 \r\nL 47.792411 191.635714 \r\n\" style=\"fill:#ffffff;\"/>\r\n    <path clip-path=\"url(#p0c72fe43dd)\" d=\"M 55.763839 191.635714 \r\nL 63.735268 191.635714 \r\nL 63.735268 201.342857 \r\nL 55.763839 201.342857 \r\nL 55.763839 191.635714 \r\n\" style=\"fill:#ffffff;\"/>\r\n    <path clip-path=\"url(#p0c72fe43dd)\" d=\"M 63.735268 191.635714 \r\nL 71.706696 191.635714 \r\nL 71.706696 201.342857 \r\nL 63.735268 201.342857 \r\nL 63.735268 191.635714 \r\n\" style=\"fill:#ffffff;\"/>\r\n    <path clip-path=\"url(#p0c72fe43dd)\" d=\"M 71.706696 191.635714 \r\nL 79.678125 191.635714 \r\nL 79.678125 201.342857 \r\nL 71.706696 201.342857 \r\nL 71.706696 191.635714 \r\n\" style=\"fill:#ffffff;\"/>\r\n    <path clip-path=\"url(#p0c72fe43dd)\" d=\"M 79.678125 191.635714 \r\nL 87.649554 191.635714 \r\nL 87.649554 201.342857 \r\nL 79.678125 201.342857 \r\nL 79.678125 191.635714 \r\n\" style=\"fill:#ffffff;\"/>\r\n    <path clip-path=\"url(#p0c72fe43dd)\" d=\"M 87.649554 191.635714 \r\nL 95.620982 191.635714 \r\nL 95.620982 201.342857 \r\nL 87.649554 201.342857 \r\nL 87.649554 191.635714 \r\n\" style=\"fill:#e6e6e6;\"/>\r\n    <path clip-path=\"url(#p0c72fe43dd)\" d=\"M 95.620982 191.635714 \r\nL 103.592411 191.635714 \r\nL 103.592411 201.342857 \r\nL 95.620982 201.342857 \r\nL 95.620982 191.635714 \r\n\" style=\"fill:#818181;\"/>\r\n    <path clip-path=\"url(#p0c72fe43dd)\" d=\"M 103.592411 191.635714 \r\nL 111.563839 191.635714 \r\nL 111.563839 201.342857 \r\nL 103.592411 201.342857 \r\nL 103.592411 191.635714 \r\n\" style=\"fill:#a9a9a9;\"/>\r\n    <path clip-path=\"url(#p0c72fe43dd)\" d=\"M 111.563839 191.635714 \r\nL 119.535268 191.635714 \r\nL 119.535268 201.342857 \r\nL 111.563839 201.342857 \r\nL 111.563839 191.635714 \r\n\" style=\"fill:#ffffff;\"/>\r\n    <path clip-path=\"url(#p0c72fe43dd)\" d=\"M 119.535268 191.635714 \r\nL 127.506696 191.635714 \r\nL 127.506696 201.342857 \r\nL 119.535268 201.342857 \r\nL 119.535268 191.635714 \r\n\" style=\"fill:#ffffff;\"/>\r\n    <path clip-path=\"url(#p0c72fe43dd)\" d=\"M 127.506696 191.635714 \r\nL 135.478125 191.635714 \r\nL 135.478125 201.342857 \r\nL 127.506696 201.342857 \r\nL 127.506696 191.635714 \r\n\" style=\"fill:#ffffff;\"/>\r\n    <path clip-path=\"url(#p0c72fe43dd)\" d=\"M 135.478125 191.635714 \r\nL 143.449554 191.635714 \r\nL 143.449554 201.342857 \r\nL 135.478125 201.342857 \r\nL 135.478125 191.635714 \r\n\" style=\"fill:#ffffff;\"/>\r\n    <path clip-path=\"url(#p0c72fe43dd)\" d=\"M 143.449554 191.635714 \r\nL 151.420982 191.635714 \r\nL 151.420982 201.342857 \r\nL 143.449554 201.342857 \r\nL 143.449554 191.635714 \r\n\" style=\"fill:#ffffff;\"/>\r\n    <path clip-path=\"url(#p0c72fe43dd)\" d=\"M 151.420982 191.635714 \r\nL 159.392411 191.635714 \r\nL 159.392411 201.342857 \r\nL 151.420982 201.342857 \r\nL 151.420982 191.635714 \r\n\" style=\"fill:#ffffff;\"/>\r\n    <path clip-path=\"url(#p0c72fe43dd)\" d=\"M 159.392411 191.635714 \r\nL 167.363839 191.635714 \r\nL 167.363839 201.342857 \r\nL 159.392411 201.342857 \r\nL 159.392411 191.635714 \r\n\" style=\"fill:#fcfcfc;\"/>\r\n    <path clip-path=\"url(#p0c72fe43dd)\" d=\"M 167.363839 191.635714 \r\nL 175.335268 191.635714 \r\nL 175.335268 201.342857 \r\nL 167.363839 201.342857 \r\nL 167.363839 191.635714 \r\n\" style=\"fill:#434343;\"/>\r\n    <path clip-path=\"url(#p0c72fe43dd)\" d=\"M 175.335268 191.635714 \r\nL 183.306696 191.635714 \r\nL 183.306696 201.342857 \r\nL 175.335268 201.342857 \r\nL 175.335268 191.635714 \r\n\" style=\"fill:#010101;\"/>\r\n    <path clip-path=\"url(#p0c72fe43dd)\" d=\"M 183.306696 191.635714 \r\nL 191.278125 191.635714 \r\nL 191.278125 201.342857 \r\nL 183.306696 201.342857 \r\nL 183.306696 191.635714 \r\n\" style=\"fill:#010101;\"/>\r\n    <path clip-path=\"url(#p0c72fe43dd)\" d=\"M 191.278125 191.635714 \r\nL 199.249554 191.635714 \r\nL 199.249554 201.342857 \r\nL 191.278125 201.342857 \r\nL 191.278125 191.635714 \r\n\" style=\"fill:#050505;\"/>\r\n    <path clip-path=\"url(#p0c72fe43dd)\" d=\"M 199.249554 191.635714 \r\nL 207.220982 191.635714 \r\nL 207.220982 201.342857 \r\nL 199.249554 201.342857 \r\nL 199.249554 191.635714 \r\n\" style=\"fill:#c2c2c2;\"/>\r\n    <path clip-path=\"url(#p0c72fe43dd)\" d=\"M 207.220982 191.635714 \r\nL 215.192411 191.635714 \r\nL 215.192411 201.342857 \r\nL 207.220982 201.342857 \r\nL 207.220982 191.635714 \r\n\" style=\"fill:#ffffff;\"/>\r\n    <path clip-path=\"url(#p0c72fe43dd)\" d=\"M 215.192411 191.635714 \r\nL 223.163839 191.635714 \r\nL 223.163839 201.342857 \r\nL 215.192411 201.342857 \r\nL 215.192411 191.635714 \r\n\" style=\"fill:#ffffff;\"/>\r\n    <path clip-path=\"url(#p0c72fe43dd)\" d=\"M 223.163839 191.635714 \r\nL 231.135268 191.635714 \r\nL 231.135268 201.342857 \r\nL 223.163839 201.342857 \r\nL 223.163839 191.635714 \r\n\" style=\"fill:#ffffff;\"/>\r\n    <path clip-path=\"url(#p0c72fe43dd)\" d=\"M 231.135268 191.635714 \r\nL 239.106696 191.635714 \r\nL 239.106696 201.342857 \r\nL 231.135268 201.342857 \r\nL 231.135268 191.635714 \r\n\" style=\"fill:#ffffff;\"/>\r\n    <path clip-path=\"url(#p0c72fe43dd)\" d=\"M 239.106696 191.635714 \r\nL 247.078125 191.635714 \r\nL 247.078125 201.342857 \r\nL 239.106696 201.342857 \r\nL 239.106696 191.635714 \r\n\" style=\"fill:#ffffff;\"/>\r\n    <path clip-path=\"url(#p0c72fe43dd)\" d=\"M 23.878125 201.342857 \r\nL 31.849554 201.342857 \r\nL 31.849554 211.05 \r\nL 23.878125 211.05 \r\nL 23.878125 201.342857 \r\n\" style=\"fill:#ffffff;\"/>\r\n    <path clip-path=\"url(#p0c72fe43dd)\" d=\"M 31.849554 201.342857 \r\nL 39.820982 201.342857 \r\nL 39.820982 211.05 \r\nL 31.849554 211.05 \r\nL 31.849554 201.342857 \r\n\" style=\"fill:#ffffff;\"/>\r\n    <path clip-path=\"url(#p0c72fe43dd)\" d=\"M 39.820982 201.342857 \r\nL 47.792411 201.342857 \r\nL 47.792411 211.05 \r\nL 39.820982 211.05 \r\nL 39.820982 201.342857 \r\n\" style=\"fill:#ffffff;\"/>\r\n    <path clip-path=\"url(#p0c72fe43dd)\" d=\"M 47.792411 201.342857 \r\nL 55.763839 201.342857 \r\nL 55.763839 211.05 \r\nL 47.792411 211.05 \r\nL 47.792411 201.342857 \r\n\" style=\"fill:#ffffff;\"/>\r\n    <path clip-path=\"url(#p0c72fe43dd)\" d=\"M 55.763839 201.342857 \r\nL 63.735268 201.342857 \r\nL 63.735268 211.05 \r\nL 55.763839 211.05 \r\nL 55.763839 201.342857 \r\n\" style=\"fill:#ffffff;\"/>\r\n    <path clip-path=\"url(#p0c72fe43dd)\" d=\"M 63.735268 201.342857 \r\nL 71.706696 201.342857 \r\nL 71.706696 211.05 \r\nL 63.735268 211.05 \r\nL 63.735268 201.342857 \r\n\" style=\"fill:#ffffff;\"/>\r\n    <path clip-path=\"url(#p0c72fe43dd)\" d=\"M 71.706696 201.342857 \r\nL 79.678125 201.342857 \r\nL 79.678125 211.05 \r\nL 71.706696 211.05 \r\nL 71.706696 201.342857 \r\n\" style=\"fill:#ffffff;\"/>\r\n    <path clip-path=\"url(#p0c72fe43dd)\" d=\"M 79.678125 201.342857 \r\nL 87.649554 201.342857 \r\nL 87.649554 211.05 \r\nL 79.678125 211.05 \r\nL 79.678125 201.342857 \r\n\" style=\"fill:#e7e7e7;\"/>\r\n    <path clip-path=\"url(#p0c72fe43dd)\" d=\"M 87.649554 201.342857 \r\nL 95.620982 201.342857 \r\nL 95.620982 211.05 \r\nL 87.649554 211.05 \r\nL 87.649554 201.342857 \r\n\" style=\"fill:#2e2e2e;\"/>\r\n    <path clip-path=\"url(#p0c72fe43dd)\" d=\"M 95.620982 201.342857 \r\nL 103.592411 201.342857 \r\nL 103.592411 211.05 \r\nL 95.620982 211.05 \r\nL 95.620982 201.342857 \r\n\" style=\"fill:#010101;\"/>\r\n    <path clip-path=\"url(#p0c72fe43dd)\" d=\"M 103.592411 201.342857 \r\nL 111.563839 201.342857 \r\nL 111.563839 211.05 \r\nL 103.592411 211.05 \r\nL 103.592411 201.342857 \r\n\" style=\"fill:#f0f0f0;\"/>\r\n    <path clip-path=\"url(#p0c72fe43dd)\" d=\"M 111.563839 201.342857 \r\nL 119.535268 201.342857 \r\nL 119.535268 211.05 \r\nL 111.563839 211.05 \r\nL 111.563839 201.342857 \r\n\" style=\"fill:#ffffff;\"/>\r\n    <path clip-path=\"url(#p0c72fe43dd)\" d=\"M 119.535268 201.342857 \r\nL 127.506696 201.342857 \r\nL 127.506696 211.05 \r\nL 119.535268 211.05 \r\nL 119.535268 201.342857 \r\n\" style=\"fill:#ffffff;\"/>\r\n    <path clip-path=\"url(#p0c72fe43dd)\" d=\"M 127.506696 201.342857 \r\nL 135.478125 201.342857 \r\nL 135.478125 211.05 \r\nL 127.506696 211.05 \r\nL 127.506696 201.342857 \r\n\" style=\"fill:#ffffff;\"/>\r\n    <path clip-path=\"url(#p0c72fe43dd)\" d=\"M 135.478125 201.342857 \r\nL 143.449554 201.342857 \r\nL 143.449554 211.05 \r\nL 135.478125 211.05 \r\nL 135.478125 201.342857 \r\n\" style=\"fill:#ffffff;\"/>\r\n    <path clip-path=\"url(#p0c72fe43dd)\" d=\"M 143.449554 201.342857 \r\nL 151.420982 201.342857 \r\nL 151.420982 211.05 \r\nL 143.449554 211.05 \r\nL 143.449554 201.342857 \r\n\" style=\"fill:#ffffff;\"/>\r\n    <path clip-path=\"url(#p0c72fe43dd)\" d=\"M 151.420982 201.342857 \r\nL 159.392411 201.342857 \r\nL 159.392411 211.05 \r\nL 151.420982 211.05 \r\nL 151.420982 201.342857 \r\n\" style=\"fill:#e8e8e8;\"/>\r\n    <path clip-path=\"url(#p0c72fe43dd)\" d=\"M 159.392411 201.342857 \r\nL 167.363839 201.342857 \r\nL 167.363839 211.05 \r\nL 159.392411 211.05 \r\nL 159.392411 201.342857 \r\n\" style=\"fill:#767676;\"/>\r\n    <path clip-path=\"url(#p0c72fe43dd)\" d=\"M 167.363839 201.342857 \r\nL 175.335268 201.342857 \r\nL 175.335268 211.05 \r\nL 167.363839 211.05 \r\nL 167.363839 201.342857 \r\n\" style=\"fill:#010101;\"/>\r\n    <path clip-path=\"url(#p0c72fe43dd)\" d=\"M 175.335268 201.342857 \r\nL 183.306696 201.342857 \r\nL 183.306696 211.05 \r\nL 175.335268 211.05 \r\nL 175.335268 201.342857 \r\n\" style=\"fill:#010101;\"/>\r\n    <path clip-path=\"url(#p0c72fe43dd)\" d=\"M 183.306696 201.342857 \r\nL 191.278125 201.342857 \r\nL 191.278125 211.05 \r\nL 183.306696 211.05 \r\nL 183.306696 201.342857 \r\n\" style=\"fill:#010101;\"/>\r\n    <path clip-path=\"url(#p0c72fe43dd)\" d=\"M 191.278125 201.342857 \r\nL 199.249554 201.342857 \r\nL 199.249554 211.05 \r\nL 191.278125 211.05 \r\nL 191.278125 201.342857 \r\n\" style=\"fill:#2e2e2e;\"/>\r\n    <path clip-path=\"url(#p0c72fe43dd)\" d=\"M 199.249554 201.342857 \r\nL 207.220982 201.342857 \r\nL 207.220982 211.05 \r\nL 199.249554 211.05 \r\nL 199.249554 201.342857 \r\n\" style=\"fill:#ffffff;\"/>\r\n    <path clip-path=\"url(#p0c72fe43dd)\" d=\"M 207.220982 201.342857 \r\nL 215.192411 201.342857 \r\nL 215.192411 211.05 \r\nL 207.220982 211.05 \r\nL 207.220982 201.342857 \r\n\" style=\"fill:#ffffff;\"/>\r\n    <path clip-path=\"url(#p0c72fe43dd)\" d=\"M 215.192411 201.342857 \r\nL 223.163839 201.342857 \r\nL 223.163839 211.05 \r\nL 215.192411 211.05 \r\nL 215.192411 201.342857 \r\n\" style=\"fill:#ffffff;\"/>\r\n    <path clip-path=\"url(#p0c72fe43dd)\" d=\"M 223.163839 201.342857 \r\nL 231.135268 201.342857 \r\nL 231.135268 211.05 \r\nL 223.163839 211.05 \r\nL 223.163839 201.342857 \r\n\" style=\"fill:#ffffff;\"/>\r\n    <path clip-path=\"url(#p0c72fe43dd)\" d=\"M 231.135268 201.342857 \r\nL 239.106696 201.342857 \r\nL 239.106696 211.05 \r\nL 231.135268 211.05 \r\nL 231.135268 201.342857 \r\n\" style=\"fill:#ffffff;\"/>\r\n    <path clip-path=\"url(#p0c72fe43dd)\" d=\"M 239.106696 201.342857 \r\nL 247.078125 201.342857 \r\nL 247.078125 211.05 \r\nL 239.106696 211.05 \r\nL 239.106696 201.342857 \r\n\" style=\"fill:#ffffff;\"/>\r\n    <path clip-path=\"url(#p0c72fe43dd)\" d=\"M 23.878125 211.05 \r\nL 31.849554 211.05 \r\nL 31.849554 220.757143 \r\nL 23.878125 220.757143 \r\nL 23.878125 211.05 \r\n\" style=\"fill:#ffffff;\"/>\r\n    <path clip-path=\"url(#p0c72fe43dd)\" d=\"M 31.849554 211.05 \r\nL 39.820982 211.05 \r\nL 39.820982 220.757143 \r\nL 31.849554 220.757143 \r\nL 31.849554 211.05 \r\n\" style=\"fill:#ffffff;\"/>\r\n    <path clip-path=\"url(#p0c72fe43dd)\" d=\"M 39.820982 211.05 \r\nL 47.792411 211.05 \r\nL 47.792411 220.757143 \r\nL 39.820982 220.757143 \r\nL 39.820982 211.05 \r\n\" style=\"fill:#ffffff;\"/>\r\n    <path clip-path=\"url(#p0c72fe43dd)\" d=\"M 47.792411 211.05 \r\nL 55.763839 211.05 \r\nL 55.763839 220.757143 \r\nL 47.792411 220.757143 \r\nL 47.792411 211.05 \r\n\" style=\"fill:#ffffff;\"/>\r\n    <path clip-path=\"url(#p0c72fe43dd)\" d=\"M 55.763839 211.05 \r\nL 63.735268 211.05 \r\nL 63.735268 220.757143 \r\nL 55.763839 220.757143 \r\nL 55.763839 211.05 \r\n\" style=\"fill:#ffffff;\"/>\r\n    <path clip-path=\"url(#p0c72fe43dd)\" d=\"M 63.735268 211.05 \r\nL 71.706696 211.05 \r\nL 71.706696 220.757143 \r\nL 63.735268 220.757143 \r\nL 63.735268 211.05 \r\n\" style=\"fill:#ffffff;\"/>\r\n    <path clip-path=\"url(#p0c72fe43dd)\" d=\"M 71.706696 211.05 \r\nL 79.678125 211.05 \r\nL 79.678125 220.757143 \r\nL 71.706696 220.757143 \r\nL 71.706696 211.05 \r\n\" style=\"fill:#ffffff;\"/>\r\n    <path clip-path=\"url(#p0c72fe43dd)\" d=\"M 79.678125 211.05 \r\nL 87.649554 211.05 \r\nL 87.649554 220.757143 \r\nL 79.678125 220.757143 \r\nL 79.678125 211.05 \r\n\" style=\"fill:#575757;\"/>\r\n    <path clip-path=\"url(#p0c72fe43dd)\" d=\"M 87.649554 211.05 \r\nL 95.620982 211.05 \r\nL 95.620982 220.757143 \r\nL 87.649554 220.757143 \r\nL 87.649554 211.05 \r\n\" style=\"fill:#010101;\"/>\r\n    <path clip-path=\"url(#p0c72fe43dd)\" d=\"M 95.620982 211.05 \r\nL 103.592411 211.05 \r\nL 103.592411 220.757143 \r\nL 95.620982 220.757143 \r\nL 95.620982 211.05 \r\n\" style=\"fill:#010101;\"/>\r\n    <path clip-path=\"url(#p0c72fe43dd)\" d=\"M 103.592411 211.05 \r\nL 111.563839 211.05 \r\nL 111.563839 220.757143 \r\nL 103.592411 220.757143 \r\nL 103.592411 211.05 \r\n\" style=\"fill:#cfcfcf;\"/>\r\n    <path clip-path=\"url(#p0c72fe43dd)\" d=\"M 111.563839 211.05 \r\nL 119.535268 211.05 \r\nL 119.535268 220.757143 \r\nL 111.563839 220.757143 \r\nL 111.563839 211.05 \r\n\" style=\"fill:#f6f6f6;\"/>\r\n    <path clip-path=\"url(#p0c72fe43dd)\" d=\"M 119.535268 211.05 \r\nL 127.506696 211.05 \r\nL 127.506696 220.757143 \r\nL 119.535268 220.757143 \r\nL 119.535268 211.05 \r\n\" style=\"fill:#ffffff;\"/>\r\n    <path clip-path=\"url(#p0c72fe43dd)\" d=\"M 127.506696 211.05 \r\nL 135.478125 211.05 \r\nL 135.478125 220.757143 \r\nL 127.506696 220.757143 \r\nL 127.506696 211.05 \r\n\" style=\"fill:#ffffff;\"/>\r\n    <path clip-path=\"url(#p0c72fe43dd)\" d=\"M 135.478125 211.05 \r\nL 143.449554 211.05 \r\nL 143.449554 220.757143 \r\nL 135.478125 220.757143 \r\nL 135.478125 211.05 \r\n\" style=\"fill:#f6f6f6;\"/>\r\n    <path clip-path=\"url(#p0c72fe43dd)\" d=\"M 143.449554 211.05 \r\nL 151.420982 211.05 \r\nL 151.420982 220.757143 \r\nL 143.449554 220.757143 \r\nL 143.449554 211.05 \r\n\" style=\"fill:#808080;\"/>\r\n    <path clip-path=\"url(#p0c72fe43dd)\" d=\"M 151.420982 211.05 \r\nL 159.392411 211.05 \r\nL 159.392411 220.757143 \r\nL 151.420982 220.757143 \r\nL 151.420982 211.05 \r\n\" style=\"fill:#0e0e0e;\"/>\r\n    <path clip-path=\"url(#p0c72fe43dd)\" d=\"M 159.392411 211.05 \r\nL 167.363839 211.05 \r\nL 167.363839 220.757143 \r\nL 159.392411 220.757143 \r\nL 159.392411 211.05 \r\n\" style=\"fill:#010101;\"/>\r\n    <path clip-path=\"url(#p0c72fe43dd)\" d=\"M 167.363839 211.05 \r\nL 175.335268 211.05 \r\nL 175.335268 220.757143 \r\nL 167.363839 220.757143 \r\nL 167.363839 211.05 \r\n\" style=\"fill:#010101;\"/>\r\n    <path clip-path=\"url(#p0c72fe43dd)\" d=\"M 175.335268 211.05 \r\nL 183.306696 211.05 \r\nL 183.306696 220.757143 \r\nL 175.335268 220.757143 \r\nL 175.335268 211.05 \r\n\"/>\r\n    <path clip-path=\"url(#p0c72fe43dd)\" d=\"M 183.306696 211.05 \r\nL 191.278125 211.05 \r\nL 191.278125 220.757143 \r\nL 183.306696 220.757143 \r\nL 183.306696 211.05 \r\n\" style=\"fill:#0d0d0d;\"/>\r\n    <path clip-path=\"url(#p0c72fe43dd)\" d=\"M 191.278125 211.05 \r\nL 199.249554 211.05 \r\nL 199.249554 220.757143 \r\nL 191.278125 220.757143 \r\nL 191.278125 211.05 \r\n\" style=\"fill:#c0c0c0;\"/>\r\n    <path clip-path=\"url(#p0c72fe43dd)\" d=\"M 199.249554 211.05 \r\nL 207.220982 211.05 \r\nL 207.220982 220.757143 \r\nL 199.249554 220.757143 \r\nL 199.249554 211.05 \r\n\" style=\"fill:#ffffff;\"/>\r\n    <path clip-path=\"url(#p0c72fe43dd)\" d=\"M 207.220982 211.05 \r\nL 215.192411 211.05 \r\nL 215.192411 220.757143 \r\nL 207.220982 220.757143 \r\nL 207.220982 211.05 \r\n\" style=\"fill:#ffffff;\"/>\r\n    <path clip-path=\"url(#p0c72fe43dd)\" d=\"M 215.192411 211.05 \r\nL 223.163839 211.05 \r\nL 223.163839 220.757143 \r\nL 215.192411 220.757143 \r\nL 215.192411 211.05 \r\n\" style=\"fill:#ffffff;\"/>\r\n    <path clip-path=\"url(#p0c72fe43dd)\" d=\"M 223.163839 211.05 \r\nL 231.135268 211.05 \r\nL 231.135268 220.757143 \r\nL 223.163839 220.757143 \r\nL 223.163839 211.05 \r\n\" style=\"fill:#ffffff;\"/>\r\n    <path clip-path=\"url(#p0c72fe43dd)\" d=\"M 231.135268 211.05 \r\nL 239.106696 211.05 \r\nL 239.106696 220.757143 \r\nL 231.135268 220.757143 \r\nL 231.135268 211.05 \r\n\" style=\"fill:#ffffff;\"/>\r\n    <path clip-path=\"url(#p0c72fe43dd)\" d=\"M 239.106696 211.05 \r\nL 247.078125 211.05 \r\nL 247.078125 220.757143 \r\nL 239.106696 220.757143 \r\nL 239.106696 211.05 \r\n\" style=\"fill:#ffffff;\"/>\r\n    <path clip-path=\"url(#p0c72fe43dd)\" d=\"M 23.878125 220.757143 \r\nL 31.849554 220.757143 \r\nL 31.849554 230.464286 \r\nL 23.878125 230.464286 \r\nL 23.878125 220.757143 \r\n\" style=\"fill:#ffffff;\"/>\r\n    <path clip-path=\"url(#p0c72fe43dd)\" d=\"M 31.849554 220.757143 \r\nL 39.820982 220.757143 \r\nL 39.820982 230.464286 \r\nL 31.849554 230.464286 \r\nL 31.849554 220.757143 \r\n\" style=\"fill:#ffffff;\"/>\r\n    <path clip-path=\"url(#p0c72fe43dd)\" d=\"M 39.820982 220.757143 \r\nL 47.792411 220.757143 \r\nL 47.792411 230.464286 \r\nL 39.820982 230.464286 \r\nL 39.820982 220.757143 \r\n\" style=\"fill:#ffffff;\"/>\r\n    <path clip-path=\"url(#p0c72fe43dd)\" d=\"M 47.792411 220.757143 \r\nL 55.763839 220.757143 \r\nL 55.763839 230.464286 \r\nL 47.792411 230.464286 \r\nL 47.792411 220.757143 \r\n\" style=\"fill:#ffffff;\"/>\r\n    <path clip-path=\"url(#p0c72fe43dd)\" d=\"M 55.763839 220.757143 \r\nL 63.735268 220.757143 \r\nL 63.735268 230.464286 \r\nL 55.763839 230.464286 \r\nL 55.763839 220.757143 \r\n\" style=\"fill:#ffffff;\"/>\r\n    <path clip-path=\"url(#p0c72fe43dd)\" d=\"M 63.735268 220.757143 \r\nL 71.706696 220.757143 \r\nL 71.706696 230.464286 \r\nL 63.735268 230.464286 \r\nL 63.735268 220.757143 \r\n\" style=\"fill:#ffffff;\"/>\r\n    <path clip-path=\"url(#p0c72fe43dd)\" d=\"M 71.706696 220.757143 \r\nL 79.678125 220.757143 \r\nL 79.678125 230.464286 \r\nL 71.706696 230.464286 \r\nL 71.706696 220.757143 \r\n\" style=\"fill:#ffffff;\"/>\r\n    <path clip-path=\"url(#p0c72fe43dd)\" d=\"M 79.678125 220.757143 \r\nL 87.649554 220.757143 \r\nL 87.649554 230.464286 \r\nL 79.678125 230.464286 \r\nL 79.678125 220.757143 \r\n\" style=\"fill:#9a9a9a;\"/>\r\n    <path clip-path=\"url(#p0c72fe43dd)\" d=\"M 87.649554 220.757143 \r\nL 95.620982 220.757143 \r\nL 95.620982 230.464286 \r\nL 87.649554 230.464286 \r\nL 87.649554 220.757143 \r\n\" style=\"fill:#010101;\"/>\r\n    <path clip-path=\"url(#p0c72fe43dd)\" d=\"M 95.620982 220.757143 \r\nL 103.592411 220.757143 \r\nL 103.592411 230.464286 \r\nL 95.620982 230.464286 \r\nL 95.620982 220.757143 \r\n\" style=\"fill:#010101;\"/>\r\n    <path clip-path=\"url(#p0c72fe43dd)\" d=\"M 103.592411 220.757143 \r\nL 111.563839 220.757143 \r\nL 111.563839 230.464286 \r\nL 103.592411 230.464286 \r\nL 103.592411 220.757143 \r\n\" style=\"fill:#010101;\"/>\r\n    <path clip-path=\"url(#p0c72fe43dd)\" d=\"M 111.563839 220.757143 \r\nL 119.535268 220.757143 \r\nL 119.535268 230.464286 \r\nL 111.563839 230.464286 \r\nL 111.563839 220.757143 \r\n\" style=\"fill:#323232;\"/>\r\n    <path clip-path=\"url(#p0c72fe43dd)\" d=\"M 119.535268 220.757143 \r\nL 127.506696 220.757143 \r\nL 127.506696 230.464286 \r\nL 119.535268 230.464286 \r\nL 119.535268 220.757143 \r\n\" style=\"fill:#414141;\"/>\r\n    <path clip-path=\"url(#p0c72fe43dd)\" d=\"M 127.506696 220.757143 \r\nL 135.478125 220.757143 \r\nL 135.478125 230.464286 \r\nL 127.506696 230.464286 \r\nL 127.506696 220.757143 \r\n\" style=\"fill:#414141;\"/>\r\n    <path clip-path=\"url(#p0c72fe43dd)\" d=\"M 135.478125 220.757143 \r\nL 143.449554 220.757143 \r\nL 143.449554 230.464286 \r\nL 135.478125 230.464286 \r\nL 135.478125 220.757143 \r\n\" style=\"fill:#323232;\"/>\r\n    <path clip-path=\"url(#p0c72fe43dd)\" d=\"M 143.449554 220.757143 \r\nL 151.420982 220.757143 \r\nL 151.420982 230.464286 \r\nL 143.449554 230.464286 \r\nL 143.449554 220.757143 \r\n\" style=\"fill:#010101;\"/>\r\n    <path clip-path=\"url(#p0c72fe43dd)\" d=\"M 151.420982 220.757143 \r\nL 159.392411 220.757143 \r\nL 159.392411 230.464286 \r\nL 151.420982 230.464286 \r\nL 151.420982 220.757143 \r\n\" style=\"fill:#010101;\"/>\r\n    <path clip-path=\"url(#p0c72fe43dd)\" d=\"M 159.392411 220.757143 \r\nL 167.363839 220.757143 \r\nL 167.363839 230.464286 \r\nL 159.392411 230.464286 \r\nL 159.392411 220.757143 \r\n\" style=\"fill:#010101;\"/>\r\n    <path clip-path=\"url(#p0c72fe43dd)\" d=\"M 167.363839 220.757143 \r\nL 175.335268 220.757143 \r\nL 175.335268 230.464286 \r\nL 167.363839 230.464286 \r\nL 167.363839 220.757143 \r\n\" style=\"fill:#010101;\"/>\r\n    <path clip-path=\"url(#p0c72fe43dd)\" d=\"M 175.335268 220.757143 \r\nL 183.306696 220.757143 \r\nL 183.306696 230.464286 \r\nL 175.335268 230.464286 \r\nL 175.335268 220.757143 \r\n\" style=\"fill:#0d0d0d;\"/>\r\n    <path clip-path=\"url(#p0c72fe43dd)\" d=\"M 183.306696 220.757143 \r\nL 191.278125 220.757143 \r\nL 191.278125 230.464286 \r\nL 183.306696 230.464286 \r\nL 183.306696 220.757143 \r\n\" style=\"fill:#bcbcbc;\"/>\r\n    <path clip-path=\"url(#p0c72fe43dd)\" d=\"M 191.278125 220.757143 \r\nL 199.249554 220.757143 \r\nL 199.249554 230.464286 \r\nL 191.278125 230.464286 \r\nL 191.278125 220.757143 \r\n\" style=\"fill:#ffffff;\"/>\r\n    <path clip-path=\"url(#p0c72fe43dd)\" d=\"M 199.249554 220.757143 \r\nL 207.220982 220.757143 \r\nL 207.220982 230.464286 \r\nL 199.249554 230.464286 \r\nL 199.249554 220.757143 \r\n\" style=\"fill:#ffffff;\"/>\r\n    <path clip-path=\"url(#p0c72fe43dd)\" d=\"M 207.220982 220.757143 \r\nL 215.192411 220.757143 \r\nL 215.192411 230.464286 \r\nL 207.220982 230.464286 \r\nL 207.220982 220.757143 \r\n\" style=\"fill:#ffffff;\"/>\r\n    <path clip-path=\"url(#p0c72fe43dd)\" d=\"M 215.192411 220.757143 \r\nL 223.163839 220.757143 \r\nL 223.163839 230.464286 \r\nL 215.192411 230.464286 \r\nL 215.192411 220.757143 \r\n\" style=\"fill:#ffffff;\"/>\r\n    <path clip-path=\"url(#p0c72fe43dd)\" d=\"M 223.163839 220.757143 \r\nL 231.135268 220.757143 \r\nL 231.135268 230.464286 \r\nL 223.163839 230.464286 \r\nL 223.163839 220.757143 \r\n\" style=\"fill:#ffffff;\"/>\r\n    <path clip-path=\"url(#p0c72fe43dd)\" d=\"M 231.135268 220.757143 \r\nL 239.106696 220.757143 \r\nL 239.106696 230.464286 \r\nL 231.135268 230.464286 \r\nL 231.135268 220.757143 \r\n\" style=\"fill:#ffffff;\"/>\r\n    <path clip-path=\"url(#p0c72fe43dd)\" d=\"M 239.106696 220.757143 \r\nL 247.078125 220.757143 \r\nL 247.078125 230.464286 \r\nL 239.106696 230.464286 \r\nL 239.106696 220.757143 \r\n\" style=\"fill:#ffffff;\"/>\r\n    <path clip-path=\"url(#p0c72fe43dd)\" d=\"M 23.878125 230.464286 \r\nL 31.849554 230.464286 \r\nL 31.849554 240.171429 \r\nL 23.878125 240.171429 \r\nL 23.878125 230.464286 \r\n\" style=\"fill:#ffffff;\"/>\r\n    <path clip-path=\"url(#p0c72fe43dd)\" d=\"M 31.849554 230.464286 \r\nL 39.820982 230.464286 \r\nL 39.820982 240.171429 \r\nL 31.849554 240.171429 \r\nL 31.849554 230.464286 \r\n\" style=\"fill:#ffffff;\"/>\r\n    <path clip-path=\"url(#p0c72fe43dd)\" d=\"M 39.820982 230.464286 \r\nL 47.792411 230.464286 \r\nL 47.792411 240.171429 \r\nL 39.820982 240.171429 \r\nL 39.820982 230.464286 \r\n\" style=\"fill:#ffffff;\"/>\r\n    <path clip-path=\"url(#p0c72fe43dd)\" d=\"M 47.792411 230.464286 \r\nL 55.763839 230.464286 \r\nL 55.763839 240.171429 \r\nL 47.792411 240.171429 \r\nL 47.792411 230.464286 \r\n\" style=\"fill:#ffffff;\"/>\r\n    <path clip-path=\"url(#p0c72fe43dd)\" d=\"M 55.763839 230.464286 \r\nL 63.735268 230.464286 \r\nL 63.735268 240.171429 \r\nL 55.763839 240.171429 \r\nL 55.763839 230.464286 \r\n\" style=\"fill:#ffffff;\"/>\r\n    <path clip-path=\"url(#p0c72fe43dd)\" d=\"M 63.735268 230.464286 \r\nL 71.706696 230.464286 \r\nL 71.706696 240.171429 \r\nL 63.735268 240.171429 \r\nL 63.735268 230.464286 \r\n\" style=\"fill:#ffffff;\"/>\r\n    <path clip-path=\"url(#p0c72fe43dd)\" d=\"M 71.706696 230.464286 \r\nL 79.678125 230.464286 \r\nL 79.678125 240.171429 \r\nL 71.706696 240.171429 \r\nL 71.706696 230.464286 \r\n\" style=\"fill:#ffffff;\"/>\r\n    <path clip-path=\"url(#p0c72fe43dd)\" d=\"M 79.678125 230.464286 \r\nL 87.649554 230.464286 \r\nL 87.649554 240.171429 \r\nL 79.678125 240.171429 \r\nL 79.678125 230.464286 \r\n\" style=\"fill:#dedede;\"/>\r\n    <path clip-path=\"url(#p0c72fe43dd)\" d=\"M 87.649554 230.464286 \r\nL 95.620982 230.464286 \r\nL 95.620982 240.171429 \r\nL 87.649554 240.171429 \r\nL 87.649554 230.464286 \r\n\" style=\"fill:#595959;\"/>\r\n    <path clip-path=\"url(#p0c72fe43dd)\" d=\"M 95.620982 230.464286 \r\nL 103.592411 230.464286 \r\nL 103.592411 240.171429 \r\nL 95.620982 240.171429 \r\nL 95.620982 230.464286 \r\n\" style=\"fill:#010101;\"/>\r\n    <path clip-path=\"url(#p0c72fe43dd)\" d=\"M 103.592411 230.464286 \r\nL 111.563839 230.464286 \r\nL 111.563839 240.171429 \r\nL 103.592411 240.171429 \r\nL 103.592411 230.464286 \r\n\" style=\"fill:#010101;\"/>\r\n    <path clip-path=\"url(#p0c72fe43dd)\" d=\"M 111.563839 230.464286 \r\nL 119.535268 230.464286 \r\nL 119.535268 240.171429 \r\nL 111.563839 240.171429 \r\nL 111.563839 230.464286 \r\n\" style=\"fill:#010101;\"/>\r\n    <path clip-path=\"url(#p0c72fe43dd)\" d=\"M 119.535268 230.464286 \r\nL 127.506696 230.464286 \r\nL 127.506696 240.171429 \r\nL 119.535268 240.171429 \r\nL 119.535268 230.464286 \r\n\" style=\"fill:#010101;\"/>\r\n    <path clip-path=\"url(#p0c72fe43dd)\" d=\"M 127.506696 230.464286 \r\nL 135.478125 230.464286 \r\nL 135.478125 240.171429 \r\nL 127.506696 240.171429 \r\nL 127.506696 230.464286 \r\n\" style=\"fill:#010101;\"/>\r\n    <path clip-path=\"url(#p0c72fe43dd)\" d=\"M 135.478125 230.464286 \r\nL 143.449554 230.464286 \r\nL 143.449554 240.171429 \r\nL 135.478125 240.171429 \r\nL 135.478125 230.464286 \r\n\" style=\"fill:#010101;\"/>\r\n    <path clip-path=\"url(#p0c72fe43dd)\" d=\"M 143.449554 230.464286 \r\nL 151.420982 230.464286 \r\nL 151.420982 240.171429 \r\nL 143.449554 240.171429 \r\nL 143.449554 230.464286 \r\n\" style=\"fill:#010101;\"/>\r\n    <path clip-path=\"url(#p0c72fe43dd)\" d=\"M 151.420982 230.464286 \r\nL 159.392411 230.464286 \r\nL 159.392411 240.171429 \r\nL 151.420982 240.171429 \r\nL 151.420982 230.464286 \r\n\" style=\"fill:#010101;\"/>\r\n    <path clip-path=\"url(#p0c72fe43dd)\" d=\"M 159.392411 230.464286 \r\nL 167.363839 230.464286 \r\nL 167.363839 240.171429 \r\nL 159.392411 240.171429 \r\nL 159.392411 230.464286 \r\n\" style=\"fill:#050505;\"/>\r\n    <path clip-path=\"url(#p0c72fe43dd)\" d=\"M 167.363839 230.464286 \r\nL 175.335268 230.464286 \r\nL 175.335268 240.171429 \r\nL 167.363839 240.171429 \r\nL 167.363839 230.464286 \r\n\" style=\"fill:#757575;\"/>\r\n    <path clip-path=\"url(#p0c72fe43dd)\" d=\"M 175.335268 230.464286 \r\nL 183.306696 230.464286 \r\nL 183.306696 240.171429 \r\nL 175.335268 240.171429 \r\nL 175.335268 230.464286 \r\n\" style=\"fill:#c8c8c8;\"/>\r\n    <path clip-path=\"url(#p0c72fe43dd)\" d=\"M 183.306696 230.464286 \r\nL 191.278125 230.464286 \r\nL 191.278125 240.171429 \r\nL 183.306696 240.171429 \r\nL 183.306696 230.464286 \r\n\" style=\"fill:#ffffff;\"/>\r\n    <path clip-path=\"url(#p0c72fe43dd)\" d=\"M 191.278125 230.464286 \r\nL 199.249554 230.464286 \r\nL 199.249554 240.171429 \r\nL 191.278125 240.171429 \r\nL 191.278125 230.464286 \r\n\" style=\"fill:#ffffff;\"/>\r\n    <path clip-path=\"url(#p0c72fe43dd)\" d=\"M 199.249554 230.464286 \r\nL 207.220982 230.464286 \r\nL 207.220982 240.171429 \r\nL 199.249554 240.171429 \r\nL 199.249554 230.464286 \r\n\" style=\"fill:#ffffff;\"/>\r\n    <path clip-path=\"url(#p0c72fe43dd)\" d=\"M 207.220982 230.464286 \r\nL 215.192411 230.464286 \r\nL 215.192411 240.171429 \r\nL 207.220982 240.171429 \r\nL 207.220982 230.464286 \r\n\" style=\"fill:#ffffff;\"/>\r\n    <path clip-path=\"url(#p0c72fe43dd)\" d=\"M 215.192411 230.464286 \r\nL 223.163839 230.464286 \r\nL 223.163839 240.171429 \r\nL 215.192411 240.171429 \r\nL 215.192411 230.464286 \r\n\" style=\"fill:#ffffff;\"/>\r\n    <path clip-path=\"url(#p0c72fe43dd)\" d=\"M 223.163839 230.464286 \r\nL 231.135268 230.464286 \r\nL 231.135268 240.171429 \r\nL 223.163839 240.171429 \r\nL 223.163839 230.464286 \r\n\" style=\"fill:#ffffff;\"/>\r\n    <path clip-path=\"url(#p0c72fe43dd)\" d=\"M 231.135268 230.464286 \r\nL 239.106696 230.464286 \r\nL 239.106696 240.171429 \r\nL 231.135268 240.171429 \r\nL 231.135268 230.464286 \r\n\" style=\"fill:#ffffff;\"/>\r\n    <path clip-path=\"url(#p0c72fe43dd)\" d=\"M 239.106696 230.464286 \r\nL 247.078125 230.464286 \r\nL 247.078125 240.171429 \r\nL 239.106696 240.171429 \r\nL 239.106696 230.464286 \r\n\" style=\"fill:#ffffff;\"/>\r\n    <path clip-path=\"url(#p0c72fe43dd)\" d=\"M 23.878125 240.171429 \r\nL 31.849554 240.171429 \r\nL 31.849554 249.878571 \r\nL 23.878125 249.878571 \r\nL 23.878125 240.171429 \r\n\" style=\"fill:#ffffff;\"/>\r\n    <path clip-path=\"url(#p0c72fe43dd)\" d=\"M 31.849554 240.171429 \r\nL 39.820982 240.171429 \r\nL 39.820982 249.878571 \r\nL 31.849554 249.878571 \r\nL 31.849554 240.171429 \r\n\" style=\"fill:#ffffff;\"/>\r\n    <path clip-path=\"url(#p0c72fe43dd)\" d=\"M 39.820982 240.171429 \r\nL 47.792411 240.171429 \r\nL 47.792411 249.878571 \r\nL 39.820982 249.878571 \r\nL 39.820982 240.171429 \r\n\" style=\"fill:#ffffff;\"/>\r\n    <path clip-path=\"url(#p0c72fe43dd)\" d=\"M 47.792411 240.171429 \r\nL 55.763839 240.171429 \r\nL 55.763839 249.878571 \r\nL 47.792411 249.878571 \r\nL 47.792411 240.171429 \r\n\" style=\"fill:#ffffff;\"/>\r\n    <path clip-path=\"url(#p0c72fe43dd)\" d=\"M 55.763839 240.171429 \r\nL 63.735268 240.171429 \r\nL 63.735268 249.878571 \r\nL 55.763839 249.878571 \r\nL 55.763839 240.171429 \r\n\" style=\"fill:#ffffff;\"/>\r\n    <path clip-path=\"url(#p0c72fe43dd)\" d=\"M 63.735268 240.171429 \r\nL 71.706696 240.171429 \r\nL 71.706696 249.878571 \r\nL 63.735268 249.878571 \r\nL 63.735268 240.171429 \r\n\" style=\"fill:#ffffff;\"/>\r\n    <path clip-path=\"url(#p0c72fe43dd)\" d=\"M 71.706696 240.171429 \r\nL 79.678125 240.171429 \r\nL 79.678125 249.878571 \r\nL 71.706696 249.878571 \r\nL 71.706696 240.171429 \r\n\" style=\"fill:#ffffff;\"/>\r\n    <path clip-path=\"url(#p0c72fe43dd)\" d=\"M 79.678125 240.171429 \r\nL 87.649554 240.171429 \r\nL 87.649554 249.878571 \r\nL 79.678125 249.878571 \r\nL 79.678125 240.171429 \r\n\" style=\"fill:#ffffff;\"/>\r\n    <path clip-path=\"url(#p0c72fe43dd)\" d=\"M 87.649554 240.171429 \r\nL 95.620982 240.171429 \r\nL 95.620982 249.878571 \r\nL 87.649554 249.878571 \r\nL 87.649554 240.171429 \r\n\" style=\"fill:#f8f8f8;\"/>\r\n    <path clip-path=\"url(#p0c72fe43dd)\" d=\"M 95.620982 240.171429 \r\nL 103.592411 240.171429 \r\nL 103.592411 249.878571 \r\nL 95.620982 249.878571 \r\nL 95.620982 240.171429 \r\n\" style=\"fill:#a7a7a7;\"/>\r\n    <path clip-path=\"url(#p0c72fe43dd)\" d=\"M 103.592411 240.171429 \r\nL 111.563839 240.171429 \r\nL 111.563839 249.878571 \r\nL 103.592411 249.878571 \r\nL 103.592411 240.171429 \r\n\" style=\"fill:#656565;\"/>\r\n    <path clip-path=\"url(#p0c72fe43dd)\" d=\"M 111.563839 240.171429 \r\nL 119.535268 240.171429 \r\nL 119.535268 249.878571 \r\nL 111.563839 249.878571 \r\nL 111.563839 240.171429 \r\n\" style=\"fill:#8b8b8b;\"/>\r\n    <path clip-path=\"url(#p0c72fe43dd)\" d=\"M 119.535268 240.171429 \r\nL 127.506696 240.171429 \r\nL 127.506696 249.878571 \r\nL 119.535268 249.878571 \r\nL 119.535268 240.171429 \r\n\" style=\"fill:#3d3d3d;\"/>\r\n    <path clip-path=\"url(#p0c72fe43dd)\" d=\"M 127.506696 240.171429 \r\nL 135.478125 240.171429 \r\nL 135.478125 249.878571 \r\nL 127.506696 249.878571 \r\nL 127.506696 240.171429 \r\n\" style=\"fill:#3d3d3d;\"/>\r\n    <path clip-path=\"url(#p0c72fe43dd)\" d=\"M 135.478125 240.171429 \r\nL 143.449554 240.171429 \r\nL 143.449554 249.878571 \r\nL 135.478125 249.878571 \r\nL 135.478125 240.171429 \r\n\" style=\"fill:#656565;\"/>\r\n    <path clip-path=\"url(#p0c72fe43dd)\" d=\"M 143.449554 240.171429 \r\nL 151.420982 240.171429 \r\nL 151.420982 249.878571 \r\nL 143.449554 249.878571 \r\nL 143.449554 240.171429 \r\n\" style=\"fill:#656565;\"/>\r\n    <path clip-path=\"url(#p0c72fe43dd)\" d=\"M 151.420982 240.171429 \r\nL 159.392411 240.171429 \r\nL 159.392411 249.878571 \r\nL 151.420982 249.878571 \r\nL 151.420982 240.171429 \r\n\" style=\"fill:#a7a7a7;\"/>\r\n    <path clip-path=\"url(#p0c72fe43dd)\" d=\"M 159.392411 240.171429 \r\nL 167.363839 240.171429 \r\nL 167.363839 249.878571 \r\nL 159.392411 249.878571 \r\nL 159.392411 240.171429 \r\n\" style=\"fill:#cecece;\"/>\r\n    <path clip-path=\"url(#p0c72fe43dd)\" d=\"M 167.363839 240.171429 \r\nL 175.335268 240.171429 \r\nL 175.335268 249.878571 \r\nL 167.363839 249.878571 \r\nL 167.363839 240.171429 \r\n\" style=\"fill:#ffffff;\"/>\r\n    <path clip-path=\"url(#p0c72fe43dd)\" d=\"M 175.335268 240.171429 \r\nL 183.306696 240.171429 \r\nL 183.306696 249.878571 \r\nL 175.335268 249.878571 \r\nL 175.335268 240.171429 \r\n\" style=\"fill:#ffffff;\"/>\r\n    <path clip-path=\"url(#p0c72fe43dd)\" d=\"M 183.306696 240.171429 \r\nL 191.278125 240.171429 \r\nL 191.278125 249.878571 \r\nL 183.306696 249.878571 \r\nL 183.306696 240.171429 \r\n\" style=\"fill:#ffffff;\"/>\r\n    <path clip-path=\"url(#p0c72fe43dd)\" d=\"M 191.278125 240.171429 \r\nL 199.249554 240.171429 \r\nL 199.249554 249.878571 \r\nL 191.278125 249.878571 \r\nL 191.278125 240.171429 \r\n\" style=\"fill:#ffffff;\"/>\r\n    <path clip-path=\"url(#p0c72fe43dd)\" d=\"M 199.249554 240.171429 \r\nL 207.220982 240.171429 \r\nL 207.220982 249.878571 \r\nL 199.249554 249.878571 \r\nL 199.249554 240.171429 \r\n\" style=\"fill:#ffffff;\"/>\r\n    <path clip-path=\"url(#p0c72fe43dd)\" d=\"M 207.220982 240.171429 \r\nL 215.192411 240.171429 \r\nL 215.192411 249.878571 \r\nL 207.220982 249.878571 \r\nL 207.220982 240.171429 \r\n\" style=\"fill:#ffffff;\"/>\r\n    <path clip-path=\"url(#p0c72fe43dd)\" d=\"M 215.192411 240.171429 \r\nL 223.163839 240.171429 \r\nL 223.163839 249.878571 \r\nL 215.192411 249.878571 \r\nL 215.192411 240.171429 \r\n\" style=\"fill:#ffffff;\"/>\r\n    <path clip-path=\"url(#p0c72fe43dd)\" d=\"M 223.163839 240.171429 \r\nL 231.135268 240.171429 \r\nL 231.135268 249.878571 \r\nL 223.163839 249.878571 \r\nL 223.163839 240.171429 \r\n\" style=\"fill:#ffffff;\"/>\r\n    <path clip-path=\"url(#p0c72fe43dd)\" d=\"M 231.135268 240.171429 \r\nL 239.106696 240.171429 \r\nL 239.106696 249.878571 \r\nL 231.135268 249.878571 \r\nL 231.135268 240.171429 \r\n\" style=\"fill:#ffffff;\"/>\r\n    <path clip-path=\"url(#p0c72fe43dd)\" d=\"M 239.106696 240.171429 \r\nL 247.078125 240.171429 \r\nL 247.078125 249.878571 \r\nL 239.106696 249.878571 \r\nL 239.106696 240.171429 \r\n\" style=\"fill:#ffffff;\"/>\r\n    <path clip-path=\"url(#p0c72fe43dd)\" d=\"M 23.878125 249.878571 \r\nL 31.849554 249.878571 \r\nL 31.849554 259.585714 \r\nL 23.878125 259.585714 \r\nL 23.878125 249.878571 \r\n\" style=\"fill:#ffffff;\"/>\r\n    <path clip-path=\"url(#p0c72fe43dd)\" d=\"M 31.849554 249.878571 \r\nL 39.820982 249.878571 \r\nL 39.820982 259.585714 \r\nL 31.849554 259.585714 \r\nL 31.849554 249.878571 \r\n\" style=\"fill:#ffffff;\"/>\r\n    <path clip-path=\"url(#p0c72fe43dd)\" d=\"M 39.820982 249.878571 \r\nL 47.792411 249.878571 \r\nL 47.792411 259.585714 \r\nL 39.820982 259.585714 \r\nL 39.820982 249.878571 \r\n\" style=\"fill:#ffffff;\"/>\r\n    <path clip-path=\"url(#p0c72fe43dd)\" d=\"M 47.792411 249.878571 \r\nL 55.763839 249.878571 \r\nL 55.763839 259.585714 \r\nL 47.792411 259.585714 \r\nL 47.792411 249.878571 \r\n\" style=\"fill:#ffffff;\"/>\r\n    <path clip-path=\"url(#p0c72fe43dd)\" d=\"M 55.763839 249.878571 \r\nL 63.735268 249.878571 \r\nL 63.735268 259.585714 \r\nL 55.763839 259.585714 \r\nL 55.763839 249.878571 \r\n\" style=\"fill:#ffffff;\"/>\r\n    <path clip-path=\"url(#p0c72fe43dd)\" d=\"M 63.735268 249.878571 \r\nL 71.706696 249.878571 \r\nL 71.706696 259.585714 \r\nL 63.735268 259.585714 \r\nL 63.735268 249.878571 \r\n\" style=\"fill:#ffffff;\"/>\r\n    <path clip-path=\"url(#p0c72fe43dd)\" d=\"M 71.706696 249.878571 \r\nL 79.678125 249.878571 \r\nL 79.678125 259.585714 \r\nL 71.706696 259.585714 \r\nL 71.706696 249.878571 \r\n\" style=\"fill:#ffffff;\"/>\r\n    <path clip-path=\"url(#p0c72fe43dd)\" d=\"M 79.678125 249.878571 \r\nL 87.649554 249.878571 \r\nL 87.649554 259.585714 \r\nL 79.678125 259.585714 \r\nL 79.678125 249.878571 \r\n\" style=\"fill:#ffffff;\"/>\r\n    <path clip-path=\"url(#p0c72fe43dd)\" d=\"M 87.649554 249.878571 \r\nL 95.620982 249.878571 \r\nL 95.620982 259.585714 \r\nL 87.649554 259.585714 \r\nL 87.649554 249.878571 \r\n\" style=\"fill:#ffffff;\"/>\r\n    <path clip-path=\"url(#p0c72fe43dd)\" d=\"M 95.620982 249.878571 \r\nL 103.592411 249.878571 \r\nL 103.592411 259.585714 \r\nL 95.620982 259.585714 \r\nL 95.620982 249.878571 \r\n\" style=\"fill:#ffffff;\"/>\r\n    <path clip-path=\"url(#p0c72fe43dd)\" d=\"M 103.592411 249.878571 \r\nL 111.563839 249.878571 \r\nL 111.563839 259.585714 \r\nL 103.592411 259.585714 \r\nL 103.592411 249.878571 \r\n\" style=\"fill:#ffffff;\"/>\r\n    <path clip-path=\"url(#p0c72fe43dd)\" d=\"M 111.563839 249.878571 \r\nL 119.535268 249.878571 \r\nL 119.535268 259.585714 \r\nL 111.563839 259.585714 \r\nL 111.563839 249.878571 \r\n\" style=\"fill:#ffffff;\"/>\r\n    <path clip-path=\"url(#p0c72fe43dd)\" d=\"M 119.535268 249.878571 \r\nL 127.506696 249.878571 \r\nL 127.506696 259.585714 \r\nL 119.535268 259.585714 \r\nL 119.535268 249.878571 \r\n\" style=\"fill:#ffffff;\"/>\r\n    <path clip-path=\"url(#p0c72fe43dd)\" d=\"M 127.506696 249.878571 \r\nL 135.478125 249.878571 \r\nL 135.478125 259.585714 \r\nL 127.506696 259.585714 \r\nL 127.506696 249.878571 \r\n\" style=\"fill:#ffffff;\"/>\r\n    <path clip-path=\"url(#p0c72fe43dd)\" d=\"M 135.478125 249.878571 \r\nL 143.449554 249.878571 \r\nL 143.449554 259.585714 \r\nL 135.478125 259.585714 \r\nL 135.478125 249.878571 \r\n\" style=\"fill:#ffffff;\"/>\r\n    <path clip-path=\"url(#p0c72fe43dd)\" d=\"M 143.449554 249.878571 \r\nL 151.420982 249.878571 \r\nL 151.420982 259.585714 \r\nL 143.449554 259.585714 \r\nL 143.449554 249.878571 \r\n\" style=\"fill:#ffffff;\"/>\r\n    <path clip-path=\"url(#p0c72fe43dd)\" d=\"M 151.420982 249.878571 \r\nL 159.392411 249.878571 \r\nL 159.392411 259.585714 \r\nL 151.420982 259.585714 \r\nL 151.420982 249.878571 \r\n\" style=\"fill:#ffffff;\"/>\r\n    <path clip-path=\"url(#p0c72fe43dd)\" d=\"M 159.392411 249.878571 \r\nL 167.363839 249.878571 \r\nL 167.363839 259.585714 \r\nL 159.392411 259.585714 \r\nL 159.392411 249.878571 \r\n\" style=\"fill:#ffffff;\"/>\r\n    <path clip-path=\"url(#p0c72fe43dd)\" d=\"M 167.363839 249.878571 \r\nL 175.335268 249.878571 \r\nL 175.335268 259.585714 \r\nL 167.363839 259.585714 \r\nL 167.363839 249.878571 \r\n\" style=\"fill:#ffffff;\"/>\r\n    <path clip-path=\"url(#p0c72fe43dd)\" d=\"M 175.335268 249.878571 \r\nL 183.306696 249.878571 \r\nL 183.306696 259.585714 \r\nL 175.335268 259.585714 \r\nL 175.335268 249.878571 \r\n\" style=\"fill:#ffffff;\"/>\r\n    <path clip-path=\"url(#p0c72fe43dd)\" d=\"M 183.306696 249.878571 \r\nL 191.278125 249.878571 \r\nL 191.278125 259.585714 \r\nL 183.306696 259.585714 \r\nL 183.306696 249.878571 \r\n\" style=\"fill:#ffffff;\"/>\r\n    <path clip-path=\"url(#p0c72fe43dd)\" d=\"M 191.278125 249.878571 \r\nL 199.249554 249.878571 \r\nL 199.249554 259.585714 \r\nL 191.278125 259.585714 \r\nL 191.278125 249.878571 \r\n\" style=\"fill:#ffffff;\"/>\r\n    <path clip-path=\"url(#p0c72fe43dd)\" d=\"M 199.249554 249.878571 \r\nL 207.220982 249.878571 \r\nL 207.220982 259.585714 \r\nL 199.249554 259.585714 \r\nL 199.249554 249.878571 \r\n\" style=\"fill:#ffffff;\"/>\r\n    <path clip-path=\"url(#p0c72fe43dd)\" d=\"M 207.220982 249.878571 \r\nL 215.192411 249.878571 \r\nL 215.192411 259.585714 \r\nL 207.220982 259.585714 \r\nL 207.220982 249.878571 \r\n\" style=\"fill:#ffffff;\"/>\r\n    <path clip-path=\"url(#p0c72fe43dd)\" d=\"M 215.192411 249.878571 \r\nL 223.163839 249.878571 \r\nL 223.163839 259.585714 \r\nL 215.192411 259.585714 \r\nL 215.192411 249.878571 \r\n\" style=\"fill:#ffffff;\"/>\r\n    <path clip-path=\"url(#p0c72fe43dd)\" d=\"M 223.163839 249.878571 \r\nL 231.135268 249.878571 \r\nL 231.135268 259.585714 \r\nL 223.163839 259.585714 \r\nL 223.163839 249.878571 \r\n\" style=\"fill:#ffffff;\"/>\r\n    <path clip-path=\"url(#p0c72fe43dd)\" d=\"M 231.135268 249.878571 \r\nL 239.106696 249.878571 \r\nL 239.106696 259.585714 \r\nL 231.135268 259.585714 \r\nL 231.135268 249.878571 \r\n\" style=\"fill:#ffffff;\"/>\r\n    <path clip-path=\"url(#p0c72fe43dd)\" d=\"M 239.106696 249.878571 \r\nL 247.078125 249.878571 \r\nL 247.078125 259.585714 \r\nL 239.106696 259.585714 \r\nL 239.106696 249.878571 \r\n\" style=\"fill:#ffffff;\"/>\r\n    <path clip-path=\"url(#p0c72fe43dd)\" d=\"M 23.878125 259.585714 \r\nL 31.849554 259.585714 \r\nL 31.849554 269.292857 \r\nL 23.878125 269.292857 \r\nL 23.878125 259.585714 \r\n\" style=\"fill:#ffffff;\"/>\r\n    <path clip-path=\"url(#p0c72fe43dd)\" d=\"M 31.849554 259.585714 \r\nL 39.820982 259.585714 \r\nL 39.820982 269.292857 \r\nL 31.849554 269.292857 \r\nL 31.849554 259.585714 \r\n\" style=\"fill:#ffffff;\"/>\r\n    <path clip-path=\"url(#p0c72fe43dd)\" d=\"M 39.820982 259.585714 \r\nL 47.792411 259.585714 \r\nL 47.792411 269.292857 \r\nL 39.820982 269.292857 \r\nL 39.820982 259.585714 \r\n\" style=\"fill:#ffffff;\"/>\r\n    <path clip-path=\"url(#p0c72fe43dd)\" d=\"M 47.792411 259.585714 \r\nL 55.763839 259.585714 \r\nL 55.763839 269.292857 \r\nL 47.792411 269.292857 \r\nL 47.792411 259.585714 \r\n\" style=\"fill:#ffffff;\"/>\r\n    <path clip-path=\"url(#p0c72fe43dd)\" d=\"M 55.763839 259.585714 \r\nL 63.735268 259.585714 \r\nL 63.735268 269.292857 \r\nL 55.763839 269.292857 \r\nL 55.763839 259.585714 \r\n\" style=\"fill:#ffffff;\"/>\r\n    <path clip-path=\"url(#p0c72fe43dd)\" d=\"M 63.735268 259.585714 \r\nL 71.706696 259.585714 \r\nL 71.706696 269.292857 \r\nL 63.735268 269.292857 \r\nL 63.735268 259.585714 \r\n\" style=\"fill:#ffffff;\"/>\r\n    <path clip-path=\"url(#p0c72fe43dd)\" d=\"M 71.706696 259.585714 \r\nL 79.678125 259.585714 \r\nL 79.678125 269.292857 \r\nL 71.706696 269.292857 \r\nL 71.706696 259.585714 \r\n\" style=\"fill:#ffffff;\"/>\r\n    <path clip-path=\"url(#p0c72fe43dd)\" d=\"M 79.678125 259.585714 \r\nL 87.649554 259.585714 \r\nL 87.649554 269.292857 \r\nL 79.678125 269.292857 \r\nL 79.678125 259.585714 \r\n\" style=\"fill:#ffffff;\"/>\r\n    <path clip-path=\"url(#p0c72fe43dd)\" d=\"M 87.649554 259.585714 \r\nL 95.620982 259.585714 \r\nL 95.620982 269.292857 \r\nL 87.649554 269.292857 \r\nL 87.649554 259.585714 \r\n\" style=\"fill:#ffffff;\"/>\r\n    <path clip-path=\"url(#p0c72fe43dd)\" d=\"M 95.620982 259.585714 \r\nL 103.592411 259.585714 \r\nL 103.592411 269.292857 \r\nL 95.620982 269.292857 \r\nL 95.620982 259.585714 \r\n\" style=\"fill:#ffffff;\"/>\r\n    <path clip-path=\"url(#p0c72fe43dd)\" d=\"M 103.592411 259.585714 \r\nL 111.563839 259.585714 \r\nL 111.563839 269.292857 \r\nL 103.592411 269.292857 \r\nL 103.592411 259.585714 \r\n\" style=\"fill:#ffffff;\"/>\r\n    <path clip-path=\"url(#p0c72fe43dd)\" d=\"M 111.563839 259.585714 \r\nL 119.535268 259.585714 \r\nL 119.535268 269.292857 \r\nL 111.563839 269.292857 \r\nL 111.563839 259.585714 \r\n\" style=\"fill:#ffffff;\"/>\r\n    <path clip-path=\"url(#p0c72fe43dd)\" d=\"M 119.535268 259.585714 \r\nL 127.506696 259.585714 \r\nL 127.506696 269.292857 \r\nL 119.535268 269.292857 \r\nL 119.535268 259.585714 \r\n\" style=\"fill:#ffffff;\"/>\r\n    <path clip-path=\"url(#p0c72fe43dd)\" d=\"M 127.506696 259.585714 \r\nL 135.478125 259.585714 \r\nL 135.478125 269.292857 \r\nL 127.506696 269.292857 \r\nL 127.506696 259.585714 \r\n\" style=\"fill:#ffffff;\"/>\r\n    <path clip-path=\"url(#p0c72fe43dd)\" d=\"M 135.478125 259.585714 \r\nL 143.449554 259.585714 \r\nL 143.449554 269.292857 \r\nL 135.478125 269.292857 \r\nL 135.478125 259.585714 \r\n\" style=\"fill:#ffffff;\"/>\r\n    <path clip-path=\"url(#p0c72fe43dd)\" d=\"M 143.449554 259.585714 \r\nL 151.420982 259.585714 \r\nL 151.420982 269.292857 \r\nL 143.449554 269.292857 \r\nL 143.449554 259.585714 \r\n\" style=\"fill:#ffffff;\"/>\r\n    <path clip-path=\"url(#p0c72fe43dd)\" d=\"M 151.420982 259.585714 \r\nL 159.392411 259.585714 \r\nL 159.392411 269.292857 \r\nL 151.420982 269.292857 \r\nL 151.420982 259.585714 \r\n\" style=\"fill:#ffffff;\"/>\r\n    <path clip-path=\"url(#p0c72fe43dd)\" d=\"M 159.392411 259.585714 \r\nL 167.363839 259.585714 \r\nL 167.363839 269.292857 \r\nL 159.392411 269.292857 \r\nL 159.392411 259.585714 \r\n\" style=\"fill:#ffffff;\"/>\r\n    <path clip-path=\"url(#p0c72fe43dd)\" d=\"M 167.363839 259.585714 \r\nL 175.335268 259.585714 \r\nL 175.335268 269.292857 \r\nL 167.363839 269.292857 \r\nL 167.363839 259.585714 \r\n\" style=\"fill:#ffffff;\"/>\r\n    <path clip-path=\"url(#p0c72fe43dd)\" d=\"M 175.335268 259.585714 \r\nL 183.306696 259.585714 \r\nL 183.306696 269.292857 \r\nL 175.335268 269.292857 \r\nL 175.335268 259.585714 \r\n\" style=\"fill:#ffffff;\"/>\r\n    <path clip-path=\"url(#p0c72fe43dd)\" d=\"M 183.306696 259.585714 \r\nL 191.278125 259.585714 \r\nL 191.278125 269.292857 \r\nL 183.306696 269.292857 \r\nL 183.306696 259.585714 \r\n\" style=\"fill:#ffffff;\"/>\r\n    <path clip-path=\"url(#p0c72fe43dd)\" d=\"M 191.278125 259.585714 \r\nL 199.249554 259.585714 \r\nL 199.249554 269.292857 \r\nL 191.278125 269.292857 \r\nL 191.278125 259.585714 \r\n\" style=\"fill:#ffffff;\"/>\r\n    <path clip-path=\"url(#p0c72fe43dd)\" d=\"M 199.249554 259.585714 \r\nL 207.220982 259.585714 \r\nL 207.220982 269.292857 \r\nL 199.249554 269.292857 \r\nL 199.249554 259.585714 \r\n\" style=\"fill:#ffffff;\"/>\r\n    <path clip-path=\"url(#p0c72fe43dd)\" d=\"M 207.220982 259.585714 \r\nL 215.192411 259.585714 \r\nL 215.192411 269.292857 \r\nL 207.220982 269.292857 \r\nL 207.220982 259.585714 \r\n\" style=\"fill:#ffffff;\"/>\r\n    <path clip-path=\"url(#p0c72fe43dd)\" d=\"M 215.192411 259.585714 \r\nL 223.163839 259.585714 \r\nL 223.163839 269.292857 \r\nL 215.192411 269.292857 \r\nL 215.192411 259.585714 \r\n\" style=\"fill:#ffffff;\"/>\r\n    <path clip-path=\"url(#p0c72fe43dd)\" d=\"M 223.163839 259.585714 \r\nL 231.135268 259.585714 \r\nL 231.135268 269.292857 \r\nL 223.163839 269.292857 \r\nL 223.163839 259.585714 \r\n\" style=\"fill:#ffffff;\"/>\r\n    <path clip-path=\"url(#p0c72fe43dd)\" d=\"M 231.135268 259.585714 \r\nL 239.106696 259.585714 \r\nL 239.106696 269.292857 \r\nL 231.135268 269.292857 \r\nL 231.135268 259.585714 \r\n\" style=\"fill:#ffffff;\"/>\r\n    <path clip-path=\"url(#p0c72fe43dd)\" d=\"M 239.106696 259.585714 \r\nL 247.078125 259.585714 \r\nL 247.078125 269.292857 \r\nL 239.106696 269.292857 \r\nL 239.106696 259.585714 \r\n\" style=\"fill:#ffffff;\"/>\r\n    <path clip-path=\"url(#p0c72fe43dd)\" d=\"M 23.878125 269.292857 \r\nL 31.849554 269.292857 \r\nL 31.849554 279 \r\nL 23.878125 279 \r\nL 23.878125 269.292857 \r\n\" style=\"fill:#ffffff;\"/>\r\n    <path clip-path=\"url(#p0c72fe43dd)\" d=\"M 31.849554 269.292857 \r\nL 39.820982 269.292857 \r\nL 39.820982 279 \r\nL 31.849554 279 \r\nL 31.849554 269.292857 \r\n\" style=\"fill:#ffffff;\"/>\r\n    <path clip-path=\"url(#p0c72fe43dd)\" d=\"M 39.820982 269.292857 \r\nL 47.792411 269.292857 \r\nL 47.792411 279 \r\nL 39.820982 279 \r\nL 39.820982 269.292857 \r\n\" style=\"fill:#ffffff;\"/>\r\n    <path clip-path=\"url(#p0c72fe43dd)\" d=\"M 47.792411 269.292857 \r\nL 55.763839 269.292857 \r\nL 55.763839 279 \r\nL 47.792411 279 \r\nL 47.792411 269.292857 \r\n\" style=\"fill:#ffffff;\"/>\r\n    <path clip-path=\"url(#p0c72fe43dd)\" d=\"M 55.763839 269.292857 \r\nL 63.735268 269.292857 \r\nL 63.735268 279 \r\nL 55.763839 279 \r\nL 55.763839 269.292857 \r\n\" style=\"fill:#ffffff;\"/>\r\n    <path clip-path=\"url(#p0c72fe43dd)\" d=\"M 63.735268 269.292857 \r\nL 71.706696 269.292857 \r\nL 71.706696 279 \r\nL 63.735268 279 \r\nL 63.735268 269.292857 \r\n\" style=\"fill:#ffffff;\"/>\r\n    <path clip-path=\"url(#p0c72fe43dd)\" d=\"M 71.706696 269.292857 \r\nL 79.678125 269.292857 \r\nL 79.678125 279 \r\nL 71.706696 279 \r\nL 71.706696 269.292857 \r\n\" style=\"fill:#ffffff;\"/>\r\n    <path clip-path=\"url(#p0c72fe43dd)\" d=\"M 79.678125 269.292857 \r\nL 87.649554 269.292857 \r\nL 87.649554 279 \r\nL 79.678125 279 \r\nL 79.678125 269.292857 \r\n\" style=\"fill:#ffffff;\"/>\r\n    <path clip-path=\"url(#p0c72fe43dd)\" d=\"M 87.649554 269.292857 \r\nL 95.620982 269.292857 \r\nL 95.620982 279 \r\nL 87.649554 279 \r\nL 87.649554 269.292857 \r\n\" style=\"fill:#ffffff;\"/>\r\n    <path clip-path=\"url(#p0c72fe43dd)\" d=\"M 95.620982 269.292857 \r\nL 103.592411 269.292857 \r\nL 103.592411 279 \r\nL 95.620982 279 \r\nL 95.620982 269.292857 \r\n\" style=\"fill:#ffffff;\"/>\r\n    <path clip-path=\"url(#p0c72fe43dd)\" d=\"M 103.592411 269.292857 \r\nL 111.563839 269.292857 \r\nL 111.563839 279 \r\nL 103.592411 279 \r\nL 103.592411 269.292857 \r\n\" style=\"fill:#ffffff;\"/>\r\n    <path clip-path=\"url(#p0c72fe43dd)\" d=\"M 111.563839 269.292857 \r\nL 119.535268 269.292857 \r\nL 119.535268 279 \r\nL 111.563839 279 \r\nL 111.563839 269.292857 \r\n\" style=\"fill:#ffffff;\"/>\r\n    <path clip-path=\"url(#p0c72fe43dd)\" d=\"M 119.535268 269.292857 \r\nL 127.506696 269.292857 \r\nL 127.506696 279 \r\nL 119.535268 279 \r\nL 119.535268 269.292857 \r\n\" style=\"fill:#ffffff;\"/>\r\n    <path clip-path=\"url(#p0c72fe43dd)\" d=\"M 127.506696 269.292857 \r\nL 135.478125 269.292857 \r\nL 135.478125 279 \r\nL 127.506696 279 \r\nL 127.506696 269.292857 \r\n\" style=\"fill:#ffffff;\"/>\r\n    <path clip-path=\"url(#p0c72fe43dd)\" d=\"M 135.478125 269.292857 \r\nL 143.449554 269.292857 \r\nL 143.449554 279 \r\nL 135.478125 279 \r\nL 135.478125 269.292857 \r\n\" style=\"fill:#ffffff;\"/>\r\n    <path clip-path=\"url(#p0c72fe43dd)\" d=\"M 143.449554 269.292857 \r\nL 151.420982 269.292857 \r\nL 151.420982 279 \r\nL 143.449554 279 \r\nL 143.449554 269.292857 \r\n\" style=\"fill:#ffffff;\"/>\r\n    <path clip-path=\"url(#p0c72fe43dd)\" d=\"M 151.420982 269.292857 \r\nL 159.392411 269.292857 \r\nL 159.392411 279 \r\nL 151.420982 279 \r\nL 151.420982 269.292857 \r\n\" style=\"fill:#ffffff;\"/>\r\n    <path clip-path=\"url(#p0c72fe43dd)\" d=\"M 159.392411 269.292857 \r\nL 167.363839 269.292857 \r\nL 167.363839 279 \r\nL 159.392411 279 \r\nL 159.392411 269.292857 \r\n\" style=\"fill:#ffffff;\"/>\r\n    <path clip-path=\"url(#p0c72fe43dd)\" d=\"M 167.363839 269.292857 \r\nL 175.335268 269.292857 \r\nL 175.335268 279 \r\nL 167.363839 279 \r\nL 167.363839 269.292857 \r\n\" style=\"fill:#ffffff;\"/>\r\n    <path clip-path=\"url(#p0c72fe43dd)\" d=\"M 175.335268 269.292857 \r\nL 183.306696 269.292857 \r\nL 183.306696 279 \r\nL 175.335268 279 \r\nL 175.335268 269.292857 \r\n\" style=\"fill:#ffffff;\"/>\r\n    <path clip-path=\"url(#p0c72fe43dd)\" d=\"M 183.306696 269.292857 \r\nL 191.278125 269.292857 \r\nL 191.278125 279 \r\nL 183.306696 279 \r\nL 183.306696 269.292857 \r\n\" style=\"fill:#ffffff;\"/>\r\n    <path clip-path=\"url(#p0c72fe43dd)\" d=\"M 191.278125 269.292857 \r\nL 199.249554 269.292857 \r\nL 199.249554 279 \r\nL 191.278125 279 \r\nL 191.278125 269.292857 \r\n\" style=\"fill:#ffffff;\"/>\r\n    <path clip-path=\"url(#p0c72fe43dd)\" d=\"M 199.249554 269.292857 \r\nL 207.220982 269.292857 \r\nL 207.220982 279 \r\nL 199.249554 279 \r\nL 199.249554 269.292857 \r\n\" style=\"fill:#ffffff;\"/>\r\n    <path clip-path=\"url(#p0c72fe43dd)\" d=\"M 207.220982 269.292857 \r\nL 215.192411 269.292857 \r\nL 215.192411 279 \r\nL 207.220982 279 \r\nL 207.220982 269.292857 \r\n\" style=\"fill:#ffffff;\"/>\r\n    <path clip-path=\"url(#p0c72fe43dd)\" d=\"M 215.192411 269.292857 \r\nL 223.163839 269.292857 \r\nL 223.163839 279 \r\nL 215.192411 279 \r\nL 215.192411 269.292857 \r\n\" style=\"fill:#ffffff;\"/>\r\n    <path clip-path=\"url(#p0c72fe43dd)\" d=\"M 223.163839 269.292857 \r\nL 231.135268 269.292857 \r\nL 231.135268 279 \r\nL 223.163839 279 \r\nL 223.163839 269.292857 \r\n\" style=\"fill:#ffffff;\"/>\r\n    <path clip-path=\"url(#p0c72fe43dd)\" d=\"M 231.135268 269.292857 \r\nL 239.106696 269.292857 \r\nL 239.106696 279 \r\nL 231.135268 279 \r\nL 231.135268 269.292857 \r\n\" style=\"fill:#ffffff;\"/>\r\n    <path clip-path=\"url(#p0c72fe43dd)\" d=\"M 239.106696 269.292857 \r\nL 247.078125 269.292857 \r\nL 247.078125 279 \r\nL 239.106696 279 \r\nL 239.106696 269.292857 \r\n\" style=\"fill:#ffffff;\"/>\r\n   </g>\r\n   <g id=\"matplotlib.axis_1\">\r\n    <g id=\"xtick_1\">\r\n     <g id=\"line2d_1\">\r\n      <defs>\r\n       <path d=\"M 0 0 \r\nL 0 3.5 \r\n\" id=\"mc60d9d4b9a\" style=\"stroke:#000000;stroke-width:0.8;\"/>\r\n      </defs>\r\n      <g>\r\n       <use style=\"stroke:#000000;stroke-width:0.8;\" x=\"27.863839\" xlink:href=\"#mc60d9d4b9a\" y=\"279\"/>\r\n      </g>\r\n     </g>\r\n     <g id=\"text_1\">\r\n      <!-- 0 -->\r\n      <g transform=\"translate(24.682589 293.598437)scale(0.1 -0.1)\">\r\n       <defs>\r\n        <path d=\"M 31.78125 66.40625 \r\nQ 24.171875 66.40625 20.328125 58.90625 \r\nQ 16.5 51.421875 16.5 36.375 \r\nQ 16.5 21.390625 20.328125 13.890625 \r\nQ 24.171875 6.390625 31.78125 6.390625 \r\nQ 39.453125 6.390625 43.28125 13.890625 \r\nQ 47.125 21.390625 47.125 36.375 \r\nQ 47.125 51.421875 43.28125 58.90625 \r\nQ 39.453125 66.40625 31.78125 66.40625 \r\nz\r\nM 31.78125 74.21875 \r\nQ 44.046875 74.21875 50.515625 64.515625 \r\nQ 56.984375 54.828125 56.984375 36.375 \r\nQ 56.984375 17.96875 50.515625 8.265625 \r\nQ 44.046875 -1.421875 31.78125 -1.421875 \r\nQ 19.53125 -1.421875 13.0625 8.265625 \r\nQ 6.59375 17.96875 6.59375 36.375 \r\nQ 6.59375 54.828125 13.0625 64.515625 \r\nQ 19.53125 74.21875 31.78125 74.21875 \r\nz\r\n\" id=\"DejaVuSans-48\"/>\r\n       </defs>\r\n       <use xlink:href=\"#DejaVuSans-48\"/>\r\n      </g>\r\n     </g>\r\n    </g>\r\n    <g id=\"xtick_2\">\r\n     <g id=\"line2d_2\">\r\n      <g>\r\n       <use style=\"stroke:#000000;stroke-width:0.8;\" x=\"43.806696\" xlink:href=\"#mc60d9d4b9a\" y=\"279\"/>\r\n      </g>\r\n     </g>\r\n     <g id=\"text_2\">\r\n      <!-- 2 -->\r\n      <g transform=\"translate(40.625446 293.598437)scale(0.1 -0.1)\">\r\n       <defs>\r\n        <path d=\"M 19.1875 8.296875 \r\nL 53.609375 8.296875 \r\nL 53.609375 0 \r\nL 7.328125 0 \r\nL 7.328125 8.296875 \r\nQ 12.9375 14.109375 22.625 23.890625 \r\nQ 32.328125 33.6875 34.8125 36.53125 \r\nQ 39.546875 41.84375 41.421875 45.53125 \r\nQ 43.3125 49.21875 43.3125 52.78125 \r\nQ 43.3125 58.59375 39.234375 62.25 \r\nQ 35.15625 65.921875 28.609375 65.921875 \r\nQ 23.96875 65.921875 18.8125 64.3125 \r\nQ 13.671875 62.703125 7.8125 59.421875 \r\nL 7.8125 69.390625 \r\nQ 13.765625 71.78125 18.9375 73 \r\nQ 24.125 74.21875 28.421875 74.21875 \r\nQ 39.75 74.21875 46.484375 68.546875 \r\nQ 53.21875 62.890625 53.21875 53.421875 \r\nQ 53.21875 48.921875 51.53125 44.890625 \r\nQ 49.859375 40.875 45.40625 35.40625 \r\nQ 44.1875 33.984375 37.640625 27.21875 \r\nQ 31.109375 20.453125 19.1875 8.296875 \r\nz\r\n\" id=\"DejaVuSans-50\"/>\r\n       </defs>\r\n       <use xlink:href=\"#DejaVuSans-50\"/>\r\n      </g>\r\n     </g>\r\n    </g>\r\n    <g id=\"xtick_3\">\r\n     <g id=\"line2d_3\">\r\n      <g>\r\n       <use style=\"stroke:#000000;stroke-width:0.8;\" x=\"59.749554\" xlink:href=\"#mc60d9d4b9a\" y=\"279\"/>\r\n      </g>\r\n     </g>\r\n     <g id=\"text_3\">\r\n      <!-- 4 -->\r\n      <g transform=\"translate(56.568304 293.598437)scale(0.1 -0.1)\">\r\n       <defs>\r\n        <path d=\"M 37.796875 64.3125 \r\nL 12.890625 25.390625 \r\nL 37.796875 25.390625 \r\nz\r\nM 35.203125 72.90625 \r\nL 47.609375 72.90625 \r\nL 47.609375 25.390625 \r\nL 58.015625 25.390625 \r\nL 58.015625 17.1875 \r\nL 47.609375 17.1875 \r\nL 47.609375 0 \r\nL 37.796875 0 \r\nL 37.796875 17.1875 \r\nL 4.890625 17.1875 \r\nL 4.890625 26.703125 \r\nz\r\n\" id=\"DejaVuSans-52\"/>\r\n       </defs>\r\n       <use xlink:href=\"#DejaVuSans-52\"/>\r\n      </g>\r\n     </g>\r\n    </g>\r\n    <g id=\"xtick_4\">\r\n     <g id=\"line2d_4\">\r\n      <g>\r\n       <use style=\"stroke:#000000;stroke-width:0.8;\" x=\"75.692411\" xlink:href=\"#mc60d9d4b9a\" y=\"279\"/>\r\n      </g>\r\n     </g>\r\n     <g id=\"text_4\">\r\n      <!-- 6 -->\r\n      <g transform=\"translate(72.511161 293.598437)scale(0.1 -0.1)\">\r\n       <defs>\r\n        <path d=\"M 33.015625 40.375 \r\nQ 26.375 40.375 22.484375 35.828125 \r\nQ 18.609375 31.296875 18.609375 23.390625 \r\nQ 18.609375 15.53125 22.484375 10.953125 \r\nQ 26.375 6.390625 33.015625 6.390625 \r\nQ 39.65625 6.390625 43.53125 10.953125 \r\nQ 47.40625 15.53125 47.40625 23.390625 \r\nQ 47.40625 31.296875 43.53125 35.828125 \r\nQ 39.65625 40.375 33.015625 40.375 \r\nz\r\nM 52.59375 71.296875 \r\nL 52.59375 62.3125 \r\nQ 48.875 64.0625 45.09375 64.984375 \r\nQ 41.3125 65.921875 37.59375 65.921875 \r\nQ 27.828125 65.921875 22.671875 59.328125 \r\nQ 17.53125 52.734375 16.796875 39.40625 \r\nQ 19.671875 43.65625 24.015625 45.921875 \r\nQ 28.375 48.1875 33.59375 48.1875 \r\nQ 44.578125 48.1875 50.953125 41.515625 \r\nQ 57.328125 34.859375 57.328125 23.390625 \r\nQ 57.328125 12.15625 50.6875 5.359375 \r\nQ 44.046875 -1.421875 33.015625 -1.421875 \r\nQ 20.359375 -1.421875 13.671875 8.265625 \r\nQ 6.984375 17.96875 6.984375 36.375 \r\nQ 6.984375 53.65625 15.1875 63.9375 \r\nQ 23.390625 74.21875 37.203125 74.21875 \r\nQ 40.921875 74.21875 44.703125 73.484375 \r\nQ 48.484375 72.75 52.59375 71.296875 \r\nz\r\n\" id=\"DejaVuSans-54\"/>\r\n       </defs>\r\n       <use xlink:href=\"#DejaVuSans-54\"/>\r\n      </g>\r\n     </g>\r\n    </g>\r\n    <g id=\"xtick_5\">\r\n     <g id=\"line2d_5\">\r\n      <g>\r\n       <use style=\"stroke:#000000;stroke-width:0.8;\" x=\"91.635268\" xlink:href=\"#mc60d9d4b9a\" y=\"279\"/>\r\n      </g>\r\n     </g>\r\n     <g id=\"text_5\">\r\n      <!-- 8 -->\r\n      <g transform=\"translate(88.454018 293.598437)scale(0.1 -0.1)\">\r\n       <defs>\r\n        <path d=\"M 31.78125 34.625 \r\nQ 24.75 34.625 20.71875 30.859375 \r\nQ 16.703125 27.09375 16.703125 20.515625 \r\nQ 16.703125 13.921875 20.71875 10.15625 \r\nQ 24.75 6.390625 31.78125 6.390625 \r\nQ 38.8125 6.390625 42.859375 10.171875 \r\nQ 46.921875 13.96875 46.921875 20.515625 \r\nQ 46.921875 27.09375 42.890625 30.859375 \r\nQ 38.875 34.625 31.78125 34.625 \r\nz\r\nM 21.921875 38.8125 \r\nQ 15.578125 40.375 12.03125 44.71875 \r\nQ 8.5 49.078125 8.5 55.328125 \r\nQ 8.5 64.0625 14.71875 69.140625 \r\nQ 20.953125 74.21875 31.78125 74.21875 \r\nQ 42.671875 74.21875 48.875 69.140625 \r\nQ 55.078125 64.0625 55.078125 55.328125 \r\nQ 55.078125 49.078125 51.53125 44.71875 \r\nQ 48 40.375 41.703125 38.8125 \r\nQ 48.828125 37.15625 52.796875 32.3125 \r\nQ 56.78125 27.484375 56.78125 20.515625 \r\nQ 56.78125 9.90625 50.3125 4.234375 \r\nQ 43.84375 -1.421875 31.78125 -1.421875 \r\nQ 19.734375 -1.421875 13.25 4.234375 \r\nQ 6.78125 9.90625 6.78125 20.515625 \r\nQ 6.78125 27.484375 10.78125 32.3125 \r\nQ 14.796875 37.15625 21.921875 38.8125 \r\nz\r\nM 18.3125 54.390625 \r\nQ 18.3125 48.734375 21.84375 45.5625 \r\nQ 25.390625 42.390625 31.78125 42.390625 \r\nQ 38.140625 42.390625 41.71875 45.5625 \r\nQ 45.3125 48.734375 45.3125 54.390625 \r\nQ 45.3125 60.0625 41.71875 63.234375 \r\nQ 38.140625 66.40625 31.78125 66.40625 \r\nQ 25.390625 66.40625 21.84375 63.234375 \r\nQ 18.3125 60.0625 18.3125 54.390625 \r\nz\r\n\" id=\"DejaVuSans-56\"/>\r\n       </defs>\r\n       <use xlink:href=\"#DejaVuSans-56\"/>\r\n      </g>\r\n     </g>\r\n    </g>\r\n    <g id=\"xtick_6\">\r\n     <g id=\"line2d_6\">\r\n      <g>\r\n       <use style=\"stroke:#000000;stroke-width:0.8;\" x=\"107.578125\" xlink:href=\"#mc60d9d4b9a\" y=\"279\"/>\r\n      </g>\r\n     </g>\r\n     <g id=\"text_6\">\r\n      <!-- 10 -->\r\n      <g transform=\"translate(101.215625 293.598437)scale(0.1 -0.1)\">\r\n       <defs>\r\n        <path d=\"M 12.40625 8.296875 \r\nL 28.515625 8.296875 \r\nL 28.515625 63.921875 \r\nL 10.984375 60.40625 \r\nL 10.984375 69.390625 \r\nL 28.421875 72.90625 \r\nL 38.28125 72.90625 \r\nL 38.28125 8.296875 \r\nL 54.390625 8.296875 \r\nL 54.390625 0 \r\nL 12.40625 0 \r\nz\r\n\" id=\"DejaVuSans-49\"/>\r\n       </defs>\r\n       <use xlink:href=\"#DejaVuSans-49\"/>\r\n       <use x=\"63.623047\" xlink:href=\"#DejaVuSans-48\"/>\r\n      </g>\r\n     </g>\r\n    </g>\r\n    <g id=\"xtick_7\">\r\n     <g id=\"line2d_7\">\r\n      <g>\r\n       <use style=\"stroke:#000000;stroke-width:0.8;\" x=\"123.520982\" xlink:href=\"#mc60d9d4b9a\" y=\"279\"/>\r\n      </g>\r\n     </g>\r\n     <g id=\"text_7\">\r\n      <!-- 12 -->\r\n      <g transform=\"translate(117.158482 293.598437)scale(0.1 -0.1)\">\r\n       <use xlink:href=\"#DejaVuSans-49\"/>\r\n       <use x=\"63.623047\" xlink:href=\"#DejaVuSans-50\"/>\r\n      </g>\r\n     </g>\r\n    </g>\r\n    <g id=\"xtick_8\">\r\n     <g id=\"line2d_8\">\r\n      <g>\r\n       <use style=\"stroke:#000000;stroke-width:0.8;\" x=\"139.463839\" xlink:href=\"#mc60d9d4b9a\" y=\"279\"/>\r\n      </g>\r\n     </g>\r\n     <g id=\"text_8\">\r\n      <!-- 14 -->\r\n      <g transform=\"translate(133.101339 293.598437)scale(0.1 -0.1)\">\r\n       <use xlink:href=\"#DejaVuSans-49\"/>\r\n       <use x=\"63.623047\" xlink:href=\"#DejaVuSans-52\"/>\r\n      </g>\r\n     </g>\r\n    </g>\r\n    <g id=\"xtick_9\">\r\n     <g id=\"line2d_9\">\r\n      <g>\r\n       <use style=\"stroke:#000000;stroke-width:0.8;\" x=\"155.406696\" xlink:href=\"#mc60d9d4b9a\" y=\"279\"/>\r\n      </g>\r\n     </g>\r\n     <g id=\"text_9\">\r\n      <!-- 16 -->\r\n      <g transform=\"translate(149.044196 293.598437)scale(0.1 -0.1)\">\r\n       <use xlink:href=\"#DejaVuSans-49\"/>\r\n       <use x=\"63.623047\" xlink:href=\"#DejaVuSans-54\"/>\r\n      </g>\r\n     </g>\r\n    </g>\r\n    <g id=\"xtick_10\">\r\n     <g id=\"line2d_10\">\r\n      <g>\r\n       <use style=\"stroke:#000000;stroke-width:0.8;\" x=\"171.349554\" xlink:href=\"#mc60d9d4b9a\" y=\"279\"/>\r\n      </g>\r\n     </g>\r\n     <g id=\"text_10\">\r\n      <!-- 18 -->\r\n      <g transform=\"translate(164.987054 293.598437)scale(0.1 -0.1)\">\r\n       <use xlink:href=\"#DejaVuSans-49\"/>\r\n       <use x=\"63.623047\" xlink:href=\"#DejaVuSans-56\"/>\r\n      </g>\r\n     </g>\r\n    </g>\r\n    <g id=\"xtick_11\">\r\n     <g id=\"line2d_11\">\r\n      <g>\r\n       <use style=\"stroke:#000000;stroke-width:0.8;\" x=\"187.292411\" xlink:href=\"#mc60d9d4b9a\" y=\"279\"/>\r\n      </g>\r\n     </g>\r\n     <g id=\"text_11\">\r\n      <!-- 20 -->\r\n      <g transform=\"translate(180.929911 293.598437)scale(0.1 -0.1)\">\r\n       <use xlink:href=\"#DejaVuSans-50\"/>\r\n       <use x=\"63.623047\" xlink:href=\"#DejaVuSans-48\"/>\r\n      </g>\r\n     </g>\r\n    </g>\r\n    <g id=\"xtick_12\">\r\n     <g id=\"line2d_12\">\r\n      <g>\r\n       <use style=\"stroke:#000000;stroke-width:0.8;\" x=\"203.235268\" xlink:href=\"#mc60d9d4b9a\" y=\"279\"/>\r\n      </g>\r\n     </g>\r\n     <g id=\"text_12\">\r\n      <!-- 22 -->\r\n      <g transform=\"translate(196.872768 293.598437)scale(0.1 -0.1)\">\r\n       <use xlink:href=\"#DejaVuSans-50\"/>\r\n       <use x=\"63.623047\" xlink:href=\"#DejaVuSans-50\"/>\r\n      </g>\r\n     </g>\r\n    </g>\r\n    <g id=\"xtick_13\">\r\n     <g id=\"line2d_13\">\r\n      <g>\r\n       <use style=\"stroke:#000000;stroke-width:0.8;\" x=\"219.178125\" xlink:href=\"#mc60d9d4b9a\" y=\"279\"/>\r\n      </g>\r\n     </g>\r\n     <g id=\"text_13\">\r\n      <!-- 24 -->\r\n      <g transform=\"translate(212.815625 293.598437)scale(0.1 -0.1)\">\r\n       <use xlink:href=\"#DejaVuSans-50\"/>\r\n       <use x=\"63.623047\" xlink:href=\"#DejaVuSans-52\"/>\r\n      </g>\r\n     </g>\r\n    </g>\r\n    <g id=\"xtick_14\">\r\n     <g id=\"line2d_14\">\r\n      <g>\r\n       <use style=\"stroke:#000000;stroke-width:0.8;\" x=\"235.120982\" xlink:href=\"#mc60d9d4b9a\" y=\"279\"/>\r\n      </g>\r\n     </g>\r\n     <g id=\"text_14\">\r\n      <!-- 26 -->\r\n      <g transform=\"translate(228.758482 293.598437)scale(0.1 -0.1)\">\r\n       <use xlink:href=\"#DejaVuSans-50\"/>\r\n       <use x=\"63.623047\" xlink:href=\"#DejaVuSans-54\"/>\r\n      </g>\r\n     </g>\r\n    </g>\r\n   </g>\r\n   <g id=\"matplotlib.axis_2\">\r\n    <g id=\"ytick_1\">\r\n     <g id=\"line2d_15\">\r\n      <defs>\r\n       <path d=\"M 0 0 \r\nL -3.5 0 \r\n\" id=\"mcfc2c103d6\" style=\"stroke:#000000;stroke-width:0.8;\"/>\r\n      </defs>\r\n      <g>\r\n       <use style=\"stroke:#000000;stroke-width:0.8;\" x=\"23.878125\" xlink:href=\"#mcfc2c103d6\" y=\"12.053571\"/>\r\n      </g>\r\n     </g>\r\n     <g id=\"text_15\">\r\n      <!-- 0 -->\r\n      <g transform=\"translate(14.798438 14.616853)rotate(-90)scale(0.1 -0.1)\">\r\n       <use xlink:href=\"#DejaVuSans-48\"/>\r\n      </g>\r\n     </g>\r\n    </g>\r\n    <g id=\"ytick_2\">\r\n     <g id=\"line2d_16\">\r\n      <g>\r\n       <use style=\"stroke:#000000;stroke-width:0.8;\" x=\"23.878125\" xlink:href=\"#mcfc2c103d6\" y=\"31.467857\"/>\r\n      </g>\r\n     </g>\r\n     <g id=\"text_16\">\r\n      <!-- 2 -->\r\n      <g transform=\"translate(14.798438 34.031138)rotate(-90)scale(0.1 -0.1)\">\r\n       <use xlink:href=\"#DejaVuSans-50\"/>\r\n      </g>\r\n     </g>\r\n    </g>\r\n    <g id=\"ytick_3\">\r\n     <g id=\"line2d_17\">\r\n      <g>\r\n       <use style=\"stroke:#000000;stroke-width:0.8;\" x=\"23.878125\" xlink:href=\"#mcfc2c103d6\" y=\"50.882143\"/>\r\n      </g>\r\n     </g>\r\n     <g id=\"text_17\">\r\n      <!-- 4 -->\r\n      <g transform=\"translate(14.798438 53.445424)rotate(-90)scale(0.1 -0.1)\">\r\n       <use xlink:href=\"#DejaVuSans-52\"/>\r\n      </g>\r\n     </g>\r\n    </g>\r\n    <g id=\"ytick_4\">\r\n     <g id=\"line2d_18\">\r\n      <g>\r\n       <use style=\"stroke:#000000;stroke-width:0.8;\" x=\"23.878125\" xlink:href=\"#mcfc2c103d6\" y=\"70.296429\"/>\r\n      </g>\r\n     </g>\r\n     <g id=\"text_18\">\r\n      <!-- 6 -->\r\n      <g transform=\"translate(14.798438 72.85971)rotate(-90)scale(0.1 -0.1)\">\r\n       <use xlink:href=\"#DejaVuSans-54\"/>\r\n      </g>\r\n     </g>\r\n    </g>\r\n    <g id=\"ytick_5\">\r\n     <g id=\"line2d_19\">\r\n      <g>\r\n       <use style=\"stroke:#000000;stroke-width:0.8;\" x=\"23.878125\" xlink:href=\"#mcfc2c103d6\" y=\"89.710714\"/>\r\n      </g>\r\n     </g>\r\n     <g id=\"text_19\">\r\n      <!-- 8 -->\r\n      <g transform=\"translate(14.798438 92.273996)rotate(-90)scale(0.1 -0.1)\">\r\n       <use xlink:href=\"#DejaVuSans-56\"/>\r\n      </g>\r\n     </g>\r\n    </g>\r\n    <g id=\"ytick_6\">\r\n     <g id=\"line2d_20\">\r\n      <g>\r\n       <use style=\"stroke:#000000;stroke-width:0.8;\" x=\"23.878125\" xlink:href=\"#mcfc2c103d6\" y=\"109.125\"/>\r\n      </g>\r\n     </g>\r\n     <g id=\"text_20\">\r\n      <!-- 10 -->\r\n      <g transform=\"translate(14.798438 118.050781)rotate(-90)scale(0.1 -0.1)\">\r\n       <use xlink:href=\"#DejaVuSans-49\"/>\r\n       <use x=\"63.623047\" xlink:href=\"#DejaVuSans-48\"/>\r\n      </g>\r\n     </g>\r\n    </g>\r\n    <g id=\"ytick_7\">\r\n     <g id=\"line2d_21\">\r\n      <g>\r\n       <use style=\"stroke:#000000;stroke-width:0.8;\" x=\"23.878125\" xlink:href=\"#mcfc2c103d6\" y=\"128.539286\"/>\r\n      </g>\r\n     </g>\r\n     <g id=\"text_21\">\r\n      <!-- 12 -->\r\n      <g transform=\"translate(14.798438 137.465067)rotate(-90)scale(0.1 -0.1)\">\r\n       <use xlink:href=\"#DejaVuSans-49\"/>\r\n       <use x=\"63.623047\" xlink:href=\"#DejaVuSans-50\"/>\r\n      </g>\r\n     </g>\r\n    </g>\r\n    <g id=\"ytick_8\">\r\n     <g id=\"line2d_22\">\r\n      <g>\r\n       <use style=\"stroke:#000000;stroke-width:0.8;\" x=\"23.878125\" xlink:href=\"#mcfc2c103d6\" y=\"147.953571\"/>\r\n      </g>\r\n     </g>\r\n     <g id=\"text_22\">\r\n      <!-- 14 -->\r\n      <g transform=\"translate(14.798438 156.879353)rotate(-90)scale(0.1 -0.1)\">\r\n       <use xlink:href=\"#DejaVuSans-49\"/>\r\n       <use x=\"63.623047\" xlink:href=\"#DejaVuSans-52\"/>\r\n      </g>\r\n     </g>\r\n    </g>\r\n    <g id=\"ytick_9\">\r\n     <g id=\"line2d_23\">\r\n      <g>\r\n       <use style=\"stroke:#000000;stroke-width:0.8;\" x=\"23.878125\" xlink:href=\"#mcfc2c103d6\" y=\"167.367857\"/>\r\n      </g>\r\n     </g>\r\n     <g id=\"text_23\">\r\n      <!-- 16 -->\r\n      <g transform=\"translate(14.798438 176.293638)rotate(-90)scale(0.1 -0.1)\">\r\n       <use xlink:href=\"#DejaVuSans-49\"/>\r\n       <use x=\"63.623047\" xlink:href=\"#DejaVuSans-54\"/>\r\n      </g>\r\n     </g>\r\n    </g>\r\n    <g id=\"ytick_10\">\r\n     <g id=\"line2d_24\">\r\n      <g>\r\n       <use style=\"stroke:#000000;stroke-width:0.8;\" x=\"23.878125\" xlink:href=\"#mcfc2c103d6\" y=\"186.782143\"/>\r\n      </g>\r\n     </g>\r\n     <g id=\"text_24\">\r\n      <!-- 18 -->\r\n      <g transform=\"translate(14.798438 195.707924)rotate(-90)scale(0.1 -0.1)\">\r\n       <use xlink:href=\"#DejaVuSans-49\"/>\r\n       <use x=\"63.623047\" xlink:href=\"#DejaVuSans-56\"/>\r\n      </g>\r\n     </g>\r\n    </g>\r\n    <g id=\"ytick_11\">\r\n     <g id=\"line2d_25\">\r\n      <g>\r\n       <use style=\"stroke:#000000;stroke-width:0.8;\" x=\"23.878125\" xlink:href=\"#mcfc2c103d6\" y=\"206.196429\"/>\r\n      </g>\r\n     </g>\r\n     <g id=\"text_25\">\r\n      <!-- 20 -->\r\n      <g transform=\"translate(14.798438 215.12221)rotate(-90)scale(0.1 -0.1)\">\r\n       <use xlink:href=\"#DejaVuSans-50\"/>\r\n       <use x=\"63.623047\" xlink:href=\"#DejaVuSans-48\"/>\r\n      </g>\r\n     </g>\r\n    </g>\r\n    <g id=\"ytick_12\">\r\n     <g id=\"line2d_26\">\r\n      <g>\r\n       <use style=\"stroke:#000000;stroke-width:0.8;\" x=\"23.878125\" xlink:href=\"#mcfc2c103d6\" y=\"225.610714\"/>\r\n      </g>\r\n     </g>\r\n     <g id=\"text_26\">\r\n      <!-- 22 -->\r\n      <g transform=\"translate(14.798438 234.536496)rotate(-90)scale(0.1 -0.1)\">\r\n       <use xlink:href=\"#DejaVuSans-50\"/>\r\n       <use x=\"63.623047\" xlink:href=\"#DejaVuSans-50\"/>\r\n      </g>\r\n     </g>\r\n    </g>\r\n    <g id=\"ytick_13\">\r\n     <g id=\"line2d_27\">\r\n      <g>\r\n       <use style=\"stroke:#000000;stroke-width:0.8;\" x=\"23.878125\" xlink:href=\"#mcfc2c103d6\" y=\"245.025\"/>\r\n      </g>\r\n     </g>\r\n     <g id=\"text_27\">\r\n      <!-- 24 -->\r\n      <g transform=\"translate(14.798438 253.950781)rotate(-90)scale(0.1 -0.1)\">\r\n       <use xlink:href=\"#DejaVuSans-50\"/>\r\n       <use x=\"63.623047\" xlink:href=\"#DejaVuSans-52\"/>\r\n      </g>\r\n     </g>\r\n    </g>\r\n    <g id=\"ytick_14\">\r\n     <g id=\"line2d_28\">\r\n      <g>\r\n       <use style=\"stroke:#000000;stroke-width:0.8;\" x=\"23.878125\" xlink:href=\"#mcfc2c103d6\" y=\"264.439286\"/>\r\n      </g>\r\n     </g>\r\n     <g id=\"text_28\">\r\n      <!-- 26 -->\r\n      <g transform=\"translate(14.798438 273.365067)rotate(-90)scale(0.1 -0.1)\">\r\n       <use xlink:href=\"#DejaVuSans-50\"/>\r\n       <use x=\"63.623047\" xlink:href=\"#DejaVuSans-54\"/>\r\n      </g>\r\n     </g>\r\n    </g>\r\n   </g>\r\n  </g>\r\n  <g id=\"axes_2\">\r\n   <g id=\"patch_3\">\r\n    <path clip-path=\"url(#p751d5a077b)\" d=\"M 261.028125 279 \r\nL 261.028125 277.938281 \r\nL 261.028125 8.261719 \r\nL 261.028125 7.2 \r\nL 274.618125 7.2 \r\nL 274.618125 8.261719 \r\nL 274.618125 277.938281 \r\nL 274.618125 279 \r\nz\r\n\" style=\"fill:#ffffff;stroke:#ffffff;stroke-linejoin:miter;stroke-width:0.01;\"/>\r\n   </g>\r\n   <image height=\"272\" id=\"image789f958418\" transform=\"scale(1 -1)translate(0 -272)\" width=\"14\" x=\"261\" xlink:href=\"data:image/png;base64,\r\niVBORw0KGgoAAAANSUhEUgAAAA4AAAEQCAYAAACA40WOAAAAeklEQVR4nO3UwQ2AMBADQQfRf8kJPdwDITP5j/K59dp7nwzeNUFJcp8z+hAEwQ9BCwCCBVDIIFgAhQyCBVDIIFgAhQyCf4YWAAQLoJBBsAAKGQQLoJBBsAAKGQT/DC0ACBZAIYNgARQyCBZAIYNgARQy+DJcSUZyfKsP9nr9OJT29HMAAAAASUVORK5CYII=\" y=\"-6\"/>\r\n   <g id=\"matplotlib.axis_3\"/>\r\n   <g id=\"matplotlib.axis_4\">\r\n    <g id=\"ytick_15\">\r\n     <g id=\"line2d_29\">\r\n      <defs>\r\n       <path d=\"M 0 0 \r\nL 3.5 0 \r\n\" id=\"m41a0844082\" style=\"stroke:#000000;stroke-width:0.8;\"/>\r\n      </defs>\r\n      <g>\r\n       <use style=\"stroke:#000000;stroke-width:0.8;\" x=\"274.618125\" xlink:href=\"#m41a0844082\" y=\"279\"/>\r\n      </g>\r\n     </g>\r\n     <g id=\"text_29\">\r\n      <!-- 0 -->\r\n      <g transform=\"translate(281.618125 282.799219)scale(0.1 -0.1)\">\r\n       <use xlink:href=\"#DejaVuSans-48\"/>\r\n      </g>\r\n     </g>\r\n    </g>\r\n    <g id=\"ytick_16\">\r\n     <g id=\"line2d_30\">\r\n      <g>\r\n       <use style=\"stroke:#000000;stroke-width:0.8;\" x=\"274.618125\" xlink:href=\"#m41a0844082\" y=\"225.705882\"/>\r\n      </g>\r\n     </g>\r\n     <g id=\"text_30\">\r\n      <!-- 50 -->\r\n      <g transform=\"translate(281.618125 229.505101)scale(0.1 -0.1)\">\r\n       <defs>\r\n        <path d=\"M 10.796875 72.90625 \r\nL 49.515625 72.90625 \r\nL 49.515625 64.59375 \r\nL 19.828125 64.59375 \r\nL 19.828125 46.734375 \r\nQ 21.96875 47.46875 24.109375 47.828125 \r\nQ 26.265625 48.1875 28.421875 48.1875 \r\nQ 40.625 48.1875 47.75 41.5 \r\nQ 54.890625 34.8125 54.890625 23.390625 \r\nQ 54.890625 11.625 47.5625 5.09375 \r\nQ 40.234375 -1.421875 26.90625 -1.421875 \r\nQ 22.3125 -1.421875 17.546875 -0.640625 \r\nQ 12.796875 0.140625 7.71875 1.703125 \r\nL 7.71875 11.625 \r\nQ 12.109375 9.234375 16.796875 8.0625 \r\nQ 21.484375 6.890625 26.703125 6.890625 \r\nQ 35.15625 6.890625 40.078125 11.328125 \r\nQ 45.015625 15.765625 45.015625 23.390625 \r\nQ 45.015625 31 40.078125 35.4375 \r\nQ 35.15625 39.890625 26.703125 39.890625 \r\nQ 22.75 39.890625 18.8125 39.015625 \r\nQ 14.890625 38.140625 10.796875 36.28125 \r\nz\r\n\" id=\"DejaVuSans-53\"/>\r\n       </defs>\r\n       <use xlink:href=\"#DejaVuSans-53\"/>\r\n       <use x=\"63.623047\" xlink:href=\"#DejaVuSans-48\"/>\r\n      </g>\r\n     </g>\r\n    </g>\r\n    <g id=\"ytick_17\">\r\n     <g id=\"line2d_31\">\r\n      <g>\r\n       <use style=\"stroke:#000000;stroke-width:0.8;\" x=\"274.618125\" xlink:href=\"#m41a0844082\" y=\"172.411765\"/>\r\n      </g>\r\n     </g>\r\n     <g id=\"text_31\">\r\n      <!-- 100 -->\r\n      <g transform=\"translate(281.618125 176.210983)scale(0.1 -0.1)\">\r\n       <use xlink:href=\"#DejaVuSans-49\"/>\r\n       <use x=\"63.623047\" xlink:href=\"#DejaVuSans-48\"/>\r\n       <use x=\"127.246094\" xlink:href=\"#DejaVuSans-48\"/>\r\n      </g>\r\n     </g>\r\n    </g>\r\n    <g id=\"ytick_18\">\r\n     <g id=\"line2d_32\">\r\n      <g>\r\n       <use style=\"stroke:#000000;stroke-width:0.8;\" x=\"274.618125\" xlink:href=\"#m41a0844082\" y=\"119.117647\"/>\r\n      </g>\r\n     </g>\r\n     <g id=\"text_32\">\r\n      <!-- 150 -->\r\n      <g transform=\"translate(281.618125 122.916866)scale(0.1 -0.1)\">\r\n       <use xlink:href=\"#DejaVuSans-49\"/>\r\n       <use x=\"63.623047\" xlink:href=\"#DejaVuSans-53\"/>\r\n       <use x=\"127.246094\" xlink:href=\"#DejaVuSans-48\"/>\r\n      </g>\r\n     </g>\r\n    </g>\r\n    <g id=\"ytick_19\">\r\n     <g id=\"line2d_33\">\r\n      <g>\r\n       <use style=\"stroke:#000000;stroke-width:0.8;\" x=\"274.618125\" xlink:href=\"#m41a0844082\" y=\"65.823529\"/>\r\n      </g>\r\n     </g>\r\n     <g id=\"text_33\">\r\n      <!-- 200 -->\r\n      <g transform=\"translate(281.618125 69.622748)scale(0.1 -0.1)\">\r\n       <use xlink:href=\"#DejaVuSans-50\"/>\r\n       <use x=\"63.623047\" xlink:href=\"#DejaVuSans-48\"/>\r\n       <use x=\"127.246094\" xlink:href=\"#DejaVuSans-48\"/>\r\n      </g>\r\n     </g>\r\n    </g>\r\n    <g id=\"ytick_20\">\r\n     <g id=\"line2d_34\">\r\n      <g>\r\n       <use style=\"stroke:#000000;stroke-width:0.8;\" x=\"274.618125\" xlink:href=\"#m41a0844082\" y=\"12.529412\"/>\r\n      </g>\r\n     </g>\r\n     <g id=\"text_34\">\r\n      <!-- 250 -->\r\n      <g transform=\"translate(281.618125 16.328631)scale(0.1 -0.1)\">\r\n       <use xlink:href=\"#DejaVuSans-50\"/>\r\n       <use x=\"63.623047\" xlink:href=\"#DejaVuSans-53\"/>\r\n       <use x=\"127.246094\" xlink:href=\"#DejaVuSans-48\"/>\r\n      </g>\r\n     </g>\r\n    </g>\r\n   </g>\r\n   <g id=\"patch_4\">\r\n    <path d=\"M 261.028125 279 \r\nL 261.028125 277.938281 \r\nL 261.028125 8.261719 \r\nL 261.028125 7.2 \r\nL 274.618125 7.2 \r\nL 274.618125 8.261719 \r\nL 274.618125 277.938281 \r\nL 274.618125 279 \r\nz\r\n\" style=\"fill:none;\"/>\r\n   </g>\r\n  </g>\r\n </g>\r\n <defs>\r\n  <clipPath id=\"p0c72fe43dd\">\r\n   <rect height=\"271.8\" width=\"223.2\" x=\"23.878125\" y=\"7.2\"/>\r\n  </clipPath>\r\n  <clipPath id=\"p751d5a077b\">\r\n   <rect height=\"271.8\" width=\"13.59\" x=\"261.028125\" y=\"7.2\"/>\r\n  </clipPath>\r\n </defs>\r\n</svg>\r\n",
      "image/png": "[encoded data removed]"
     },
     "metadata": {
      "needs_background": "light"
     }
    }
   ],
   "source": [
    "plt.rcParams['figure.figsize'] = (5,5)\n",
    "sns.heatmap(train_x[12],cmap='binary')"
   ]
  },
  {
   "cell_type": "code",
   "execution_count": 12,
   "metadata": {},
   "outputs": [],
   "source": [
    "plt.rcParams['figure.figsize'] = (40,40)\n",
    "sns.heatmap(train_x[12],annot=True,cmap='binary')\n",
    "plt.close()"
   ]
  },
  {
   "cell_type": "code",
   "execution_count": 13,
   "metadata": {},
   "outputs": [],
   "source": [
    "epochs=10\n",
    "batch_size = 32"
   ]
  },
  {
   "cell_type": "code",
   "execution_count": 44,
   "metadata": {},
   "outputs": [],
   "source": [
    "valid_x, train_x = train_xf[:5000], train_xf[5000:]\n",
    "valid_y, train_y = train_yf[:5000], train_yf[5000:]\n",
    "\n",
    "# normalize all the data points and cast the labels to int64\n",
    "train_x, test_x, valid_x = tf.cast(train_x/255.0, tf.float32), tf.cast(test_x/255.0, tf.float32), tf.cast(valid_x/255.0, tf.float32) # we are using 255 to normalize, because the value in the each element in the 28X28 matrix range from 0 to 255, an since in normalization we convert all the values between 0 and 1, we have to divide each element by 255.\n",
    "train_y, test_y, valid_y = tf.cast(train_y,tf.int64),tf.cast(test_y,tf.int64),tf.cast(valid_y,tf.int64)"
   ]
  },
  {
   "cell_type": "code",
   "execution_count": 45,
   "metadata": {},
   "outputs": [
    {
     "output_type": "execute_result",
     "data": {
      "text/plain": [
       "(TensorShape([55000, 28, 28]),\n",
       " TensorShape([10000, 28, 28]),\n",
       " TensorShape([5000, 28, 28]),\n",
       " TensorShape([55000]),\n",
       " TensorShape([10000]),\n",
       " TensorShape([5000]))"
      ]
     },
     "metadata": {},
     "execution_count": 45
    }
   ],
   "source": [
    "train_x.shape, test_x.shape, valid_x.shape,train_y.shape, test_y.shape, valid_y.shape"
   ]
  },
  {
   "source": [
    "## First Method"
   ],
   "cell_type": "markdown",
   "metadata": {}
  },
  {
   "source": [
    "#### Building the Architecture "
   ],
   "cell_type": "markdown",
   "metadata": {}
  },
  {
   "cell_type": "code",
   "execution_count": 15,
   "metadata": {},
   "outputs": [],
   "source": [
    "# mnistmodel1 = tf.keras.models.Sequential([\n",
    "# tf.keras.layers.Flatten(),\n",
    "# tf.keras.layers.Dense(512,activation=tf.nn.relu),\n",
    "# tf.keras.layers.Dropout(0.2),\n",
    "# tf.keras.layers.Dense(10,activation=tf.nn.softmax)\n",
    "# ])\n",
    "\n",
    "LAYERS = [tf.keras.layers.Flatten(input_shape=[28, 28], name=\"inputLayer\"),\n",
    "          tf.keras.layers.Dense(375, activation=\"relu\", name=\"hiddenLayer1\"),\n",
    "          tf.keras.layers.Dropout(0.2),\n",
    "          tf.keras.layers.Dense(100, activation=\"relu\", name=\"hiddenLayer2\"),\n",
    "          tf.keras.layers.Dense(10, activation=\"softmax\", name=\"outputLayer\")]\n",
    "\n",
    "model_clf = tf.keras.models.Sequential(LAYERS)"
   ]
  },
  {
   "source": [
    "- #### Altenative 1\n",
    "\n",
    "```python\n",
    "model = tf.keras.models.Sequential()\n",
    "model.add(tf.keras.layers.Flatten(input_shape=[28, 28]))\n",
    "model.add(tf.keras.layers.Dense(300, activation=\"relu\"))\n",
    "model.add(tf.keras.layers.Dense(100, activation=\"relu\"))\n",
    "model.add(tf.keras.layers.Dense(10, activation=\"softmax\"))\n",
    "\n",
    "```\n",
    "\n",
    "- #### Alternative 2\n",
    "\n",
    "```python\n",
    "model = tf.keras.models.Sequential([\n",
    "    tf.keras.layers.Flatten(input_shape=[28, 28]),\n",
    "    tf.keras.layers.Dense(300, activation=\"relu\"),\n",
    "    tf.keras.layers.Dense(100, activation=\"relu\"),\n",
    "    tf.keras.layers.Dense(10, activation=\"softmax\")\n",
    "])\n",
    "```"
   ],
   "cell_type": "markdown",
   "metadata": {}
  },
  {
   "source": [
    "### For custom weights initialiser or setting weights \n",
    "refer [here](https://keras.io/api/layers/base_layer/#setweights-method)"
   ],
   "cell_type": "markdown",
   "metadata": {}
  },
  {
   "cell_type": "code",
   "execution_count": 16,
   "metadata": {},
   "outputs": [
    {
     "output_type": "execute_result",
     "data": {
      "text/plain": [
       "[<tensorflow.python.keras.layers.core.Flatten at 0x19c1d99e9c8>,\n",
       " <tensorflow.python.keras.layers.core.Dense at 0x19c1d99b848>,\n",
       " <tensorflow.python.keras.layers.core.Dropout at 0x19c1d984888>,\n",
       " <tensorflow.python.keras.layers.core.Dense at 0x19c10cb0888>,\n",
       " <tensorflow.python.keras.layers.core.Dense at 0x19c1d98ca88>]"
      ]
     },
     "metadata": {},
     "execution_count": 16
    }
   ],
   "source": [
    "model_clf.layers"
   ]
  },
  {
   "cell_type": "code",
   "execution_count": 30,
   "metadata": {},
   "outputs": [
    {
     "output_type": "execute_result",
     "data": {
      "text/plain": [
       "'hiddenLayer1'"
      ]
     },
     "metadata": {},
     "execution_count": 30
    }
   ],
   "source": [
    "model_clf.layers[1].name"
   ]
  },
  {
   "cell_type": "code",
   "execution_count": 31,
   "metadata": {},
   "outputs": [
    {
     "output_type": "execute_result",
     "data": {
      "text/plain": [
       "<tensorflow.python.keras.layers.core.Dense at 0x19c1d99b848>"
      ]
     },
     "metadata": {},
     "execution_count": 31
    }
   ],
   "source": [
    "temp = model_clf.layers[1].name\n",
    "model_clf.get_layer(temp)"
   ]
  },
  {
   "source": [
    "model_clf.summary()"
   ],
   "cell_type": "code",
   "metadata": {},
   "execution_count": 17,
   "outputs": [
    {
     "output_type": "stream",
     "name": "stdout",
     "text": [
      "Model: \"sequential\"\n_________________________________________________________________\nLayer (type)                 Output Shape              Param #   \n=================================================================\ninputLayer (Flatten)         (None, 784)               0         \n_________________________________________________________________\nhiddenLayer1 (Dense)         (None, 375)               294375    \n_________________________________________________________________\ndropout (Dropout)            (None, 375)               0         \n_________________________________________________________________\nhiddenLayer2 (Dense)         (None, 100)               37600     \n_________________________________________________________________\noutputLayer (Dense)          (None, 10)                1010      \n=================================================================\nTotal params: 332,985\nTrainable params: 332,985\nNon-trainable params: 0\n_________________________________________________________________\n"
     ]
    }
   ]
  },
  {
   "cell_type": "code",
   "execution_count": 22,
   "metadata": {},
   "outputs": [
    {
     "output_type": "execute_result",
     "data": {
      "text/plain": [
       "294375"
      ]
     },
     "metadata": {},
     "execution_count": 22
    }
   ],
   "source": [
    "# Trainable parameters for layer 1\n",
    "((28*28)*(375)+(375))\n",
    "#  (784)*(375)+(375)\n",
    "# Input layer neurons * hidden layer 1 neurons + biases for each layer 1 neuron"
   ]
  },
  {
   "cell_type": "code",
   "execution_count": 23,
   "metadata": {},
   "outputs": [
    {
     "output_type": "execute_result",
     "data": {
      "text/plain": [
       "37600"
      ]
     },
     "metadata": {},
     "execution_count": 23
    }
   ],
   "source": [
    "# Trainable parameters for layer 2\n",
    "375*100+100\n",
    "# firsLayer * secondLayer + bias"
   ]
  },
  {
   "cell_type": "code",
   "execution_count": 32,
   "metadata": {},
   "outputs": [
    {
     "output_type": "execute_result",
     "data": {
      "text/plain": [
       "1010"
      ]
     },
     "metadata": {},
     "execution_count": 32
    }
   ],
   "source": [
    "# Trainable parameters for output layer\n",
    "100*10+10\n",
    "# firsLayer * secondLayer + bias"
   ]
  },
  {
   "source": [
    "#### Weights"
   ],
   "cell_type": "markdown",
   "metadata": {}
  },
  {
   "cell_type": "code",
   "execution_count": 34,
   "metadata": {},
   "outputs": [
    {
     "output_type": "execute_result",
     "data": {
      "text/plain": [
       "2"
      ]
     },
     "metadata": {},
     "execution_count": 34
    }
   ],
   "source": [
    "hidden1 = model_clf.layers[1]\n",
    "# hidden1.set_weights(hidden1.get_weights()) # to set weights\n",
    "len(hidden1.get_weights())"
   ]
  },
  {
   "source": [
    "1(first) for the weights and 1(second) for bias"
   ],
   "cell_type": "markdown",
   "metadata": {}
  },
  {
   "cell_type": "code",
   "execution_count": 37,
   "metadata": {},
   "outputs": [
    {
     "output_type": "execute_result",
     "data": {
      "text/plain": [
       "(784, 375)"
      ]
     },
     "metadata": {},
     "execution_count": 37
    }
   ],
   "source": [
    "len(hidden1.get_weights()[0]),len(hidden1.get_weights()[0][1]) # total wieghts -> 784 x 375"
   ]
  },
  {
   "cell_type": "code",
   "execution_count": 39,
   "metadata": {},
   "outputs": [
    {
     "output_type": "execute_result",
     "data": {
      "text/plain": [
       "375"
      ]
     },
     "metadata": {},
     "execution_count": 39
    }
   ],
   "source": [
    "len(hidden1.get_weights()[1]) # bais"
   ]
  },
  {
   "cell_type": "code",
   "execution_count": 40,
   "metadata": {},
   "outputs": [
    {
     "output_type": "execute_result",
     "data": {
      "text/plain": [
       "[array([[ 0.05346685, -0.03748457, -0.04859137, ...,  0.00943509,\n",
       "         -0.06175772, -0.06434795],\n",
       "        [-0.05713956,  0.0237309 , -0.00903531, ...,  0.03179293,\n",
       "          0.01412773, -0.0227605 ],\n",
       "        [-0.05233333,  0.00393882, -0.01516113, ...,  0.07177218,\n",
       "          0.03491049, -0.03267998],\n",
       "        ...,\n",
       "        [ 0.03085117,  0.05886733,  0.05639973, ...,  0.01053528,\n",
       "          0.02899049, -0.04378618],\n",
       "        [ 0.03158359,  0.00573692, -0.03226117, ..., -0.01280283,\n",
       "          0.05585378, -0.06702942],\n",
       "        [ 0.00692666,  0.01618131,  0.06363723, ..., -0.04328531,\n",
       "         -0.06303182, -0.05835322]], dtype=float32),\n",
       " array([0., 0., 0., 0., 0., 0., 0., 0., 0., 0., 0., 0., 0., 0., 0., 0., 0.,\n",
       "        0., 0., 0., 0., 0., 0., 0., 0., 0., 0., 0., 0., 0., 0., 0., 0., 0.,\n",
       "        0., 0., 0., 0., 0., 0., 0., 0., 0., 0., 0., 0., 0., 0., 0., 0., 0.,\n",
       "        0., 0., 0., 0., 0., 0., 0., 0., 0., 0., 0., 0., 0., 0., 0., 0., 0.,\n",
       "        0., 0., 0., 0., 0., 0., 0., 0., 0., 0., 0., 0., 0., 0., 0., 0., 0.,\n",
       "        0., 0., 0., 0., 0., 0., 0., 0., 0., 0., 0., 0., 0., 0., 0., 0., 0.,\n",
       "        0., 0., 0., 0., 0., 0., 0., 0., 0., 0., 0., 0., 0., 0., 0., 0., 0.,\n",
       "        0., 0., 0., 0., 0., 0., 0., 0., 0., 0., 0., 0., 0., 0., 0., 0., 0.,\n",
       "        0., 0., 0., 0., 0., 0., 0., 0., 0., 0., 0., 0., 0., 0., 0., 0., 0.,\n",
       "        0., 0., 0., 0., 0., 0., 0., 0., 0., 0., 0., 0., 0., 0., 0., 0., 0.,\n",
       "        0., 0., 0., 0., 0., 0., 0., 0., 0., 0., 0., 0., 0., 0., 0., 0., 0.,\n",
       "        0., 0., 0., 0., 0., 0., 0., 0., 0., 0., 0., 0., 0., 0., 0., 0., 0.,\n",
       "        0., 0., 0., 0., 0., 0., 0., 0., 0., 0., 0., 0., 0., 0., 0., 0., 0.,\n",
       "        0., 0., 0., 0., 0., 0., 0., 0., 0., 0., 0., 0., 0., 0., 0., 0., 0.,\n",
       "        0., 0., 0., 0., 0., 0., 0., 0., 0., 0., 0., 0., 0., 0., 0., 0., 0.,\n",
       "        0., 0., 0., 0., 0., 0., 0., 0., 0., 0., 0., 0., 0., 0., 0., 0., 0.,\n",
       "        0., 0., 0., 0., 0., 0., 0., 0., 0., 0., 0., 0., 0., 0., 0., 0., 0.,\n",
       "        0., 0., 0., 0., 0., 0., 0., 0., 0., 0., 0., 0., 0., 0., 0., 0., 0.,\n",
       "        0., 0., 0., 0., 0., 0., 0., 0., 0., 0., 0., 0., 0., 0., 0., 0., 0.,\n",
       "        0., 0., 0., 0., 0., 0., 0., 0., 0., 0., 0., 0., 0., 0., 0., 0., 0.,\n",
       "        0., 0., 0., 0., 0., 0., 0., 0., 0., 0., 0., 0., 0., 0., 0., 0., 0.,\n",
       "        0., 0., 0., 0., 0., 0., 0., 0., 0., 0., 0., 0., 0., 0., 0., 0., 0.,\n",
       "        0.], dtype=float32)]"
      ]
     },
     "metadata": {},
     "execution_count": 40
    }
   ],
   "source": [
    "hidden1.get_weights()"
   ]
  },
  {
   "source": [
    "`Here we can see the weigths are initialized randomly and the bias to 0`"
   ],
   "cell_type": "markdown",
   "metadata": {}
  },
  {
   "source": [
    "#### Compiling the model"
   ],
   "cell_type": "markdown",
   "metadata": {}
  },
  {
   "cell_type": "code",
   "execution_count": 49,
   "metadata": {},
   "outputs": [],
   "source": [
    "# optimiser = tf.keras.optimizers.Adam()\n",
    "# mnistmodel1.compile (optimizer= optimiser, loss='sparse_categorical_crossentropy', metrics = ['accuracy'])\n",
    "\n",
    "LOSS_FUNCTION = \"sparse_categorical_crossentropy\" # use => tf.losses.sparse_categorical_crossentropy\n",
    "OPTIMIZER = \"SGD\" # or use with custom learning rate=> tf.keras.optimizers.SGD(0.02)\n",
    "METRICS = [\"accuracy\"]\n",
    "\n",
    "model_clf.compile(loss=LOSS_FUNCTION,\n",
    "              optimizer=OPTIMIZER,\n",
    "              metrics=METRICS)\n",
    "\n"
   ]
  },
  {
   "source": [
    "#### Alternatively \n",
    "```python\n",
    "model_clf.compile(loss=tf.losses.sparse_categorical_crossentropy,\n",
    "               optimizer=tf.keras.optimizers.SGD(0.02),\n",
    "               metrics=[\"accuracy\"])\n",
    "```"
   ],
   "cell_type": "markdown",
   "metadata": {}
  },
  {
   "source": [
    "#### Fitting the model"
   ],
   "cell_type": "markdown",
   "metadata": {}
  },
  {
   "source": [
    "X_train.shape, 55000/32, batch size=32 by default"
   ],
   "cell_type": "markdown",
   "metadata": {}
  },
  {
   "cell_type": "code",
   "execution_count": 78,
   "metadata": {},
   "outputs": [
    {
     "output_type": "stream",
     "name": "stdout",
     "text": [
      "Epoch 1/40\n",
      "1719/1719 [==============================] - 4s 2ms/step - loss: 0.0085 - accuracy: 0.9979 - val_loss: 0.0574 - val_accuracy: 0.9846\n",
      "Epoch 2/40\n",
      "1719/1719 [==============================] - 3s 2ms/step - loss: 0.0088 - accuracy: 0.9977 - val_loss: 0.0585 - val_accuracy: 0.9856\n",
      "Epoch 3/40\n",
      "1719/1719 [==============================] - 3s 2ms/step - loss: 0.0078 - accuracy: 0.9985 - val_loss: 0.0588 - val_accuracy: 0.9852\n",
      "Epoch 4/40\n",
      "1719/1719 [==============================] - 3s 2ms/step - loss: 0.0085 - accuracy: 0.9981 - val_loss: 0.0583 - val_accuracy: 0.9846\n",
      "Epoch 5/40\n",
      "1719/1719 [==============================] - 3s 2ms/step - loss: 0.0077 - accuracy: 0.9982 - val_loss: 0.0571 - val_accuracy: 0.9850\n",
      "Epoch 6/40\n",
      "1719/1719 [==============================] - 3s 2ms/step - loss: 0.0078 - accuracy: 0.9983 - val_loss: 0.0570 - val_accuracy: 0.9862\n",
      "Epoch 7/40\n",
      "1719/1719 [==============================] - 3s 2ms/step - loss: 0.0077 - accuracy: 0.9983 - val_loss: 0.0581 - val_accuracy: 0.9854\n",
      "Epoch 8/40\n",
      "1719/1719 [==============================] - 3s 2ms/step - loss: 0.0078 - accuracy: 0.9982 - val_loss: 0.0570 - val_accuracy: 0.9864\n",
      "Epoch 9/40\n",
      "1719/1719 [==============================] - 4s 2ms/step - loss: 0.0079 - accuracy: 0.9982 - val_loss: 0.0583 - val_accuracy: 0.9854\n",
      "Epoch 10/40\n",
      "1719/1719 [==============================] - 4s 2ms/step - loss: 0.0075 - accuracy: 0.9982 - val_loss: 0.0573 - val_accuracy: 0.9872\n",
      "Epoch 11/40\n",
      "1719/1719 [==============================] - 3s 2ms/step - loss: 0.0078 - accuracy: 0.9980 - val_loss: 0.0592 - val_accuracy: 0.9848\n",
      "Epoch 12/40\n",
      "1719/1719 [==============================] - 4s 2ms/step - loss: 0.0072 - accuracy: 0.9985 - val_loss: 0.0588 - val_accuracy: 0.9858\n",
      "Epoch 13/40\n",
      "1719/1719 [==============================] - 4s 2ms/step - loss: 0.0072 - accuracy: 0.9984 - val_loss: 0.0603 - val_accuracy: 0.9852\n",
      "Epoch 14/40\n",
      "1719/1719 [==============================] - 3s 2ms/step - loss: 0.0072 - accuracy: 0.9983 - val_loss: 0.0582 - val_accuracy: 0.9848\n",
      "Epoch 15/40\n",
      "1719/1719 [==============================] - 3s 2ms/step - loss: 0.0065 - accuracy: 0.9987 - val_loss: 0.0599 - val_accuracy: 0.9854\n",
      "Epoch 16/40\n",
      "1719/1719 [==============================] - 3s 2ms/step - loss: 0.0066 - accuracy: 0.9985 - val_loss: 0.0588 - val_accuracy: 0.9856\n",
      "Epoch 17/40\n",
      "1719/1719 [==============================] - 3s 2ms/step - loss: 0.0066 - accuracy: 0.9986 - val_loss: 0.0588 - val_accuracy: 0.9850\n",
      "Epoch 18/40\n",
      "1719/1719 [==============================] - 4s 2ms/step - loss: 0.0063 - accuracy: 0.9986 - val_loss: 0.0591 - val_accuracy: 0.9860\n",
      "Epoch 19/40\n",
      "1719/1719 [==============================] - 4s 2ms/step - loss: 0.0061 - accuracy: 0.9989 - val_loss: 0.0584 - val_accuracy: 0.9854\n",
      "Epoch 20/40\n",
      "1719/1719 [==============================] - 4s 2ms/step - loss: 0.0066 - accuracy: 0.9983 - val_loss: 0.0593 - val_accuracy: 0.9854\n",
      "Epoch 21/40\n",
      "1719/1719 [==============================] - 3s 2ms/step - loss: 0.0073 - accuracy: 0.9983 - val_loss: 0.0586 - val_accuracy: 0.9846\n",
      "Epoch 22/40\n",
      "1719/1719 [==============================] - 3s 2ms/step - loss: 0.0067 - accuracy: 0.9988 - val_loss: 0.0603 - val_accuracy: 0.9846\n",
      "Epoch 23/40\n",
      "1719/1719 [==============================] - 3s 2ms/step - loss: 0.0063 - accuracy: 0.9987 - val_loss: 0.0598 - val_accuracy: 0.9848\n",
      "Epoch 24/40\n",
      "1719/1719 [==============================] - 3s 2ms/step - loss: 0.0060 - accuracy: 0.9988 - val_loss: 0.0589 - val_accuracy: 0.9860\n",
      "Epoch 25/40\n",
      "1719/1719 [==============================] - 3s 2ms/step - loss: 0.0061 - accuracy: 0.9987 - val_loss: 0.0587 - val_accuracy: 0.9844\n",
      "Epoch 26/40\n",
      "1719/1719 [==============================] - 3s 2ms/step - loss: 0.0060 - accuracy: 0.9988 - val_loss: 0.0585 - val_accuracy: 0.9858\n",
      "Epoch 27/40\n",
      "1719/1719 [==============================] - 3s 2ms/step - loss: 0.0058 - accuracy: 0.9988 - val_loss: 0.0583 - val_accuracy: 0.9860\n",
      "Epoch 28/40\n",
      "1719/1719 [==============================] - 3s 2ms/step - loss: 0.0064 - accuracy: 0.9988 - val_loss: 0.0586 - val_accuracy: 0.9862\n",
      "Epoch 29/40\n",
      "1719/1719 [==============================] - 3s 2ms/step - loss: 0.0053 - accuracy: 0.9991 - val_loss: 0.0602 - val_accuracy: 0.9860\n",
      "Epoch 30/40\n",
      "1719/1719 [==============================] - 4s 2ms/step - loss: 0.0055 - accuracy: 0.9988 - val_loss: 0.0597 - val_accuracy: 0.9856\n",
      "Epoch 31/40\n",
      "1719/1719 [==============================] - 3s 2ms/step - loss: 0.0051 - accuracy: 0.9989 - val_loss: 0.0586 - val_accuracy: 0.9864\n",
      "Epoch 32/40\n",
      "1719/1719 [==============================] - 3s 2ms/step - loss: 0.0056 - accuracy: 0.9989 - val_loss: 0.0605 - val_accuracy: 0.9848\n",
      "Epoch 33/40\n",
      "1719/1719 [==============================] - 4s 2ms/step - loss: 0.0058 - accuracy: 0.9986 - val_loss: 0.0609 - val_accuracy: 0.9850\n",
      "Epoch 34/40\n",
      "1719/1719 [==============================] - 3s 2ms/step - loss: 0.0055 - accuracy: 0.9988 - val_loss: 0.0621 - val_accuracy: 0.9850\n",
      "Epoch 35/40\n",
      "1719/1719 [==============================] - 3s 2ms/step - loss: 0.0051 - accuracy: 0.9991 - val_loss: 0.0613 - val_accuracy: 0.9856\n",
      "Epoch 36/40\n",
      "1719/1719 [==============================] - 3s 2ms/step - loss: 0.0053 - accuracy: 0.9989 - val_loss: 0.0593 - val_accuracy: 0.9864\n",
      "Epoch 37/40\n",
      "1719/1719 [==============================] - 3s 2ms/step - loss: 0.0048 - accuracy: 0.9991 - val_loss: 0.0618 - val_accuracy: 0.9854\n",
      "Epoch 38/40\n",
      "1719/1719 [==============================] - 3s 2ms/step - loss: 0.0050 - accuracy: 0.9989 - val_loss: 0.0620 - val_accuracy: 0.9850\n",
      "Epoch 39/40\n",
      "1719/1719 [==============================] - 3s 2ms/step - loss: 0.0048 - accuracy: 0.9991 - val_loss: 0.0608 - val_accuracy: 0.9858\n",
      "Epoch 40/40\n",
      "1719/1719 [==============================] - 3s 2ms/step - loss: 0.0053 - accuracy: 0.9988 - val_loss: 0.0600 - val_accuracy: 0.9864\n"
     ]
    }
   ],
   "source": [
    "# mnistmodel1.fit(train_x, train_y, batch_size=32, epochs=5)\n",
    "\n",
    "EPOCHS = 40\n",
    "VALIDATION_SET = (valid_x, valid_y)\n",
    "\n",
    "history = model_clf.fit(train_x, train_y, epochs=EPOCHS,validation_data=VALIDATION_SET)"
   ]
  },
  {
   "source": [
    "> First Iteration :: loss: 1.0551 - accuracy: 0.7095 - val_loss: 0.3045 - val_accuracy: 0.9134\n",
    " \n",
    "> Last Iteration :: loss: 0.0425 - accuracy: 0.9874 - val_loss: 0.0604 - val_accuracy: 0.9832"
   ],
   "cell_type": "markdown",
   "metadata": {}
  },
  {
   "source": [
    "#### Evaluate the mnistmodel1"
   ],
   "cell_type": "markdown",
   "metadata": {}
  },
  {
   "cell_type": "code",
   "execution_count": 51,
   "metadata": {},
   "outputs": [
    {
     "output_type": "stream",
     "name": "stdout",
     "text": [
      "313/313 [==============================] - 0s 911us/step - loss: 0.0636 - accuracy: 0.9790\n"
     ]
    },
    {
     "output_type": "execute_result",
     "data": {
      "text/plain": [
       "[0.06358089298009872, 0.9789999723434448]"
      ]
     },
     "metadata": {},
     "execution_count": 51
    }
   ],
   "source": [
    "model_clf.evaluate(test_x, test_y)"
   ]
  },
  {
   "source": [
    "#### `history` Variable"
   ],
   "cell_type": "markdown",
   "metadata": {}
  },
  {
   "cell_type": "code",
   "execution_count": 52,
   "metadata": {},
   "outputs": [
    {
     "output_type": "execute_result",
     "data": {
      "text/plain": [
       "{'verbose': 1, 'epochs': 30, 'steps': 1719}"
      ]
     },
     "metadata": {},
     "execution_count": 52
    }
   ],
   "source": [
    "history.params"
   ]
  },
  {
   "cell_type": "code",
   "execution_count": 53,
   "metadata": {},
   "outputs": [
    {
     "output_type": "execute_result",
     "data": {
      "text/plain": [
       "        loss  accuracy  val_loss  val_accuracy\n",
       "0   0.647076  0.824018  0.304484        0.9134\n",
       "1   0.317200  0.907727  0.235602        0.9348\n",
       "2   0.258216  0.925073  0.197663        0.9468\n",
       "3   0.218537  0.936145  0.168160        0.9528\n",
       "4   0.189729  0.945400  0.149142        0.9586\n",
       "5   0.168802  0.950764  0.132582        0.9632\n",
       "6   0.152725  0.954418  0.122250        0.9654\n",
       "7   0.138759  0.959345  0.111253        0.9696\n",
       "8   0.126095  0.963255  0.105294        0.9722\n",
       "9   0.117872  0.965582  0.099051        0.9720\n",
       "10  0.108687  0.968000  0.095093        0.9728\n",
       "11  0.102241  0.970182  0.090369        0.9758\n",
       "12  0.096234  0.971782  0.085757        0.9760\n",
       "13  0.090758  0.973109  0.082038        0.9772\n",
       "14  0.083511  0.975491  0.080417        0.9778\n",
       "15  0.079968  0.977309  0.076811        0.9788\n",
       "16  0.075826  0.977873  0.075934        0.9796\n",
       "17  0.073145  0.978945  0.073760        0.9792\n",
       "18  0.068623  0.979964  0.071626        0.9800\n",
       "19  0.067018  0.980709  0.069970        0.9804\n",
       "20  0.062725  0.981655  0.069113        0.9802\n",
       "21  0.059558  0.982364  0.066759        0.9814\n",
       "22  0.057392  0.983145  0.067041        0.9808\n",
       "23  0.055086  0.983109  0.065001        0.9816\n",
       "24  0.052458  0.984182  0.064299        0.9814\n",
       "25  0.050426  0.985309  0.063562        0.9818\n",
       "26  0.047588  0.986291  0.060726        0.9828\n",
       "27  0.046296  0.986091  0.063399        0.9816\n",
       "28  0.044773  0.987327  0.060416        0.9832\n",
       "29  0.043040  0.986982  0.060388        0.9832"
      ],
      "text/html": "<div>\n<style scoped>\n    .dataframe tbody tr th:only-of-type {\n        vertical-align: middle;\n    }\n\n    .dataframe tbody tr th {\n        vertical-align: top;\n    }\n\n    .dataframe thead th {\n        text-align: right;\n    }\n</style>\n<table border=\"1\" class=\"dataframe\">\n  <thead>\n    <tr style=\"text-align: right;\">\n      <th></th>\n      <th>loss</th>\n      <th>accuracy</th>\n      <th>val_loss</th>\n      <th>val_accuracy</th>\n    </tr>\n  </thead>\n  <tbody>\n    <tr>\n      <th>0</th>\n      <td>0.647076</td>\n      <td>0.824018</td>\n      <td>0.304484</td>\n      <td>0.9134</td>\n    </tr>\n    <tr>\n      <th>1</th>\n      <td>0.317200</td>\n      <td>0.907727</td>\n      <td>0.235602</td>\n      <td>0.9348</td>\n    </tr>\n    <tr>\n      <th>2</th>\n      <td>0.258216</td>\n      <td>0.925073</td>\n      <td>0.197663</td>\n      <td>0.9468</td>\n    </tr>\n    <tr>\n      <th>3</th>\n      <td>0.218537</td>\n      <td>0.936145</td>\n      <td>0.168160</td>\n      <td>0.9528</td>\n    </tr>\n    <tr>\n      <th>4</th>\n      <td>0.189729</td>\n      <td>0.945400</td>\n      <td>0.149142</td>\n      <td>0.9586</td>\n    </tr>\n    <tr>\n      <th>5</th>\n      <td>0.168802</td>\n      <td>0.950764</td>\n      <td>0.132582</td>\n      <td>0.9632</td>\n    </tr>\n    <tr>\n      <th>6</th>\n      <td>0.152725</td>\n      <td>0.954418</td>\n      <td>0.122250</td>\n      <td>0.9654</td>\n    </tr>\n    <tr>\n      <th>7</th>\n      <td>0.138759</td>\n      <td>0.959345</td>\n      <td>0.111253</td>\n      <td>0.9696</td>\n    </tr>\n    <tr>\n      <th>8</th>\n      <td>0.126095</td>\n      <td>0.963255</td>\n      <td>0.105294</td>\n      <td>0.9722</td>\n    </tr>\n    <tr>\n      <th>9</th>\n      <td>0.117872</td>\n      <td>0.965582</td>\n      <td>0.099051</td>\n      <td>0.9720</td>\n    </tr>\n    <tr>\n      <th>10</th>\n      <td>0.108687</td>\n      <td>0.968000</td>\n      <td>0.095093</td>\n      <td>0.9728</td>\n    </tr>\n    <tr>\n      <th>11</th>\n      <td>0.102241</td>\n      <td>0.970182</td>\n      <td>0.090369</td>\n      <td>0.9758</td>\n    </tr>\n    <tr>\n      <th>12</th>\n      <td>0.096234</td>\n      <td>0.971782</td>\n      <td>0.085757</td>\n      <td>0.9760</td>\n    </tr>\n    <tr>\n      <th>13</th>\n      <td>0.090758</td>\n      <td>0.973109</td>\n      <td>0.082038</td>\n      <td>0.9772</td>\n    </tr>\n    <tr>\n      <th>14</th>\n      <td>0.083511</td>\n      <td>0.975491</td>\n      <td>0.080417</td>\n      <td>0.9778</td>\n    </tr>\n    <tr>\n      <th>15</th>\n      <td>0.079968</td>\n      <td>0.977309</td>\n      <td>0.076811</td>\n      <td>0.9788</td>\n    </tr>\n    <tr>\n      <th>16</th>\n      <td>0.075826</td>\n      <td>0.977873</td>\n      <td>0.075934</td>\n      <td>0.9796</td>\n    </tr>\n    <tr>\n      <th>17</th>\n      <td>0.073145</td>\n      <td>0.978945</td>\n      <td>0.073760</td>\n      <td>0.9792</td>\n    </tr>\n    <tr>\n      <th>18</th>\n      <td>0.068623</td>\n      <td>0.979964</td>\n      <td>0.071626</td>\n      <td>0.9800</td>\n    </tr>\n    <tr>\n      <th>19</th>\n      <td>0.067018</td>\n      <td>0.980709</td>\n      <td>0.069970</td>\n      <td>0.9804</td>\n    </tr>\n    <tr>\n      <th>20</th>\n      <td>0.062725</td>\n      <td>0.981655</td>\n      <td>0.069113</td>\n      <td>0.9802</td>\n    </tr>\n    <tr>\n      <th>21</th>\n      <td>0.059558</td>\n      <td>0.982364</td>\n      <td>0.066759</td>\n      <td>0.9814</td>\n    </tr>\n    <tr>\n      <th>22</th>\n      <td>0.057392</td>\n      <td>0.983145</td>\n      <td>0.067041</td>\n      <td>0.9808</td>\n    </tr>\n    <tr>\n      <th>23</th>\n      <td>0.055086</td>\n      <td>0.983109</td>\n      <td>0.065001</td>\n      <td>0.9816</td>\n    </tr>\n    <tr>\n      <th>24</th>\n      <td>0.052458</td>\n      <td>0.984182</td>\n      <td>0.064299</td>\n      <td>0.9814</td>\n    </tr>\n    <tr>\n      <th>25</th>\n      <td>0.050426</td>\n      <td>0.985309</td>\n      <td>0.063562</td>\n      <td>0.9818</td>\n    </tr>\n    <tr>\n      <th>26</th>\n      <td>0.047588</td>\n      <td>0.986291</td>\n      <td>0.060726</td>\n      <td>0.9828</td>\n    </tr>\n    <tr>\n      <th>27</th>\n      <td>0.046296</td>\n      <td>0.986091</td>\n      <td>0.063399</td>\n      <td>0.9816</td>\n    </tr>\n    <tr>\n      <th>28</th>\n      <td>0.044773</td>\n      <td>0.987327</td>\n      <td>0.060416</td>\n      <td>0.9832</td>\n    </tr>\n    <tr>\n      <th>29</th>\n      <td>0.043040</td>\n      <td>0.986982</td>\n      <td>0.060388</td>\n      <td>0.9832</td>\n    </tr>\n  </tbody>\n</table>\n</div>"
     },
     "metadata": {},
     "execution_count": 53
    }
   ],
   "source": [
    "pd.DataFrame(history.history)"
   ]
  },
  {
   "cell_type": "code",
   "execution_count": 77,
   "metadata": {},
   "outputs": [
    {
     "output_type": "display_data",
     "data": {
      "text/plain": "<Figure size 576x360 with 1 Axes>",
      "image/svg+xml": "<?xml version=\"1.0\" encoding=\"utf-8\" standalone=\"no\"?>\r\n<!DOCTYPE svg PUBLIC \"-//W3C//DTD SVG 1.1//EN\"\r\n  \"http://www.w3.org/Graphics/SVG/1.1/DTD/svg11.dtd\">\r\n<!-- Created with matplotlib (https://matplotlib.org/) -->\r\n<svg height=\"306.677344pt\" version=\"1.1\" viewBox=\"0 0 483.703125 306.677344\" width=\"483.703125pt\" xmlns=\"http://www.w3.org/2000/svg\" xmlns:xlink=\"http://www.w3.org/1999/xlink\">\r\n <metadata>\r\n  <rdf:RDF xmlns:cc=\"http://creativecommons.org/ns#\" xmlns:dc=\"http://purl.org/dc/elements/1.1/\" xmlns:rdf=\"http://www.w3.org/1999/02/22-rdf-syntax-ns#\">\r\n   <cc:Work>\r\n    <dc:type rdf:resource=\"http://purl.org/dc/dcmitype/StillImage\"/>\r\n    <dc:date>2021-03-16T00:16:24.700521</dc:date>\r\n    <dc:format>image/svg+xml</dc:format>\r\n    <dc:creator>\r\n     <cc:Agent>\r\n      <dc:title>Matplotlib v3.3.1, https://matplotlib.org/</dc:title>\r\n     </cc:Agent>\r\n    </dc:creator>\r\n   </cc:Work>\r\n  </rdf:RDF>\r\n </metadata>\r\n <defs>\r\n  <style type=\"text/css\">*{stroke-linecap:butt;stroke-linejoin:round;}</style>\r\n </defs>\r\n <g id=\"figure_1\">\r\n  <g id=\"patch_1\">\r\n   <path d=\"M 0 306.677344 \r\nL 483.703125 306.677344 \r\nL 483.703125 0 \r\nL 0 0 \r\nz\r\n\" style=\"fill:none;\"/>\r\n  </g>\r\n  <g id=\"axes_1\">\r\n   <g id=\"patch_2\">\r\n    <path d=\"M 30.103125 282.799219 \r\nL 476.503125 282.799219 \r\nL 476.503125 10.999219 \r\nL 30.103125 10.999219 \r\nz\r\n\" style=\"fill:#ffffff;\"/>\r\n   </g>\r\n   <g id=\"matplotlib.axis_1\">\r\n    <g id=\"xtick_1\">\r\n     <g id=\"line2d_1\">\r\n      <path clip-path=\"url(#pd471b731c9)\" d=\"M 50.394034 282.799219 \r\nL 50.394034 10.999219 \r\n\" style=\"fill:none;stroke:#b0b0b0;stroke-linecap:square;stroke-width:0.8;\"/>\r\n     </g>\r\n     <g id=\"line2d_2\">\r\n      <defs>\r\n       <path d=\"M 0 0 \r\nL 0 3.5 \r\n\" id=\"m0b1d133280\" style=\"stroke:#000000;stroke-width:0.8;\"/>\r\n      </defs>\r\n      <g>\r\n       <use style=\"stroke:#000000;stroke-width:0.8;\" x=\"50.394034\" xlink:href=\"#m0b1d133280\" y=\"282.799219\"/>\r\n      </g>\r\n     </g>\r\n     <g id=\"text_1\">\r\n      <!-- 0 -->\r\n      <g transform=\"translate(47.212784 297.397656)scale(0.1 -0.1)\">\r\n       <defs>\r\n        <path d=\"M 31.78125 66.40625 \r\nQ 24.171875 66.40625 20.328125 58.90625 \r\nQ 16.5 51.421875 16.5 36.375 \r\nQ 16.5 21.390625 20.328125 13.890625 \r\nQ 24.171875 6.390625 31.78125 6.390625 \r\nQ 39.453125 6.390625 43.28125 13.890625 \r\nQ 47.125 21.390625 47.125 36.375 \r\nQ 47.125 51.421875 43.28125 58.90625 \r\nQ 39.453125 66.40625 31.78125 66.40625 \r\nz\r\nM 31.78125 74.21875 \r\nQ 44.046875 74.21875 50.515625 64.515625 \r\nQ 56.984375 54.828125 56.984375 36.375 \r\nQ 56.984375 17.96875 50.515625 8.265625 \r\nQ 44.046875 -1.421875 31.78125 -1.421875 \r\nQ 19.53125 -1.421875 13.0625 8.265625 \r\nQ 6.59375 17.96875 6.59375 36.375 \r\nQ 6.59375 54.828125 13.0625 64.515625 \r\nQ 19.53125 74.21875 31.78125 74.21875 \r\nz\r\n\" id=\"DejaVuSans-48\"/>\r\n       </defs>\r\n       <use xlink:href=\"#DejaVuSans-48\"/>\r\n      </g>\r\n     </g>\r\n    </g>\r\n    <g id=\"xtick_2\">\r\n     <g id=\"line2d_3\">\r\n      <path clip-path=\"url(#pd471b731c9)\" d=\"M 119.176777 282.799219 \r\nL 119.176777 10.999219 \r\n\" style=\"fill:none;stroke:#b0b0b0;stroke-linecap:square;stroke-width:0.8;\"/>\r\n     </g>\r\n     <g id=\"line2d_4\">\r\n      <g>\r\n       <use style=\"stroke:#000000;stroke-width:0.8;\" x=\"119.176777\" xlink:href=\"#m0b1d133280\" y=\"282.799219\"/>\r\n      </g>\r\n     </g>\r\n     <g id=\"text_2\">\r\n      <!-- 10 -->\r\n      <g transform=\"translate(112.814277 297.397656)scale(0.1 -0.1)\">\r\n       <defs>\r\n        <path d=\"M 12.40625 8.296875 \r\nL 28.515625 8.296875 \r\nL 28.515625 63.921875 \r\nL 10.984375 60.40625 \r\nL 10.984375 69.390625 \r\nL 28.421875 72.90625 \r\nL 38.28125 72.90625 \r\nL 38.28125 8.296875 \r\nL 54.390625 8.296875 \r\nL 54.390625 0 \r\nL 12.40625 0 \r\nz\r\n\" id=\"DejaVuSans-49\"/>\r\n       </defs>\r\n       <use xlink:href=\"#DejaVuSans-49\"/>\r\n       <use x=\"63.623047\" xlink:href=\"#DejaVuSans-48\"/>\r\n      </g>\r\n     </g>\r\n    </g>\r\n    <g id=\"xtick_3\">\r\n     <g id=\"line2d_5\">\r\n      <path clip-path=\"url(#pd471b731c9)\" d=\"M 187.959519 282.799219 \r\nL 187.959519 10.999219 \r\n\" style=\"fill:none;stroke:#b0b0b0;stroke-linecap:square;stroke-width:0.8;\"/>\r\n     </g>\r\n     <g id=\"line2d_6\">\r\n      <g>\r\n       <use style=\"stroke:#000000;stroke-width:0.8;\" x=\"187.959519\" xlink:href=\"#m0b1d133280\" y=\"282.799219\"/>\r\n      </g>\r\n     </g>\r\n     <g id=\"text_3\">\r\n      <!-- 20 -->\r\n      <g transform=\"translate(181.597019 297.397656)scale(0.1 -0.1)\">\r\n       <defs>\r\n        <path d=\"M 19.1875 8.296875 \r\nL 53.609375 8.296875 \r\nL 53.609375 0 \r\nL 7.328125 0 \r\nL 7.328125 8.296875 \r\nQ 12.9375 14.109375 22.625 23.890625 \r\nQ 32.328125 33.6875 34.8125 36.53125 \r\nQ 39.546875 41.84375 41.421875 45.53125 \r\nQ 43.3125 49.21875 43.3125 52.78125 \r\nQ 43.3125 58.59375 39.234375 62.25 \r\nQ 35.15625 65.921875 28.609375 65.921875 \r\nQ 23.96875 65.921875 18.8125 64.3125 \r\nQ 13.671875 62.703125 7.8125 59.421875 \r\nL 7.8125 69.390625 \r\nQ 13.765625 71.78125 18.9375 73 \r\nQ 24.125 74.21875 28.421875 74.21875 \r\nQ 39.75 74.21875 46.484375 68.546875 \r\nQ 53.21875 62.890625 53.21875 53.421875 \r\nQ 53.21875 48.921875 51.53125 44.890625 \r\nQ 49.859375 40.875 45.40625 35.40625 \r\nQ 44.1875 33.984375 37.640625 27.21875 \r\nQ 31.109375 20.453125 19.1875 8.296875 \r\nz\r\n\" id=\"DejaVuSans-50\"/>\r\n       </defs>\r\n       <use xlink:href=\"#DejaVuSans-50\"/>\r\n       <use x=\"63.623047\" xlink:href=\"#DejaVuSans-48\"/>\r\n      </g>\r\n     </g>\r\n    </g>\r\n    <g id=\"xtick_4\">\r\n     <g id=\"line2d_7\">\r\n      <path clip-path=\"url(#pd471b731c9)\" d=\"M 256.742262 282.799219 \r\nL 256.742262 10.999219 \r\n\" style=\"fill:none;stroke:#b0b0b0;stroke-linecap:square;stroke-width:0.8;\"/>\r\n     </g>\r\n     <g id=\"line2d_8\">\r\n      <g>\r\n       <use style=\"stroke:#000000;stroke-width:0.8;\" x=\"256.742262\" xlink:href=\"#m0b1d133280\" y=\"282.799219\"/>\r\n      </g>\r\n     </g>\r\n     <g id=\"text_4\">\r\n      <!-- 30 -->\r\n      <g transform=\"translate(250.379762 297.397656)scale(0.1 -0.1)\">\r\n       <defs>\r\n        <path d=\"M 40.578125 39.3125 \r\nQ 47.65625 37.796875 51.625 33 \r\nQ 55.609375 28.21875 55.609375 21.1875 \r\nQ 55.609375 10.40625 48.1875 4.484375 \r\nQ 40.765625 -1.421875 27.09375 -1.421875 \r\nQ 22.515625 -1.421875 17.65625 -0.515625 \r\nQ 12.796875 0.390625 7.625 2.203125 \r\nL 7.625 11.71875 \r\nQ 11.71875 9.328125 16.59375 8.109375 \r\nQ 21.484375 6.890625 26.8125 6.890625 \r\nQ 36.078125 6.890625 40.9375 10.546875 \r\nQ 45.796875 14.203125 45.796875 21.1875 \r\nQ 45.796875 27.640625 41.28125 31.265625 \r\nQ 36.765625 34.90625 28.71875 34.90625 \r\nL 20.21875 34.90625 \r\nL 20.21875 43.015625 \r\nL 29.109375 43.015625 \r\nQ 36.375 43.015625 40.234375 45.921875 \r\nQ 44.09375 48.828125 44.09375 54.296875 \r\nQ 44.09375 59.90625 40.109375 62.90625 \r\nQ 36.140625 65.921875 28.71875 65.921875 \r\nQ 24.65625 65.921875 20.015625 65.03125 \r\nQ 15.375 64.15625 9.8125 62.3125 \r\nL 9.8125 71.09375 \r\nQ 15.4375 72.65625 20.34375 73.4375 \r\nQ 25.25 74.21875 29.59375 74.21875 \r\nQ 40.828125 74.21875 47.359375 69.109375 \r\nQ 53.90625 64.015625 53.90625 55.328125 \r\nQ 53.90625 49.265625 50.4375 45.09375 \r\nQ 46.96875 40.921875 40.578125 39.3125 \r\nz\r\n\" id=\"DejaVuSans-51\"/>\r\n       </defs>\r\n       <use xlink:href=\"#DejaVuSans-51\"/>\r\n       <use x=\"63.623047\" xlink:href=\"#DejaVuSans-48\"/>\r\n      </g>\r\n     </g>\r\n    </g>\r\n    <g id=\"xtick_5\">\r\n     <g id=\"line2d_9\">\r\n      <path clip-path=\"url(#pd471b731c9)\" d=\"M 325.525005 282.799219 \r\nL 325.525005 10.999219 \r\n\" style=\"fill:none;stroke:#b0b0b0;stroke-linecap:square;stroke-width:0.8;\"/>\r\n     </g>\r\n     <g id=\"line2d_10\">\r\n      <g>\r\n       <use style=\"stroke:#000000;stroke-width:0.8;\" x=\"325.525005\" xlink:href=\"#m0b1d133280\" y=\"282.799219\"/>\r\n      </g>\r\n     </g>\r\n     <g id=\"text_5\">\r\n      <!-- 40 -->\r\n      <g transform=\"translate(319.162505 297.397656)scale(0.1 -0.1)\">\r\n       <defs>\r\n        <path d=\"M 37.796875 64.3125 \r\nL 12.890625 25.390625 \r\nL 37.796875 25.390625 \r\nz\r\nM 35.203125 72.90625 \r\nL 47.609375 72.90625 \r\nL 47.609375 25.390625 \r\nL 58.015625 25.390625 \r\nL 58.015625 17.1875 \r\nL 47.609375 17.1875 \r\nL 47.609375 0 \r\nL 37.796875 0 \r\nL 37.796875 17.1875 \r\nL 4.890625 17.1875 \r\nL 4.890625 26.703125 \r\nz\r\n\" id=\"DejaVuSans-52\"/>\r\n       </defs>\r\n       <use xlink:href=\"#DejaVuSans-52\"/>\r\n       <use x=\"63.623047\" xlink:href=\"#DejaVuSans-48\"/>\r\n      </g>\r\n     </g>\r\n    </g>\r\n    <g id=\"xtick_6\">\r\n     <g id=\"line2d_11\">\r\n      <path clip-path=\"url(#pd471b731c9)\" d=\"M 394.307747 282.799219 \r\nL 394.307747 10.999219 \r\n\" style=\"fill:none;stroke:#b0b0b0;stroke-linecap:square;stroke-width:0.8;\"/>\r\n     </g>\r\n     <g id=\"line2d_12\">\r\n      <g>\r\n       <use style=\"stroke:#000000;stroke-width:0.8;\" x=\"394.307747\" xlink:href=\"#m0b1d133280\" y=\"282.799219\"/>\r\n      </g>\r\n     </g>\r\n     <g id=\"text_6\">\r\n      <!-- 50 -->\r\n      <g transform=\"translate(387.945247 297.397656)scale(0.1 -0.1)\">\r\n       <defs>\r\n        <path d=\"M 10.796875 72.90625 \r\nL 49.515625 72.90625 \r\nL 49.515625 64.59375 \r\nL 19.828125 64.59375 \r\nL 19.828125 46.734375 \r\nQ 21.96875 47.46875 24.109375 47.828125 \r\nQ 26.265625 48.1875 28.421875 48.1875 \r\nQ 40.625 48.1875 47.75 41.5 \r\nQ 54.890625 34.8125 54.890625 23.390625 \r\nQ 54.890625 11.625 47.5625 5.09375 \r\nQ 40.234375 -1.421875 26.90625 -1.421875 \r\nQ 22.3125 -1.421875 17.546875 -0.640625 \r\nQ 12.796875 0.140625 7.71875 1.703125 \r\nL 7.71875 11.625 \r\nQ 12.109375 9.234375 16.796875 8.0625 \r\nQ 21.484375 6.890625 26.703125 6.890625 \r\nQ 35.15625 6.890625 40.078125 11.328125 \r\nQ 45.015625 15.765625 45.015625 23.390625 \r\nQ 45.015625 31 40.078125 35.4375 \r\nQ 35.15625 39.890625 26.703125 39.890625 \r\nQ 22.75 39.890625 18.8125 39.015625 \r\nQ 14.890625 38.140625 10.796875 36.28125 \r\nz\r\n\" id=\"DejaVuSans-53\"/>\r\n       </defs>\r\n       <use xlink:href=\"#DejaVuSans-53\"/>\r\n       <use x=\"63.623047\" xlink:href=\"#DejaVuSans-48\"/>\r\n      </g>\r\n     </g>\r\n    </g>\r\n    <g id=\"xtick_7\">\r\n     <g id=\"line2d_13\">\r\n      <path clip-path=\"url(#pd471b731c9)\" d=\"M 463.09049 282.799219 \r\nL 463.09049 10.999219 \r\n\" style=\"fill:none;stroke:#b0b0b0;stroke-linecap:square;stroke-width:0.8;\"/>\r\n     </g>\r\n     <g id=\"line2d_14\">\r\n      <g>\r\n       <use style=\"stroke:#000000;stroke-width:0.8;\" x=\"463.09049\" xlink:href=\"#m0b1d133280\" y=\"282.799219\"/>\r\n      </g>\r\n     </g>\r\n     <g id=\"text_7\">\r\n      <!-- 60 -->\r\n      <g transform=\"translate(456.72799 297.397656)scale(0.1 -0.1)\">\r\n       <defs>\r\n        <path d=\"M 33.015625 40.375 \r\nQ 26.375 40.375 22.484375 35.828125 \r\nQ 18.609375 31.296875 18.609375 23.390625 \r\nQ 18.609375 15.53125 22.484375 10.953125 \r\nQ 26.375 6.390625 33.015625 6.390625 \r\nQ 39.65625 6.390625 43.53125 10.953125 \r\nQ 47.40625 15.53125 47.40625 23.390625 \r\nQ 47.40625 31.296875 43.53125 35.828125 \r\nQ 39.65625 40.375 33.015625 40.375 \r\nz\r\nM 52.59375 71.296875 \r\nL 52.59375 62.3125 \r\nQ 48.875 64.0625 45.09375 64.984375 \r\nQ 41.3125 65.921875 37.59375 65.921875 \r\nQ 27.828125 65.921875 22.671875 59.328125 \r\nQ 17.53125 52.734375 16.796875 39.40625 \r\nQ 19.671875 43.65625 24.015625 45.921875 \r\nQ 28.375 48.1875 33.59375 48.1875 \r\nQ 44.578125 48.1875 50.953125 41.515625 \r\nQ 57.328125 34.859375 57.328125 23.390625 \r\nQ 57.328125 12.15625 50.6875 5.359375 \r\nQ 44.046875 -1.421875 33.015625 -1.421875 \r\nQ 20.359375 -1.421875 13.671875 8.265625 \r\nQ 6.984375 17.96875 6.984375 36.375 \r\nQ 6.984375 53.65625 15.1875 63.9375 \r\nQ 23.390625 74.21875 37.203125 74.21875 \r\nQ 40.921875 74.21875 44.703125 73.484375 \r\nQ 48.484375 72.75 52.59375 71.296875 \r\nz\r\n\" id=\"DejaVuSans-54\"/>\r\n       </defs>\r\n       <use xlink:href=\"#DejaVuSans-54\"/>\r\n       <use x=\"63.623047\" xlink:href=\"#DejaVuSans-48\"/>\r\n      </g>\r\n     </g>\r\n    </g>\r\n   </g>\r\n   <g id=\"matplotlib.axis_2\">\r\n    <g id=\"ytick_1\">\r\n     <g id=\"line2d_15\">\r\n      <path clip-path=\"url(#pd471b731c9)\" d=\"M 30.103125 282.799219 \r\nL 476.503125 282.799219 \r\n\" style=\"fill:none;stroke:#b0b0b0;stroke-linecap:square;stroke-width:0.8;\"/>\r\n     </g>\r\n     <g id=\"line2d_16\">\r\n      <defs>\r\n       <path d=\"M 0 0 \r\nL -3.5 0 \r\n\" id=\"m9b72a1bd65\" style=\"stroke:#000000;stroke-width:0.8;\"/>\r\n      </defs>\r\n      <g>\r\n       <use style=\"stroke:#000000;stroke-width:0.8;\" x=\"30.103125\" xlink:href=\"#m9b72a1bd65\" y=\"282.799219\"/>\r\n      </g>\r\n     </g>\r\n     <g id=\"text_8\">\r\n      <!-- 0.0 -->\r\n      <g transform=\"translate(7.2 286.598437)scale(0.1 -0.1)\">\r\n       <defs>\r\n        <path d=\"M 10.6875 12.40625 \r\nL 21 12.40625 \r\nL 21 0 \r\nL 10.6875 0 \r\nz\r\n\" id=\"DejaVuSans-46\"/>\r\n       </defs>\r\n       <use xlink:href=\"#DejaVuSans-48\"/>\r\n       <use x=\"63.623047\" xlink:href=\"#DejaVuSans-46\"/>\r\n       <use x=\"95.410156\" xlink:href=\"#DejaVuSans-48\"/>\r\n      </g>\r\n     </g>\r\n    </g>\r\n    <g id=\"ytick_2\">\r\n     <g id=\"line2d_17\">\r\n      <path clip-path=\"url(#pd471b731c9)\" d=\"M 30.103125 228.439219 \r\nL 476.503125 228.439219 \r\n\" style=\"fill:none;stroke:#b0b0b0;stroke-linecap:square;stroke-width:0.8;\"/>\r\n     </g>\r\n     <g id=\"line2d_18\">\r\n      <g>\r\n       <use style=\"stroke:#000000;stroke-width:0.8;\" x=\"30.103125\" xlink:href=\"#m9b72a1bd65\" y=\"228.439219\"/>\r\n      </g>\r\n     </g>\r\n     <g id=\"text_9\">\r\n      <!-- 0.2 -->\r\n      <g transform=\"translate(7.2 232.238437)scale(0.1 -0.1)\">\r\n       <use xlink:href=\"#DejaVuSans-48\"/>\r\n       <use x=\"63.623047\" xlink:href=\"#DejaVuSans-46\"/>\r\n       <use x=\"95.410156\" xlink:href=\"#DejaVuSans-50\"/>\r\n      </g>\r\n     </g>\r\n    </g>\r\n    <g id=\"ytick_3\">\r\n     <g id=\"line2d_19\">\r\n      <path clip-path=\"url(#pd471b731c9)\" d=\"M 30.103125 174.079219 \r\nL 476.503125 174.079219 \r\n\" style=\"fill:none;stroke:#b0b0b0;stroke-linecap:square;stroke-width:0.8;\"/>\r\n     </g>\r\n     <g id=\"line2d_20\">\r\n      <g>\r\n       <use style=\"stroke:#000000;stroke-width:0.8;\" x=\"30.103125\" xlink:href=\"#m9b72a1bd65\" y=\"174.079219\"/>\r\n      </g>\r\n     </g>\r\n     <g id=\"text_10\">\r\n      <!-- 0.4 -->\r\n      <g transform=\"translate(7.2 177.878437)scale(0.1 -0.1)\">\r\n       <use xlink:href=\"#DejaVuSans-48\"/>\r\n       <use x=\"63.623047\" xlink:href=\"#DejaVuSans-46\"/>\r\n       <use x=\"95.410156\" xlink:href=\"#DejaVuSans-52\"/>\r\n      </g>\r\n     </g>\r\n    </g>\r\n    <g id=\"ytick_4\">\r\n     <g id=\"line2d_21\">\r\n      <path clip-path=\"url(#pd471b731c9)\" d=\"M 30.103125 119.719219 \r\nL 476.503125 119.719219 \r\n\" style=\"fill:none;stroke:#b0b0b0;stroke-linecap:square;stroke-width:0.8;\"/>\r\n     </g>\r\n     <g id=\"line2d_22\">\r\n      <g>\r\n       <use style=\"stroke:#000000;stroke-width:0.8;\" x=\"30.103125\" xlink:href=\"#m9b72a1bd65\" y=\"119.719219\"/>\r\n      </g>\r\n     </g>\r\n     <g id=\"text_11\">\r\n      <!-- 0.6 -->\r\n      <g transform=\"translate(7.2 123.518437)scale(0.1 -0.1)\">\r\n       <use xlink:href=\"#DejaVuSans-48\"/>\r\n       <use x=\"63.623047\" xlink:href=\"#DejaVuSans-46\"/>\r\n       <use x=\"95.410156\" xlink:href=\"#DejaVuSans-54\"/>\r\n      </g>\r\n     </g>\r\n    </g>\r\n    <g id=\"ytick_5\">\r\n     <g id=\"line2d_23\">\r\n      <path clip-path=\"url(#pd471b731c9)\" d=\"M 30.103125 65.359219 \r\nL 476.503125 65.359219 \r\n\" style=\"fill:none;stroke:#b0b0b0;stroke-linecap:square;stroke-width:0.8;\"/>\r\n     </g>\r\n     <g id=\"line2d_24\">\r\n      <g>\r\n       <use style=\"stroke:#000000;stroke-width:0.8;\" x=\"30.103125\" xlink:href=\"#m9b72a1bd65\" y=\"65.359219\"/>\r\n      </g>\r\n     </g>\r\n     <g id=\"text_12\">\r\n      <!-- 0.8 -->\r\n      <g transform=\"translate(7.2 69.158437)scale(0.1 -0.1)\">\r\n       <defs>\r\n        <path d=\"M 31.78125 34.625 \r\nQ 24.75 34.625 20.71875 30.859375 \r\nQ 16.703125 27.09375 16.703125 20.515625 \r\nQ 16.703125 13.921875 20.71875 10.15625 \r\nQ 24.75 6.390625 31.78125 6.390625 \r\nQ 38.8125 6.390625 42.859375 10.171875 \r\nQ 46.921875 13.96875 46.921875 20.515625 \r\nQ 46.921875 27.09375 42.890625 30.859375 \r\nQ 38.875 34.625 31.78125 34.625 \r\nz\r\nM 21.921875 38.8125 \r\nQ 15.578125 40.375 12.03125 44.71875 \r\nQ 8.5 49.078125 8.5 55.328125 \r\nQ 8.5 64.0625 14.71875 69.140625 \r\nQ 20.953125 74.21875 31.78125 74.21875 \r\nQ 42.671875 74.21875 48.875 69.140625 \r\nQ 55.078125 64.0625 55.078125 55.328125 \r\nQ 55.078125 49.078125 51.53125 44.71875 \r\nQ 48 40.375 41.703125 38.8125 \r\nQ 48.828125 37.15625 52.796875 32.3125 \r\nQ 56.78125 27.484375 56.78125 20.515625 \r\nQ 56.78125 9.90625 50.3125 4.234375 \r\nQ 43.84375 -1.421875 31.78125 -1.421875 \r\nQ 19.734375 -1.421875 13.25 4.234375 \r\nQ 6.78125 9.90625 6.78125 20.515625 \r\nQ 6.78125 27.484375 10.78125 32.3125 \r\nQ 14.796875 37.15625 21.921875 38.8125 \r\nz\r\nM 18.3125 54.390625 \r\nQ 18.3125 48.734375 21.84375 45.5625 \r\nQ 25.390625 42.390625 31.78125 42.390625 \r\nQ 38.140625 42.390625 41.71875 45.5625 \r\nQ 45.3125 48.734375 45.3125 54.390625 \r\nQ 45.3125 60.0625 41.71875 63.234375 \r\nQ 38.140625 66.40625 31.78125 66.40625 \r\nQ 25.390625 66.40625 21.84375 63.234375 \r\nQ 18.3125 60.0625 18.3125 54.390625 \r\nz\r\n\" id=\"DejaVuSans-56\"/>\r\n       </defs>\r\n       <use xlink:href=\"#DejaVuSans-48\"/>\r\n       <use x=\"63.623047\" xlink:href=\"#DejaVuSans-46\"/>\r\n       <use x=\"95.410156\" xlink:href=\"#DejaVuSans-56\"/>\r\n      </g>\r\n     </g>\r\n    </g>\r\n    <g id=\"ytick_6\">\r\n     <g id=\"line2d_25\">\r\n      <path clip-path=\"url(#pd471b731c9)\" d=\"M 30.103125 10.999219 \r\nL 476.503125 10.999219 \r\n\" style=\"fill:none;stroke:#b0b0b0;stroke-linecap:square;stroke-width:0.8;\"/>\r\n     </g>\r\n     <g id=\"line2d_26\">\r\n      <g>\r\n       <use style=\"stroke:#000000;stroke-width:0.8;\" x=\"30.103125\" xlink:href=\"#m9b72a1bd65\" y=\"10.999219\"/>\r\n      </g>\r\n     </g>\r\n     <g id=\"text_13\">\r\n      <!-- 1.0 -->\r\n      <g transform=\"translate(7.2 14.798437)scale(0.1 -0.1)\">\r\n       <use xlink:href=\"#DejaVuSans-49\"/>\r\n       <use x=\"63.623047\" xlink:href=\"#DejaVuSans-46\"/>\r\n       <use x=\"95.410156\" xlink:href=\"#DejaVuSans-48\"/>\r\n      </g>\r\n     </g>\r\n    </g>\r\n   </g>\r\n   <g id=\"line2d_27\">\r\n    <path clip-path=\"url(#pd471b731c9)\" d=\"M 50.394034 271.785448 \r\nL 57.272308 272.136525 \r\nL 64.150583 272.437913 \r\nL 71.028857 272.655961 \r\nL 77.907131 272.997404 \r\nL 84.785405 273.487062 \r\nL 91.66368 273.938495 \r\nL 98.541954 274.43573 \r\nL 105.420228 274.39024 \r\nL 112.298503 274.653432 \r\nL 119.176777 274.962902 \r\nL 126.055051 275.269791 \r\nL 132.933325 275.492672 \r\nL 139.8116 275.633426 \r\nL 146.689874 276.07764 \r\nL 153.568148 276.008227 \r\nL 160.446422 276.254243 \r\nL 167.324697 276.631739 \r\nL 174.202971 276.816458 \r\nL 181.081245 276.954999 \r\nL 187.959519 276.913968 \r\nL 194.837794 277.27607 \r\nL 201.716068 277.242644 \r\nL 208.594342 277.298827 \r\nL 215.472617 277.709003 \r\nL 222.350891 277.63637 \r\nL 229.229165 277.835004 \r\nL 236.107439 278.070559 \r\nL 242.985714 278.021236 \r\nL 249.863988 278.236318 \r\nL 256.742262 278.344089 \r\nL 263.620536 278.377848 \r\nL 270.498811 278.440573 \r\nL 277.377085 278.799269 \r\nL 284.255359 278.750721 \r\nL 291.133633 278.824469 \r\nL 298.011908 279.01963 \r\nL 304.890182 279.097975 \r\nL 311.768456 279.084362 \r\nL 318.646731 279.371719 \r\nL 325.525005 279.215556 \r\nL 332.403279 279.514875 \r\nL 339.281553 279.409865 \r\nL 346.159828 279.528012 \r\nL 353.038102 279.650711 \r\nL 359.916376 279.738653 \r\nL 366.79465 279.775006 \r\nL 373.672925 279.672022 \r\nL 380.551199 279.72759 \r\nL 387.429473 279.853554 \r\nL 394.307747 280.15071 \r\nL 401.186022 280.020648 \r\nL 408.064296 280.157725 \r\nL 414.94257 280.062159 \r\nL 421.820845 280.172473 \r\nL 428.699119 280.090931 \r\nL 435.577393 280.155148 \r\nL 442.455667 280.298816 \r\nL 449.333942 280.248443 \r\nL 456.212216 280.415797 \r\n\" style=\"fill:none;stroke:#1f77b4;stroke-linecap:square;stroke-width:1.5;\"/>\r\n   </g>\r\n   <g id=\"line2d_28\">\r\n    <path clip-path=\"url(#pd471b731c9)\" d=\"M 50.394034 14.176809 \r\nL 57.272308 14.068088 \r\nL 64.150583 14.008794 \r\nL 71.028857 14.097734 \r\nL 77.907131 13.924778 \r\nL 84.785405 13.667805 \r\nL 91.66368 13.608494 \r\nL 98.541954 13.218094 \r\nL 105.420228 13.480008 \r\nL 112.298503 13.484949 \r\nL 119.176777 13.153858 \r\nL 126.055051 13.109372 \r\nL 132.933325 13.040195 \r\nL 139.8116 13.104431 \r\nL 146.689874 12.788164 \r\nL 153.568148 13.064901 \r\nL 160.446422 12.783222 \r\nL 167.324697 12.674501 \r\nL 174.202971 12.674501 \r\nL 181.081245 12.575661 \r\nL 187.959519 12.550955 \r\nL 194.837794 12.491645 \r\nL 201.716068 12.531174 \r\nL 208.594342 12.541073 \r\nL 215.472617 12.353276 \r\nL 222.350891 12.333512 \r\nL 229.229165 12.298923 \r\nL 236.107439 12.229731 \r\nL 242.985714 12.229731 \r\nL 249.863988 12.155597 \r\nL 256.742262 12.145715 \r\nL 263.620536 12.18526 \r\nL 270.498811 12.200084 \r\nL 277.377085 11.952993 \r\nL 284.255359 12.007346 \r\nL 291.133633 12.032052 \r\nL 298.011908 11.93817 \r\nL 304.890182 11.948052 \r\nL 311.768456 11.93817 \r\nL 318.646731 11.834389 \r\nL 325.525005 11.933229 \r\nL 332.403279 11.809683 \r\nL 339.281553 11.849213 \r\nL 346.159828 11.834389 \r\nL 353.038102 11.730608 \r\nL 359.916376 11.691079 \r\nL 366.79465 11.73555 \r\nL 373.672925 11.765197 \r\nL 380.551199 11.804742 \r\nL 387.429473 11.765197 \r\nL 394.307747 11.612004 \r\nL 401.186022 11.63671 \r\nL 408.064296 11.59224 \r\nL 414.94257 11.710844 \r\nL 421.820845 11.631769 \r\nL 428.699119 11.666357 \r\nL 435.577393 11.666357 \r\nL 442.455667 11.587298 \r\nL 449.333942 11.621887 \r\nL 456.212216 11.537871 \r\n\" style=\"fill:none;stroke:#ff7f0e;stroke-linecap:square;stroke-width:1.5;\"/>\r\n   </g>\r\n   <g id=\"line2d_29\">\r\n    <path clip-path=\"url(#pd471b731c9)\" d=\"M 50.394034 266.622082 \r\nL 57.272308 266.362409 \r\nL 64.150583 267.154083 \r\nL 71.028857 266.192518 \r\nL 77.907131 266.769523 \r\nL 84.785405 266.945775 \r\nL 91.66368 267.031192 \r\nL 98.541954 267.052629 \r\nL 105.420228 266.999687 \r\nL 112.298503 267.166261 \r\nL 119.176777 267.277525 \r\nL 126.055051 267.02058 \r\nL 132.933325 267.373213 \r\nL 139.8116 267.380111 \r\nL 146.689874 267.50317 \r\nL 153.568148 267.528959 \r\nL 160.446422 267.040041 \r\nL 167.324697 267.683993 \r\nL 174.202971 267.446591 \r\nL 181.081245 267.139116 \r\nL 187.959519 267.563219 \r\nL 194.837794 267.511819 \r\nL 201.716068 267.597765 \r\nL 208.594342 267.412301 \r\nL 215.472617 267.731351 \r\nL 222.350891 267.341393 \r\nL 229.229165 267.34416 \r\nL 236.107439 267.227746 \r\nL 242.985714 267.354794 \r\nL 249.863988 267.151996 \r\nL 256.742262 267.236675 \r\nL 263.620536 267.455956 \r\nL 270.498811 267.628794 \r\nL 277.377085 267.617956 \r\nL 284.255359 267.32235 \r\nL 291.133633 267.707746 \r\nL 298.011908 267.264052 \r\nL 304.890182 267.356138 \r\nL 311.768456 267.437801 \r\nL 318.646731 267.939654 \r\nL 325.525005 267.79113 \r\nL 332.403279 267.313875 \r\nL 339.281553 267.440934 \r\nL 346.159828 267.155542 \r\nL 353.038102 267.406646 \r\nL 359.916376 266.879967 \r\nL 366.79465 267.059553 \r\nL 373.672925 267.180825 \r\nL 380.551199 267.609237 \r\nL 387.429473 267.682102 \r\nL 394.307747 267.375829 \r\nL 401.186022 267.112705 \r\nL 408.064296 267.166389 \r\nL 414.94257 266.758055 \r\nL 421.820845 267.569069 \r\nL 428.699119 266.838338 \r\nL 435.577393 267.214 \r\nL 442.455667 267.305199 \r\nL 449.333942 267.456338 \r\nL 456.212216 266.808931 \r\n\" style=\"fill:none;stroke:#2ca02c;stroke-linecap:square;stroke-width:1.5;\"/>\r\n   </g>\r\n   <g id=\"line2d_30\">\r\n    <path clip-path=\"url(#pd471b731c9)\" d=\"M 50.394034 15.837252 \r\nL 57.272308 15.619824 \r\nL 64.150583 15.674177 \r\nL 71.028857 15.891621 \r\nL 77.907131 15.674177 \r\nL 84.785405 15.674177 \r\nL 91.66368 16.000342 \r\nL 98.541954 15.619824 \r\nL 105.420228 15.293659 \r\nL 112.298503 15.619824 \r\nL 119.176777 15.456733 \r\nL 126.055051 15.511102 \r\nL 132.933325 15.293659 \r\nL 139.8116 15.619824 \r\nL 146.689874 15.293659 \r\nL 153.568148 15.021862 \r\nL 160.446422 15.511102 \r\nL 167.324697 15.130584 \r\nL 174.202971 15.40238 \r\nL 181.081245 15.511102 \r\nL 187.959519 15.511102 \r\nL 194.837794 15.348011 \r\nL 201.716068 15.348011 \r\nL 208.594342 15.565455 \r\nL 215.472617 15.130584 \r\nL 222.350891 15.40238 \r\nL 229.229165 15.456733 \r\nL 236.107439 15.130584 \r\nL 242.985714 15.130584 \r\nL 249.863988 15.293659 \r\nL 256.742262 15.348011 \r\nL 263.620536 15.511102 \r\nL 270.498811 15.130584 \r\nL 277.377085 15.293659 \r\nL 284.255359 15.348011 \r\nL 291.133633 15.184937 \r\nL 298.011908 15.239306 \r\nL 304.890182 15.348011 \r\nL 311.768456 15.184937 \r\nL 318.646731 15.130584 \r\nL 325.525005 15.021862 \r\nL 332.403279 15.130584 \r\nL 339.281553 15.293659 \r\nL 346.159828 15.076215 \r\nL 353.038102 15.021862 \r\nL 359.916376 15.239306 \r\nL 366.79465 15.130584 \r\nL 373.672925 15.348011 \r\nL 380.551199 14.967493 \r\nL 387.429473 14.967493 \r\nL 394.307747 15.239306 \r\nL 401.186022 15.184937 \r\nL 408.064296 15.184937 \r\nL 414.94257 15.184937 \r\nL 421.820845 14.695697 \r\nL 428.699119 14.967493 \r\nL 435.577393 14.967493 \r\nL 442.455667 14.750066 \r\nL 449.333942 14.695697 \r\nL 456.212216 14.967493 \r\n\" style=\"fill:none;stroke:#d62728;stroke-linecap:square;stroke-width:1.5;\"/>\r\n   </g>\r\n   <g id=\"patch_3\">\r\n    <path d=\"M 30.103125 282.799219 \r\nL 30.103125 10.999219 \r\n\" style=\"fill:none;stroke:#000000;stroke-linecap:square;stroke-linejoin:miter;stroke-width:0.8;\"/>\r\n   </g>\r\n   <g id=\"patch_4\">\r\n    <path d=\"M 476.503125 282.799219 \r\nL 476.503125 10.999219 \r\n\" style=\"fill:none;stroke:#000000;stroke-linecap:square;stroke-linejoin:miter;stroke-width:0.8;\"/>\r\n   </g>\r\n   <g id=\"patch_5\">\r\n    <path d=\"M 30.103125 282.799219 \r\nL 476.503125 282.799219 \r\n\" style=\"fill:none;stroke:#000000;stroke-linecap:square;stroke-linejoin:miter;stroke-width:0.8;\"/>\r\n   </g>\r\n   <g id=\"patch_6\">\r\n    <path d=\"M 30.103125 10.999219 \r\nL 476.503125 10.999219 \r\n\" style=\"fill:none;stroke:#000000;stroke-linecap:square;stroke-linejoin:miter;stroke-width:0.8;\"/>\r\n   </g>\r\n   <g id=\"legend_1\">\r\n    <g id=\"patch_7\">\r\n     <path d=\"M 372.559375 78.267969 \r\nL 469.503125 78.267969 \r\nQ 471.503125 78.267969 471.503125 76.267969 \r\nL 471.503125 17.999219 \r\nQ 471.503125 15.999219 469.503125 15.999219 \r\nL 372.559375 15.999219 \r\nQ 370.559375 15.999219 370.559375 17.999219 \r\nL 370.559375 76.267969 \r\nQ 370.559375 78.267969 372.559375 78.267969 \r\nz\r\n\" style=\"fill:#ffffff;opacity:0.8;stroke:#cccccc;stroke-linejoin:miter;\"/>\r\n    </g>\r\n    <g id=\"line2d_31\">\r\n     <path d=\"M 374.559375 24.097656 \r\nL 394.559375 24.097656 \r\n\" style=\"fill:none;stroke:#1f77b4;stroke-linecap:square;stroke-width:1.5;\"/>\r\n    </g>\r\n    <g id=\"line2d_32\"/>\r\n    <g id=\"text_14\">\r\n     <!-- loss -->\r\n     <g transform=\"translate(402.559375 27.597656)scale(0.1 -0.1)\">\r\n      <defs>\r\n       <path d=\"M 9.421875 75.984375 \r\nL 18.40625 75.984375 \r\nL 18.40625 0 \r\nL 9.421875 0 \r\nz\r\n\" id=\"DejaVuSans-108\"/>\r\n       <path d=\"M 30.609375 48.390625 \r\nQ 23.390625 48.390625 19.1875 42.75 \r\nQ 14.984375 37.109375 14.984375 27.296875 \r\nQ 14.984375 17.484375 19.15625 11.84375 \r\nQ 23.34375 6.203125 30.609375 6.203125 \r\nQ 37.796875 6.203125 41.984375 11.859375 \r\nQ 46.1875 17.53125 46.1875 27.296875 \r\nQ 46.1875 37.015625 41.984375 42.703125 \r\nQ 37.796875 48.390625 30.609375 48.390625 \r\nz\r\nM 30.609375 56 \r\nQ 42.328125 56 49.015625 48.375 \r\nQ 55.71875 40.765625 55.71875 27.296875 \r\nQ 55.71875 13.875 49.015625 6.21875 \r\nQ 42.328125 -1.421875 30.609375 -1.421875 \r\nQ 18.84375 -1.421875 12.171875 6.21875 \r\nQ 5.515625 13.875 5.515625 27.296875 \r\nQ 5.515625 40.765625 12.171875 48.375 \r\nQ 18.84375 56 30.609375 56 \r\nz\r\n\" id=\"DejaVuSans-111\"/>\r\n       <path d=\"M 44.28125 53.078125 \r\nL 44.28125 44.578125 \r\nQ 40.484375 46.53125 36.375 47.5 \r\nQ 32.28125 48.484375 27.875 48.484375 \r\nQ 21.1875 48.484375 17.84375 46.4375 \r\nQ 14.5 44.390625 14.5 40.28125 \r\nQ 14.5 37.15625 16.890625 35.375 \r\nQ 19.28125 33.59375 26.515625 31.984375 \r\nL 29.59375 31.296875 \r\nQ 39.15625 29.25 43.1875 25.515625 \r\nQ 47.21875 21.78125 47.21875 15.09375 \r\nQ 47.21875 7.46875 41.1875 3.015625 \r\nQ 35.15625 -1.421875 24.609375 -1.421875 \r\nQ 20.21875 -1.421875 15.453125 -0.5625 \r\nQ 10.6875 0.296875 5.421875 2 \r\nL 5.421875 11.28125 \r\nQ 10.40625 8.6875 15.234375 7.390625 \r\nQ 20.0625 6.109375 24.8125 6.109375 \r\nQ 31.15625 6.109375 34.5625 8.28125 \r\nQ 37.984375 10.453125 37.984375 14.40625 \r\nQ 37.984375 18.0625 35.515625 20.015625 \r\nQ 33.0625 21.96875 24.703125 23.78125 \r\nL 21.578125 24.515625 \r\nQ 13.234375 26.265625 9.515625 29.90625 \r\nQ 5.8125 33.546875 5.8125 39.890625 \r\nQ 5.8125 47.609375 11.28125 51.796875 \r\nQ 16.75 56 26.8125 56 \r\nQ 31.78125 56 36.171875 55.265625 \r\nQ 40.578125 54.546875 44.28125 53.078125 \r\nz\r\n\" id=\"DejaVuSans-115\"/>\r\n      </defs>\r\n      <use xlink:href=\"#DejaVuSans-108\"/>\r\n      <use x=\"27.783203\" xlink:href=\"#DejaVuSans-111\"/>\r\n      <use x=\"88.964844\" xlink:href=\"#DejaVuSans-115\"/>\r\n      <use x=\"141.064453\" xlink:href=\"#DejaVuSans-115\"/>\r\n     </g>\r\n    </g>\r\n    <g id=\"line2d_33\">\r\n     <path d=\"M 374.559375 38.775781 \r\nL 394.559375 38.775781 \r\n\" style=\"fill:none;stroke:#ff7f0e;stroke-linecap:square;stroke-width:1.5;\"/>\r\n    </g>\r\n    <g id=\"line2d_34\"/>\r\n    <g id=\"text_15\">\r\n     <!-- accuracy -->\r\n     <g transform=\"translate(402.559375 42.275781)scale(0.1 -0.1)\">\r\n      <defs>\r\n       <path d=\"M 34.28125 27.484375 \r\nQ 23.390625 27.484375 19.1875 25 \r\nQ 14.984375 22.515625 14.984375 16.5 \r\nQ 14.984375 11.71875 18.140625 8.90625 \r\nQ 21.296875 6.109375 26.703125 6.109375 \r\nQ 34.1875 6.109375 38.703125 11.40625 \r\nQ 43.21875 16.703125 43.21875 25.484375 \r\nL 43.21875 27.484375 \r\nz\r\nM 52.203125 31.203125 \r\nL 52.203125 0 \r\nL 43.21875 0 \r\nL 43.21875 8.296875 \r\nQ 40.140625 3.328125 35.546875 0.953125 \r\nQ 30.953125 -1.421875 24.3125 -1.421875 \r\nQ 15.921875 -1.421875 10.953125 3.296875 \r\nQ 6 8.015625 6 15.921875 \r\nQ 6 25.140625 12.171875 29.828125 \r\nQ 18.359375 34.515625 30.609375 34.515625 \r\nL 43.21875 34.515625 \r\nL 43.21875 35.40625 \r\nQ 43.21875 41.609375 39.140625 45 \r\nQ 35.0625 48.390625 27.6875 48.390625 \r\nQ 23 48.390625 18.546875 47.265625 \r\nQ 14.109375 46.140625 10.015625 43.890625 \r\nL 10.015625 52.203125 \r\nQ 14.9375 54.109375 19.578125 55.046875 \r\nQ 24.21875 56 28.609375 56 \r\nQ 40.484375 56 46.34375 49.84375 \r\nQ 52.203125 43.703125 52.203125 31.203125 \r\nz\r\n\" id=\"DejaVuSans-97\"/>\r\n       <path d=\"M 48.78125 52.59375 \r\nL 48.78125 44.1875 \r\nQ 44.96875 46.296875 41.140625 47.34375 \r\nQ 37.3125 48.390625 33.40625 48.390625 \r\nQ 24.65625 48.390625 19.8125 42.84375 \r\nQ 14.984375 37.3125 14.984375 27.296875 \r\nQ 14.984375 17.28125 19.8125 11.734375 \r\nQ 24.65625 6.203125 33.40625 6.203125 \r\nQ 37.3125 6.203125 41.140625 7.25 \r\nQ 44.96875 8.296875 48.78125 10.40625 \r\nL 48.78125 2.09375 \r\nQ 45.015625 0.34375 40.984375 -0.53125 \r\nQ 36.96875 -1.421875 32.421875 -1.421875 \r\nQ 20.0625 -1.421875 12.78125 6.34375 \r\nQ 5.515625 14.109375 5.515625 27.296875 \r\nQ 5.515625 40.671875 12.859375 48.328125 \r\nQ 20.21875 56 33.015625 56 \r\nQ 37.15625 56 41.109375 55.140625 \r\nQ 45.0625 54.296875 48.78125 52.59375 \r\nz\r\n\" id=\"DejaVuSans-99\"/>\r\n       <path d=\"M 8.5 21.578125 \r\nL 8.5 54.6875 \r\nL 17.484375 54.6875 \r\nL 17.484375 21.921875 \r\nQ 17.484375 14.15625 20.5 10.265625 \r\nQ 23.53125 6.390625 29.59375 6.390625 \r\nQ 36.859375 6.390625 41.078125 11.03125 \r\nQ 45.3125 15.671875 45.3125 23.6875 \r\nL 45.3125 54.6875 \r\nL 54.296875 54.6875 \r\nL 54.296875 0 \r\nL 45.3125 0 \r\nL 45.3125 8.40625 \r\nQ 42.046875 3.421875 37.71875 1 \r\nQ 33.40625 -1.421875 27.6875 -1.421875 \r\nQ 18.265625 -1.421875 13.375 4.4375 \r\nQ 8.5 10.296875 8.5 21.578125 \r\nz\r\nM 31.109375 56 \r\nz\r\n\" id=\"DejaVuSans-117\"/>\r\n       <path d=\"M 41.109375 46.296875 \r\nQ 39.59375 47.171875 37.8125 47.578125 \r\nQ 36.03125 48 33.890625 48 \r\nQ 26.265625 48 22.1875 43.046875 \r\nQ 18.109375 38.09375 18.109375 28.8125 \r\nL 18.109375 0 \r\nL 9.078125 0 \r\nL 9.078125 54.6875 \r\nL 18.109375 54.6875 \r\nL 18.109375 46.1875 \r\nQ 20.953125 51.171875 25.484375 53.578125 \r\nQ 30.03125 56 36.53125 56 \r\nQ 37.453125 56 38.578125 55.875 \r\nQ 39.703125 55.765625 41.0625 55.515625 \r\nz\r\n\" id=\"DejaVuSans-114\"/>\r\n       <path d=\"M 32.171875 -5.078125 \r\nQ 28.375 -14.84375 24.75 -17.8125 \r\nQ 21.140625 -20.796875 15.09375 -20.796875 \r\nL 7.90625 -20.796875 \r\nL 7.90625 -13.28125 \r\nL 13.1875 -13.28125 \r\nQ 16.890625 -13.28125 18.9375 -11.515625 \r\nQ 21 -9.765625 23.484375 -3.21875 \r\nL 25.09375 0.875 \r\nL 2.984375 54.6875 \r\nL 12.5 54.6875 \r\nL 29.59375 11.921875 \r\nL 46.6875 54.6875 \r\nL 56.203125 54.6875 \r\nz\r\n\" id=\"DejaVuSans-121\"/>\r\n      </defs>\r\n      <use xlink:href=\"#DejaVuSans-97\"/>\r\n      <use x=\"61.279297\" xlink:href=\"#DejaVuSans-99\"/>\r\n      <use x=\"116.259766\" xlink:href=\"#DejaVuSans-99\"/>\r\n      <use x=\"171.240234\" xlink:href=\"#DejaVuSans-117\"/>\r\n      <use x=\"234.619141\" xlink:href=\"#DejaVuSans-114\"/>\r\n      <use x=\"275.732422\" xlink:href=\"#DejaVuSans-97\"/>\r\n      <use x=\"337.011719\" xlink:href=\"#DejaVuSans-99\"/>\r\n      <use x=\"391.992188\" xlink:href=\"#DejaVuSans-121\"/>\r\n     </g>\r\n    </g>\r\n    <g id=\"line2d_35\">\r\n     <path d=\"M 374.559375 53.453906 \r\nL 394.559375 53.453906 \r\n\" style=\"fill:none;stroke:#2ca02c;stroke-linecap:square;stroke-width:1.5;\"/>\r\n    </g>\r\n    <g id=\"line2d_36\"/>\r\n    <g id=\"text_16\">\r\n     <!-- val_loss -->\r\n     <g transform=\"translate(402.559375 56.953906)scale(0.1 -0.1)\">\r\n      <defs>\r\n       <path d=\"M 2.984375 54.6875 \r\nL 12.5 54.6875 \r\nL 29.59375 8.796875 \r\nL 46.6875 54.6875 \r\nL 56.203125 54.6875 \r\nL 35.6875 0 \r\nL 23.484375 0 \r\nz\r\n\" id=\"DejaVuSans-118\"/>\r\n       <path d=\"M 50.984375 -16.609375 \r\nL 50.984375 -23.578125 \r\nL -0.984375 -23.578125 \r\nL -0.984375 -16.609375 \r\nz\r\n\" id=\"DejaVuSans-95\"/>\r\n      </defs>\r\n      <use xlink:href=\"#DejaVuSans-118\"/>\r\n      <use x=\"59.179688\" xlink:href=\"#DejaVuSans-97\"/>\r\n      <use x=\"120.458984\" xlink:href=\"#DejaVuSans-108\"/>\r\n      <use x=\"148.242188\" xlink:href=\"#DejaVuSans-95\"/>\r\n      <use x=\"198.242188\" xlink:href=\"#DejaVuSans-108\"/>\r\n      <use x=\"226.025391\" xlink:href=\"#DejaVuSans-111\"/>\r\n      <use x=\"287.207031\" xlink:href=\"#DejaVuSans-115\"/>\r\n      <use x=\"339.306641\" xlink:href=\"#DejaVuSans-115\"/>\r\n     </g>\r\n    </g>\r\n    <g id=\"line2d_37\">\r\n     <path d=\"M 374.559375 68.410156 \r\nL 394.559375 68.410156 \r\n\" style=\"fill:none;stroke:#d62728;stroke-linecap:square;stroke-width:1.5;\"/>\r\n    </g>\r\n    <g id=\"line2d_38\"/>\r\n    <g id=\"text_17\">\r\n     <!-- val_accuracy -->\r\n     <g transform=\"translate(402.559375 71.910156)scale(0.1 -0.1)\">\r\n      <use xlink:href=\"#DejaVuSans-118\"/>\r\n      <use x=\"59.179688\" xlink:href=\"#DejaVuSans-97\"/>\r\n      <use x=\"120.458984\" xlink:href=\"#DejaVuSans-108\"/>\r\n      <use x=\"148.242188\" xlink:href=\"#DejaVuSans-95\"/>\r\n      <use x=\"198.242188\" xlink:href=\"#DejaVuSans-97\"/>\r\n      <use x=\"259.521484\" xlink:href=\"#DejaVuSans-99\"/>\r\n      <use x=\"314.501953\" xlink:href=\"#DejaVuSans-99\"/>\r\n      <use x=\"369.482422\" xlink:href=\"#DejaVuSans-117\"/>\r\n      <use x=\"432.861328\" xlink:href=\"#DejaVuSans-114\"/>\r\n      <use x=\"473.974609\" xlink:href=\"#DejaVuSans-97\"/>\r\n      <use x=\"535.253906\" xlink:href=\"#DejaVuSans-99\"/>\r\n      <use x=\"590.234375\" xlink:href=\"#DejaVuSans-121\"/>\r\n     </g>\r\n    </g>\r\n   </g>\r\n  </g>\r\n </g>\r\n <defs>\r\n  <clipPath id=\"pd471b731c9\">\r\n   <rect height=\"271.8\" width=\"446.4\" x=\"30.103125\" y=\"10.999219\"/>\r\n  </clipPath>\r\n </defs>\r\n</svg>\r\n",
      "image/png": "[encoded data removed]"
     },
     "metadata": {
      "needs_background": "light"
     }
    }
   ],
   "source": [
    "pd.DataFrame(history.history).plot(figsize=(8, 5))\n",
    "plt.grid(True)\n",
    "plt.gca().set_ylim(0, 1)\n",
    "plt.show()"
   ]
  },
  {
   "source": [
    "Now these graph play an very important role, as we can analyze and observe that after 20 iterations the model is not drastically improving."
   ],
   "cell_type": "markdown",
   "metadata": {}
  },
  {
   "source": [
    "#### Prediction"
   ],
   "cell_type": "markdown",
   "metadata": {}
  },
  {
   "cell_type": "code",
   "execution_count": 57,
   "metadata": {},
   "outputs": [
    {
     "output_type": "execute_result",
     "data": {
      "text/plain": [
       "array([[0., 0., 0., 0., 0., 0., 0., 1., 0., 0.],\n",
       "       [0., 0., 1., 0., 0., 0., 0., 0., 0., 0.],\n",
       "       [0., 1., 0., 0., 0., 0., 0., 0., 0., 0.]], dtype=float32)"
      ]
     },
     "metadata": {},
     "execution_count": 57
    }
   ],
   "source": [
    "X_new = test_x[:3]\n",
    "y_proba = model_clf.predict(X_new)\n",
    "y_proba.round(2)"
   ]
  },
  {
   "cell_type": "code",
   "execution_count": 58,
   "metadata": {},
   "outputs": [
    {
     "output_type": "execute_result",
     "data": {
      "text/plain": [
       "array([7, 2, 1], dtype=int64)"
      ]
     },
     "metadata": {},
     "execution_count": 58
    }
   ],
   "source": [
    "y_pred = np.argmax(model_clf.predict(X_new), axis=-1)\n",
    "y_pred"
   ]
  },
  {
   "source": [
    "plt.rcParams['figure.figsize'] = (3,3)\n",
    "for data, pred, actual in zip(X_new, y_pred, test_y[:3]):\n",
    "    plt.imshow(data, cmap=\"binary\")\n",
    "    plt.title(f\"Predicted: {pred}, Actual: {actual}\")\n",
    "    plt.axis('off')\n",
    "    plt.show()\n",
    "    print(\"---\"*20)"
   ],
   "cell_type": "code",
   "metadata": {},
   "execution_count": 64,
   "outputs": [
    {
     "output_type": "display_data",
     "data": {
      "text/plain": "<Figure size 216x216 with 1 Axes>",
      "image/svg+xml": "<?xml version=\"1.0\" encoding=\"utf-8\" standalone=\"no\"?>\r\n<!DOCTYPE svg PUBLIC \"-//W3C//DTD SVG 1.1//EN\"\r\n  \"http://www.w3.org/Graphics/SVG/1.1/DTD/svg11.dtd\">\r\n<!-- Created with matplotlib (https://matplotlib.org/) -->\r\n<svg height=\"192.598125pt\" version=\"1.1\" viewBox=\"0 0 177.48 192.598125\" width=\"177.48pt\" xmlns=\"http://www.w3.org/2000/svg\" xmlns:xlink=\"http://www.w3.org/1999/xlink\">\r\n <metadata>\r\n  <rdf:RDF xmlns:cc=\"http://creativecommons.org/ns#\" xmlns:dc=\"http://purl.org/dc/elements/1.1/\" xmlns:rdf=\"http://www.w3.org/1999/02/22-rdf-syntax-ns#\">\r\n   <cc:Work>\r\n    <dc:type rdf:resource=\"http://purl.org/dc/dcmitype/StillImage\"/>\r\n    <dc:date>2021-03-15T18:16:23.146135</dc:date>\r\n    <dc:format>image/svg+xml</dc:format>\r\n    <dc:creator>\r\n     <cc:Agent>\r\n      <dc:title>Matplotlib v3.3.1, https://matplotlib.org/</dc:title>\r\n     </cc:Agent>\r\n    </dc:creator>\r\n   </cc:Work>\r\n  </rdf:RDF>\r\n </metadata>\r\n <defs>\r\n  <style type=\"text/css\">*{stroke-linecap:butt;stroke-linejoin:round;}</style>\r\n </defs>\r\n <g id=\"figure_1\">\r\n  <g id=\"patch_1\">\r\n   <path d=\"M 0 192.598125 \r\nL 177.48 192.598125 \r\nL 177.48 0 \r\nL 0 0 \r\nz\r\n\" style=\"fill:none;\"/>\r\n  </g>\r\n  <g id=\"axes_1\">\r\n   <g clip-path=\"url(#pca6eac79a2)\">\r\n    <image height=\"164\" id=\"image3a0a88ff28\" transform=\"scale(1 -1)translate(0 -164)\" width=\"164\" x=\"7.2\" xlink:href=\"data:image/png;base64,\r\niVBORw0KGgoAAAANSUhEUgAAAKQAAACkCAYAAAAZtYVBAAAElklEQVR4nO3dzSv0awDG8d+cHiGRJgspSqZmEqWQdxsbFhaShfwBStYWNsrGX2Blb8UGYTNeYkdhYyHykpXCglJKzu6cU7/rVzOT4XLm+1leTc9zL77ddTfPQ+zz8/MzAEz89dMHAP6LIGGFIGGFIGGFIGHlz08f4DstLCyEttnZWfnZlpYWuafTabnH4/Gcz4V/cUPCCkHCCkHCCkHCCkHCSkG9srNxenoq946ODrmvr6/LPZVKfdWRCgI3JKwQJKwQJKwQJKwQJKwU1Cu7t7c3tJWXl8vPvry8yP3y8lLur6+vuR8M/+CGhBWChBWChBWChJWCetT09fWFtunpaflZ9Y95kX/ckLBCkLBCkLBCkLBCkLBSUK9sZXJyUu7Ly8tyv729lfv+/r7cW1tb5R6LxTI4XeHhhoQVgoQVgoQVgoQVgoSVGD/SWbu4uJB7MpnM6s9ZW1uT+/DwcNZnKgTckLBCkLBCkLBCkLBCkLDCKzvCx8eH3Ds7O+V+fHws90QiIfft7W25NzQ0ZHC6/y9uSFghSFghSFghSFghSFjhlZ2lx8dHube3t8v9+vpa7uPj43KP+pfqhYIbElYIElYIElYIElYIElZ4ZX+RjY0NuY+MjMi9rKxM7ltbW6Gtq6sr94P9MtyQsEKQsEKQsEKQsEKQsMIrO8/m5+flPjc3J/ehoaHQtrm5+aVncsYNCSsECSsECSsECSs8avLs7e1N7j09PXI/Pz8PbTs7O/Kz3d3duR/MFDckrBAkrBAkrBAkrBAkrBT8L07Kt9LSUrkPDg7K/eTkJLRFfc0Y9ZViUVFRhqfzww0JKwQJKwQJKwQJKwQJK3yX/UMODw/lPjAwENre39/lZ6N+JXJ/f3/uB/th3JCwQpCwQpCwQpCwQpCwwivbjPreOuq/0lZWVsr94OBA7k1NTTmf67twQ8IKQcIKQcIKQcIKQcIKr2wzDw8Poa25uTnjzwZBEKysrMh9dHQ094N9E25IWCFIWCFIWCFIWCFIWOGV/Qusrq7KfWxsTO5Rr/Ld3V25x+Px3A6WB9yQsEKQsEKQsEKQsEKQsFLwr+zn52e5q59CFgRB0NbWJvejo6MvOU9xcXFoSyaT8rOpVEruT09Pcl9cXJT71NRUhqfLP25IWCFIWCFIWCFIWLH6kc7pdFruZ2dncm9sbJS7+uVDQaAfKnt7e/Kz9/f3cq+rq5P73d2d3LOlfhxzVVWV/GzU4yXK1dVVTmf6TtyQsEKQsEKQsEKQsEKQsGL11WF9fb3cb25u8vZ3VlRUyD3qBf8b1NbWyn1mZkbuUV+H/gRuSFghSFghSFghSFghSFixemVH/ZCkpaUludfU1Mi9pKRE7hMTE6GturpafjaRSMgd+cUNCSsECSsECSsECSsECStWr2yAGxJWCBJWCBJWCBJWCBJWCBJWCBJWCBJWCBJWCBJWCBJWCBJWCBJWCBJWCBJWCBJWCBJWCBJWCBJWCBJWCBJWCBJWCBJWCBJWCBJWCBJWCBJWCBJWCBJWCBJWCBJWCBJWCBJWCBJWCBJWCBJWCBJWCBJWCBJWCBJW/gZSqOLMHmk4lgAAAABJRU5ErkJggg==\" y=\"-21.398125\"/>\r\n   </g>\r\n   <g id=\"text_1\">\r\n    <!-- Predicted: 7, Actual: 7 -->\r\n    <g transform=\"translate(22.47375 16.318125)scale(0.12 -0.12)\">\r\n     <defs>\r\n      <path d=\"M 19.671875 64.796875 \r\nL 19.671875 37.40625 \r\nL 32.078125 37.40625 \r\nQ 38.96875 37.40625 42.71875 40.96875 \r\nQ 46.484375 44.53125 46.484375 51.125 \r\nQ 46.484375 57.671875 42.71875 61.234375 \r\nQ 38.96875 64.796875 32.078125 64.796875 \r\nz\r\nM 9.8125 72.90625 \r\nL 32.078125 72.90625 \r\nQ 44.34375 72.90625 50.609375 67.359375 \r\nQ 56.890625 61.8125 56.890625 51.125 \r\nQ 56.890625 40.328125 50.609375 34.8125 \r\nQ 44.34375 29.296875 32.078125 29.296875 \r\nL 19.671875 29.296875 \r\nL 19.671875 0 \r\nL 9.8125 0 \r\nz\r\n\" id=\"DejaVuSans-80\"/>\r\n      <path d=\"M 41.109375 46.296875 \r\nQ 39.59375 47.171875 37.8125 47.578125 \r\nQ 36.03125 48 33.890625 48 \r\nQ 26.265625 48 22.1875 43.046875 \r\nQ 18.109375 38.09375 18.109375 28.8125 \r\nL 18.109375 0 \r\nL 9.078125 0 \r\nL 9.078125 54.6875 \r\nL 18.109375 54.6875 \r\nL 18.109375 46.1875 \r\nQ 20.953125 51.171875 25.484375 53.578125 \r\nQ 30.03125 56 36.53125 56 \r\nQ 37.453125 56 38.578125 55.875 \r\nQ 39.703125 55.765625 41.0625 55.515625 \r\nz\r\n\" id=\"DejaVuSans-114\"/>\r\n      <path d=\"M 56.203125 29.59375 \r\nL 56.203125 25.203125 \r\nL 14.890625 25.203125 \r\nQ 15.484375 15.921875 20.484375 11.0625 \r\nQ 25.484375 6.203125 34.421875 6.203125 \r\nQ 39.59375 6.203125 44.453125 7.46875 \r\nQ 49.3125 8.734375 54.109375 11.28125 \r\nL 54.109375 2.78125 \r\nQ 49.265625 0.734375 44.1875 -0.34375 \r\nQ 39.109375 -1.421875 33.890625 -1.421875 \r\nQ 20.796875 -1.421875 13.15625 6.1875 \r\nQ 5.515625 13.8125 5.515625 26.8125 \r\nQ 5.515625 40.234375 12.765625 48.109375 \r\nQ 20.015625 56 32.328125 56 \r\nQ 43.359375 56 49.78125 48.890625 \r\nQ 56.203125 41.796875 56.203125 29.59375 \r\nz\r\nM 47.21875 32.234375 \r\nQ 47.125 39.59375 43.09375 43.984375 \r\nQ 39.0625 48.390625 32.421875 48.390625 \r\nQ 24.90625 48.390625 20.390625 44.140625 \r\nQ 15.875 39.890625 15.1875 32.171875 \r\nz\r\n\" id=\"DejaVuSans-101\"/>\r\n      <path d=\"M 45.40625 46.390625 \r\nL 45.40625 75.984375 \r\nL 54.390625 75.984375 \r\nL 54.390625 0 \r\nL 45.40625 0 \r\nL 45.40625 8.203125 \r\nQ 42.578125 3.328125 38.25 0.953125 \r\nQ 33.9375 -1.421875 27.875 -1.421875 \r\nQ 17.96875 -1.421875 11.734375 6.484375 \r\nQ 5.515625 14.40625 5.515625 27.296875 \r\nQ 5.515625 40.1875 11.734375 48.09375 \r\nQ 17.96875 56 27.875 56 \r\nQ 33.9375 56 38.25 53.625 \r\nQ 42.578125 51.265625 45.40625 46.390625 \r\nz\r\nM 14.796875 27.296875 \r\nQ 14.796875 17.390625 18.875 11.75 \r\nQ 22.953125 6.109375 30.078125 6.109375 \r\nQ 37.203125 6.109375 41.296875 11.75 \r\nQ 45.40625 17.390625 45.40625 27.296875 \r\nQ 45.40625 37.203125 41.296875 42.84375 \r\nQ 37.203125 48.484375 30.078125 48.484375 \r\nQ 22.953125 48.484375 18.875 42.84375 \r\nQ 14.796875 37.203125 14.796875 27.296875 \r\nz\r\n\" id=\"DejaVuSans-100\"/>\r\n      <path d=\"M 9.421875 54.6875 \r\nL 18.40625 54.6875 \r\nL 18.40625 0 \r\nL 9.421875 0 \r\nz\r\nM 9.421875 75.984375 \r\nL 18.40625 75.984375 \r\nL 18.40625 64.59375 \r\nL 9.421875 64.59375 \r\nz\r\n\" id=\"DejaVuSans-105\"/>\r\n      <path d=\"M 48.78125 52.59375 \r\nL 48.78125 44.1875 \r\nQ 44.96875 46.296875 41.140625 47.34375 \r\nQ 37.3125 48.390625 33.40625 48.390625 \r\nQ 24.65625 48.390625 19.8125 42.84375 \r\nQ 14.984375 37.3125 14.984375 27.296875 \r\nQ 14.984375 17.28125 19.8125 11.734375 \r\nQ 24.65625 6.203125 33.40625 6.203125 \r\nQ 37.3125 6.203125 41.140625 7.25 \r\nQ 44.96875 8.296875 48.78125 10.40625 \r\nL 48.78125 2.09375 \r\nQ 45.015625 0.34375 40.984375 -0.53125 \r\nQ 36.96875 -1.421875 32.421875 -1.421875 \r\nQ 20.0625 -1.421875 12.78125 6.34375 \r\nQ 5.515625 14.109375 5.515625 27.296875 \r\nQ 5.515625 40.671875 12.859375 48.328125 \r\nQ 20.21875 56 33.015625 56 \r\nQ 37.15625 56 41.109375 55.140625 \r\nQ 45.0625 54.296875 48.78125 52.59375 \r\nz\r\n\" id=\"DejaVuSans-99\"/>\r\n      <path d=\"M 18.3125 70.21875 \r\nL 18.3125 54.6875 \r\nL 36.8125 54.6875 \r\nL 36.8125 47.703125 \r\nL 18.3125 47.703125 \r\nL 18.3125 18.015625 \r\nQ 18.3125 11.328125 20.140625 9.421875 \r\nQ 21.96875 7.515625 27.59375 7.515625 \r\nL 36.8125 7.515625 \r\nL 36.8125 0 \r\nL 27.59375 0 \r\nQ 17.1875 0 13.234375 3.875 \r\nQ 9.28125 7.765625 9.28125 18.015625 \r\nL 9.28125 47.703125 \r\nL 2.6875 47.703125 \r\nL 2.6875 54.6875 \r\nL 9.28125 54.6875 \r\nL 9.28125 70.21875 \r\nz\r\n\" id=\"DejaVuSans-116\"/>\r\n      <path d=\"M 11.71875 12.40625 \r\nL 22.015625 12.40625 \r\nL 22.015625 0 \r\nL 11.71875 0 \r\nz\r\nM 11.71875 51.703125 \r\nL 22.015625 51.703125 \r\nL 22.015625 39.3125 \r\nL 11.71875 39.3125 \r\nz\r\n\" id=\"DejaVuSans-58\"/>\r\n      <path id=\"DejaVuSans-32\"/>\r\n      <path d=\"M 8.203125 72.90625 \r\nL 55.078125 72.90625 \r\nL 55.078125 68.703125 \r\nL 28.609375 0 \r\nL 18.3125 0 \r\nL 43.21875 64.59375 \r\nL 8.203125 64.59375 \r\nz\r\n\" id=\"DejaVuSans-55\"/>\r\n      <path d=\"M 11.71875 12.40625 \r\nL 22.015625 12.40625 \r\nL 22.015625 4 \r\nL 14.015625 -11.625 \r\nL 7.71875 -11.625 \r\nL 11.71875 4 \r\nz\r\n\" id=\"DejaVuSans-44\"/>\r\n      <path d=\"M 34.1875 63.1875 \r\nL 20.796875 26.90625 \r\nL 47.609375 26.90625 \r\nz\r\nM 28.609375 72.90625 \r\nL 39.796875 72.90625 \r\nL 67.578125 0 \r\nL 57.328125 0 \r\nL 50.6875 18.703125 \r\nL 17.828125 18.703125 \r\nL 11.1875 0 \r\nL 0.78125 0 \r\nz\r\n\" id=\"DejaVuSans-65\"/>\r\n      <path d=\"M 8.5 21.578125 \r\nL 8.5 54.6875 \r\nL 17.484375 54.6875 \r\nL 17.484375 21.921875 \r\nQ 17.484375 14.15625 20.5 10.265625 \r\nQ 23.53125 6.390625 29.59375 6.390625 \r\nQ 36.859375 6.390625 41.078125 11.03125 \r\nQ 45.3125 15.671875 45.3125 23.6875 \r\nL 45.3125 54.6875 \r\nL 54.296875 54.6875 \r\nL 54.296875 0 \r\nL 45.3125 0 \r\nL 45.3125 8.40625 \r\nQ 42.046875 3.421875 37.71875 1 \r\nQ 33.40625 -1.421875 27.6875 -1.421875 \r\nQ 18.265625 -1.421875 13.375 4.4375 \r\nQ 8.5 10.296875 8.5 21.578125 \r\nz\r\nM 31.109375 56 \r\nz\r\n\" id=\"DejaVuSans-117\"/>\r\n      <path d=\"M 34.28125 27.484375 \r\nQ 23.390625 27.484375 19.1875 25 \r\nQ 14.984375 22.515625 14.984375 16.5 \r\nQ 14.984375 11.71875 18.140625 8.90625 \r\nQ 21.296875 6.109375 26.703125 6.109375 \r\nQ 34.1875 6.109375 38.703125 11.40625 \r\nQ 43.21875 16.703125 43.21875 25.484375 \r\nL 43.21875 27.484375 \r\nz\r\nM 52.203125 31.203125 \r\nL 52.203125 0 \r\nL 43.21875 0 \r\nL 43.21875 8.296875 \r\nQ 40.140625 3.328125 35.546875 0.953125 \r\nQ 30.953125 -1.421875 24.3125 -1.421875 \r\nQ 15.921875 -1.421875 10.953125 3.296875 \r\nQ 6 8.015625 6 15.921875 \r\nQ 6 25.140625 12.171875 29.828125 \r\nQ 18.359375 34.515625 30.609375 34.515625 \r\nL 43.21875 34.515625 \r\nL 43.21875 35.40625 \r\nQ 43.21875 41.609375 39.140625 45 \r\nQ 35.0625 48.390625 27.6875 48.390625 \r\nQ 23 48.390625 18.546875 47.265625 \r\nQ 14.109375 46.140625 10.015625 43.890625 \r\nL 10.015625 52.203125 \r\nQ 14.9375 54.109375 19.578125 55.046875 \r\nQ 24.21875 56 28.609375 56 \r\nQ 40.484375 56 46.34375 49.84375 \r\nQ 52.203125 43.703125 52.203125 31.203125 \r\nz\r\n\" id=\"DejaVuSans-97\"/>\r\n      <path d=\"M 9.421875 75.984375 \r\nL 18.40625 75.984375 \r\nL 18.40625 0 \r\nL 9.421875 0 \r\nz\r\n\" id=\"DejaVuSans-108\"/>\r\n     </defs>\r\n     <use xlink:href=\"#DejaVuSans-80\"/>\r\n     <use x=\"58.552734\" xlink:href=\"#DejaVuSans-114\"/>\r\n     <use x=\"97.416016\" xlink:href=\"#DejaVuSans-101\"/>\r\n     <use x=\"158.939453\" xlink:href=\"#DejaVuSans-100\"/>\r\n     <use x=\"222.416016\" xlink:href=\"#DejaVuSans-105\"/>\r\n     <use x=\"250.199219\" xlink:href=\"#DejaVuSans-99\"/>\r\n     <use x=\"305.179688\" xlink:href=\"#DejaVuSans-116\"/>\r\n     <use x=\"344.388672\" xlink:href=\"#DejaVuSans-101\"/>\r\n     <use x=\"405.912109\" xlink:href=\"#DejaVuSans-100\"/>\r\n     <use x=\"469.388672\" xlink:href=\"#DejaVuSans-58\"/>\r\n     <use x=\"503.080078\" xlink:href=\"#DejaVuSans-32\"/>\r\n     <use x=\"534.867188\" xlink:href=\"#DejaVuSans-55\"/>\r\n     <use x=\"598.490234\" xlink:href=\"#DejaVuSans-44\"/>\r\n     <use x=\"630.277344\" xlink:href=\"#DejaVuSans-32\"/>\r\n     <use x=\"662.064453\" xlink:href=\"#DejaVuSans-65\"/>\r\n     <use x=\"728.722656\" xlink:href=\"#DejaVuSans-99\"/>\r\n     <use x=\"783.703125\" xlink:href=\"#DejaVuSans-116\"/>\r\n     <use x=\"822.912109\" xlink:href=\"#DejaVuSans-117\"/>\r\n     <use x=\"886.291016\" xlink:href=\"#DejaVuSans-97\"/>\r\n     <use x=\"947.570312\" xlink:href=\"#DejaVuSans-108\"/>\r\n     <use x=\"975.353516\" xlink:href=\"#DejaVuSans-58\"/>\r\n     <use x=\"1009.044922\" xlink:href=\"#DejaVuSans-32\"/>\r\n     <use x=\"1040.832031\" xlink:href=\"#DejaVuSans-55\"/>\r\n    </g>\r\n   </g>\r\n  </g>\r\n </g>\r\n <defs>\r\n  <clipPath id=\"pca6eac79a2\">\r\n   <rect height=\"163.08\" width=\"163.08\" x=\"7.2\" y=\"22.318125\"/>\r\n  </clipPath>\r\n </defs>\r\n</svg>\r\n",
      "image/png": "[encoded data removed]"
     },
     "metadata": {
      "needs_background": "light"
     }
    },
    {
     "output_type": "stream",
     "name": "stdout",
     "text": [
      "------------------------------------------------------------\n"
     ]
    },
    {
     "output_type": "display_data",
     "data": {
      "text/plain": "<Figure size 216x216 with 1 Axes>",
      "image/svg+xml": "<?xml version=\"1.0\" encoding=\"utf-8\" standalone=\"no\"?>\r\n<!DOCTYPE svg PUBLIC \"-//W3C//DTD SVG 1.1//EN\"\r\n  \"http://www.w3.org/Graphics/SVG/1.1/DTD/svg11.dtd\">\r\n<!-- Created with matplotlib (https://matplotlib.org/) -->\r\n<svg height=\"192.598125pt\" version=\"1.1\" viewBox=\"0 0 177.48 192.598125\" width=\"177.48pt\" xmlns=\"http://www.w3.org/2000/svg\" xmlns:xlink=\"http://www.w3.org/1999/xlink\">\r\n <metadata>\r\n  <rdf:RDF xmlns:cc=\"http://creativecommons.org/ns#\" xmlns:dc=\"http://purl.org/dc/elements/1.1/\" xmlns:rdf=\"http://www.w3.org/1999/02/22-rdf-syntax-ns#\">\r\n   <cc:Work>\r\n    <dc:type rdf:resource=\"http://purl.org/dc/dcmitype/StillImage\"/>\r\n    <dc:date>2021-03-15T18:16:23.222652</dc:date>\r\n    <dc:format>image/svg+xml</dc:format>\r\n    <dc:creator>\r\n     <cc:Agent>\r\n      <dc:title>Matplotlib v3.3.1, https://matplotlib.org/</dc:title>\r\n     </cc:Agent>\r\n    </dc:creator>\r\n   </cc:Work>\r\n  </rdf:RDF>\r\n </metadata>\r\n <defs>\r\n  <style type=\"text/css\">*{stroke-linecap:butt;stroke-linejoin:round;}</style>\r\n </defs>\r\n <g id=\"figure_1\">\r\n  <g id=\"patch_1\">\r\n   <path d=\"M 0 192.598125 \r\nL 177.48 192.598125 \r\nL 177.48 0 \r\nL 0 0 \r\nz\r\n\" style=\"fill:none;\"/>\r\n  </g>\r\n  <g id=\"axes_1\">\r\n   <g clip-path=\"url(#p336dd1ba4e)\">\r\n    <image height=\"164\" id=\"image2a134423fd\" transform=\"scale(1 -1)translate(0 -164)\" width=\"164\" x=\"7.2\" xlink:href=\"data:image/png;base64,\r\niVBORw0KGgoAAAANSUhEUgAAAKQAAACkCAYAAAAZtYVBAAAE8ElEQVR4nO3dzSt0YRzG8Xl4RBMpQ5kNhYUpZTPSSMlOKTGKpYWVjdhK0qy85KX8B1bEQqwUW0UWDCkbZSEpklLyUp7tU+d31xwM1zHfz/JqOs7i212nM40/7+/v7yFARN5P3wDwP4KEFIKEFIKEFIKEFIKEFIKEFIKEFIKEFIKEFIKEFIKEFIKEFIKEFIKEFIKEFIKEFIKEFIKEFIKEFIKEFIKEFIKEFIKEFIKEFIKEFIKEFIKElL8/fQPZMDMzY+4vLy+fvvbZ2Zm5r6ysfPraoVAoNDg46Nmqq6t9XaO3t9fcY7HYh+7pO3FCQgpBQgpBQgpBQgpBQsqfIP+kczKZNPeNjY3vvRExBQUF5p6X5+/86erqMvd4PJ7xNVpbW809kUiYOyckpBAkpBAkpBAkpBAkpAT6KbuoqMjcv+Kddbb19fWZezQa9Ww3NzfmZ7/q/Xk2pVIpcx8fHzd3TkhIIUhIIUhIIUhIIUhIyfmn7HQ6be6VlZUfuqdMlZaWmrv1Hvr19dX87MPDg6+/eX9/b+4LCwu+rmPJz8839+npaXMPh8PmzgkJKQQJKQQJKQQJKQQJKTn/lH11dWXu1jtlZB8nJKQQJKQQJKQQJKQQJKQE+il7bGzM3KempjK+Rnd3t7kvLy+be3FxccbXhn+ckJBCkJBCkJBCkJAS6Ieau7s7c+/s7DT3g4ODjK89MjJi7vPz8xlfA/5xQkIKQUIKQUIKQUIKQUJKoP9xUiQSMXfXK0XrB55cX+Y9Ojoy98fHR3PnleLX4ISEFIKEFIKEFIKEFIKElEC/y/bL+mc9+/v7vq7BO+7s4oSEFIKEFIKEFIKEFIKElJx6yr6+vvZsjY2N5mdvb2/NvaKiwtz39vbMvba2NsO7QyjECQkxBAkpBAkpBAkpBAkpOfWUbXH92NT29ra5Pz8/m/vAwIC5Ly0tmTvfMLdxQkIKQUIKQUIKQUIKQUJKzj9lu0xOTpp7KpXydZ3h4WFzX1xc9HlHuYETElIIElIIElIIElIIElIC/etn2RSPx829sLDQ3F3vuFdXV829p6fH3Nva2jK4u9+LExJSCBJSCBJSCBJSeHXo0+zsrLlPTEyYu+thp7m52dx3d3c9WzgczvDugo8TElIIElIIElIIElIIElIC/ZR9eXlp7iUlJeZeVlaWtXtx/WjVycmJr+tYT9nt7e0fuqcg4oSEFIKEFIKEFIKEFIKElEB8QXdra8vck8mkucdiMXO3fkAqGo1+/Mb+09/fb+7n5+fm7vq3yLmOExJSCBJSCBJSCBJSCBJSAvEu+/Dw0NxbWlrM/e3tzdwbGho82+bmpvnZ8vJyc3f9FLPrqdn1zfDj42NzHx0d9Wxzc3PmZ38jTkhIIUhIIUhIIUhIIUhICcS7bNcPP7l+sGltbc3cT09PPVtNTY352fr6enPv6Ogw94uLC3N3PU27RCIRX5//bTghIYUgIYUgIYUgIYUgISUQ77L9cn172/X0/RPq6urMfWdnx7NVVVVl+3ZkcEJCCkFCCkFCCkFCCkFCSiDeZfvl+mdFTU1Nnu3p6cn8bDqdNvf19XVf9zI0NGTuiUTC3HPpidrCCQkpBAkpBAkpBAkpv/LVIYKLExJSCBJSCBJSCBJSCBJSCBJSCBJSCBJSCBJSCBJSCBJSCBJSCBJSCBJSCBJSCBJSCBJS/gElOAYh+maESwAAAABJRU5ErkJggg==\" y=\"-21.398125\"/>\r\n   </g>\r\n   <g id=\"text_1\">\r\n    <!-- Predicted: 2, Actual: 2 -->\r\n    <g transform=\"translate(22.47375 16.318125)scale(0.12 -0.12)\">\r\n     <defs>\r\n      <path d=\"M 19.671875 64.796875 \r\nL 19.671875 37.40625 \r\nL 32.078125 37.40625 \r\nQ 38.96875 37.40625 42.71875 40.96875 \r\nQ 46.484375 44.53125 46.484375 51.125 \r\nQ 46.484375 57.671875 42.71875 61.234375 \r\nQ 38.96875 64.796875 32.078125 64.796875 \r\nz\r\nM 9.8125 72.90625 \r\nL 32.078125 72.90625 \r\nQ 44.34375 72.90625 50.609375 67.359375 \r\nQ 56.890625 61.8125 56.890625 51.125 \r\nQ 56.890625 40.328125 50.609375 34.8125 \r\nQ 44.34375 29.296875 32.078125 29.296875 \r\nL 19.671875 29.296875 \r\nL 19.671875 0 \r\nL 9.8125 0 \r\nz\r\n\" id=\"DejaVuSans-80\"/>\r\n      <path d=\"M 41.109375 46.296875 \r\nQ 39.59375 47.171875 37.8125 47.578125 \r\nQ 36.03125 48 33.890625 48 \r\nQ 26.265625 48 22.1875 43.046875 \r\nQ 18.109375 38.09375 18.109375 28.8125 \r\nL 18.109375 0 \r\nL 9.078125 0 \r\nL 9.078125 54.6875 \r\nL 18.109375 54.6875 \r\nL 18.109375 46.1875 \r\nQ 20.953125 51.171875 25.484375 53.578125 \r\nQ 30.03125 56 36.53125 56 \r\nQ 37.453125 56 38.578125 55.875 \r\nQ 39.703125 55.765625 41.0625 55.515625 \r\nz\r\n\" id=\"DejaVuSans-114\"/>\r\n      <path d=\"M 56.203125 29.59375 \r\nL 56.203125 25.203125 \r\nL 14.890625 25.203125 \r\nQ 15.484375 15.921875 20.484375 11.0625 \r\nQ 25.484375 6.203125 34.421875 6.203125 \r\nQ 39.59375 6.203125 44.453125 7.46875 \r\nQ 49.3125 8.734375 54.109375 11.28125 \r\nL 54.109375 2.78125 \r\nQ 49.265625 0.734375 44.1875 -0.34375 \r\nQ 39.109375 -1.421875 33.890625 -1.421875 \r\nQ 20.796875 -1.421875 13.15625 6.1875 \r\nQ 5.515625 13.8125 5.515625 26.8125 \r\nQ 5.515625 40.234375 12.765625 48.109375 \r\nQ 20.015625 56 32.328125 56 \r\nQ 43.359375 56 49.78125 48.890625 \r\nQ 56.203125 41.796875 56.203125 29.59375 \r\nz\r\nM 47.21875 32.234375 \r\nQ 47.125 39.59375 43.09375 43.984375 \r\nQ 39.0625 48.390625 32.421875 48.390625 \r\nQ 24.90625 48.390625 20.390625 44.140625 \r\nQ 15.875 39.890625 15.1875 32.171875 \r\nz\r\n\" id=\"DejaVuSans-101\"/>\r\n      <path d=\"M 45.40625 46.390625 \r\nL 45.40625 75.984375 \r\nL 54.390625 75.984375 \r\nL 54.390625 0 \r\nL 45.40625 0 \r\nL 45.40625 8.203125 \r\nQ 42.578125 3.328125 38.25 0.953125 \r\nQ 33.9375 -1.421875 27.875 -1.421875 \r\nQ 17.96875 -1.421875 11.734375 6.484375 \r\nQ 5.515625 14.40625 5.515625 27.296875 \r\nQ 5.515625 40.1875 11.734375 48.09375 \r\nQ 17.96875 56 27.875 56 \r\nQ 33.9375 56 38.25 53.625 \r\nQ 42.578125 51.265625 45.40625 46.390625 \r\nz\r\nM 14.796875 27.296875 \r\nQ 14.796875 17.390625 18.875 11.75 \r\nQ 22.953125 6.109375 30.078125 6.109375 \r\nQ 37.203125 6.109375 41.296875 11.75 \r\nQ 45.40625 17.390625 45.40625 27.296875 \r\nQ 45.40625 37.203125 41.296875 42.84375 \r\nQ 37.203125 48.484375 30.078125 48.484375 \r\nQ 22.953125 48.484375 18.875 42.84375 \r\nQ 14.796875 37.203125 14.796875 27.296875 \r\nz\r\n\" id=\"DejaVuSans-100\"/>\r\n      <path d=\"M 9.421875 54.6875 \r\nL 18.40625 54.6875 \r\nL 18.40625 0 \r\nL 9.421875 0 \r\nz\r\nM 9.421875 75.984375 \r\nL 18.40625 75.984375 \r\nL 18.40625 64.59375 \r\nL 9.421875 64.59375 \r\nz\r\n\" id=\"DejaVuSans-105\"/>\r\n      <path d=\"M 48.78125 52.59375 \r\nL 48.78125 44.1875 \r\nQ 44.96875 46.296875 41.140625 47.34375 \r\nQ 37.3125 48.390625 33.40625 48.390625 \r\nQ 24.65625 48.390625 19.8125 42.84375 \r\nQ 14.984375 37.3125 14.984375 27.296875 \r\nQ 14.984375 17.28125 19.8125 11.734375 \r\nQ 24.65625 6.203125 33.40625 6.203125 \r\nQ 37.3125 6.203125 41.140625 7.25 \r\nQ 44.96875 8.296875 48.78125 10.40625 \r\nL 48.78125 2.09375 \r\nQ 45.015625 0.34375 40.984375 -0.53125 \r\nQ 36.96875 -1.421875 32.421875 -1.421875 \r\nQ 20.0625 -1.421875 12.78125 6.34375 \r\nQ 5.515625 14.109375 5.515625 27.296875 \r\nQ 5.515625 40.671875 12.859375 48.328125 \r\nQ 20.21875 56 33.015625 56 \r\nQ 37.15625 56 41.109375 55.140625 \r\nQ 45.0625 54.296875 48.78125 52.59375 \r\nz\r\n\" id=\"DejaVuSans-99\"/>\r\n      <path d=\"M 18.3125 70.21875 \r\nL 18.3125 54.6875 \r\nL 36.8125 54.6875 \r\nL 36.8125 47.703125 \r\nL 18.3125 47.703125 \r\nL 18.3125 18.015625 \r\nQ 18.3125 11.328125 20.140625 9.421875 \r\nQ 21.96875 7.515625 27.59375 7.515625 \r\nL 36.8125 7.515625 \r\nL 36.8125 0 \r\nL 27.59375 0 \r\nQ 17.1875 0 13.234375 3.875 \r\nQ 9.28125 7.765625 9.28125 18.015625 \r\nL 9.28125 47.703125 \r\nL 2.6875 47.703125 \r\nL 2.6875 54.6875 \r\nL 9.28125 54.6875 \r\nL 9.28125 70.21875 \r\nz\r\n\" id=\"DejaVuSans-116\"/>\r\n      <path d=\"M 11.71875 12.40625 \r\nL 22.015625 12.40625 \r\nL 22.015625 0 \r\nL 11.71875 0 \r\nz\r\nM 11.71875 51.703125 \r\nL 22.015625 51.703125 \r\nL 22.015625 39.3125 \r\nL 11.71875 39.3125 \r\nz\r\n\" id=\"DejaVuSans-58\"/>\r\n      <path id=\"DejaVuSans-32\"/>\r\n      <path d=\"M 19.1875 8.296875 \r\nL 53.609375 8.296875 \r\nL 53.609375 0 \r\nL 7.328125 0 \r\nL 7.328125 8.296875 \r\nQ 12.9375 14.109375 22.625 23.890625 \r\nQ 32.328125 33.6875 34.8125 36.53125 \r\nQ 39.546875 41.84375 41.421875 45.53125 \r\nQ 43.3125 49.21875 43.3125 52.78125 \r\nQ 43.3125 58.59375 39.234375 62.25 \r\nQ 35.15625 65.921875 28.609375 65.921875 \r\nQ 23.96875 65.921875 18.8125 64.3125 \r\nQ 13.671875 62.703125 7.8125 59.421875 \r\nL 7.8125 69.390625 \r\nQ 13.765625 71.78125 18.9375 73 \r\nQ 24.125 74.21875 28.421875 74.21875 \r\nQ 39.75 74.21875 46.484375 68.546875 \r\nQ 53.21875 62.890625 53.21875 53.421875 \r\nQ 53.21875 48.921875 51.53125 44.890625 \r\nQ 49.859375 40.875 45.40625 35.40625 \r\nQ 44.1875 33.984375 37.640625 27.21875 \r\nQ 31.109375 20.453125 19.1875 8.296875 \r\nz\r\n\" id=\"DejaVuSans-50\"/>\r\n      <path d=\"M 11.71875 12.40625 \r\nL 22.015625 12.40625 \r\nL 22.015625 4 \r\nL 14.015625 -11.625 \r\nL 7.71875 -11.625 \r\nL 11.71875 4 \r\nz\r\n\" id=\"DejaVuSans-44\"/>\r\n      <path d=\"M 34.1875 63.1875 \r\nL 20.796875 26.90625 \r\nL 47.609375 26.90625 \r\nz\r\nM 28.609375 72.90625 \r\nL 39.796875 72.90625 \r\nL 67.578125 0 \r\nL 57.328125 0 \r\nL 50.6875 18.703125 \r\nL 17.828125 18.703125 \r\nL 11.1875 0 \r\nL 0.78125 0 \r\nz\r\n\" id=\"DejaVuSans-65\"/>\r\n      <path d=\"M 8.5 21.578125 \r\nL 8.5 54.6875 \r\nL 17.484375 54.6875 \r\nL 17.484375 21.921875 \r\nQ 17.484375 14.15625 20.5 10.265625 \r\nQ 23.53125 6.390625 29.59375 6.390625 \r\nQ 36.859375 6.390625 41.078125 11.03125 \r\nQ 45.3125 15.671875 45.3125 23.6875 \r\nL 45.3125 54.6875 \r\nL 54.296875 54.6875 \r\nL 54.296875 0 \r\nL 45.3125 0 \r\nL 45.3125 8.40625 \r\nQ 42.046875 3.421875 37.71875 1 \r\nQ 33.40625 -1.421875 27.6875 -1.421875 \r\nQ 18.265625 -1.421875 13.375 4.4375 \r\nQ 8.5 10.296875 8.5 21.578125 \r\nz\r\nM 31.109375 56 \r\nz\r\n\" id=\"DejaVuSans-117\"/>\r\n      <path d=\"M 34.28125 27.484375 \r\nQ 23.390625 27.484375 19.1875 25 \r\nQ 14.984375 22.515625 14.984375 16.5 \r\nQ 14.984375 11.71875 18.140625 8.90625 \r\nQ 21.296875 6.109375 26.703125 6.109375 \r\nQ 34.1875 6.109375 38.703125 11.40625 \r\nQ 43.21875 16.703125 43.21875 25.484375 \r\nL 43.21875 27.484375 \r\nz\r\nM 52.203125 31.203125 \r\nL 52.203125 0 \r\nL 43.21875 0 \r\nL 43.21875 8.296875 \r\nQ 40.140625 3.328125 35.546875 0.953125 \r\nQ 30.953125 -1.421875 24.3125 -1.421875 \r\nQ 15.921875 -1.421875 10.953125 3.296875 \r\nQ 6 8.015625 6 15.921875 \r\nQ 6 25.140625 12.171875 29.828125 \r\nQ 18.359375 34.515625 30.609375 34.515625 \r\nL 43.21875 34.515625 \r\nL 43.21875 35.40625 \r\nQ 43.21875 41.609375 39.140625 45 \r\nQ 35.0625 48.390625 27.6875 48.390625 \r\nQ 23 48.390625 18.546875 47.265625 \r\nQ 14.109375 46.140625 10.015625 43.890625 \r\nL 10.015625 52.203125 \r\nQ 14.9375 54.109375 19.578125 55.046875 \r\nQ 24.21875 56 28.609375 56 \r\nQ 40.484375 56 46.34375 49.84375 \r\nQ 52.203125 43.703125 52.203125 31.203125 \r\nz\r\n\" id=\"DejaVuSans-97\"/>\r\n      <path d=\"M 9.421875 75.984375 \r\nL 18.40625 75.984375 \r\nL 18.40625 0 \r\nL 9.421875 0 \r\nz\r\n\" id=\"DejaVuSans-108\"/>\r\n     </defs>\r\n     <use xlink:href=\"#DejaVuSans-80\"/>\r\n     <use x=\"58.552734\" xlink:href=\"#DejaVuSans-114\"/>\r\n     <use x=\"97.416016\" xlink:href=\"#DejaVuSans-101\"/>\r\n     <use x=\"158.939453\" xlink:href=\"#DejaVuSans-100\"/>\r\n     <use x=\"222.416016\" xlink:href=\"#DejaVuSans-105\"/>\r\n     <use x=\"250.199219\" xlink:href=\"#DejaVuSans-99\"/>\r\n     <use x=\"305.179688\" xlink:href=\"#DejaVuSans-116\"/>\r\n     <use x=\"344.388672\" xlink:href=\"#DejaVuSans-101\"/>\r\n     <use x=\"405.912109\" xlink:href=\"#DejaVuSans-100\"/>\r\n     <use x=\"469.388672\" xlink:href=\"#DejaVuSans-58\"/>\r\n     <use x=\"503.080078\" xlink:href=\"#DejaVuSans-32\"/>\r\n     <use x=\"534.867188\" xlink:href=\"#DejaVuSans-50\"/>\r\n     <use x=\"598.490234\" xlink:href=\"#DejaVuSans-44\"/>\r\n     <use x=\"630.277344\" xlink:href=\"#DejaVuSans-32\"/>\r\n     <use x=\"662.064453\" xlink:href=\"#DejaVuSans-65\"/>\r\n     <use x=\"728.722656\" xlink:href=\"#DejaVuSans-99\"/>\r\n     <use x=\"783.703125\" xlink:href=\"#DejaVuSans-116\"/>\r\n     <use x=\"822.912109\" xlink:href=\"#DejaVuSans-117\"/>\r\n     <use x=\"886.291016\" xlink:href=\"#DejaVuSans-97\"/>\r\n     <use x=\"947.570312\" xlink:href=\"#DejaVuSans-108\"/>\r\n     <use x=\"975.353516\" xlink:href=\"#DejaVuSans-58\"/>\r\n     <use x=\"1009.044922\" xlink:href=\"#DejaVuSans-32\"/>\r\n     <use x=\"1040.832031\" xlink:href=\"#DejaVuSans-50\"/>\r\n    </g>\r\n   </g>\r\n  </g>\r\n </g>\r\n <defs>\r\n  <clipPath id=\"p336dd1ba4e\">\r\n   <rect height=\"163.08\" width=\"163.08\" x=\"7.2\" y=\"22.318125\"/>\r\n  </clipPath>\r\n </defs>\r\n</svg>\r\n",
      "image/png": "[encoded data removed]"
     },
     "metadata": {
      "needs_background": "light"
     }
    },
    {
     "output_type": "stream",
     "name": "stdout",
     "text": [
      "------------------------------------------------------------\n"
     ]
    },
    {
     "output_type": "display_data",
     "data": {
      "text/plain": "<Figure size 216x216 with 1 Axes>",
      "image/svg+xml": "<?xml version=\"1.0\" encoding=\"utf-8\" standalone=\"no\"?>\r\n<!DOCTYPE svg PUBLIC \"-//W3C//DTD SVG 1.1//EN\"\r\n  \"http://www.w3.org/Graphics/SVG/1.1/DTD/svg11.dtd\">\r\n<!-- Created with matplotlib (https://matplotlib.org/) -->\r\n<svg height=\"192.598125pt\" version=\"1.1\" viewBox=\"0 0 177.48 192.598125\" width=\"177.48pt\" xmlns=\"http://www.w3.org/2000/svg\" xmlns:xlink=\"http://www.w3.org/1999/xlink\">\r\n <metadata>\r\n  <rdf:RDF xmlns:cc=\"http://creativecommons.org/ns#\" xmlns:dc=\"http://purl.org/dc/elements/1.1/\" xmlns:rdf=\"http://www.w3.org/1999/02/22-rdf-syntax-ns#\">\r\n   <cc:Work>\r\n    <dc:type rdf:resource=\"http://purl.org/dc/dcmitype/StillImage\"/>\r\n    <dc:date>2021-03-15T18:16:23.282900</dc:date>\r\n    <dc:format>image/svg+xml</dc:format>\r\n    <dc:creator>\r\n     <cc:Agent>\r\n      <dc:title>Matplotlib v3.3.1, https://matplotlib.org/</dc:title>\r\n     </cc:Agent>\r\n    </dc:creator>\r\n   </cc:Work>\r\n  </rdf:RDF>\r\n </metadata>\r\n <defs>\r\n  <style type=\"text/css\">*{stroke-linecap:butt;stroke-linejoin:round;}</style>\r\n </defs>\r\n <g id=\"figure_1\">\r\n  <g id=\"patch_1\">\r\n   <path d=\"M 0 192.598125 \r\nL 177.48 192.598125 \r\nL 177.48 0 \r\nL 0 0 \r\nz\r\n\" style=\"fill:none;\"/>\r\n  </g>\r\n  <g id=\"axes_1\">\r\n   <g clip-path=\"url(#pbacc5d4764)\">\r\n    <image height=\"164\" id=\"imagee8020f4f0b\" transform=\"scale(1 -1)translate(0 -164)\" width=\"164\" x=\"7.2\" xlink:href=\"data:image/png;base64,\r\niVBORw0KGgoAAAANSUhEUgAAAKQAAACkCAYAAAAZtYVBAAADv0lEQVR4nO3dwSq8exzHcf/jLMTKih07O8bCEmUnWVCuRKm5BQtlI1egRJRslVK4A25gSlmgWBFnd86p+T11RjNnPv7P67X89qTf4t23fj0z49fX19fXAIT4o98HgH8TJFEESRRBEkWQRBEkUQRJFEESRZBEESRRBEkUQRJFkEQRJFEESRRBEkWQRBEkUQRJFEESRZBEESRR/uz3Af5P7+/vbbOFhYXis2NjY8X5wcFBcT48PPz9g/E3G5IogiSKIIkiSKIIkii1v2U/Pz8Xn729vS3Od3d3i/Nms/ntc/EPG5IogiSKIIkiSKIIkii1umWX3jcvLy8Xn72/vy/Oj46OivOtra3ifHBw8D+ejoEBG5IwgiSKIIkiSKIIkii/6v6Pk66urorzpaWl4vzj46M4v7i46OjvUGZDEkWQRBEkUQRJFEESpVbvskvm5+eL86rvZbdarV4ep/ZsSKIIkiiCJIogiSJIotT+ll1ldXW1ON/f3y/Oz8/Pi3PvsjtjQxJFkEQRJFEESRRBEsUtu8LExERHzz89PfXoJPViQxJFkEQRJFEESZTafw22ysPDQ3HeaDSK89HR0eL87u6uW0eqBRuSKIIkiiCJIkiiCJIoXh1WGB8fL86rvjZ7fHxcnJ+enhbna2tr3zvYb86GJIogiSJIogiSKIIkilt2h2ZmZorzqlt21T9acssusyGJIkiiCJIogiSKIIniE+Mdurm5Kc5XVlaK88nJyeL8+vq6OB8aGvrWuX4XNiRRBEkUQRJFkEQRJFHcsrtkc3OzON/Z2SnOz87OivOqn5KuCxuSKIIkiiCJIkiiCJIoPjHeJdPT0x09v729XZy7ZUMQQRJFkEQRJFEESRS37C5ZXFzs6PnHx8ceneRnsyGJIkiiCJIogiSKS02XVH3ddW5urjivutS8vb21zUZGRr59rp/GhiSKIIkiSKIIkiiCJIqvwfZY1U89b2xsFOeXl5dts05fS/5kNiRRBEkUQRJFkEQRJFG8y+6xqamp4rzq/fTh4WHbzC0b+kSQRBEkUQRJFEESxbvsPmk2m8X53t5e2+zl5aXXx4lhQxJFkEQRJFEESRRBEsW77D5pNBrF+evra9vs5OSk+Oz6+no3jxTBhiSKIIkiSKIIkiiCJIpbdp/Mzs4W55+fn22zVqvV6+PEsCGJIkiiCJIogiSKIIniE+NEsSGJIkiiCJIogiSKIIkiSKIIkiiCJIogiSJIogiSKIIkiiCJIkiiCJIogiSKIIkiSKIIkiiCJIogiSJIovwFeECVkvrDwe4AAAAASUVORK5CYII=\" y=\"-21.398125\"/>\r\n   </g>\r\n   <g id=\"text_1\">\r\n    <!-- Predicted: 1, Actual: 1 -->\r\n    <g transform=\"translate(22.47375 16.318125)scale(0.12 -0.12)\">\r\n     <defs>\r\n      <path d=\"M 19.671875 64.796875 \r\nL 19.671875 37.40625 \r\nL 32.078125 37.40625 \r\nQ 38.96875 37.40625 42.71875 40.96875 \r\nQ 46.484375 44.53125 46.484375 51.125 \r\nQ 46.484375 57.671875 42.71875 61.234375 \r\nQ 38.96875 64.796875 32.078125 64.796875 \r\nz\r\nM 9.8125 72.90625 \r\nL 32.078125 72.90625 \r\nQ 44.34375 72.90625 50.609375 67.359375 \r\nQ 56.890625 61.8125 56.890625 51.125 \r\nQ 56.890625 40.328125 50.609375 34.8125 \r\nQ 44.34375 29.296875 32.078125 29.296875 \r\nL 19.671875 29.296875 \r\nL 19.671875 0 \r\nL 9.8125 0 \r\nz\r\n\" id=\"DejaVuSans-80\"/>\r\n      <path d=\"M 41.109375 46.296875 \r\nQ 39.59375 47.171875 37.8125 47.578125 \r\nQ 36.03125 48 33.890625 48 \r\nQ 26.265625 48 22.1875 43.046875 \r\nQ 18.109375 38.09375 18.109375 28.8125 \r\nL 18.109375 0 \r\nL 9.078125 0 \r\nL 9.078125 54.6875 \r\nL 18.109375 54.6875 \r\nL 18.109375 46.1875 \r\nQ 20.953125 51.171875 25.484375 53.578125 \r\nQ 30.03125 56 36.53125 56 \r\nQ 37.453125 56 38.578125 55.875 \r\nQ 39.703125 55.765625 41.0625 55.515625 \r\nz\r\n\" id=\"DejaVuSans-114\"/>\r\n      <path d=\"M 56.203125 29.59375 \r\nL 56.203125 25.203125 \r\nL 14.890625 25.203125 \r\nQ 15.484375 15.921875 20.484375 11.0625 \r\nQ 25.484375 6.203125 34.421875 6.203125 \r\nQ 39.59375 6.203125 44.453125 7.46875 \r\nQ 49.3125 8.734375 54.109375 11.28125 \r\nL 54.109375 2.78125 \r\nQ 49.265625 0.734375 44.1875 -0.34375 \r\nQ 39.109375 -1.421875 33.890625 -1.421875 \r\nQ 20.796875 -1.421875 13.15625 6.1875 \r\nQ 5.515625 13.8125 5.515625 26.8125 \r\nQ 5.515625 40.234375 12.765625 48.109375 \r\nQ 20.015625 56 32.328125 56 \r\nQ 43.359375 56 49.78125 48.890625 \r\nQ 56.203125 41.796875 56.203125 29.59375 \r\nz\r\nM 47.21875 32.234375 \r\nQ 47.125 39.59375 43.09375 43.984375 \r\nQ 39.0625 48.390625 32.421875 48.390625 \r\nQ 24.90625 48.390625 20.390625 44.140625 \r\nQ 15.875 39.890625 15.1875 32.171875 \r\nz\r\n\" id=\"DejaVuSans-101\"/>\r\n      <path d=\"M 45.40625 46.390625 \r\nL 45.40625 75.984375 \r\nL 54.390625 75.984375 \r\nL 54.390625 0 \r\nL 45.40625 0 \r\nL 45.40625 8.203125 \r\nQ 42.578125 3.328125 38.25 0.953125 \r\nQ 33.9375 -1.421875 27.875 -1.421875 \r\nQ 17.96875 -1.421875 11.734375 6.484375 \r\nQ 5.515625 14.40625 5.515625 27.296875 \r\nQ 5.515625 40.1875 11.734375 48.09375 \r\nQ 17.96875 56 27.875 56 \r\nQ 33.9375 56 38.25 53.625 \r\nQ 42.578125 51.265625 45.40625 46.390625 \r\nz\r\nM 14.796875 27.296875 \r\nQ 14.796875 17.390625 18.875 11.75 \r\nQ 22.953125 6.109375 30.078125 6.109375 \r\nQ 37.203125 6.109375 41.296875 11.75 \r\nQ 45.40625 17.390625 45.40625 27.296875 \r\nQ 45.40625 37.203125 41.296875 42.84375 \r\nQ 37.203125 48.484375 30.078125 48.484375 \r\nQ 22.953125 48.484375 18.875 42.84375 \r\nQ 14.796875 37.203125 14.796875 27.296875 \r\nz\r\n\" id=\"DejaVuSans-100\"/>\r\n      <path d=\"M 9.421875 54.6875 \r\nL 18.40625 54.6875 \r\nL 18.40625 0 \r\nL 9.421875 0 \r\nz\r\nM 9.421875 75.984375 \r\nL 18.40625 75.984375 \r\nL 18.40625 64.59375 \r\nL 9.421875 64.59375 \r\nz\r\n\" id=\"DejaVuSans-105\"/>\r\n      <path d=\"M 48.78125 52.59375 \r\nL 48.78125 44.1875 \r\nQ 44.96875 46.296875 41.140625 47.34375 \r\nQ 37.3125 48.390625 33.40625 48.390625 \r\nQ 24.65625 48.390625 19.8125 42.84375 \r\nQ 14.984375 37.3125 14.984375 27.296875 \r\nQ 14.984375 17.28125 19.8125 11.734375 \r\nQ 24.65625 6.203125 33.40625 6.203125 \r\nQ 37.3125 6.203125 41.140625 7.25 \r\nQ 44.96875 8.296875 48.78125 10.40625 \r\nL 48.78125 2.09375 \r\nQ 45.015625 0.34375 40.984375 -0.53125 \r\nQ 36.96875 -1.421875 32.421875 -1.421875 \r\nQ 20.0625 -1.421875 12.78125 6.34375 \r\nQ 5.515625 14.109375 5.515625 27.296875 \r\nQ 5.515625 40.671875 12.859375 48.328125 \r\nQ 20.21875 56 33.015625 56 \r\nQ 37.15625 56 41.109375 55.140625 \r\nQ 45.0625 54.296875 48.78125 52.59375 \r\nz\r\n\" id=\"DejaVuSans-99\"/>\r\n      <path d=\"M 18.3125 70.21875 \r\nL 18.3125 54.6875 \r\nL 36.8125 54.6875 \r\nL 36.8125 47.703125 \r\nL 18.3125 47.703125 \r\nL 18.3125 18.015625 \r\nQ 18.3125 11.328125 20.140625 9.421875 \r\nQ 21.96875 7.515625 27.59375 7.515625 \r\nL 36.8125 7.515625 \r\nL 36.8125 0 \r\nL 27.59375 0 \r\nQ 17.1875 0 13.234375 3.875 \r\nQ 9.28125 7.765625 9.28125 18.015625 \r\nL 9.28125 47.703125 \r\nL 2.6875 47.703125 \r\nL 2.6875 54.6875 \r\nL 9.28125 54.6875 \r\nL 9.28125 70.21875 \r\nz\r\n\" id=\"DejaVuSans-116\"/>\r\n      <path d=\"M 11.71875 12.40625 \r\nL 22.015625 12.40625 \r\nL 22.015625 0 \r\nL 11.71875 0 \r\nz\r\nM 11.71875 51.703125 \r\nL 22.015625 51.703125 \r\nL 22.015625 39.3125 \r\nL 11.71875 39.3125 \r\nz\r\n\" id=\"DejaVuSans-58\"/>\r\n      <path id=\"DejaVuSans-32\"/>\r\n      <path d=\"M 12.40625 8.296875 \r\nL 28.515625 8.296875 \r\nL 28.515625 63.921875 \r\nL 10.984375 60.40625 \r\nL 10.984375 69.390625 \r\nL 28.421875 72.90625 \r\nL 38.28125 72.90625 \r\nL 38.28125 8.296875 \r\nL 54.390625 8.296875 \r\nL 54.390625 0 \r\nL 12.40625 0 \r\nz\r\n\" id=\"DejaVuSans-49\"/>\r\n      <path d=\"M 11.71875 12.40625 \r\nL 22.015625 12.40625 \r\nL 22.015625 4 \r\nL 14.015625 -11.625 \r\nL 7.71875 -11.625 \r\nL 11.71875 4 \r\nz\r\n\" id=\"DejaVuSans-44\"/>\r\n      <path d=\"M 34.1875 63.1875 \r\nL 20.796875 26.90625 \r\nL 47.609375 26.90625 \r\nz\r\nM 28.609375 72.90625 \r\nL 39.796875 72.90625 \r\nL 67.578125 0 \r\nL 57.328125 0 \r\nL 50.6875 18.703125 \r\nL 17.828125 18.703125 \r\nL 11.1875 0 \r\nL 0.78125 0 \r\nz\r\n\" id=\"DejaVuSans-65\"/>\r\n      <path d=\"M 8.5 21.578125 \r\nL 8.5 54.6875 \r\nL 17.484375 54.6875 \r\nL 17.484375 21.921875 \r\nQ 17.484375 14.15625 20.5 10.265625 \r\nQ 23.53125 6.390625 29.59375 6.390625 \r\nQ 36.859375 6.390625 41.078125 11.03125 \r\nQ 45.3125 15.671875 45.3125 23.6875 \r\nL 45.3125 54.6875 \r\nL 54.296875 54.6875 \r\nL 54.296875 0 \r\nL 45.3125 0 \r\nL 45.3125 8.40625 \r\nQ 42.046875 3.421875 37.71875 1 \r\nQ 33.40625 -1.421875 27.6875 -1.421875 \r\nQ 18.265625 -1.421875 13.375 4.4375 \r\nQ 8.5 10.296875 8.5 21.578125 \r\nz\r\nM 31.109375 56 \r\nz\r\n\" id=\"DejaVuSans-117\"/>\r\n      <path d=\"M 34.28125 27.484375 \r\nQ 23.390625 27.484375 19.1875 25 \r\nQ 14.984375 22.515625 14.984375 16.5 \r\nQ 14.984375 11.71875 18.140625 8.90625 \r\nQ 21.296875 6.109375 26.703125 6.109375 \r\nQ 34.1875 6.109375 38.703125 11.40625 \r\nQ 43.21875 16.703125 43.21875 25.484375 \r\nL 43.21875 27.484375 \r\nz\r\nM 52.203125 31.203125 \r\nL 52.203125 0 \r\nL 43.21875 0 \r\nL 43.21875 8.296875 \r\nQ 40.140625 3.328125 35.546875 0.953125 \r\nQ 30.953125 -1.421875 24.3125 -1.421875 \r\nQ 15.921875 -1.421875 10.953125 3.296875 \r\nQ 6 8.015625 6 15.921875 \r\nQ 6 25.140625 12.171875 29.828125 \r\nQ 18.359375 34.515625 30.609375 34.515625 \r\nL 43.21875 34.515625 \r\nL 43.21875 35.40625 \r\nQ 43.21875 41.609375 39.140625 45 \r\nQ 35.0625 48.390625 27.6875 48.390625 \r\nQ 23 48.390625 18.546875 47.265625 \r\nQ 14.109375 46.140625 10.015625 43.890625 \r\nL 10.015625 52.203125 \r\nQ 14.9375 54.109375 19.578125 55.046875 \r\nQ 24.21875 56 28.609375 56 \r\nQ 40.484375 56 46.34375 49.84375 \r\nQ 52.203125 43.703125 52.203125 31.203125 \r\nz\r\n\" id=\"DejaVuSans-97\"/>\r\n      <path d=\"M 9.421875 75.984375 \r\nL 18.40625 75.984375 \r\nL 18.40625 0 \r\nL 9.421875 0 \r\nz\r\n\" id=\"DejaVuSans-108\"/>\r\n     </defs>\r\n     <use xlink:href=\"#DejaVuSans-80\"/>\r\n     <use x=\"58.552734\" xlink:href=\"#DejaVuSans-114\"/>\r\n     <use x=\"97.416016\" xlink:href=\"#DejaVuSans-101\"/>\r\n     <use x=\"158.939453\" xlink:href=\"#DejaVuSans-100\"/>\r\n     <use x=\"222.416016\" xlink:href=\"#DejaVuSans-105\"/>\r\n     <use x=\"250.199219\" xlink:href=\"#DejaVuSans-99\"/>\r\n     <use x=\"305.179688\" xlink:href=\"#DejaVuSans-116\"/>\r\n     <use x=\"344.388672\" xlink:href=\"#DejaVuSans-101\"/>\r\n     <use x=\"405.912109\" xlink:href=\"#DejaVuSans-100\"/>\r\n     <use x=\"469.388672\" xlink:href=\"#DejaVuSans-58\"/>\r\n     <use x=\"503.080078\" xlink:href=\"#DejaVuSans-32\"/>\r\n     <use x=\"534.867188\" xlink:href=\"#DejaVuSans-49\"/>\r\n     <use x=\"598.490234\" xlink:href=\"#DejaVuSans-44\"/>\r\n     <use x=\"630.277344\" xlink:href=\"#DejaVuSans-32\"/>\r\n     <use x=\"662.064453\" xlink:href=\"#DejaVuSans-65\"/>\r\n     <use x=\"728.722656\" xlink:href=\"#DejaVuSans-99\"/>\r\n     <use x=\"783.703125\" xlink:href=\"#DejaVuSans-116\"/>\r\n     <use x=\"822.912109\" xlink:href=\"#DejaVuSans-117\"/>\r\n     <use x=\"886.291016\" xlink:href=\"#DejaVuSans-97\"/>\r\n     <use x=\"947.570312\" xlink:href=\"#DejaVuSans-108\"/>\r\n     <use x=\"975.353516\" xlink:href=\"#DejaVuSans-58\"/>\r\n     <use x=\"1009.044922\" xlink:href=\"#DejaVuSans-32\"/>\r\n     <use x=\"1040.832031\" xlink:href=\"#DejaVuSans-49\"/>\r\n    </g>\r\n   </g>\r\n  </g>\r\n </g>\r\n <defs>\r\n  <clipPath id=\"pbacc5d4764\">\r\n   <rect height=\"163.08\" width=\"163.08\" x=\"7.2\" y=\"22.318125\"/>\r\n  </clipPath>\r\n </defs>\r\n</svg>\r\n",
      "image/png": "[encoded data removed]"
     },
     "metadata": {
      "needs_background": "light"
     }
    },
    {
     "output_type": "stream",
     "name": "stdout",
     "text": [
      "------------------------------------------------------------\n"
     ]
    }
   ]
  },
  {
   "source": [
    "### Saving model"
   ],
   "cell_type": "markdown",
   "metadata": {}
  },
  {
   "cell_type": "code",
   "execution_count": 67,
   "metadata": {},
   "outputs": [],
   "source": [
    "import time\n",
    "import os\n",
    "\n",
    "def saveModel_path(model_dir=\"SAVED_MODELS\"):\n",
    "    os.makedirs(model_dir, exist_ok=True)\n",
    "    fileName = time.strftime(\"Model_%Y_%m_%d_%H_%M_%S_.h5\")    \n",
    "    model_path = os.path.join(model_dir, fileName)\n",
    "    print(f\"your model will be saved at the following location\\n{model_path}\")\n",
    "    return model_path\n",
    "# This is an auto name saveing function\n",
    "UNIQUE_PATH = model_clf.save(saveModel_path())"
   ]
  },
  {
   "cell_type": "code",
   "execution_count": 69,
   "metadata": {},
   "outputs": [],
   "source": [
    "# But for the time being we are going to save it normally\n",
    "UNIQUE_PATH = model_clf.save('saved_models/model1/model1.h5')"
   ]
  },
  {
   "source": [
    ">This represents a loss of 0.09 and an accuracy of 0.9801 on the test data. \n",
    "\n",
    ">An accuracy of 0.98 means that out of 100 test data points, 98 were, on average, correctly identified by the model."
   ],
   "cell_type": "markdown",
   "metadata": {}
  },
  {
   "source": [
    "- ## The second way to create a Sequential model\n",
    "The alternative to passing a list of layers to the Sequential model's constructor is to use the add method, as follows, for the same architecture:\n",
    "\n"
   ],
   "cell_type": "markdown",
   "metadata": {}
  },
  {
   "source": [
    "#### Building the Architecture & Compiling"
   ],
   "cell_type": "markdown",
   "metadata": {}
  },
  {
   "cell_type": "code",
   "execution_count": null,
   "metadata": {},
   "outputs": [],
   "source": [
    "mnistmodel2 = tf.keras.models.Sequential();\n",
    "mnistmodel2.add(tf.keras.layers.Flatten())\n",
    "mnistmodel2.add(tf.keras.layers.Dense(512, activation='relu'))\n",
    "mnistmodel2.add(tf.keras.layers.Dropout(0.2))\n",
    "mnistmodel2.add(tf.keras.layers.Dense(10,activation=tf.nn.softmax))\n",
    "mnistmodel2.compile (optimizer= tf.keras.optimizers.Adam(), loss='sparse_categorical_crossentropy',metrics = ['accuracy'])"
   ]
  },
  {
   "source": [
    "#### Fitting the mnistmodel2"
   ],
   "cell_type": "markdown",
   "metadata": {}
  },
  {
   "cell_type": "code",
   "execution_count": null,
   "metadata": {},
   "outputs": [],
   "source": [
    "mnistmodel2.fit(train_x, train_y, batch_size=64, epochs=5)"
   ]
  },
  {
   "source": [
    "#### Evaluate the mnistmodel2"
   ],
   "cell_type": "markdown",
   "metadata": {}
  },
  {
   "cell_type": "code",
   "execution_count": null,
   "metadata": {},
   "outputs": [],
   "source": [
    "mnistmodel2.evaluate(test_x, test_y)"
   ]
  },
  {
   "source": [
    "# Keras functional API\n",
    "\n",
    "`The functional API lets you build much more complex architectures than the simple linear stack of Sequential models we have seen previously. It also supports more advanced models. These models include multi-input and multi-output models, models with shared layers, and models with residual connections.`"
   ],
   "cell_type": "markdown",
   "metadata": {}
  },
  {
   "cell_type": "code",
   "execution_count": null,
   "metadata": {},
   "outputs": [],
   "source": [
    "mnist = tf.keras.datasets.mnist\n",
    "(train_x,train_y), (test_x, test_y) = mnist.load_data()\n",
    "train_x, test_x = train_x/255.0, test_x/255.0\n",
    "epochs=10"
   ]
  },
  {
   "source": [
    "#### Building the Architecture"
   ],
   "cell_type": "markdown",
   "metadata": {}
  },
  {
   "cell_type": "code",
   "execution_count": 70,
   "metadata": {},
   "outputs": [],
   "source": [
    "inputs = tf.keras.Input(shape=(28,28)) # Returns a 'placeholder' tensor\n",
    "x = tf.keras.layers.Flatten()(inputs)\n",
    "x = tf.keras.layers.Dense(512, activation='relu',name='d1')(x)\n",
    "x = tf.keras.layers.Dropout(0.2)(x)\n",
    "predictions = tf.keras.layers.Dense(10,activation=tf.nn.softmax, name='d2')(x)\n",
    "mnistmodel3 = tf.keras.Model(inputs=inputs, outputs=predictions)"
   ]
  },
  {
   "cell_type": "code",
   "execution_count": 71,
   "metadata": {},
   "outputs": [
    {
     "output_type": "execute_result",
     "data": {
      "text/plain": [
       "[<tensorflow.python.keras.engine.input_layer.InputLayer at 0x19c1c629b48>,\n",
       " <tensorflow.python.keras.layers.core.Flatten at 0x19c1c629808>,\n",
       " <tensorflow.python.keras.layers.core.Dense at 0x19c1c629a08>,\n",
       " <tensorflow.python.keras.layers.core.Dropout at 0x19c1c675a48>,\n",
       " <tensorflow.python.keras.layers.core.Dense at 0x19c1c688dc8>]"
      ]
     },
     "metadata": {},
     "execution_count": 71
    }
   ],
   "source": [
    "mnistmodel3.layers"
   ]
  },
  {
   "source": [
    "#### Compile & Fit"
   ],
   "cell_type": "markdown",
   "metadata": {}
  },
  {
   "cell_type": "code",
   "execution_count": null,
   "metadata": {},
   "outputs": [],
   "source": [
    "optimiser = tf.keras.optimizers.Adam()\n",
    "mnistmodel3.compile (optimizer= optimiser, loss='sparse_categorical_crossentropy', metrics = ['accuracy'])\n",
    "mnistmodel3.fit(train_x, train_y, batch_size=32, epochs=epochs)"
   ]
  },
  {
   "source": [
    "#### Evaluate the mnistmodel3"
   ],
   "cell_type": "markdown",
   "metadata": {}
  },
  {
   "cell_type": "code",
   "execution_count": null,
   "metadata": {},
   "outputs": [],
   "source": [
    "mnistmodel3.evaluate(test_x, test_y)"
   ]
  },
  {
   "source": [
    "### Subclassing the Keras Model class"
   ],
   "cell_type": "markdown",
   "metadata": {}
  },
  {
   "source": [
    "#### Building the subclass architecture"
   ],
   "cell_type": "markdown",
   "metadata": {}
  },
  {
   "cell_type": "code",
   "execution_count": null,
   "metadata": {},
   "outputs": [],
   "source": [
    "class MNISTModel(tf.keras.Model):\n",
    "    def __init__(self, num_classes=10):\n",
    "        super(MNISTModel, self).__init__()\n",
    "        # Define your layers here.\n",
    "        inputs = tf.keras.Input(shape=(28,28)) # Returns a placeholder tensor\n",
    "        self.x0 = tf.keras.layers.Flatten()\n",
    "        self.x1 = tf.keras.layers.Dense(512, activation='relu',name='d1')\n",
    "        self.x2 = tf.keras.layers.Dropout(0.2)\n",
    "        self.predictions = tf.keras.layers.Dense(10,activation=tf.nn.softmax, name='d2')\n",
    "\n",
    "\n",
    "    def call(self, inputs):\n",
    "    # This is where to define your forward pass\n",
    "    # using the layers previously defined in `__init__`\n",
    "        x = self.x0(inputs)\n",
    "        x = self.x1(x)\n",
    "        x = self.x2(x)\n",
    "        return self.predictions(x)"
   ]
  },
  {
   "cell_type": "code",
   "execution_count": null,
   "metadata": {},
   "outputs": [],
   "source": [
    "mnistmodel4 = MNISTModel()"
   ]
  },
  {
   "source": [
    "#### Compile & Fit"
   ],
   "cell_type": "markdown",
   "metadata": {}
  },
  {
   "cell_type": "code",
   "execution_count": null,
   "metadata": {},
   "outputs": [],
   "source": [
    "batch_size = 32\n",
    "steps_per_epoch = len(train_x.numpy())//batch_size # this is an floor division operator\n",
    "print(steps_per_epoch)\n",
    "mnistmodel4.compile (optimizer= tf.keras.optimizers.Adam(), loss='sparse_categorical_crossentropy',metrics = ['accuracy'])\n",
    "mnistmodel4.fit(train_x, train_y, batch_size=batch_size, epochs=epochs)"
   ]
  },
  {
   "source": [
    "#### Evaluate the mnistmodel4"
   ],
   "cell_type": "markdown",
   "metadata": {}
  },
  {
   "cell_type": "code",
   "execution_count": null,
   "metadata": {},
   "outputs": [],
   "source": [
    "mnistmodel4.evaluate(test_x, test_y)"
   ]
  },
  {
   "cell_type": "markdown",
   "metadata": {},
   "source": [
    "# Using Data pipelines"
   ]
  },
  {
   "cell_type": "markdown",
   "metadata": {},
   "source": [
    "> Data may also be passed into the fit method as a tf.data.Dataset() iterator\n",
    "> The from_tensor_slices() method converts the NumPy arrays into a dataset\n",
    "> The batch() and shuffle() methods chained together. \n",
    "\n",
    ">Next, the map() method invokes a method on the input images, x, that randomly flips one in two of them across\n",
    "the y-axis, effectively increasing the size of the image set\n",
    "\n",
    ">Finally, the repeat() method means that the dataset will be re-fed from the beginning when its end is\n",
    "reached (continuously)"
   ]
  },
  {
   "cell_type": "code",
   "execution_count": 1,
   "metadata": {},
   "outputs": [],
   "source": [
    "import tensorflow as tf\n",
    "mnist = tf.keras.datasets.mnist\n",
    "(train_x,train_y), (test_x, test_y) = mnist.load_data()\n",
    "train_x, test_x = train_x/255.0, test_x/255.0\n",
    "epochs=10"
   ]
  },
  {
   "cell_type": "code",
   "execution_count": 3,
   "metadata": {},
   "outputs": [],
   "source": [
    "batch_size = 32\n",
    "buffer_size = 10000\n",
    "training_dataset = tf.data.Dataset.from_tensor_slices((train_x, train_y)).batch(32).shuffle(10000)\n",
    "training_dataset = training_dataset.map(lambda x, y: (tf.image.random_flip_left_right(x), y))\n",
    "training_dataset = training_dataset.repeat()"
   ]
  },
  {
   "cell_type": "code",
   "execution_count": 5,
   "metadata": {},
   "outputs": [],
   "source": [
    "testing_dataset = tf.data.Dataset.from_tensor_slices((test_x, test_y)).batch(batch_size).shuffle(10000)\n",
    "testing_dataset = training_dataset.repeat()"
   ]
  },
  {
   "cell_type": "markdown",
   "metadata": {},
   "source": [
    "#### Building the model architecture"
   ]
  },
  {
   "cell_type": "code",
   "execution_count": 6,
   "metadata": {},
   "outputs": [],
   "source": [
    "#Now in the fit() function, we can pass the dataset directly in, as follows:\n",
    "model5 = tf.keras.models.Sequential([\n",
    " tf.keras.layers.Flatten(),\n",
    " tf.keras.layers.Dense(512,activation=tf.nn.relu),\n",
    " tf.keras.layers.Dropout(0.2),\n",
    " tf.keras.layers.Dense(10,activation=tf.nn.softmax)\n",
    "])"
   ]
  },
  {
   "cell_type": "markdown",
   "metadata": {},
   "source": [
    "#### Compiling the model"
   ]
  },
  {
   "cell_type": "code",
   "execution_count": 7,
   "metadata": {},
   "outputs": [],
   "source": [
    "steps_per_epoch = len(train_x)//batch_size #required becuase of the repeat() on the dataset\n",
    "optimiser = tf.keras.optimizers.Adam()\n",
    "model5.compile (optimizer= optimiser, loss='sparse_categorical_crossentropy', metrics = ['accuracy'])"
   ]
  },
  {
   "cell_type": "markdown",
   "metadata": {},
   "source": [
    "#### Fitting the model"
   ]
  },
  {
   "cell_type": "code",
   "execution_count": 8,
   "metadata": {},
   "outputs": [
    {
     "name": "stdout",
     "output_type": "stream",
     "text": [
      "Train for 1875 steps\n",
      "Epoch 1/10\n",
      "1875/1875 [==============================] - 13s 7ms/step - loss: 0.3603 - accuracy: 0.8916\n",
      "Epoch 2/10\n",
      "1875/1875 [==============================] - 12s 6ms/step - loss: 0.1780 - accuracy: 0.9455\n",
      "Epoch 3/10\n",
      "1875/1875 [==============================] - 12s 6ms/step - loss: 0.1355 - accuracy: 0.9585\n",
      "Epoch 4/10\n",
      "1875/1875 [==============================] - 12s 7ms/step - loss: 0.1149 - accuracy: 0.9635\n",
      "Epoch 5/10\n",
      "1875/1875 [==============================] - 12s 6ms/step - loss: 0.1004 - accuracy: 0.9681\n",
      "Epoch 6/10\n",
      "1875/1875 [==============================] - 12s 6ms/step - loss: 0.0906 - accuracy: 0.9719\n",
      "Epoch 7/10\n",
      "1875/1875 [==============================] - 12s 6ms/step - loss: 0.0801 - accuracy: 0.9748\n",
      "Epoch 8/10\n",
      "1875/1875 [==============================] - 12s 7ms/step - loss: 0.0747 - accuracy: 0.9759\n",
      "Epoch 9/10\n",
      "1875/1875 [==============================] - 12s 6ms/step - loss: 0.0686 - accuracy: 0.9783\n",
      "Epoch 10/10\n",
      "1875/1875 [==============================] - 12s 6ms/step - loss: 0.0660 - accuracy: 0.9784\n"
     ]
    },
    {
     "data": {
      "text/plain": [
       "<tensorflow.python.keras.callbacks.History at 0x171b07b5888>"
      ]
     },
     "execution_count": 8,
     "metadata": {},
     "output_type": "execute_result"
    }
   ],
   "source": [
    "model5.fit(training_dataset, epochs=epochs, steps_per_epoch = steps_per_epoch)"
   ]
  },
  {
   "cell_type": "markdown",
   "metadata": {},
   "source": [
    "#### Evaluating the model"
   ]
  },
  {
   "cell_type": "code",
   "execution_count": 9,
   "metadata": {},
   "outputs": [
    {
     "name": "stdout",
     "output_type": "stream",
     "text": [
      "10/10 [==============================] - 1s 52ms/step - loss: 0.0301 - accuracy: 0.9937\n"
     ]
    },
    {
     "data": {
      "text/plain": [
       "[0.030064156164735324, 0.99375]"
      ]
     },
     "execution_count": 9,
     "metadata": {},
     "output_type": "execute_result"
    }
   ],
   "source": [
    "model5.evaluate(testing_dataset,steps=10)"
   ]
  },
  {
   "cell_type": "code",
   "execution_count": 10,
   "metadata": {},
   "outputs": [],
   "source": [
    "import datetime as dt\n",
    "callbacks = [\n",
    "  # Write TensorBoard logs to `./logs` directory\n",
    "  tf.keras.callbacks.TensorBoard(log_dir='log/{}/'.format(dt.datetime.now().strftime(\"%Y-%m-%d-%H-%M-%S\")))\n",
    "]"
   ]
  },
  {
   "cell_type": "code",
   "execution_count": 11,
   "metadata": {},
   "outputs": [
    {
     "name": "stdout",
     "output_type": "stream",
     "text": [
      "Train for 1875 steps, validate for 3 steps\n",
      "Epoch 1/10\n",
      "1875/1875 [==============================] - 13s 7ms/step - loss: 0.0607 - accuracy: 0.9803 - val_loss: 0.0050 - val_accuracy: 1.0000\n",
      "Epoch 2/10\n",
      "1875/1875 [==============================] - 14s 8ms/step - loss: 0.0574 - accuracy: 0.9811 - val_loss: 0.0027 - val_accuracy: 1.0000\n",
      "Epoch 3/10\n",
      "1875/1875 [==============================] - 14s 8ms/step - loss: 0.0547 - accuracy: 0.9822 - val_loss: 0.0382 - val_accuracy: 0.9792\n",
      "Epoch 4/10\n",
      "1875/1875 [==============================] - 14s 7ms/step - loss: 0.0507 - accuracy: 0.9837 - val_loss: 0.0241 - val_accuracy: 0.9792\n",
      "Epoch 5/10\n",
      "1875/1875 [==============================] - 14s 7ms/step - loss: 0.0498 - accuracy: 0.9839 - val_loss: 0.0031 - val_accuracy: 1.0000\n",
      "Epoch 6/10\n",
      "1875/1875 [==============================] - 14s 8ms/step - loss: 0.0449 - accuracy: 0.9853 - val_loss: 0.0312 - val_accuracy: 0.9792\n",
      "Epoch 7/10\n",
      "1875/1875 [==============================] - 13s 7ms/step - loss: 0.0450 - accuracy: 0.9855 - val_loss: 0.0705 - val_accuracy: 0.9792\n",
      "Epoch 8/10\n",
      "1875/1875 [==============================] - 13s 7ms/step - loss: 0.0423 - accuracy: 0.9861 - val_loss: 0.0372 - val_accuracy: 0.9896\n",
      "Epoch 9/10\n",
      "1875/1875 [==============================] - 13s 7ms/step - loss: 0.0417 - accuracy: 0.9862 - val_loss: 0.0011 - val_accuracy: 1.0000\n",
      "Epoch 10/10\n",
      "1875/1875 [==============================] - 13s 7ms/step - loss: 0.0392 - accuracy: 0.9872 - val_loss: 0.0186 - val_accuracy: 0.9896\n"
     ]
    },
    {
     "data": {
      "text/plain": [
       "<tensorflow.python.keras.callbacks.History at 0x171de9e6388>"
      ]
     },
     "execution_count": 11,
     "metadata": {},
     "output_type": "execute_result"
    }
   ],
   "source": [
    "model5.fit(training_dataset, epochs=epochs, steps_per_epoch=steps_per_epoch,\n",
    "          validation_data=testing_dataset,\n",
    "          validation_steps=3)"
   ]
  },
  {
   "cell_type": "markdown",
   "metadata": {},
   "source": [
    "#### Evaluating"
   ]
  },
  {
   "cell_type": "code",
   "execution_count": 12,
   "metadata": {},
   "outputs": [
    {
     "name": "stdout",
     "output_type": "stream",
     "text": [
      "10/10 [==============================] - 0s 45ms/step - loss: 0.0150 - accuracy: 0.9937\n"
     ]
    },
    {
     "data": {
      "text/plain": [
       "[0.015026384776138001, 0.99375]"
      ]
     },
     "execution_count": 12,
     "metadata": {},
     "output_type": "execute_result"
    }
   ],
   "source": [
    "model5.evaluate(testing_dataset,steps=10)"
   ]
  },
  {
   "cell_type": "markdown",
   "metadata": {},
   "source": [
    "## Saving and loading Keras models"
   ]
  },
  {
   "cell_type": "markdown",
   "metadata": {},
   "source": [
    ">The Keras API in TensorFlow has the ability to save and restore models easily. This is done as follows, and saves the model in the current directory. Of course, a longer path may be passed here:\n",
    "\n",
    "#### Saving a model\n",
    "    \n",
    "`model.save('./model_name.h5')`\n",
    "\n",
    ">This will save the model architecture, its weights, its training state (loss, optimizer), and the state of the optimizer, so that you can carry on training the model from where you left off.\n"
   ]
  },
  {
   "cell_type": "markdown",
   "metadata": {},
   "source": [
    ">Loading a saved model is done as follows. Note that if you have compiled your model, the load will compile your model using the saved training configuration:\n",
    "\n",
    "#### Loding a model\n",
    "\n",
    "`from tensorflow.keras.models import load_model\n",
    "new_model = load_model('./model_name.h5')`"
   ]
  },
  {
   "cell_type": "markdown",
   "metadata": {},
   "source": [
    ">It is also possible to save just the model weights and load them with this (in which case, you must build your architecture to load the weights into):\n",
    "\n",
    "#### Saving the model weights only\n",
    "    \n",
    "    `model.save_weights('./model_weights.h5')`\n",
    "    \n",
    ">Then use the following to load it:\n",
    "\n",
    "#### Loding the weights\n",
    "    \n",
    "    `model.load_weights('./model_weights.h5')`"
   ]
  },
  {
   "cell_type": "markdown",
   "metadata": {},
   "source": [
    "# Keras datasets\n",
    "\n",
    ">The following datasets are available from within Keras: boston_housing, cifar10, cifar100, fashion_mnist, imdb, mnist,and reuters.\n",
    "\n",
    ">They are all accessed with the function.\n",
    "\n",
    "`load_data()`  \n",
    "\n",
    ">For example, to load the fashion_mnist dataset, use the following:\n",
    "\n",
    "`(x_train, y_train), (x_test, y_test) = tf.keras.datasets.fashion_mnist.load_data()`"
   ]
  },
  {
   "cell_type": "markdown",
   "metadata": {},
   "source": [
    "![title](img/dataset.png)"
   ]
  },
  {
   "cell_type": "markdown",
   "metadata": {},
   "source": [
    "### Using NumPy arrays with datasets"
   ]
  },
  {
   "cell_type": "code",
   "execution_count": 13,
   "metadata": {},
   "outputs": [],
   "source": [
    "import tensorflow as tf\n",
    "import numpy as np\n",
    "number_items = 11\n",
    "number_list1 = np.arange(number_items)\n",
    "number_list2 = np.arange(number_items,number_items*2)"
   ]
  },
  {
   "cell_type": "markdown",
   "metadata": {},
   "source": [
    "#### Create datasets, using the from_tensor_slices() method"
   ]
  },
  {
   "cell_type": "code",
   "execution_count": 14,
   "metadata": {},
   "outputs": [],
   "source": [
    "number_list1_dataset = tf.data.Dataset.from_tensor_slices(number_list1)"
   ]
  },
  {
   "cell_type": "markdown",
   "metadata": {},
   "source": [
    "#### Create an iterator on it using the make_one_shot_iterator() method:"
   ]
  },
  {
   "cell_type": "code",
   "execution_count": 15,
   "metadata": {},
   "outputs": [],
   "source": [
    "iterator = tf.compat.v1.data.make_one_shot_iterator(number_list1_dataset)"
   ]
  },
  {
   "cell_type": "markdown",
   "metadata": {},
   "source": [
    "#### Using them together, with the get_next method:"
   ]
  },
  {
   "cell_type": "code",
   "execution_count": 16,
   "metadata": {},
   "outputs": [
    {
     "name": "stdout",
     "output_type": "stream",
     "text": [
      "0\n",
      "1\n",
      "2\n",
      "3\n",
      "4\n",
      "5\n",
      "6\n",
      "7\n",
      "8\n",
      "9\n",
      "10\n"
     ]
    }
   ],
   "source": [
    "for item in number_list1_dataset:\n",
    "    number = iterator.get_next().numpy()\n",
    "    print(number)\n"
   ]
  },
  {
   "cell_type": "markdown",
   "metadata": {},
   "source": [
    ">Note that executing this code twice in the same program run will raise an error because we are using a one-shot iterator"
   ]
  },
  {
   "cell_type": "markdown",
   "metadata": {},
   "source": [
    "#### It's also possible to access the data in batches() with the batch method. Note that the first argument is the number of elements to put in each batch and the second is the self-explanatory drop_remainder argument:"
   ]
  },
  {
   "cell_type": "code",
   "execution_count": 18,
   "metadata": {},
   "outputs": [
    {
     "name": "stdout",
     "output_type": "stream",
     "text": [
      "[0 1 2]\n",
      "[3 4 5]\n",
      "[6 7 8]\n",
      "[ 9 10]\n"
     ]
    }
   ],
   "source": [
    "number_list1_dataset = tf.data.Dataset.from_tensor_slices(number_list1).batch(3, drop_remainder = False)\n",
    "iterator = tf.compat.v1.data.make_one_shot_iterator(number_list1_dataset)\n",
    "for item in number_list1_dataset:\n",
    "    number = iterator.get_next().numpy()\n",
    "    print(number)"
   ]
  },
  {
   "cell_type": "markdown",
   "metadata": {},
   "source": [
    "### There is also a zip method, which is useful for presenting features and labels together:"
   ]
  },
  {
   "cell_type": "code",
   "execution_count": 19,
   "metadata": {},
   "outputs": [
    {
     "name": "stdout",
     "output_type": "stream",
     "text": [
      "(<tf.Tensor: shape=(), dtype=int32, numpy=1>, <tf.Tensor: shape=(), dtype=string, numpy=b'a'>)\n",
      "(<tf.Tensor: shape=(), dtype=int32, numpy=2>, <tf.Tensor: shape=(), dtype=string, numpy=b'e'>)\n",
      "(<tf.Tensor: shape=(), dtype=int32, numpy=3>, <tf.Tensor: shape=(), dtype=string, numpy=b'i'>)\n",
      "(<tf.Tensor: shape=(), dtype=int32, numpy=4>, <tf.Tensor: shape=(), dtype=string, numpy=b'o'>)\n",
      "(<tf.Tensor: shape=(), dtype=int32, numpy=5>, <tf.Tensor: shape=(), dtype=string, numpy=b'u'>)\n"
     ]
    }
   ],
   "source": [
    "data_set1 = [1,2,3,4,5]\n",
    "data_set2 = ['a','e','i','o','u']\n",
    "data_set1 = tf.data.Dataset.from_tensor_slices(data_set1)\n",
    "data_set2 = tf.data.Dataset.from_tensor_slices(data_set2)\n",
    "zipped_datasets = tf.data.Dataset.zip((data_set1, data_set2))\n",
    "iterator = tf.compat.v1.data.make_one_shot_iterator(zipped_datasets)\n",
    "for item in zipped_datasets:\n",
    "    number = iterator.get_next()\n",
    "    print(number)\n"
   ]
  },
  {
   "cell_type": "markdown",
   "metadata": {},
   "source": [
    "#### We can concatenate two datasets as follows, using the concatenate method:"
   ]
  },
  {
   "cell_type": "code",
   "execution_count": 21,
   "metadata": {},
   "outputs": [
    {
     "name": "stdout",
     "output_type": "stream",
     "text": [
      "<ConcatenateDataset shapes: (), types: tf.int32>\n",
      "tf.Tensor(1, shape=(), dtype=int32)\n",
      "tf.Tensor(2, shape=(), dtype=int32)\n",
      "tf.Tensor(3, shape=(), dtype=int32)\n",
      "tf.Tensor(5, shape=(), dtype=int32)\n",
      "tf.Tensor(7, shape=(), dtype=int32)\n",
      "tf.Tensor(11, shape=(), dtype=int32)\n",
      "tf.Tensor(13, shape=(), dtype=int32)\n",
      "tf.Tensor(17, shape=(), dtype=int32)\n",
      "tf.Tensor(19, shape=(), dtype=int32)\n",
      "tf.Tensor(23, shape=(), dtype=int32)\n",
      "tf.Tensor(29, shape=(), dtype=int32)\n",
      "tf.Tensor(31, shape=(), dtype=int32)\n",
      "tf.Tensor(37, shape=(), dtype=int32)\n",
      "tf.Tensor(41, shape=(), dtype=int32)\n"
     ]
    }
   ],
   "source": [
    "datas1 = tf.data.Dataset.from_tensor_slices([1,2,3,5,7,11,13,17])\n",
    "datas2 = tf.data.Dataset.from_tensor_slices([19,23,29,31,37,41])\n",
    "datas3 = datas1.concatenate(datas2)\n",
    "print(datas3)\n",
    "iterator = tf.compat.v1.data.make_one_shot_iterator(datas3)\n",
    "for i in range(14):\n",
    "    number = iterator.get_next()\n",
    "    print(number)\n"
   ]
  },
  {
   "cell_type": "markdown",
   "metadata": {},
   "source": [
    "#### We can also do away with iterators altogether, as shown here:"
   ]
  },
  {
   "cell_type": "code",
   "execution_count": 22,
   "metadata": {},
   "outputs": [
    {
     "name": "stdout",
     "output_type": "stream",
     "text": [
      "tf.Tensor(1, shape=(), dtype=int32)\n",
      "tf.Tensor(2, shape=(), dtype=int32)\n",
      "tf.Tensor(3, shape=(), dtype=int32)\n",
      "tf.Tensor(5, shape=(), dtype=int32)\n",
      "tf.Tensor(7, shape=(), dtype=int32)\n",
      "tf.Tensor(11, shape=(), dtype=int32)\n",
      "tf.Tensor(13, shape=(), dtype=int32)\n",
      "tf.Tensor(17, shape=(), dtype=int32)\n",
      "tf.Tensor(19, shape=(), dtype=int32)\n",
      "tf.Tensor(23, shape=(), dtype=int32)\n",
      "tf.Tensor(29, shape=(), dtype=int32)\n",
      "tf.Tensor(31, shape=(), dtype=int32)\n",
      "tf.Tensor(37, shape=(), dtype=int32)\n",
      "tf.Tensor(41, shape=(), dtype=int32)\n",
      "tf.Tensor(1, shape=(), dtype=int32)\n",
      "tf.Tensor(2, shape=(), dtype=int32)\n",
      "tf.Tensor(3, shape=(), dtype=int32)\n",
      "tf.Tensor(5, shape=(), dtype=int32)\n",
      "tf.Tensor(7, shape=(), dtype=int32)\n",
      "tf.Tensor(11, shape=(), dtype=int32)\n",
      "tf.Tensor(13, shape=(), dtype=int32)\n",
      "tf.Tensor(17, shape=(), dtype=int32)\n",
      "tf.Tensor(19, shape=(), dtype=int32)\n",
      "tf.Tensor(23, shape=(), dtype=int32)\n",
      "tf.Tensor(29, shape=(), dtype=int32)\n",
      "tf.Tensor(31, shape=(), dtype=int32)\n",
      "tf.Tensor(37, shape=(), dtype=int32)\n",
      "tf.Tensor(41, shape=(), dtype=int32)\n"
     ]
    }
   ],
   "source": [
    "epochs=2\n",
    "for e in range(epochs):\n",
    "    for item in datas3:\n",
    "        print(item)\n"
   ]
  },
  {
   "cell_type": "markdown",
   "metadata": {},
   "source": [
    "### Using comma-separated value (CSV)files with datasets.\n",
    "\n",
    ">CSV files are a very popular method of storing data. TensorFlow 2 contains flexible methods for dealing with them. \n",
    "\n",
    ">The main method here is tf.data.experimental.CsvDataset."
   ]
  },
  {
   "cell_type": "markdown",
   "metadata": {},
   "source": [
    "#### CSV Example 1"
   ]
  },
  {
   "cell_type": "markdown",
   "metadata": {},
   "source": [
    ">With the following arguments, our dataset will consist of two items taken from each row of the\n",
    "filename file, both of the float type, with the first line of the file ignored and columns 1 and 2 used\n",
    "(column numbering is, of course, 0-based):\n"
   ]
  },
  {
   "cell_type": "code",
   "execution_count": 24,
   "metadata": {},
   "outputs": [],
   "source": [
    "filename = [\"./size_1000.csv\"]\n",
    "record_defaults = [tf.float32] * 2 # two required float columns\n",
    "data_set = tf.data.experimental.CsvDataset(filename, record_defaults, header=True, select_cols=[1,2])\n",
    "for item in data_set:\n",
    "    print(item)"
   ]
  },
  {
   "cell_type": "markdown",
   "metadata": {},
   "source": [
    "#### #CSV example 2"
   ]
  },
  {
   "cell_type": "code",
   "execution_count": null,
   "metadata": {},
   "outputs": [],
   "source": [
    "\n",
    "In this example, and with the following arguments, our dataset will consist of one required float,\n",
    "one optional float with a default value of 0.0, and an int, where there is no header in the CSV file and\n",
    "only columns 1, 2, and 3 are imported:\n",
    "#file Chapter_2.ipynb\n"
   ]
  },
  {
   "cell_type": "code",
   "execution_count": 22,
   "metadata": {},
   "outputs": [
    {
     "name": "stdout",
     "output_type": "stream",
     "text": [
      "(<tf.Tensor: shape=(), dtype=float32, numpy=428000.0>, <tf.Tensor: shape=(), dtype=float32, numpy=555.0>, <tf.Tensor: shape=(), dtype=int32, numpy=42>)\n",
      "(<tf.Tensor: shape=(), dtype=float32, numpy=-5.3>, <tf.Tensor: shape=(), dtype=float32, numpy=0.0>, <tf.Tensor: shape=(), dtype=int32, numpy=69>)\n"
     ]
    }
   ],
   "source": [
    "filename = \"mycsvfile.txt\"\n",
    "record_defaults = [tf.float32, tf.constant([0.0], dtype=tf.float32), tf.int32,]\n",
    "data_set = tf.data.experimental.CsvDataset(filename, record_defaults, header=False, select_cols=[1,2,3])\n",
    "for item in data_set:\n",
    "    print(item)"
   ]
  },
  {
   "cell_type": "markdown",
   "metadata": {},
   "source": [
    "#### #CSV example 3"
   ]
  },
  {
   "cell_type": "code",
   "execution_count": 24,
   "metadata": {},
   "outputs": [
    {
     "name": "stdout",
     "output_type": "stream",
     "text": [
      "12.6 23.4  Abc.co.uk\n",
      "98.7 56.8  Xyz.com\n",
      "34.2 68.1  Pqr.net\n"
     ]
    }
   ],
   "source": [
    "#For our final example, our dataset will consist of two required floats and a required string, where the\n",
    "#CSV file has a header variable:\n",
    "filename = \"file1.txt\"\n",
    "record_defaults = [tf.float32, tf.float32, tf.string ,]\n",
    "dataset = tf.data.experimental.CsvDataset(filename, record_defaults, header=False)\n",
    "for item in dataset:\n",
    "    print(item[0].numpy(), item[1].numpy(),item[2].numpy().decode() )\n"
   ]
  },
  {
   "cell_type": "markdown",
   "metadata": {},
   "source": [
    "## TFRecords"
   ]
  },
  {
   "cell_type": "markdown",
   "metadata": {},
   "source": [
    ">TFRecord format is a binary file format. For large files, it is a good choice because binary files take up less disc space, take less time to copy, and can be read very efficiently from the disc. All this can have a significant effect on the efficiency of your data pipeline and thus, the training time of your model. The format is also optimized in a\n",
    "variety of ways for use with TensorFlow. It is a little complex because data has to be converted into\n",
    "the binary format prior to storage and decoded when read back."
   ]
  },
  {
   "cell_type": "markdown",
   "metadata": {},
   "source": [
    "#### #TFRecord example 1"
   ]
  },
  {
   "cell_type": "markdown",
   "metadata": {},
   "source": [
    "\n",
    ">A TFRecord file is a sequence of binary strings, its structure must be specified prior to\n",
    "saving so that it can be properly written and subsequently read back.\n",
    "\n",
    ">TensorFlow has two structures for this, \n",
    "\n",
    "`tf.train.Example and tf.train.SequenceExample. `\n",
    "\n",
    ">We have to store each sample of your data in one of these structures, then serialize it, and use `tf.python_io.TFRecordWriter` to save it to disk.\n",
    "\n",
    ">In the next example, \n",
    "the  data, is first converted to the binary format and then saved to disc.\n",
    "\n",
    ">A feature is a dictionary containing the data that is passed to tf.train.Example prior to serialization and saving the data."
   ]
  },
  {
   "cell_type": "code",
   "execution_count": 25,
   "metadata": {},
   "outputs": [],
   "source": [
    "import tensorflow as tf\n",
    "import numpy as np\n",
    "data = np.array([10.,11.,12.,13.,14.,15.])\n",
    "def npy_to_tfrecords(fname,data):\n",
    "    writer = tf.io.TFRecordWriter(fname)\n",
    "    feature={}\n",
    "    feature['data'] = tf.train.Feature(float_list=tf.train.FloatList(value=data))\n",
    "    example = tf.train.Example(features=tf.train.Features(feature=feature))\n",
    "    serialized = example.SerializeToString()\n",
    "    writer.write(serialized)\n",
    "    writer.close()\n",
    "npy_to_tfrecords(\"./myfile.tfrecords\",data)"
   ]
  },
  {
   "cell_type": "markdown",
   "metadata": {},
   "source": [
    ">The code to read the record back is as follows. \n",
    "\n",
    ">A parse_function function is constructed that decodes the dataset read back from the file. This requires a dictionary (keys_to_features) with the same name and structure as the saved data:"
   ]
  },
  {
   "cell_type": "code",
   "execution_count": 26,
   "metadata": {},
   "outputs": [
    {
     "name": "stdout",
     "output_type": "stream",
     "text": [
      "tf.Tensor([10. 11. 12. 13. 14. 15.], shape=(6,), dtype=float32)\n",
      "[10. 11. 12. 13. 14. 15.]\n",
      "12.0\n"
     ]
    }
   ],
   "source": [
    "data_set = tf.data.TFRecordDataset(\"./myfile.tfrecords\")\n",
    "def parse_function(example_proto):\n",
    "    keys_to_features = {'data':tf.io.FixedLenSequenceFeature([], dtype = tf.float32, allow_missing = True) }\n",
    "    parsed_features = tf.io.parse_single_example(serialized=example_proto, features=keys_to_features)\n",
    "    return parsed_features['data']\n",
    "data_set = data_set.map(parse_function)\n",
    "iterator = tf.compat.v1.data.make_one_shot_iterator(data_set)\n",
    "# array is retrieved as one item\n",
    "item = iterator.get_next()\n",
    "print(item)\n",
    "print(item.numpy())\n",
    "print(item[2].numpy())"
   ]
  },
  {
   "cell_type": "markdown",
   "metadata": {},
   "source": [
    "#### TFRecord example 2"
   ]
  },
  {
   "cell_type": "code",
   "execution_count": 25,
   "metadata": {},
   "outputs": [],
   "source": [
    "filename = './students.tfrecords'\n",
    "dataset = {\n",
    "'ID': 61553,\n",
    "'Name': ['Jones', 'Felicity'],\n",
    "'Scores': [45.6, 97.2]}"
   ]
  },
  {
   "cell_type": "markdown",
   "metadata": {},
   "source": [
    ">Using this, we can construct a tf.train.Example class, again using the `Feature()` method. Note how we have to encode our string:\n"
   ]
  },
  {
   "cell_type": "code",
   "execution_count": 27,
   "metadata": {},
   "outputs": [],
   "source": [
    "ID = tf.train.Feature(int64_list=tf.train.Int64List(value=[dataset['ID']]))\n",
    "Name = tf.train.Feature(bytes_list=tf.train.BytesList(value=[n.encode('utf-8') for n in dataset['Name']]))\n",
    "Scores = tf.train.Feature(float_list=tf.train.FloatList(value=dataset['Scores']))\n",
    "example = tf.train.Example(features=tf.train.Features(feature={'ID': ID, 'Name': Name, 'Scores': Scores }))"
   ]
  },
  {
   "cell_type": "markdown",
   "metadata": {},
   "source": [
    "#### #Serializing and writing this record to disc is the same as TFRecord example 1:"
   ]
  },
  {
   "cell_type": "code",
   "execution_count": 29,
   "metadata": {},
   "outputs": [],
   "source": [
    "writer_rec = tf.io.TFRecordWriter(filename)\n",
    "writer_rec.write(example.SerializeToString())\n",
    "writer_rec.close()"
   ]
  },
  {
   "cell_type": "markdown",
   "metadata": {},
   "source": [
    "#### To read this back, we just need to construct our parse_function function to reflect the structure of the record:"
   ]
  },
  {
   "cell_type": "code",
   "execution_count": 38,
   "metadata": {},
   "outputs": [],
   "source": [
    "data_set = tf.data.TFRecordDataset(\"./students.tfrecords\")\n",
    "def parse_function(example_proto):\n",
    "    keys_to_features = {'ID':tf.io.FixedLenFeature([], dtype = tf.int64),\n",
    "    'Name':tf.io.VarLenFeature(dtype = tf.string),\n",
    "    'Scores':tf.io.VarLenFeature(dtype = tf.float32)}\n",
    "    parsed_features = tf.io.parse_single_example(serialized=example_proto, features=keys_to_features)\n",
    "    return parsed_features[\"ID\"], parsed_features[\"Name\"],parsed_features[\"Scores\"]"
   ]
  },
  {
   "cell_type": "markdown",
   "metadata": {},
   "source": [
    "#### Parsing the data"
   ]
  },
  {
   "cell_type": "code",
   "execution_count": 40,
   "metadata": {},
   "outputs": [],
   "source": [
    "dataset = data_set.map(parse_function)\n",
    "iterator = tf.compat.v1.data.make_one_shot_iterator(dataset)\n",
    "items = iterator.get_next()"
   ]
  },
  {
   "cell_type": "markdown",
   "metadata": {},
   "source": [
    "### Record is retrieved as one item"
   ]
  },
  {
   "cell_type": "code",
   "execution_count": 41,
   "metadata": {},
   "outputs": [
    {
     "name": "stdout",
     "output_type": "stream",
     "text": [
      "(<tf.Tensor: shape=(), dtype=int64, numpy=61553>, <tensorflow.python.framework.sparse_tensor.SparseTensor object at 0x00000171A13D64C8>, <tensorflow.python.framework.sparse_tensor.SparseTensor object at 0x00000171AC2E0BC8>)\n"
     ]
    }
   ],
   "source": [
    "print(items)"
   ]
  },
  {
   "cell_type": "markdown",
   "metadata": {},
   "source": [
    ">Now we can extract our data from item (note that the string must be decoded (from bytes) where the default for our Python 3 is utf8). Note also that the string and\n",
    "the array of floats are returned as sparse arrays, and to extract them from the record, we use the sparse array value method:"
   ]
  },
  {
   "cell_type": "code",
   "execution_count": 42,
   "metadata": {},
   "outputs": [
    {
     "name": "stdout",
     "output_type": "stream",
     "text": [
      "ID:  61553\n",
      "Name: Jones , Felicity\n",
      "Scores:  [45.6 97.2]\n"
     ]
    }
   ],
   "source": [
    "print(\"ID: \",item[0].numpy())\n",
    "name = item[1].values.numpy()\n",
    "name1= name[0].decode()\n",
    "name2 = name[1].decode('utf8')\n",
    "print(\"Name:\",name1,\",\",name2)\n",
    "print(\"Scores: \",item[2].values.numpy())"
   ]
  },
  {
   "cell_type": "markdown",
   "metadata": {},
   "source": [
    "### One-hot Encoding"
   ]
  },
  {
   "cell_type": "markdown",
   "metadata": {},
   "source": [
    ">One-hot encoding (OHE) is where a tensor is constructed from the data labels with a 1 in each of\n",
    "the elements corresponding to a label's value, and 0 everywhere else; that is, one of the bits in the\n",
    "tensor is hot (1)."
   ]
  },
  {
   "cell_type": "markdown",
   "metadata": {},
   "source": [
    "#### One-hot Encoding Example 1"
   ]
  },
  {
   "cell_type": "markdown",
   "metadata": {},
   "source": [
    ">In this example, we are converting a decimal value of 7 to a one-hot encoded value of 0000000100 using\n",
    "\n",
    "`the tf.one_hot() method:`"
   ]
  },
  {
   "cell_type": "code",
   "execution_count": 43,
   "metadata": {},
   "outputs": [
    {
     "name": "stdout",
     "output_type": "stream",
     "text": [
      "7 is  [0. 0. 0. 0. 0. 0. 0. 1. 0. 0.] when one-hot encoded with a depth of 10\n"
     ]
    }
   ],
   "source": [
    "z = 7\n",
    "z_train_ohe = tf.one_hot(z, depth=10).numpy()\n",
    "print(z, \"is \",z_train_ohe,\"when one-hot encoded with a depth of 10\")"
   ]
  },
  {
   "cell_type": "markdown",
   "metadata": {},
   "source": [
    "#### One-hot Encoding Example 2"
   ]
  },
  {
   "cell_type": "markdown",
   "metadata": {},
   "source": [
    ">Using the fashion MNIST dataset.\n",
    "\n",
    ">The original labels are integers from 0 to 9, so, for example, a label of 5 becomes 0000010000 when onehot encoded, but note the difference between the index and the label stored at that index:"
   ]
  },
  {
   "cell_type": "code",
   "execution_count": 66,
   "metadata": {},
   "outputs": [],
   "source": [
    "import tensorflow as tf\n",
    "from tensorflow.python.keras.datasets import fashion_mnist\n",
    "\n",
    "width, height, = 28,28\n",
    "# total classes\n",
    "n_classes = 10"
   ]
  },
  {
   "cell_type": "markdown",
   "metadata": {},
   "source": [
    "#### loading the dataset"
   ]
  },
  {
   "cell_type": "code",
   "execution_count": null,
   "metadata": {},
   "outputs": [],
   "source": [
    "(x_train, y_train), (x_test, y_test) = fashion_mnist.load_data()"
   ]
  },
  {
   "cell_type": "markdown",
   "metadata": {},
   "source": [
    "#### Split feature training set into training and validation sets"
   ]
  },
  {
   "cell_type": "code",
   "execution_count": null,
   "metadata": {},
   "outputs": [],
   "source": [
    "split = 50000\n",
    "(y_train, y_valid) = y_train[:split], y_train[split:]"
   ]
  },
  {
   "cell_type": "markdown",
   "metadata": {},
   "source": [
    "#### one-hot encode the labels using TensorFlow then convert back to numpy for display"
   ]
  },
  {
   "cell_type": "code",
   "execution_count": 68,
   "metadata": {},
   "outputs": [
    {
     "name": "stdout",
     "output_type": "stream",
     "text": [
      "5\n",
      "[0. 0. 0. 0. 0. 1. 0. 0. 0. 0.]\n"
     ]
    }
   ],
   "source": [
    "y_train_ohe = tf.one_hot(y_train, depth=n_classes).numpy()\n",
    "y_valid_ohe = tf.one_hot(y_valid, depth=n_classes).numpy()\n",
    "y_test_ohe = tf.one_hot(y_test, depth=n_classes).numpy()\n",
    "\n",
    "# show difference between the original label and a one-hot-encoded label\n",
    "i=8\n",
    "print(y_train[i]) # 'ordinary' number value of label at index i=8 is 5\n",
    "# note the difference between the index of 8 and the label at that index which is 5\n",
    "print(y_train_ohe[i]) "
   ]
  },
  {
   "cell_type": "code",
   "execution_count": null,
   "metadata": {},
   "outputs": [],
   "source": []
  }
 ],
 "metadata": {
  "kernelspec": {
   "display_name": "Python 3",
   "language": "python",
   "name": "python3"
  },
  "language_info": {
   "codemirror_mode": {
    "name": "ipython",
    "version": 3
   },
   "file_extension": ".py",
   "mimetype": "text/x-python",
   "name": "python",
   "nbconvert_exporter": "python",
   "pygments_lexer": "ipython3",
   "version": "3.7.9-final"
  }
 },
 "nbformat": 4,
 "nbformat_minor": 4
}