{
 "cells": [
  {
   "cell_type": "markdown",
   "metadata": {},
   "source": [
    "#### Convolutional Neural Network"
   ]
  },
  {
   "cell_type": "code",
   "execution_count": 1,
   "metadata": {},
   "outputs": [],
   "source": [
    "from tensorflow.compat.v1 import ConfigProto\n",
    "from tensorflow.compat.v1 import InteractiveSession\n",
    "\n",
    "config = ConfigProto()\n",
    "config.gpu_options.per_process_gpu_memory_fraction = 0.5 # This sets the maximum allowed GPU utilization to 50%\n",
    "config.gpu_options.allow_growth = True\n",
    "session = InteractiveSession(config=config)"
   ]
  },
  {
   "source": [
    "No nedd to reun the above code if one has not enabled the tensorflow GPU"
   ],
   "cell_type": "markdown",
   "metadata": {}
  },
  {
   "cell_type": "code",
   "execution_count": 1,
   "metadata": {},
   "outputs": [],
   "source": [
    "# Convolutional Neural Network\n",
    "\n",
    "# Importing the libraries\n",
    "import tensorflow as tf\n",
    "from tensorflow.keras.preprocessing.image import ImageDataGenerator"
   ]
  },
  {
   "cell_type": "code",
   "execution_count": 2,
   "metadata": {},
   "outputs": [
    {
     "output_type": "execute_result",
     "data": {
      "text/plain": [
       "'2.4.1'"
      ]
     },
     "metadata": {},
     "execution_count": 2
    }
   ],
   "source": [
    "tf.__version__"
   ]
  },
  {
   "cell_type": "code",
   "execution_count": 4,
   "metadata": {},
   "outputs": [],
   "source": [
    "# Part 1 - Data Preprocessing\n",
    "\n",
    "# Preprocessing the Training set\n",
    "train_datagen = ImageDataGenerator(rescale = 1./255,\n",
    "                                   shear_range = 0.2,\n",
    "                                   zoom_range = 0.2,\n",
    "                                   horizontal_flip = True)\n"
   ]
  },
  {
   "cell_type": "code",
   "execution_count": 5,
   "metadata": {},
   "outputs": [
    {
     "output_type": "stream",
     "name": "stdout",
     "text": [
      "Found 8003 images belonging to 2 classes.\nFound 2023 images belonging to 2 classes.\n"
     ]
    }
   ],
   "source": [
    "training_set = train_datagen.flow_from_directory('Data/DogCat/training_set',\n",
    "                                                 target_size = (64, 64),\n",
    "                                                 batch_size = 32,\n",
    "                                                 class_mode = 'binary')\n",
    "\n",
    "# Preprocessing the Test set\n",
    "test_datagen = ImageDataGenerator(rescale = 1./255)\n",
    "test_set = test_datagen.flow_from_directory('Data/DogCat/test_set',\n",
    "                                            target_size = (64, 64),\n",
    "                                            batch_size = 32,\n",
    "                                            class_mode = 'binary')"
   ]
  },
  {
   "cell_type": "code",
   "execution_count": 6,
   "metadata": {},
   "outputs": [],
   "source": [
    "from tensorflow.keras.layers import Conv2D"
   ]
  },
  {
   "cell_type": "code",
   "execution_count": 7,
   "metadata": {},
   "outputs": [],
   "source": [
    "# Part 2 - Building the CNN\n",
    "\n",
    "# Initialising the CNN\n",
    "cnn = tf.keras.models.Sequential()\n",
    "\n",
    "# Step 1 - Convolution\n",
    "cnn.add(tf.keras.layers.Conv2D(filters=32,padding=\"same\",kernel_size=3, activation='relu', input_shape=[64, 64, 3]))\n",
    "\n",
    "# Step 2 - Pooling\n",
    "cnn.add(tf.keras.layers.MaxPool2D(pool_size=2, strides=2))\n",
    "\n",
    "# Adding a second convolutional layer\n",
    "cnn.add(tf.keras.layers.Conv2D(filters=32,padding='same',kernel_size=3, activation='relu'))\n",
    "cnn.add(tf.keras.layers.MaxPool2D(pool_size=2, strides=2))\n",
    "\n",
    "# Step 3 - Flattening\n",
    "cnn.add(tf.keras.layers.Flatten())\n",
    "\n",
    "# Step 4 - Full Connection\n",
    "cnn.add(tf.keras.layers.Dense(units=128, activation='relu'))\n",
    "\n",
    "# Step 5 - Output Layer\n",
    "cnn.add(tf.keras.layers.Dense(units=1, activation='sigmoid'))"
   ]
  },
  {
   "cell_type": "code",
   "execution_count": 8,
   "metadata": {},
   "outputs": [
    {
     "output_type": "stream",
     "name": "stdout",
     "text": [
      "Model: \"sequential\"\n_________________________________________________________________\nLayer (type)                 Output Shape              Param #   \n=================================================================\nconv2d (Conv2D)              (None, 64, 64, 32)        896       \n_________________________________________________________________\nmax_pooling2d (MaxPooling2D) (None, 32, 32, 32)        0         \n_________________________________________________________________\nconv2d_1 (Conv2D)            (None, 32, 32, 32)        9248      \n_________________________________________________________________\nmax_pooling2d_1 (MaxPooling2 (None, 16, 16, 32)        0         \n_________________________________________________________________\nflatten (Flatten)            (None, 8192)              0         \n_________________________________________________________________\ndense (Dense)                (None, 128)               1048704   \n_________________________________________________________________\ndense_1 (Dense)              (None, 1)                 129       \n=================================================================\nTotal params: 1,058,977\nTrainable params: 1,058,977\nNon-trainable params: 0\n_________________________________________________________________\n"
     ]
    }
   ],
   "source": [
    "cnn.summary()"
   ]
  },
  {
   "cell_type": "code",
   "execution_count": 9,
   "metadata": {
    "scrolled": true
   },
   "outputs": [
    {
     "output_type": "stream",
     "name": "stdout",
     "text": [
      "Epoch 1/20\n",
      "251/251 [==============================] - 43s 167ms/step - loss: 0.7124 - accuracy: 0.5129 - val_loss: 0.6274 - val_accuracy: 0.6599\n",
      "Epoch 2/20\n",
      "251/251 [==============================] - 42s 166ms/step - loss: 0.6177 - accuracy: 0.6682 - val_loss: 0.5692 - val_accuracy: 0.7059\n",
      "Epoch 3/20\n",
      "251/251 [==============================] - 42s 166ms/step - loss: 0.5728 - accuracy: 0.7083 - val_loss: 0.5395 - val_accuracy: 0.7380\n",
      "Epoch 4/20\n",
      "251/251 [==============================] - 42s 167ms/step - loss: 0.5344 - accuracy: 0.7371 - val_loss: 0.5207 - val_accuracy: 0.7439\n",
      "Epoch 5/20\n",
      "251/251 [==============================] - 38s 151ms/step - loss: 0.5080 - accuracy: 0.7484 - val_loss: 0.5184 - val_accuracy: 0.7405\n",
      "Epoch 6/20\n",
      "251/251 [==============================] - 39s 154ms/step - loss: 0.4854 - accuracy: 0.7637 - val_loss: 0.4747 - val_accuracy: 0.7726\n",
      "Epoch 7/20\n",
      "251/251 [==============================] - 37s 149ms/step - loss: 0.4661 - accuracy: 0.7685 - val_loss: 0.4626 - val_accuracy: 0.7820\n",
      "Epoch 8/20\n",
      "251/251 [==============================] - 37s 148ms/step - loss: 0.4520 - accuracy: 0.7827 - val_loss: 0.4936 - val_accuracy: 0.7657\n",
      "Epoch 9/20\n",
      "251/251 [==============================] - 37s 148ms/step - loss: 0.4342 - accuracy: 0.7925 - val_loss: 0.4432 - val_accuracy: 0.8013\n",
      "Epoch 10/20\n",
      "251/251 [==============================] - 37s 148ms/step - loss: 0.4084 - accuracy: 0.8110 - val_loss: 0.4931 - val_accuracy: 0.7499\n",
      "Epoch 11/20\n",
      "251/251 [==============================] - 37s 148ms/step - loss: 0.4259 - accuracy: 0.7979 - val_loss: 0.5272 - val_accuracy: 0.7435\n",
      "Epoch 12/20\n",
      "251/251 [==============================] - 38s 151ms/step - loss: 0.4189 - accuracy: 0.8071 - val_loss: 0.4334 - val_accuracy: 0.8008\n",
      "Epoch 13/20\n",
      "251/251 [==============================] - 37s 147ms/step - loss: 0.3821 - accuracy: 0.8279 - val_loss: 0.4293 - val_accuracy: 0.8062\n",
      "Epoch 14/20\n",
      "251/251 [==============================] - 37s 147ms/step - loss: 0.3671 - accuracy: 0.8400 - val_loss: 0.4560 - val_accuracy: 0.7879\n",
      "Epoch 15/20\n",
      "251/251 [==============================] - 37s 147ms/step - loss: 0.3719 - accuracy: 0.8312 - val_loss: 0.5168 - val_accuracy: 0.7751\n",
      "Epoch 16/20\n",
      "251/251 [==============================] - 37s 148ms/step - loss: 0.3738 - accuracy: 0.8306 - val_loss: 0.4200 - val_accuracy: 0.8082\n",
      "Epoch 17/20\n",
      "251/251 [==============================] - 38s 149ms/step - loss: 0.3535 - accuracy: 0.8431 - val_loss: 0.4580 - val_accuracy: 0.7954\n",
      "Epoch 18/20\n",
      "251/251 [==============================] - 38s 151ms/step - loss: 0.3570 - accuracy: 0.8372 - val_loss: 0.4132 - val_accuracy: 0.8156\n",
      "Epoch 19/20\n",
      "251/251 [==============================] - 38s 151ms/step - loss: 0.3316 - accuracy: 0.8542 - val_loss: 0.4457 - val_accuracy: 0.8107\n",
      "Epoch 20/20\n",
      "251/251 [==============================] - 38s 151ms/step - loss: 0.3180 - accuracy: 0.8616 - val_loss: 0.5042 - val_accuracy: 0.8008\n"
     ]
    },
    {
     "output_type": "execute_result",
     "data": {
      "text/plain": [
       "<tensorflow.python.keras.callbacks.History at 0x2a111c03588>"
      ]
     },
     "metadata": {},
     "execution_count": 9
    }
   ],
   "source": [
    "# Part 3 - Training the CNN\n",
    "\n",
    "# Compiling the CNN\n",
    "cnn.compile(optimizer = 'adam', loss = 'binary_crossentropy', metrics = ['accuracy'])\n",
    "\n",
    "# Training the CNN on the Training set and evaluating it on the Test set\n",
    "cnn.fit(x = training_set, validation_data = test_set, epochs = 20)"
   ]
  },
  {
   "cell_type": "code",
   "execution_count": 10,
   "metadata": {},
   "outputs": [],
   "source": [
    "# save it as a h5 file\n",
    "\n",
    "\n",
    "from tensorflow.keras.models import load_model\n",
    "\n",
    "cnn.save('saved_models/DogCats CNN/model_cat_dog.h5')"
   ]
  },
  {
   "cell_type": "code",
   "execution_count": 11,
   "metadata": {},
   "outputs": [],
   "source": [
    "from tensorflow.keras.models import load_model\n",
    " \n",
    "# load model\n",
    "model = load_model('saved_models/DogCats CNN/model_cat_dog.h5')"
   ]
  },
  {
   "cell_type": "code",
   "execution_count": 12,
   "metadata": {},
   "outputs": [
    {
     "output_type": "stream",
     "name": "stdout",
     "text": [
      "Model: \"sequential\"\n_________________________________________________________________\nLayer (type)                 Output Shape              Param #   \n=================================================================\nconv2d (Conv2D)              (None, 64, 64, 32)        896       \n_________________________________________________________________\nmax_pooling2d (MaxPooling2D) (None, 32, 32, 32)        0         \n_________________________________________________________________\nconv2d_1 (Conv2D)            (None, 32, 32, 32)        9248      \n_________________________________________________________________\nmax_pooling2d_1 (MaxPooling2 (None, 16, 16, 32)        0         \n_________________________________________________________________\nflatten (Flatten)            (None, 8192)              0         \n_________________________________________________________________\ndense (Dense)                (None, 128)               1048704   \n_________________________________________________________________\ndense_1 (Dense)              (None, 1)                 129       \n=================================================================\nTotal params: 1,058,977\nTrainable params: 1,058,977\nNon-trainable params: 0\n_________________________________________________________________\n"
     ]
    }
   ],
   "source": [
    "model.summary()"
   ]
  },
  {
   "cell_type": "code",
   "execution_count": 27,
   "metadata": {},
   "outputs": [],
   "source": [
    "# Part 4 - Making a single prediction\n",
    "\n",
    "import numpy as np\n",
    "from tensorflow.keras.preprocessing import image\n",
    "test_image = image.load_img('Data/DogCat/test_set/dogs/dog.4002.jpg', target_size = (64,64))\n",
    "test_image = image.img_to_array(test_image)\n",
    "test_image=test_image/255\n",
    "test_image = np.expand_dims(test_image, axis = 0)\n",
    "result = cnn.predict(test_image)"
   ]
  },
  {
   "cell_type": "code",
   "execution_count": 28,
   "metadata": {},
   "outputs": [
    {
     "output_type": "execute_result",
     "data": {
      "text/plain": [
       "array([[0.7282966]], dtype=float32)"
      ]
     },
     "metadata": {},
     "execution_count": 28
    }
   ],
   "source": [
    "result"
   ]
  },
  {
   "cell_type": "code",
   "execution_count": 31,
   "metadata": {},
   "outputs": [],
   "source": [
    "# Part 4 - Making a single prediction\n",
    "\n",
    "import numpy as np\n",
    "from tensorflow.keras.preprocessing import image\n",
    "test_image = image.load_img('Data/DogCat/test_set/cats/cat.4012.jpg', target_size = (64,64))\n",
    "test_image = image.img_to_array(test_image)\n",
    "test_image=test_image/255\n",
    "test_image = np.expand_dims(test_image, axis = 0)\n",
    "result = cnn.predict(test_image)"
   ]
  },
  {
   "cell_type": "code",
   "execution_count": 32,
   "metadata": {},
   "outputs": [
    {
     "output_type": "execute_result",
     "data": {
      "text/plain": [
       "array([[0.11662069]], dtype=float32)"
      ]
     },
     "metadata": {},
     "execution_count": 32
    }
   ],
   "source": [
    "result"
   ]
  },
  {
   "cell_type": "code",
   "execution_count": 33,
   "metadata": {},
   "outputs": [
    {
     "output_type": "stream",
     "name": "stdout",
     "text": [
      "The image classified is cat\n"
     ]
    }
   ],
   "source": [
    "if result[0]<=0.5:\n",
    "    print(\"The image classified is cat\")\n",
    "else:\n",
    "    print(\"The image classified is dog\")"
   ]
  },
  {
   "cell_type": "code",
   "execution_count": null,
   "metadata": {},
   "outputs": [],
   "source": []
  }
 ],
 "metadata": {
  "kernelspec": {
   "display_name": "Python 3",
   "language": "python",
   "name": "python3"
  },
  "language_info": {
   "codemirror_mode": {
    "name": "ipython",
    "version": 3
   },
   "file_extension": ".py",
   "mimetype": "text/x-python",
   "name": "python",
   "nbconvert_exporter": "python",
   "pygments_lexer": "ipython3",
   "version": "3.7.9-final"
  }
 },
 "nbformat": 4,
 "nbformat_minor": 4
}